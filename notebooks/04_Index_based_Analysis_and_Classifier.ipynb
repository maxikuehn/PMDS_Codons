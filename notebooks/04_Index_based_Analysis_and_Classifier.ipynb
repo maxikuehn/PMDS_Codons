{
 "cells": [
  {
   "cell_type": "markdown",
   "metadata": {},
   "source": [
    "# Analyse des Indexbezogen Codon Usage Bias\n",
    "In diesem Notebook wird in Erweiterung zu dem vorherigen Notebook den `CUB` nicht über den Organismus hinweg zu berechnen, sondern für jede Indexposition aller Sequenzen zu einem Organismus"
   ]
  },
  {
   "cell_type": "markdown",
   "metadata": {},
   "source": [
    "## Einlesen der gesäuberten, und serialisierten Daten\n",
    "Die gesäuberten Daten der einzelnen Organismen werden in `DataFrame`s eingelesen um die Weiterverarbeitung zu erleichtern.\n",
    "Die jeweiligen DataFrames werden folgend der Konvention `raw_[organism_name]_df` benannt."
   ]
  },
  {
   "cell_type": "code",
   "execution_count": 1,
   "metadata": {},
   "outputs": [],
   "source": [
    "import sys\n",
    "import pandas as pd\n",
    "sys.path.append('../scripts')\n",
    "import index_classifier as ic"
   ]
  },
  {
   "cell_type": "code",
   "execution_count": 7,
   "metadata": {},
   "outputs": [],
   "source": [
    "organism_names = ['E.Coli','Drosophila.Melanogaster','Homo.Sapiens']"
   ]
  },
  {
   "cell_type": "markdown",
   "metadata": {},
   "source": [
    "## Beispiel: `E.Coli`\n",
    "### Vorhersage anhand des Indexbased CUB für E.Coli\n",
    "Einlesen der gesäuberten, und serialisierten Daten, sowie \"vorverarbeitung\" der Codon sowie Polypeptid Sequenzen\n"
   ]
  },
  {
   "cell_type": "code",
   "execution_count": 3,
   "metadata": {},
   "outputs": [],
   "source": [
    "ic.read_organism(organism_names[0])\n",
    "processed_codons,processed_polypeptides = ic.preprocess_series(*ic.get_codons_and_polypeptides())"
   ]
  },
  {
   "cell_type": "markdown",
   "metadata": {},
   "source": [
    "### Berechnung der relativen Häufigkeit aller Codons, je Indexposition innerhalb der 'Coding Sequences' (CDS)"
   ]
  },
  {
   "cell_type": "code",
   "execution_count": 4,
   "metadata": {},
   "outputs": [],
   "source": [
    "relative_freq = ic.calc_relative_index_bias(processed_codons)"
   ]
  },
  {
   "cell_type": "markdown",
   "metadata": {},
   "source": [
    "### Filterung der am Häufigst vorkommenden Codons pro Indexposition (MAX Index CUB)"
   ]
  },
  {
   "cell_type": "code",
   "execution_count": 5,
   "metadata": {},
   "outputs": [],
   "source": [
    "max_aa_bias = ic.calc_max_bias_per_aa(relative_freq)"
   ]
  },
  {
   "cell_type": "markdown",
   "metadata": {},
   "source": [
    "### Vorhersage der Codonssequenz anhand des Max Index CUB"
   ]
  },
  {
   "cell_type": "code",
   "execution_count": 6,
   "metadata": {},
   "outputs": [
    {
     "data": {
      "text/plain": [
       "0.5142616255292535"
      ]
     },
     "execution_count": 6,
     "metadata": {},
     "output_type": "execute_result"
    }
   ],
   "source": [
    "ic.predict_organism(processed_codons,processed_polypeptides,max_aa_bias)"
   ]
  }
 ],
 "metadata": {
  "kernelspec": {
   "display_name": "Python 3",
   "language": "python",
   "name": "python3"
  },
  "language_info": {
   "codemirror_mode": {
    "name": "ipython",
    "version": 3
   },
   "file_extension": ".py",
   "mimetype": "text/x-python",
   "name": "python",
   "nbconvert_exporter": "python",
   "pygments_lexer": "ipython3",
   "version": "3.12.3"
  }
 },
 "nbformat": 4,
 "nbformat_minor": 2
}
