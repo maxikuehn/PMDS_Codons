{
 "cells": [
  {
   "cell_type": "markdown",
   "id": "c769c947119d606e",
   "metadata": {},
   "source": [
    "# TCN Classifier"
   ]
  },
  {
   "cell_type": "markdown",
   "id": "21750a5a",
   "metadata": {},
   "source": [
    "Code inspiered:\n",
    "\n",
    "https://de.mathworks.com/help/deeplearning/ug/sequence-to-sequence-classification-using-1-d-convolutions.html\n",
    "\n",
    "References:\n",
    "\n",
    "- [1] Bai, Shaojie, J. Zico Kolter, and Vladlen Koltun. “An Empirical Evaluation of Generic Convolutional and Recurrent Networks for Sequence Modeling.” Preprint, submitted April 19, 2018. https://arxiv.org/abs/1803.01271.\n",
    "\n",
    "- [2] Oord, Aaron van den, Sander Dieleman, Heiga Zen, Karen Simonyan, Oriol Vinyals, Alex Graves, Nal Kalchbrenner, Andrew Senior, and Koray Kavukcuoglu. “WaveNet: A Generative Model for Raw Audio.” Preprint, submitted September 12, 2016. https://arxiv.org/abs/1609.03499.\n",
    "\n",
    "- [3] Tompson, Jonathan, Ross Goroshin, Arjun Jain, Yann LeCun, and Christoph Bregler. “Efficient Object Localization Using Convolutional Networks.” 2015 IEEE Conference on Computer Vision and Pattern Recognition (CVPR), 648–56. https://doi.org/10.1109/CVPR.2015.7298664."
   ]
  },
  {
   "cell_type": "code",
   "execution_count": 23,
   "id": "efaf3c0a",
   "metadata": {},
   "outputs": [
    {
     "name": "stdout",
     "output_type": "stream",
     "text": [
      "The autoreload extension is already loaded. To reload it, use:\n",
      "  %reload_ext autoreload\n"
     ]
    }
   ],
   "source": [
    "%load_ext autoreload\n",
    "%autoreload 2\n",
    "%reload_ext autoreload"
   ]
  },
  {
   "cell_type": "code",
   "execution_count": 1,
   "id": "initial_id",
   "metadata": {
    "ExecuteTime": {
     "end_time": "2024-05-08T16:50:42.776277Z",
     "start_time": "2024-05-08T16:50:41.789193Z"
    },
    "collapsed": true
   },
   "outputs": [],
   "source": [
    "import torch\n",
    "import torch.nn as nn\n",
    "from torch import optim\n",
    "from torch.utils.data import DataLoader\n",
    "import sys\n",
    "import numpy as np\n",
    "import random\n",
    "from sklearn.metrics import accuracy_score\n",
    "import time\n",
    "import json\n",
    "\n",
    "sys.path.append('../scripts')\n",
    "import ml_helper as mlh\n",
    "import ml_evaluation as mle\n",
    "import Tcnn\n",
    "from Tcnn import TemporalConvNet"
   ]
  },
  {
   "cell_type": "code",
   "execution_count": 25,
   "id": "5e5cc601",
   "metadata": {},
   "outputs": [],
   "source": [
    "data_path = '../data'"
   ]
  },
  {
   "cell_type": "code",
   "execution_count": 26,
   "id": "3c7187a43dc55642",
   "metadata": {
    "ExecuteTime": {
     "end_time": "2024-05-08T16:50:42.830944Z",
     "start_time": "2024-05-08T16:50:42.776965Z"
    }
   },
   "outputs": [
    {
     "name": "stdout",
     "output_type": "stream",
     "text": [
      "Using cuda device\n"
     ]
    }
   ],
   "source": [
    "device = torch.device(\n",
    "    \"cuda\"\n",
    "    if torch.cuda.is_available()\n",
    "    else \"cpu\"\n",
    ")\n",
    "print(f\"Using {device} device\")"
   ]
  },
  {
   "cell_type": "markdown",
   "id": "68634afa",
   "metadata": {},
   "source": [
    "### Choose organism"
   ]
  },
  {
   "cell_type": "code",
   "execution_count": 27,
   "id": "c0ab609f",
   "metadata": {},
   "outputs": [
    {
     "name": "stdout",
     "output_type": "stream",
     "text": [
      "Using organism: E.Coli\n"
     ]
    }
   ],
   "source": [
    "organisms = [\"E.Coli\", \"Drosophila.Melanogaster\", \"Homo.Sapiens\"]\n",
    "organism = organisms[1]\n",
    "print(f\"Using organism: {organism}\")"
   ]
  },
  {
   "cell_type": "markdown",
   "id": "cd8ef787",
   "metadata": {},
   "source": [
    "### Set a Seed"
   ]
  },
  {
   "cell_type": "code",
   "execution_count": 28,
   "id": "c91b666e",
   "metadata": {},
   "outputs": [],
   "source": [
    "SEED = 42\n",
    "def set_seed(SEED=SEED):\n",
    "    random.seed(SEED)\n",
    "    np.random.seed(SEED)\n",
    "    torch.manual_seed(SEED)\n",
    "    torch.cuda.manual_seed(SEED)\n",
    "set_seed()"
   ]
  },
  {
   "cell_type": "markdown",
   "id": "7ff5d1f444f3ad99",
   "metadata": {},
   "source": [
    "### Data Preparation for training"
   ]
  },
  {
   "cell_type": "code",
   "execution_count": 29,
   "id": "c4a940351fe6b0a7",
   "metadata": {
    "ExecuteTime": {
     "end_time": "2024-05-08T16:50:44.460665Z",
     "start_time": "2024-05-08T16:50:42.860971Z"
    }
   },
   "outputs": [],
   "source": [
    "pad_int = mlh.codons.index('___')\n",
    "min_length = None\n",
    "max_length = 500\n",
    "one_hot = True\n",
    "cut_data = False\n",
    "\n",
    "SPEEDS_ADDED = False\n",
    "BATCH_SIZE = 32"
   ]
  },
  {
   "cell_type": "code",
   "execution_count": 30,
   "id": "dbadd66f",
   "metadata": {},
   "outputs": [
    {
     "name": "stdout",
     "output_type": "stream",
     "text": [
      "Länge train_dataset: 3555\n",
      "Länge test_dataset: 444\n",
      "Länge valid_dataset: 420\n"
     ]
    }
   ],
   "source": [
    "train_dataset = mlh.CodonDataset(organism, \"train\", min_length, max_length, cut_data=True, one_hot_aa=one_hot, data_path=data_path, device=device)\n",
    "print(f\"Länge train_dataset: {len(train_dataset)}\")\n",
    "test_dataset = mlh.CodonDataset(organism, \"test\", min_length, max_length, cut_data=True, one_hot_aa=one_hot, data_path=data_path, device=device)\n",
    "print(f\"Länge test_dataset: {len(test_dataset)}\")\n",
    "valid_dataset = mlh.CodonDataset(organism, \"valid\", min_length, max_length, cut_data=True, one_hot_aa=one_hot, data_path=data_path, device=device)\n",
    "print(f\"Länge valid_dataset: {len(valid_dataset)}\")"
   ]
  },
  {
   "cell_type": "code",
   "execution_count": 31,
   "id": "2d3be45b",
   "metadata": {},
   "outputs": [],
   "source": [
    "BATCH_SIZE = 32\n",
    "train_loader = DataLoader(train_dataset, batch_size=BATCH_SIZE, shuffle=True)\n",
    "test_loader = DataLoader(test_dataset, batch_size=len(test_dataset), shuffle=False)\n",
    "valid_loader = DataLoader(valid_dataset, batch_size=BATCH_SIZE, shuffle=False)"
   ]
  },
  {
   "cell_type": "markdown",
   "id": "0c095c8d",
   "metadata": {},
   "source": [
    "### Hyperparameters and Model Initialization"
   ]
  },
  {
   "cell_type": "markdown",
   "id": "a89e281d",
   "metadata": {},
   "source": [
    "Load best Hyperparamters"
   ]
  },
  {
   "cell_type": "code",
   "execution_count": 32,
   "id": "643cc9cd",
   "metadata": {},
   "outputs": [
    {
     "name": "stdout",
     "output_type": "stream",
     "text": [
      "Best parameters: num_filters: 256, filter_size: 3, dropout_factor: 0.08, num_blocks: 3, parallel_layer: False, learing_rate: 0.001\n"
     ]
    }
   ],
   "source": [
    "best_params = Tcn.load_best_params(organism)\n",
    "if best_params is not None:\n",
    "    print(f\"Best parameters: num_filters: {best_params[0]}, filter_size: {best_params[1]}, dropout_factor: {best_params[2]}, num_blocks: {best_params[3]}, parallel_layer: {best_params[4]}, learing_rate: {best_params[5]}\")"
   ]
  },
  {
   "cell_type": "code",
   "execution_count": 33,
   "id": "a7b24cfa4796351c",
   "metadata": {
    "ExecuteTime": {
     "end_time": "2024-05-08T16:50:44.882494Z",
     "start_time": "2024-05-08T16:50:44.461359Z"
    }
   },
   "outputs": [
    {
     "name": "stdout",
     "output_type": "stream",
     "text": [
      "TemporalConvNet(\n",
      "  (layers): ModuleList(\n",
      "    (0): Conv1d(22, 256, kernel_size=(1,), stride=(1,))\n",
      "    (1): BatchNorm1d(256, eps=1e-05, momentum=0.1, affine=True, track_running_stats=True)\n",
      "    (2): Conv1d(256, 256, kernel_size=(3,), stride=(1,), padding=(1,))\n",
      "    (3): BatchNorm1d(256, eps=1e-05, momentum=0.1, affine=True, track_running_stats=True)\n",
      "    (4): Dropout(p=0.08, inplace=False)\n",
      "    (5): Conv1d(256, 256, kernel_size=(3,), stride=(1,), padding=(2,), dilation=(2,))\n",
      "    (6): BatchNorm1d(256, eps=1e-05, momentum=0.1, affine=True, track_running_stats=True)\n",
      "    (7): Dropout(p=0.08, inplace=False)\n",
      "    (8): Conv1d(256, 256, kernel_size=(3,), stride=(1,), padding=(4,), dilation=(4,))\n",
      "    (9): BatchNorm1d(256, eps=1e-05, momentum=0.1, affine=True, track_running_stats=True)\n",
      "    (10): ReLU()\n",
      "    (11): Dropout(p=0.08, inplace=False)\n",
      "    (12): Softmax(dim=1)\n",
      "  )\n",
      ")\n"
     ]
    }
   ],
   "source": [
    "# Hyperparameters\n",
    "num_features = len(mlh.amino_acids)\n",
    "num_classes = len(mlh.codons)\n",
    "NUM_EPOCHS = 5\n",
    "\n",
    "# Default values\n",
    "num_filters = 128\n",
    "# NOTE: filter size must be unequal like: 3,5,9,...\n",
    "filter_size = 5#\n",
    "dropout_factor = 0.008\n",
    "num_blocks = 5\n",
    "parallel_layer = True\n",
    "learing_rate = 0.001 \n",
    "\n",
    "if best_params is not None:\n",
    "    num_filters = best_params[0]\n",
    "    filter_size = best_params[1]\n",
    "    dropout_factor = best_params[2]\n",
    "    num_blocks = best_params[3]\n",
    "    parallel_layer = best_params[4]\n",
    "    learing_rate = best_params[5]\n",
    "\n",
    "\n",
    "# Model\n",
    "tcnModel = Tcnn.TemporalConvNet(num_features, num_classes, num_filters, filter_size, \n",
    "                        dropout_factor, num_blocks, parallel_layer)\n",
    "print(tcnModel)\n",
    "\n",
    "criterion = nn.CrossEntropyLoss(ignore_index=pad_int)\n",
    "optimizer = optim.Adam(tcnModel.parameters(), lr=learing_rate)"
   ]
  },
  {
   "cell_type": "markdown",
   "id": "d1cc8b93",
   "metadata": {},
   "source": [
    "### Start Training"
   ]
  },
  {
   "cell_type": "code",
   "execution_count": 34,
   "id": "b4146a47e4f268e6",
   "metadata": {
    "ExecuteTime": {
     "end_time": "2024-05-08T17:07:44.476803Z",
     "start_time": "2024-05-08T16:50:44.883185Z"
    }
   },
   "outputs": [
    {
     "name": "stdout",
     "output_type": "stream",
     "text": [
      "Epoch [1/5], Loss: 5.23, accuracy: 0.471, valid acc: 0.539, time: 00:00:01\n",
      "Epoch [2/5], Loss: 5.139, accuracy: 0.52, valid acc: 0.545, time: 00:00:01\n",
      "Epoch [3/5], Loss: 5.105, accuracy: 0.523, valid acc: 0.545, time: 00:00:01\n",
      "Epoch [4/5], Loss: 5.085, accuracy: 0.523, valid acc: 0.546, time: 00:00:01\n",
      "Epoch [5/5], Loss: 5.072, accuracy: 0.523, valid acc: 0.546, time: 00:00:01\n",
      "Training completed.\n",
      "Best Validaton Accuracy: 0.5459852500162942\n"
     ]
    }
   ],
   "source": [
    "trainings_losses, trainings_accuracies, valid_accs, best_epoch_idx = Tcn.train(tcnModel, train_loader, valid_loader, NUM_EPOCHS, optimizer, criterion, device=device)"
   ]
  },
  {
   "cell_type": "markdown",
   "id": "b645c24a",
   "metadata": {},
   "source": [
    "### Save the validation Accuracies into a JSON file"
   ]
  },
  {
   "cell_type": "code",
   "execution_count": 17,
   "id": "5267292d",
   "metadata": {},
   "outputs": [
    {
     "name": "stdout",
     "output_type": "stream",
     "text": [
      "Vaild Accs in training saved in: ../data/E.Coli/training_valid_accs.json\n"
     ]
    }
   ],
   "source": [
    "json_data = {'organism': organism, 'training_valid_accs': valid_accs, 'best_epoch_idx': best_epoch_idx}\n",
    "\n",
    "# Save training valid accuracies\n",
    "acc_path = data_path + f'/{organism}/training_valid_accs.json'\n",
    "\n",
    "with open(acc_path, 'w') as file:\n",
    "    json.dump(json_data, file)\n",
    "\n",
    "print('Vaild Accs in training saved in:', acc_path)"
   ]
  },
  {
   "cell_type": "markdown",
   "id": "6630aa16",
   "metadata": {},
   "source": [
    "### Save the model"
   ]
  },
  {
   "cell_type": "code",
   "execution_count": 18,
   "id": "ef86ffc0",
   "metadata": {},
   "outputs": [
    {
     "name": "stdout",
     "output_type": "stream",
     "text": [
      "Model saved as 20240701191016_tcn_valid_acc_55.pt\n"
     ]
    }
   ],
   "source": [
    "mlh.save_model(tcnModel, f'tcn_valid_acc_{round(round(valid_accs[-1],2) * 100)}', organism)"
   ]
  },
  {
   "cell_type": "markdown",
   "id": "d7822149",
   "metadata": {},
   "source": [
    "### Load the model"
   ]
  },
  {
   "cell_type": "code",
   "execution_count": 19,
   "id": "46855e22",
   "metadata": {},
   "outputs": [
    {
     "name": "stdout",
     "output_type": "stream",
     "text": [
      "Model loaded: 20240701191016_tcn_valid_acc_55.pt\n"
     ]
    }
   ],
   "source": [
    "tcnModel = mlh.load_model(f'tcn', organism, device=device)"
   ]
  },
  {
   "cell_type": "markdown",
   "id": "e809a726",
   "metadata": {},
   "source": [
    "## Plots"
   ]
  },
  {
   "cell_type": "code",
   "execution_count": 20,
   "id": "97ceebea",
   "metadata": {},
   "outputs": [
    {
     "name": "stdout",
     "output_type": "stream",
     "text": [
      "range(1, 21)\n"
     ]
    },
    {
     "data": {
      "image/png": "[encoded data removed]",
      "text/plain": [
       "<Figure size 1500x500 with 2 Axes>"
      ]
     },
     "metadata": {},
     "output_type": "display_data"
    }
   ],
   "source": [
    "# check if training losses and accuracies is defined\n",
    "if 'trainings_losses' in locals() and 'trainings_accuracies' in locals():\n",
    "    # plot of training loss and accuracy\n",
    "    plt = mle.plot_training(trainings_losses, trainings_accuracies, valid_accs)\n",
    "    plt.show()\n",
    "else:\n",
    "    print(\"No training losses and accuracies available\")"
   ]
  },
  {
   "cell_type": "markdown",
   "id": "5e80ba43",
   "metadata": {},
   "source": [
    "## Hyperparamter Grid Search"
   ]
  },
  {
   "cell_type": "code",
   "execution_count": 21,
   "id": "3800c4cf",
   "metadata": {},
   "outputs": [
    {
     "name": "stdout",
     "output_type": "stream",
     "text": [
      "CPU times: total: 0 ns\n",
      "Wall time: 0 ns\n"
     ]
    }
   ],
   "source": [
    "%%time\n",
    "\n",
    "# Hyperparameters\n",
    "params = {\n",
    "    \"num_filters\": [64, 128, 256],\n",
    "    \"filter_size\": [3, 5, 9],\n",
    "    \"dropout_factor\": [0.08],\n",
    "    \"num_blocks\": [3, 5, 7],\n",
    "    \"parallel_layer\": [True, False],\n",
    "    \"learing_rate\": [0.001]\n",
    "}\n",
    "\n",
    "# Hyperparameter search\n",
    "#results, best_model = Tcn.hyperparam_search(organism, train_loader, valid_loader, params, num_features, num_classes, device, criterion)"
   ]
  },
  {
   "cell_type": "markdown",
   "id": "08d281fd",
   "metadata": {},
   "source": [
    "### Save best model from grid search and the results of grid search"
   ]
  },
  {
   "cell_type": "code",
   "execution_count": 22,
   "id": "5b129e8f",
   "metadata": {},
   "outputs": [],
   "source": [
    "if 'results' in locals():\n",
    "    for r in results[:10]:\n",
    "        print(r)\n",
    "\n",
    "    # print best parameters\n",
    "    best_params = results[np.argmax([r[-1] for r in results])]\n",
    "    print(f\"Best parameters: num_filters: {best_params[0]}, filter_size: {best_params[1]}, dropout_factor: {best_params[2]}, num_blocks: {best_params[3]}, parallel_layer: {best_params[4]}, learing_rate: {best_params[5]}, acc: {round(best_params[6], 3)}\")\n",
    "    # save results as json\n",
    "    path = f'../ml_models/{organism}/tcn_grid_search_results.json'\n",
    "    with open(path, 'w') as f:\n",
    "        json.dump(results, f)\n",
    "\n",
    "\n",
    "    # save best model\n",
    "    mlh.save_model(best_model, f'tcn_best_model_acc_{round(max([r[-1] for r in results]),3)}', organism)"
   ]
  }
 ],
 "metadata": {
  "kernelspec": {
   "display_name": "Python 3",
   "language": "python",
   "name": "python3"
  },
  "language_info": {
   "codemirror_mode": {
    "name": "ipython",
    "version": 3
   },
   "file_extension": ".py",
   "mimetype": "text/x-python",
   "name": "python",
   "nbconvert_exporter": "python",
   "pygments_lexer": "ipython3",
   "version": "3.10.12"
  }
 },
 "nbformat": 4,
 "nbformat_minor": 5
}
