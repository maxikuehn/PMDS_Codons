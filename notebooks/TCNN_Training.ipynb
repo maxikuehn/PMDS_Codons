{
 "cells": [
  {
   "cell_type": "markdown",
   "id": "c769c947119d606e",
   "metadata": {},
   "source": [
    "# TCNN Classifier"
   ]
  },
  {
   "cell_type": "code",
   "execution_count": 151,
   "id": "initial_id",
   "metadata": {
    "ExecuteTime": {
     "end_time": "2024-05-08T16:50:42.776277Z",
     "start_time": "2024-05-08T16:50:41.789193Z"
    },
    "collapsed": true
   },
   "outputs": [],
   "source": [
    "import torch\n",
    "import torch.nn as nn\n",
    "from torch import optim\n",
    "from torch.utils.data import DataLoader\n",
    "import sys\n",
    "import numpy as np\n",
    "import random\n",
    "from sklearn.metrics import accuracy_score\n",
    "import time\n",
    "import json\n",
    "\n",
    "sys.path.append('../scripts')\n",
    "import ml_helper as mlh\n",
    "import ml_evaluation as mle\n",
    "import Tcnn\n",
    "from Tcnn import TemporalConvNet"
   ]
  },
  {
   "cell_type": "code",
   "execution_count": 152,
   "id": "8205e6a1",
   "metadata": {},
   "outputs": [
    {
     "name": "stdout",
     "output_type": "stream",
     "text": [
      "The autoreload extension is already loaded. To reload it, use:\n",
      "  %reload_ext autoreload\n"
     ]
    }
   ],
   "source": [
    "%load_ext autoreload\n",
    "%autoreload 2\n",
    "%reload_ext autoreload"
   ]
  },
  {
   "cell_type": "code",
   "execution_count": 153,
   "id": "5e5cc601",
   "metadata": {},
   "outputs": [],
   "source": [
    "data_path = '../data'"
   ]
  },
  {
   "cell_type": "markdown",
   "id": "4d9d9b37",
   "metadata": {},
   "source": [
    "Code inspiered:\n",
    "\n",
    "https://de.mathworks.com/help/deeplearning/ug/sequence-to-sequence-classification-using-1-d-convolutions.html\n",
    "\n",
    "References:\n",
    "\n",
    "- [1] Bai, Shaojie, J. Zico Kolter, and Vladlen Koltun. “An Empirical Evaluation of Generic Convolutional and Recurrent Networks for Sequence Modeling.” Preprint, submitted April 19, 2018. https://arxiv.org/abs/1803.01271.\n",
    "\n",
    "- [2] Oord, Aaron van den, Sander Dieleman, Heiga Zen, Karen Simonyan, Oriol Vinyals, Alex Graves, Nal Kalchbrenner, Andrew Senior, and Koray Kavukcuoglu. “WaveNet: A Generative Model for Raw Audio.” Preprint, submitted September 12, 2016. https://arxiv.org/abs/1609.03499.\n",
    "\n",
    "- [3] Tompson, Jonathan, Ross Goroshin, Arjun Jain, Yann LeCun, and Christoph Bregler. “Efficient Object Localization Using Convolutional Networks.” 2015 IEEE Conference on Computer Vision and Pattern Recognition (CVPR), 648–56. https://doi.org/10.1109/CVPR.2015.7298664.\n"
   ]
  },
  {
   "cell_type": "code",
   "execution_count": 154,
   "id": "3c7187a43dc55642",
   "metadata": {
    "ExecuteTime": {
     "end_time": "2024-05-08T16:50:42.830944Z",
     "start_time": "2024-05-08T16:50:42.776965Z"
    }
   },
   "outputs": [
    {
     "data": {
      "text/plain": [
       "device(type='cuda')"
      ]
     },
     "execution_count": 154,
     "metadata": {},
     "output_type": "execute_result"
    }
   ],
   "source": [
    "device = torch.device('cuda' if torch.cuda.is_available() else 'cpu')\n",
    "device"
   ]
  },
  {
   "cell_type": "code",
   "execution_count": 155,
   "id": "c91b666e",
   "metadata": {},
   "outputs": [],
   "source": [
    "SEED = 42\n",
    "def set_seed(SEED=SEED):\n",
    "    random.seed(SEED)\n",
    "    np.random.seed(SEED)\n",
    "    torch.manual_seed(SEED)\n",
    "    torch.cuda.manual_seed(SEED)\n",
    "set_seed()"
   ]
  },
  {
   "cell_type": "markdown",
   "id": "7ff5d1f444f3ad99",
   "metadata": {},
   "source": [
    "### Data Preparation"
   ]
  },
  {
   "cell_type": "code",
   "execution_count": 156,
   "id": "c4a940351fe6b0a7",
   "metadata": {
    "ExecuteTime": {
     "end_time": "2024-05-08T16:50:44.460665Z",
     "start_time": "2024-05-08T16:50:42.860971Z"
    }
   },
   "outputs": [],
   "source": [
    "# Data preparation\n",
    "organisms = [\"E.Coli\", \"Drosophila.Melanogaster\", \"Homo.Sapiens\"]\n",
    "organism = organisms[0]\n",
    "pad_int = mlh.codons.index('___')\n",
    "#\"Homo.Sapiens\"  \"Drosophila.Melanogaster\"  \"E.Coli\"\n",
    "min_length = None\n",
    "max_length = 500\n",
    "one_hot = True\n",
    "cut_data = False\n",
    "\n",
    "SPEEDS_ADDED = False\n",
    "BATCH_SIZE = 32"
   ]
  },
  {
   "cell_type": "code",
   "execution_count": 157,
   "id": "dbadd66f",
   "metadata": {},
   "outputs": [
    {
     "name": "stdout",
     "output_type": "stream",
     "text": [
      "Länge train_dataset: 3555\n",
      "Länge test_dataset: 444\n",
      "Länge valid_dataset: 420\n"
     ]
    }
   ],
   "source": [
    "train_dataset = mlh.CodonDataset(organism, \"train\", min_length, max_length, cut_data=True, one_hot_aa=one_hot, data_path=data_path, device=device)\n",
    "print(f\"Länge train_dataset: {len(train_dataset)}\")\n",
    "test_dataset = mlh.CodonDataset(organism, \"test\", min_length, max_length, cut_data=True, one_hot_aa=one_hot, data_path=data_path, device=device)\n",
    "print(f\"Länge test_dataset: {len(test_dataset)}\")\n",
    "valid_dataset = mlh.CodonDataset(organism, \"valid\", min_length, max_length, cut_data=True, one_hot_aa=one_hot, data_path=data_path, device=device)\n",
    "print(f\"Länge valid_dataset: {len(valid_dataset)}\")"
   ]
  },
  {
   "cell_type": "code",
   "execution_count": 158,
   "id": "3aff26dd",
   "metadata": {},
   "outputs": [],
   "source": [
    "# train_dataset = mlh.CodonDataset(organism, \"train\", add_speeds=SPEEDS_ADDED, cut_data=cut_data, one_hot_aa=one_hot, data_path=data_path, device=device)\n",
    "# print(f\"Länge train_dataset: {len(train_dataset)}\")\n",
    "# test_dataset = mlh.CodonDataset(organism, \"test\", add_speeds=SPEEDS_ADDED, cut_data=cut_data, one_hot_aa=one_hot, data_path=data_path, device=device)\n",
    "# print(f\"Länge test_dataset: {len(test_dataset)}\")\n",
    "# valid_dataset = mlh.CodonDataset(organism, \"valid\", add_speeds=SPEEDS_ADDED, cut_data=cut_data, one_hot_aa=one_hot, data_path=data_path, device=device)\n",
    "# print(f\"Länge valid_dataset: {len(valid_dataset)}\")"
   ]
  },
  {
   "cell_type": "code",
   "execution_count": 159,
   "id": "2d3be45b",
   "metadata": {},
   "outputs": [],
   "source": [
    "BATCH_SIZE = 32\n",
    "train_loader = DataLoader(train_dataset, batch_size=BATCH_SIZE, shuffle=True)\n",
    "test_loader = DataLoader(test_dataset, batch_size=len(test_dataset), shuffle=False)\n",
    "valid_loader = DataLoader(valid_dataset, batch_size=BATCH_SIZE, shuffle=False)"
   ]
  },
  {
   "cell_type": "markdown",
   "id": "0c095c8d",
   "metadata": {},
   "source": [
    "### Hyperparameters and Model Initialization"
   ]
  },
  {
   "cell_type": "code",
   "execution_count": 160,
   "id": "643cc9cd",
   "metadata": {},
   "outputs": [
    {
     "name": "stdout",
     "output_type": "stream",
     "text": [
      "Best parameters: num_filters: 256, filter_size: 3, dropout_factor: 0.08, num_blocks: 3, parallel_layer: False, learing_rate: 0.001\n"
     ]
    }
   ],
   "source": [
    "best_params = Tcnn.load_best_params(organism)\n",
    "if best_params is not None:\n",
    "    print(f\"Best parameters: num_filters: {best_params[0]}, filter_size: {best_params[1]}, dropout_factor: {best_params[2]}, num_blocks: {best_params[3]}, parallel_layer: {best_params[4]}, learing_rate: {best_params[5]}\")"
   ]
  },
  {
   "cell_type": "code",
   "execution_count": 161,
   "id": "a7b24cfa4796351c",
   "metadata": {
    "ExecuteTime": {
     "end_time": "2024-05-08T16:50:44.882494Z",
     "start_time": "2024-05-08T16:50:44.461359Z"
    }
   },
   "outputs": [
    {
     "name": "stdout",
     "output_type": "stream",
     "text": [
      "TemporalConvNet(\n",
      "  (layers): ModuleList(\n",
      "    (0): Conv1d(22, 256, kernel_size=(1,), stride=(1,))\n",
      "    (1): BatchNorm1d(256, eps=1e-05, momentum=0.1, affine=True, track_running_stats=True)\n",
      "    (2): Conv1d(256, 256, kernel_size=(3,), stride=(1,), padding=(1,))\n",
      "    (3): BatchNorm1d(256, eps=1e-05, momentum=0.1, affine=True, track_running_stats=True)\n",
      "    (4): Dropout(p=0.08, inplace=False)\n",
      "    (5): Conv1d(256, 256, kernel_size=(3,), stride=(1,), padding=(2,), dilation=(2,))\n",
      "    (6): BatchNorm1d(256, eps=1e-05, momentum=0.1, affine=True, track_running_stats=True)\n",
      "    (7): Dropout(p=0.08, inplace=False)\n",
      "    (8): Conv1d(256, 256, kernel_size=(3,), stride=(1,), padding=(4,), dilation=(4,))\n",
      "    (9): BatchNorm1d(256, eps=1e-05, momentum=0.1, affine=True, track_running_stats=True)\n",
      "    (10): ReLU()\n",
      "    (11): Dropout(p=0.08, inplace=False)\n",
      "    (12): Softmax(dim=1)\n",
      "  )\n",
      ")\n"
     ]
    }
   ],
   "source": [
    "# Hyperparameters\n",
    "num_features = len(mlh.amino_acids)\n",
    "num_classes = len(mlh.codons)  # number of codons (output classes)\n",
    "NUM_EPOCHS = 200\n",
    "\n",
    "num_filters = 128 #64\n",
    "filter_size = 5#3  # NOTE: filter size must be unequal like: 3,5,9,...\n",
    "dropout_factor = 0.08 #0.08 #0.005\n",
    "num_blocks = 5#2\n",
    "parallel_layer = True\n",
    "learing_rate = 0.001 # 0.001\n",
    "\n",
    "if best_params is not None:\n",
    "    num_filters = best_params[0]\n",
    "    filter_size = best_params[1]\n",
    "    dropout_factor = best_params[2]\n",
    "    num_blocks = best_params[3]\n",
    "    parallel_layer = best_params[4]\n",
    "    learing_rate = best_params[5]\n",
    "\n",
    "\n",
    "# Model\n",
    "tcnModel = Tcnn.TemporalConvNet(num_features, num_classes, num_filters, filter_size, \n",
    "                        dropout_factor, num_blocks, parallel_layer)\n",
    "print(tcnModel)\n",
    "\n",
    "#criterion = nn.CrossEntropyLoss(ignore_index=64)\n",
    "criterion = nn.CrossEntropyLoss(ignore_index=pad_int)\n",
    "optimizer = optim.Adam(tcnModel.parameters(), lr=learing_rate)"
   ]
  },
  {
   "cell_type": "markdown",
   "id": "d1cc8b93",
   "metadata": {},
   "source": [
    "### Start Training"
   ]
  },
  {
   "cell_type": "code",
   "execution_count": 162,
   "id": "b4146a47e4f268e6",
   "metadata": {
    "ExecuteTime": {
     "end_time": "2024-05-08T17:07:44.476803Z",
     "start_time": "2024-05-08T16:50:44.883185Z"
    }
   },
   "outputs": [
    {
     "name": "stdout",
     "output_type": "stream",
     "text": [
      "Epoch [1/200], Loss: 5.231, accuracy: 0.47, valid acc: 0.54\n",
      "Epoch [2/200], Loss: 5.138, accuracy: 0.519, valid acc: 0.545\n",
      "Epoch [3/200], Loss: 5.105, accuracy: 0.523, valid acc: 0.545\n",
      "Epoch [4/200], Loss: 5.084, accuracy: 0.524, valid acc: 0.547\n",
      "Epoch [5/200], Loss: 5.072, accuracy: 0.524, valid acc: 0.545\n",
      "Epoch [6/200], Loss: 5.064, accuracy: 0.524, valid acc: 0.547\n",
      "Epoch [7/200], Loss: 5.057, accuracy: 0.526, valid acc: 0.547\n",
      "Epoch [8/200], Loss: 5.053, accuracy: 0.527, valid acc: 0.548\n",
      "Epoch [9/200], Loss: 5.049, accuracy: 0.528, valid acc: 0.549\n",
      "Epoch [10/200], Loss: 5.046, accuracy: 0.528, valid acc: 0.55\n",
      "Epoch [11/200], Loss: 5.044, accuracy: 0.529, valid acc: 0.55\n",
      "Epoch [12/200], Loss: 5.042, accuracy: 0.53, valid acc: 0.55\n",
      "Epoch [13/200], Loss: 5.039, accuracy: 0.531, valid acc: 0.55\n",
      "Epoch [14/200], Loss: 5.038, accuracy: 0.531, valid acc: 0.551\n",
      "Epoch [15/200], Loss: 5.037, accuracy: 0.531, valid acc: 0.55\n",
      "Epoch [16/200], Loss: 5.036, accuracy: 0.531, valid acc: 0.551\n",
      "Epoch [17/200], Loss: 5.035, accuracy: 0.532, valid acc: 0.551\n",
      "Epoch [18/200], Loss: 5.034, accuracy: 0.532, valid acc: 0.551\n",
      "Epoch [19/200], Loss: 5.034, accuracy: 0.532, valid acc: 0.551\n",
      "Epoch [20/200], Loss: 5.032, accuracy: 0.532, valid acc: 0.552\n",
      "Epoch [21/200], Loss: 5.032, accuracy: 0.532, valid acc: 0.552\n",
      "Epoch [22/200], Loss: 5.031, accuracy: 0.533, valid acc: 0.552\n",
      "Epoch [23/200], Loss: 5.031, accuracy: 0.533, valid acc: 0.552\n",
      "Epoch [24/200], Loss: 5.03, accuracy: 0.533, valid acc: 0.552\n",
      "Epoch [25/200], Loss: 5.03, accuracy: 0.533, valid acc: 0.551\n",
      "Epoch [26/200], Loss: 5.029, accuracy: 0.534, valid acc: 0.552\n",
      "Epoch [27/200], Loss: 5.028, accuracy: 0.534, valid acc: 0.552\n",
      "Epoch [28/200], Loss: 5.028, accuracy: 0.534, valid acc: 0.552\n",
      "Epoch [29/200], Loss: 5.028, accuracy: 0.534, valid acc: 0.552\n",
      "Epoch [30/200], Loss: 5.027, accuracy: 0.534, valid acc: 0.553\n",
      "Epoch [31/200], Loss: 5.027, accuracy: 0.534, valid acc: 0.551\n",
      "Epoch [32/200], Loss: 5.026, accuracy: 0.535, valid acc: 0.553\n",
      "Epoch [33/200], Loss: 5.026, accuracy: 0.534, valid acc: 0.551\n",
      "Epoch [34/200], Loss: 5.027, accuracy: 0.534, valid acc: 0.552\n",
      "Epoch [35/200], Loss: 5.025, accuracy: 0.535, valid acc: 0.553\n",
      "Epoch [36/200], Loss: 5.025, accuracy: 0.535, valid acc: 0.553\n",
      "Epoch [37/200], Loss: 5.025, accuracy: 0.535, valid acc: 0.552\n",
      "Epoch [38/200], Loss: 5.025, accuracy: 0.535, valid acc: 0.552\n",
      "Epoch [39/200], Loss: 5.025, accuracy: 0.535, valid acc: 0.552\n",
      "Epoch [40/200], Loss: 5.024, accuracy: 0.536, valid acc: 0.552\n",
      "Epoch [41/200], Loss: 5.024, accuracy: 0.536, valid acc: 0.553\n",
      "Epoch [42/200], Loss: 5.024, accuracy: 0.536, valid acc: 0.552\n",
      "Epoch [43/200], Loss: 5.024, accuracy: 0.536, valid acc: 0.553\n",
      "Epoch [44/200], Loss: 5.023, accuracy: 0.536, valid acc: 0.553\n",
      "Epoch [45/200], Loss: 5.024, accuracy: 0.536, valid acc: 0.553\n",
      "Epoch [46/200], Loss: 5.023, accuracy: 0.536, valid acc: 0.553\n",
      "Epoch [47/200], Loss: 5.023, accuracy: 0.536, valid acc: 0.553\n",
      "Epoch [48/200], Loss: 5.023, accuracy: 0.536, valid acc: 0.553\n",
      "Epoch [49/200], Loss: 5.022, accuracy: 0.537, valid acc: 0.552\n",
      "Epoch [50/200], Loss: 5.022, accuracy: 0.536, valid acc: 0.553\n",
      "Epoch [51/200], Loss: 5.022, accuracy: 0.536, valid acc: 0.553\n",
      "Epoch [52/200], Loss: 5.022, accuracy: 0.536, valid acc: 0.553\n",
      "Epoch [53/200], Loss: 5.023, accuracy: 0.536, valid acc: 0.552\n",
      "Epoch [54/200], Loss: 5.022, accuracy: 0.536, valid acc: 0.553\n",
      "Epoch [55/200], Loss: 5.021, accuracy: 0.538, valid acc: 0.553\n",
      "Epoch [56/200], Loss: 5.021, accuracy: 0.537, valid acc: 0.553\n",
      "Epoch [57/200], Loss: 5.021, accuracy: 0.537, valid acc: 0.553\n",
      "Epoch [58/200], Loss: 5.02, accuracy: 0.538, valid acc: 0.553\n",
      "Epoch [59/200], Loss: 5.021, accuracy: 0.537, valid acc: 0.553\n",
      "Epoch [60/200], Loss: 5.02, accuracy: 0.538, valid acc: 0.552\n",
      "Epoch [61/200], Loss: 5.02, accuracy: 0.537, valid acc: 0.552\n",
      "Epoch [62/200], Loss: 5.02, accuracy: 0.538, valid acc: 0.553\n",
      "Epoch [63/200], Loss: 5.02, accuracy: 0.538, valid acc: 0.552\n",
      "Epoch [64/200], Loss: 5.019, accuracy: 0.538, valid acc: 0.552\n",
      "Epoch [65/200], Loss: 5.02, accuracy: 0.538, valid acc: 0.552\n",
      "Epoch [66/200], Loss: 5.02, accuracy: 0.538, valid acc: 0.554\n",
      "Epoch [67/200], Loss: 5.02, accuracy: 0.538, valid acc: 0.553\n",
      "Epoch [68/200], Loss: 5.02, accuracy: 0.538, valid acc: 0.552\n",
      "Epoch [69/200], Loss: 5.02, accuracy: 0.538, valid acc: 0.553\n",
      "Epoch [70/200], Loss: 5.019, accuracy: 0.539, valid acc: 0.552\n",
      "Epoch [71/200], Loss: 5.019, accuracy: 0.539, valid acc: 0.553\n",
      "Epoch [72/200], Loss: 5.019, accuracy: 0.539, valid acc: 0.553\n",
      "Epoch [73/200], Loss: 5.019, accuracy: 0.538, valid acc: 0.553\n",
      "Epoch [74/200], Loss: 5.018, accuracy: 0.539, valid acc: 0.554\n",
      "Epoch [75/200], Loss: 5.019, accuracy: 0.539, valid acc: 0.554\n",
      "Epoch [76/200], Loss: 5.019, accuracy: 0.539, valid acc: 0.553\n",
      "Epoch [77/200], Loss: 5.019, accuracy: 0.539, valid acc: 0.553\n",
      "Epoch [78/200], Loss: 5.019, accuracy: 0.539, valid acc: 0.554\n",
      "Epoch [79/200], Loss: 5.018, accuracy: 0.539, valid acc: 0.554\n",
      "Epoch [80/200], Loss: 5.018, accuracy: 0.539, valid acc: 0.552\n",
      "Epoch [81/200], Loss: 5.018, accuracy: 0.539, valid acc: 0.552\n",
      "Epoch [82/200], Loss: 5.018, accuracy: 0.539, valid acc: 0.554\n",
      "Epoch [83/200], Loss: 5.018, accuracy: 0.539, valid acc: 0.553\n",
      "Epoch [84/200], Loss: 5.017, accuracy: 0.54, valid acc: 0.553\n",
      "Epoch [85/200], Loss: 5.018, accuracy: 0.539, valid acc: 0.553\n",
      "Epoch [86/200], Loss: 5.018, accuracy: 0.539, valid acc: 0.553\n",
      "Epoch [87/200], Loss: 5.018, accuracy: 0.54, valid acc: 0.553\n",
      "Epoch [88/200], Loss: 5.018, accuracy: 0.54, valid acc: 0.554\n",
      "Epoch [89/200], Loss: 5.017, accuracy: 0.54, valid acc: 0.553\n",
      "Epoch [90/200], Loss: 5.017, accuracy: 0.54, valid acc: 0.553\n",
      "Epoch [91/200], Loss: 5.017, accuracy: 0.54, valid acc: 0.553\n",
      "Epoch [92/200], Loss: 5.017, accuracy: 0.54, valid acc: 0.554\n",
      "Epoch [93/200], Loss: 5.017, accuracy: 0.54, valid acc: 0.553\n",
      "Epoch [94/200], Loss: 5.017, accuracy: 0.54, valid acc: 0.553\n",
      "Epoch [95/200], Loss: 5.017, accuracy: 0.541, valid acc: 0.553\n",
      "Epoch [96/200], Loss: 5.018, accuracy: 0.539, valid acc: 0.553\n",
      "Epoch [97/200], Loss: 5.016, accuracy: 0.541, valid acc: 0.553\n",
      "Epoch [98/200], Loss: 5.017, accuracy: 0.541, valid acc: 0.554\n",
      "Epoch [99/200], Loss: 5.016, accuracy: 0.541, valid acc: 0.554\n",
      "Epoch [100/200], Loss: 5.017, accuracy: 0.54, valid acc: 0.553\n",
      "Epoch [101/200], Loss: 5.017, accuracy: 0.54, valid acc: 0.553\n",
      "Epoch [102/200], Loss: 5.016, accuracy: 0.541, valid acc: 0.554\n",
      "Epoch [103/200], Loss: 5.016, accuracy: 0.54, valid acc: 0.554\n",
      "Epoch [104/200], Loss: 5.016, accuracy: 0.541, valid acc: 0.553\n",
      "Epoch [105/200], Loss: 5.016, accuracy: 0.541, valid acc: 0.553\n",
      "Epoch [106/200], Loss: 5.017, accuracy: 0.54, valid acc: 0.553\n",
      "Epoch [107/200], Loss: 5.016, accuracy: 0.541, valid acc: 0.554\n",
      "Epoch [108/200], Loss: 5.016, accuracy: 0.541, valid acc: 0.553\n",
      "Epoch [109/200], Loss: 5.016, accuracy: 0.541, valid acc: 0.554\n",
      "Epoch [110/200], Loss: 5.016, accuracy: 0.541, valid acc: 0.553\n",
      "Epoch [111/200], Loss: 5.016, accuracy: 0.541, valid acc: 0.553\n",
      "Epoch [112/200], Loss: 5.016, accuracy: 0.541, valid acc: 0.553\n",
      "Epoch [113/200], Loss: 5.017, accuracy: 0.54, valid acc: 0.553\n",
      "Epoch [114/200], Loss: 5.016, accuracy: 0.541, valid acc: 0.554\n",
      "Epoch [115/200], Loss: 5.016, accuracy: 0.541, valid acc: 0.554\n",
      "Epoch [116/200], Loss: 5.017, accuracy: 0.54, valid acc: 0.553\n",
      "Epoch [117/200], Loss: 5.015, accuracy: 0.541, valid acc: 0.552\n",
      "Epoch [118/200], Loss: 5.015, accuracy: 0.542, valid acc: 0.554\n",
      "Epoch [119/200], Loss: 5.015, accuracy: 0.541, valid acc: 0.554\n",
      "Epoch [120/200], Loss: 5.016, accuracy: 0.541, valid acc: 0.553\n",
      "Epoch [121/200], Loss: 5.015, accuracy: 0.541, valid acc: 0.553\n",
      "Epoch [122/200], Loss: 5.016, accuracy: 0.541, valid acc: 0.553\n",
      "Epoch [123/200], Loss: 5.015, accuracy: 0.541, valid acc: 0.553\n",
      "Epoch [124/200], Loss: 5.015, accuracy: 0.542, valid acc: 0.553\n",
      "Epoch [125/200], Loss: 5.015, accuracy: 0.542, valid acc: 0.553\n",
      "Epoch [126/200], Loss: 5.016, accuracy: 0.541, valid acc: 0.553\n",
      "Epoch [127/200], Loss: 5.015, accuracy: 0.541, valid acc: 0.553\n",
      "Epoch [128/200], Loss: 5.015, accuracy: 0.541, valid acc: 0.553\n",
      "Epoch [129/200], Loss: 5.016, accuracy: 0.54, valid acc: 0.554\n",
      "Epoch [130/200], Loss: 5.015, accuracy: 0.542, valid acc: 0.554\n",
      "Epoch [131/200], Loss: 5.015, accuracy: 0.541, valid acc: 0.554\n",
      "Epoch [132/200], Loss: 5.015, accuracy: 0.542, valid acc: 0.554\n",
      "Epoch [133/200], Loss: 5.015, accuracy: 0.541, valid acc: 0.553\n",
      "Epoch [134/200], Loss: 5.015, accuracy: 0.542, valid acc: 0.554\n",
      "Epoch [135/200], Loss: 5.015, accuracy: 0.542, valid acc: 0.554\n",
      "Epoch [136/200], Loss: 5.015, accuracy: 0.542, valid acc: 0.553\n",
      "Epoch [137/200], Loss: 5.015, accuracy: 0.542, valid acc: 0.554\n",
      "Epoch [138/200], Loss: 5.015, accuracy: 0.541, valid acc: 0.554\n",
      "Epoch [139/200], Loss: 5.014, accuracy: 0.542, valid acc: 0.554\n",
      "Epoch [140/200], Loss: 5.015, accuracy: 0.541, valid acc: 0.554\n",
      "Epoch [141/200], Loss: 5.014, accuracy: 0.542, valid acc: 0.554\n",
      "Epoch [142/200], Loss: 5.014, accuracy: 0.542, valid acc: 0.554\n",
      "Epoch [143/200], Loss: 5.015, accuracy: 0.542, valid acc: 0.553\n",
      "Epoch [144/200], Loss: 5.014, accuracy: 0.542, valid acc: 0.554\n",
      "Epoch [145/200], Loss: 5.014, accuracy: 0.542, valid acc: 0.554\n",
      "Epoch [146/200], Loss: 5.015, accuracy: 0.541, valid acc: 0.553\n",
      "Epoch [147/200], Loss: 5.015, accuracy: 0.542, valid acc: 0.553\n",
      "Epoch [148/200], Loss: 5.014, accuracy: 0.542, valid acc: 0.554\n",
      "Epoch [149/200], Loss: 5.014, accuracy: 0.542, valid acc: 0.553\n",
      "Epoch [150/200], Loss: 5.014, accuracy: 0.542, valid acc: 0.553\n",
      "Epoch [151/200], Loss: 5.015, accuracy: 0.542, valid acc: 0.553\n",
      "Epoch [152/200], Loss: 5.015, accuracy: 0.542, valid acc: 0.553\n",
      "Epoch [153/200], Loss: 5.015, accuracy: 0.542, valid acc: 0.553\n",
      "Epoch [154/200], Loss: 5.014, accuracy: 0.542, valid acc: 0.554\n",
      "Epoch [155/200], Loss: 5.014, accuracy: 0.543, valid acc: 0.554\n",
      "Epoch [156/200], Loss: 5.014, accuracy: 0.542, valid acc: 0.554\n",
      "Epoch [157/200], Loss: 5.014, accuracy: 0.543, valid acc: 0.553\n",
      "Epoch [158/200], Loss: 5.014, accuracy: 0.542, valid acc: 0.554\n",
      "Epoch [159/200], Loss: 5.014, accuracy: 0.542, valid acc: 0.553\n",
      "Epoch [160/200], Loss: 5.013, accuracy: 0.543, valid acc: 0.553\n",
      "Epoch [161/200], Loss: 5.014, accuracy: 0.542, valid acc: 0.553\n",
      "Epoch [162/200], Loss: 5.014, accuracy: 0.542, valid acc: 0.554\n",
      "Epoch [163/200], Loss: 5.013, accuracy: 0.543, valid acc: 0.554\n",
      "Epoch [164/200], Loss: 5.014, accuracy: 0.543, valid acc: 0.553\n",
      "Epoch [165/200], Loss: 5.013, accuracy: 0.543, valid acc: 0.553\n",
      "Epoch [166/200], Loss: 5.014, accuracy: 0.542, valid acc: 0.553\n",
      "Epoch [167/200], Loss: 5.014, accuracy: 0.542, valid acc: 0.552\n",
      "Epoch [168/200], Loss: 5.014, accuracy: 0.542, valid acc: 0.554\n",
      "Epoch [169/200], Loss: 5.013, accuracy: 0.543, valid acc: 0.553\n",
      "Epoch [170/200], Loss: 5.013, accuracy: 0.543, valid acc: 0.553\n",
      "Epoch [171/200], Loss: 5.013, accuracy: 0.543, valid acc: 0.554\n",
      "Epoch [172/200], Loss: 5.013, accuracy: 0.543, valid acc: 0.553\n",
      "Epoch [173/200], Loss: 5.013, accuracy: 0.543, valid acc: 0.554\n",
      "Epoch [174/200], Loss: 5.014, accuracy: 0.543, valid acc: 0.553\n",
      "Epoch [175/200], Loss: 5.014, accuracy: 0.542, valid acc: 0.553\n",
      "Epoch [176/200], Loss: 5.014, accuracy: 0.542, valid acc: 0.553\n",
      "Epoch [177/200], Loss: 5.014, accuracy: 0.543, valid acc: 0.554\n",
      "Epoch [178/200], Loss: 5.014, accuracy: 0.543, valid acc: 0.554\n",
      "Epoch [179/200], Loss: 5.014, accuracy: 0.543, valid acc: 0.554\n",
      "Epoch [180/200], Loss: 5.014, accuracy: 0.542, valid acc: 0.553\n",
      "Epoch [181/200], Loss: 5.013, accuracy: 0.544, valid acc: 0.554\n",
      "Epoch [182/200], Loss: 5.013, accuracy: 0.544, valid acc: 0.554\n",
      "Epoch [183/200], Loss: 5.013, accuracy: 0.544, valid acc: 0.553\n",
      "Epoch [184/200], Loss: 5.013, accuracy: 0.543, valid acc: 0.554\n",
      "Epoch [185/200], Loss: 5.013, accuracy: 0.543, valid acc: 0.554\n",
      "Epoch [186/200], Loss: 5.013, accuracy: 0.543, valid acc: 0.554\n",
      "Epoch [187/200], Loss: 5.013, accuracy: 0.543, valid acc: 0.553\n",
      "Epoch [188/200], Loss: 5.013, accuracy: 0.543, valid acc: 0.554\n",
      "Epoch [189/200], Loss: 5.013, accuracy: 0.543, valid acc: 0.554\n",
      "Epoch [190/200], Loss: 5.012, accuracy: 0.544, valid acc: 0.553\n",
      "Epoch [191/200], Loss: 5.013, accuracy: 0.543, valid acc: 0.553\n",
      "Epoch [192/200], Loss: 5.013, accuracy: 0.543, valid acc: 0.554\n",
      "Epoch [193/200], Loss: 5.013, accuracy: 0.543, valid acc: 0.554\n",
      "Epoch [194/200], Loss: 5.014, accuracy: 0.543, valid acc: 0.554\n",
      "Epoch [195/200], Loss: 5.013, accuracy: 0.543, valid acc: 0.554\n",
      "Epoch [196/200], Loss: 5.012, accuracy: 0.544, valid acc: 0.553\n",
      "Epoch [197/200], Loss: 5.013, accuracy: 0.543, valid acc: 0.554\n",
      "Epoch [198/200], Loss: 5.013, accuracy: 0.543, valid acc: 0.554\n",
      "Epoch [199/200], Loss: 5.013, accuracy: 0.543, valid acc: 0.554\n",
      "Epoch [200/200], Loss: 5.013, accuracy: 0.543, valid acc: 0.554\n",
      "Training completed.\n",
      "Best Validaton Accuracy: 0.5543214016917674\n"
     ]
    }
   ],
   "source": [
    "trainings_losses, trainings_accuracies, valid_accs, best_epoch_idx = Tcnn.train(tcnModel, train_loader, valid_loader, NUM_EPOCHS, optimizer, criterion, device=device)"
   ]
  },
  {
   "cell_type": "code",
   "execution_count": 163,
   "id": "5267292d",
   "metadata": {},
   "outputs": [
    {
     "name": "stdout",
     "output_type": "stream",
     "text": [
      "Vaild Accs in training saved in: ../data/E.Coli/training_valid_accs.json\n"
     ]
    }
   ],
   "source": [
    "json_data = {'organism': organism, 'training_valid_accs': valid_accs, 'best_epoch_idx': best_epoch_idx}\n",
    "\n",
    "# Save training valid accuracies\n",
    "acc_path = data_path + f'/{organism}/training_valid_accs.json'\n",
    "\n",
    "with open(acc_path, 'w') as file:\n",
    "    json.dump(json_data, file)\n",
    "\n",
    "print('Vaild Accs in training saved in:', acc_path)"
   ]
  },
  {
   "cell_type": "markdown",
   "id": "6630aa16",
   "metadata": {},
   "source": [
    "### Save the model"
   ]
  },
  {
   "cell_type": "code",
   "execution_count": 164,
   "id": "ef86ffc0",
   "metadata": {},
   "outputs": [
    {
     "name": "stdout",
     "output_type": "stream",
     "text": [
      "Model saved as 20240627113322_tcn_valid_acc_55.pt\n"
     ]
    }
   ],
   "source": [
    "mlh.save_model(tcnModel, f'tcn_valid_acc_{round(round(valid_accs[-1],2) * 100)}', organism)"
   ]
  },
  {
   "cell_type": "markdown",
   "id": "d7822149",
   "metadata": {},
   "source": [
    "### Load the model"
   ]
  },
  {
   "cell_type": "code",
   "execution_count": 165,
   "id": "46855e22",
   "metadata": {},
   "outputs": [
    {
     "name": "stdout",
     "output_type": "stream",
     "text": [
      "Model loaded: 20240627113322_tcn_valid_acc_55.pt\n"
     ]
    }
   ],
   "source": [
    "tcnModel = mlh.load_model(f'tcn', organism, device=device)"
   ]
  },
  {
   "cell_type": "markdown",
   "id": "ec18d20a",
   "metadata": {},
   "source": [
    "### Evaluation of the model"
   ]
  },
  {
   "cell_type": "code",
   "execution_count": 166,
   "id": "8ddfa5af35a9bc1",
   "metadata": {
    "ExecuteTime": {
     "end_time": "2024-05-08T17:07:44.478810Z",
     "start_time": "2024-05-08T17:07:44.477358Z"
    }
   },
   "outputs": [],
   "source": [
    "predicted, labels, accuracies = Tcnn.evaluate_model(tcnModel, device, test_loader, codon_names=False)"
   ]
  },
  {
   "cell_type": "markdown",
   "id": "d5578a9e",
   "metadata": {},
   "source": [
    "#### Get codon names and associated amino acids"
   ]
  },
  {
   "cell_type": "code",
   "execution_count": 167,
   "id": "a932b7ca",
   "metadata": {},
   "outputs": [
    {
     "name": "stdout",
     "output_type": "stream",
     "text": [
      "predicted different classes:  56 out of: 61\n",
      "predicted following classes:  {'AAA', 'AGC', 'CGG', 'AAC', 'CAG', 'CGT', 'TGT', 'TAC', 'CTG', 'TTA', 'GGC', 'CCA', 'GAA', 'AGT', 'CAT', 'CGC', 'GTT', 'ACC', 'TGC', 'TCC', 'GTC', 'GCG', 'CCG', 'CTT', 'ATT', 'TCT', 'TTC', 'GGG', 'GCT', 'GCA', 'CAC', 'ACA', 'CTC', 'GCC', 'ATG', 'ATC', 'TTG', 'TCG', 'TCA', 'CCC', 'ACT', 'GGA', 'TAT', 'TGG', 'ACG', 'CAA', 'CCT', 'GAT', 'GGT', 'GAC', 'AAT', 'TTT', 'GTA', 'GTG', 'AAG', 'GAG'}\n",
      "predicted different amino acids:  20 out of: 20\n"
     ]
    }
   ],
   "source": [
    "predicted = predicted.cpu().numpy()\n",
    "labels = labels.cpu().numpy()\n",
    "\n",
    "predicted, labels = mle.filter_padding(predicted, labels, filter_value=pad_int)\n",
    "\n",
    "predicted_codon_names =  mle.codon_to_name(predicted)\n",
    "labels_codon_names =  mle.codon_to_name(labels)\n",
    "\n",
    "predicted_aa =  mle.translate_codons(predicted_codon_names)\n",
    "labels_aa =  mle.translate_codons(labels_codon_names)\n",
    "\n",
    "mle.get_unique_pred_classes(predicted_codon_names, labels_codon_names)\n",
    "mle.print_unique_elements(predicted_aa, labels_aa)"
   ]
  },
  {
   "cell_type": "markdown",
   "id": "74114592",
   "metadata": {},
   "source": [
    "#### Accuracies"
   ]
  },
  {
   "cell_type": "code",
   "execution_count": 168,
   "id": "38aa8092",
   "metadata": {},
   "outputs": [
    {
     "name": "stdout",
     "output_type": "stream",
     "text": [
      "Datensatz geladen für E.Coli\n",
      "E.Coli 0.5556605604448457\n"
     ]
    }
   ],
   "source": [
    "test_dataset = mlh.CodonDataset(organism=organism, split=\"test\", padding_pos=None, one_hot_aa=False)\n",
    "test_loader = DataLoader(test_dataset, batch_size=1)\n",
    "print(f\"Datensatz geladen für {organism}\")\n",
    "\n",
    "classifier = Tcnn.Tcn_Classifier(tcnModel)\n",
    "predictions = classifier.predict_codons(test_loader, codon_names=False)\n",
    "\n",
    "labels = []\n",
    "for seq, lab in test_dataset:\n",
    "    lab = [int(c.item()) for c in lab]\n",
    "    labels.append(lab)\n",
    "\n",
    "acc = classifier.calc_accuracy(labels, predictions, pad='')\n",
    "print(organism, acc)"
   ]
  },
  {
   "cell_type": "markdown",
   "id": "e809a726",
   "metadata": {},
   "source": [
    "## Plots"
   ]
  },
  {
   "cell_type": "code",
   "execution_count": 169,
   "id": "97ceebea",
   "metadata": {},
   "outputs": [
    {
     "data": {
      "image/png": "[encoded data removed]",
      "text/plain": [
       "<Figure size 1500x500 with 2 Axes>"
      ]
     },
     "metadata": {},
     "output_type": "display_data"
    }
   ],
   "source": [
    "# check if training losses and accuracies is defined\n",
    "if 'trainings_losses' in locals() and 'trainings_accuracies' in locals():\n",
    "    # plot of training loss and accuracy\n",
    "    plt = mle.plot_training(trainings_losses, trainings_accuracies, valid_accs)\n",
    "    plt.show()\n",
    "else:\n",
    "    print(\"No training losses and accuracies available\")"
   ]
  },
  {
   "cell_type": "markdown",
   "id": "5e80ba43",
   "metadata": {},
   "source": [
    "## Hyperparamter Grid Search"
   ]
  },
  {
   "cell_type": "code",
   "execution_count": 170,
   "id": "3800c4cf",
   "metadata": {},
   "outputs": [
    {
     "name": "stdout",
     "output_type": "stream",
     "text": [
      "CPU times: user 9 µs, sys: 1e+03 ns, total: 10 µs\n",
      "Wall time: 14.1 µs\n"
     ]
    }
   ],
   "source": [
    "%%time\n",
    "\n",
    "# Hyperparameters\n",
    "params = {\n",
    "    \"num_filters\": [64, 128, 256],\n",
    "    \"filter_size\": [3, 5, 9],\n",
    "    \"dropout_factor\": [0.08],\n",
    "    \"num_blocks\": [3, 5, 7],\n",
    "    \"parallel_layer\": [True, False],\n",
    "    \"learing_rate\": [0.001]\n",
    "}\n",
    "\n",
    "# Hyperparameter search\n",
    "#results, best_model = Tcnn.hyperparam_search(organism, train_loader, valid_loader, params, num_features, num_classes, device, criterion)"
   ]
  },
  {
   "cell_type": "code",
   "execution_count": 171,
   "id": "5b129e8f",
   "metadata": {},
   "outputs": [],
   "source": [
    "if 'results' in locals():\n",
    "    for r in results[:10]:\n",
    "        print(r)\n",
    "\n",
    "    # print best parameters\n",
    "    best_params = results[np.argmax([r[-1] for r in results])]\n",
    "    print(f\"Best parameters: num_filters: {best_params[0]}, filter_size: {best_params[1]}, dropout_factor: {best_params[2]}, num_blocks: {best_params[3]}, parallel_layer: {best_params[4]}, learing_rate: {best_params[5]}, acc: {round(best_params[6], 3)}\")\n",
    "    # save results as json\n",
    "    path = f'../ml_models/{organism}/tcnn_grid_search_results.json'\n",
    "    with open(path, 'w') as f:\n",
    "        json.dump(results, f)\n",
    "\n",
    "\n",
    "    # save best model\n",
    "    mlh.save_model(best_model, f'tcnn_best_model_acc_{round(max([r[-1] for r in results]),3)}', organism)"
   ]
  }
 ],
 "metadata": {
  "kernelspec": {
   "display_name": "Python 3",
   "language": "python",
   "name": "python3"
  },
  "language_info": {
   "codemirror_mode": {
    "name": "ipython",
    "version": 3
   },
   "file_extension": ".py",
   "mimetype": "text/x-python",
   "name": "python",
   "nbconvert_exporter": "python",
   "pygments_lexer": "ipython3",
   "version": "3.10.12"
  }
 },
 "nbformat": 4,
 "nbformat_minor": 5
}
