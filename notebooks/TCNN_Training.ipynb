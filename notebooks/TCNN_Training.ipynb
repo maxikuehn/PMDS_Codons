{
 "cells": [
  {
   "cell_type": "markdown",
   "id": "c769c947119d606e",
   "metadata": {},
   "source": [
    "# TCNN Classifier"
   ]
  },
  {
   "cell_type": "code",
   "execution_count": 65,
   "id": "initial_id",
   "metadata": {
    "ExecuteTime": {
     "end_time": "2024-05-08T16:50:42.776277Z",
     "start_time": "2024-05-08T16:50:41.789193Z"
    },
    "collapsed": true
   },
   "outputs": [],
   "source": [
    "import torch\n",
    "import torch.nn as nn\n",
    "from torch import optim\n",
    "from torch.utils.data import DataLoader\n",
    "import sys\n",
    "import numpy as np\n",
    "import random\n",
    "from sklearn.metrics import accuracy_score\n",
    "import time\n",
    "import json\n",
    "\n",
    "sys.path.append('../scripts')\n",
    "import ml_helper as mlh\n",
    "import ml_evaluation as mle\n",
    "import Tcnn\n",
    "from Tcnn import TemporalConvNet"
   ]
  },
  {
   "cell_type": "code",
   "execution_count": 49,
   "id": "8205e6a1",
   "metadata": {},
   "outputs": [
    {
     "name": "stdout",
     "output_type": "stream",
     "text": [
      "The autoreload extension is already loaded. To reload it, use:\n",
      "  %reload_ext autoreload\n"
     ]
    }
   ],
   "source": [
    "%load_ext autoreload\n",
    "%autoreload 2\n",
    "%reload_ext autoreload"
   ]
  },
  {
   "cell_type": "code",
   "execution_count": 50,
   "id": "5e5cc601",
   "metadata": {},
   "outputs": [],
   "source": [
    "data_path = '../data'"
   ]
  },
  {
   "cell_type": "markdown",
   "id": "4d9d9b37",
   "metadata": {},
   "source": [
    "Code inspiered:\n",
    "\n",
    "https://de.mathworks.com/help/deeplearning/ug/sequence-to-sequence-classification-using-1-d-convolutions.html\n",
    "\n",
    "References:\n",
    "\n",
    "- [1] Bai, Shaojie, J. Zico Kolter, and Vladlen Koltun. “An Empirical Evaluation of Generic Convolutional and Recurrent Networks for Sequence Modeling.” Preprint, submitted April 19, 2018. https://arxiv.org/abs/1803.01271.\n",
    "\n",
    "- [2] Oord, Aaron van den, Sander Dieleman, Heiga Zen, Karen Simonyan, Oriol Vinyals, Alex Graves, Nal Kalchbrenner, Andrew Senior, and Koray Kavukcuoglu. “WaveNet: A Generative Model for Raw Audio.” Preprint, submitted September 12, 2016. https://arxiv.org/abs/1609.03499.\n",
    "\n",
    "- [3] Tompson, Jonathan, Ross Goroshin, Arjun Jain, Yann LeCun, and Christoph Bregler. “Efficient Object Localization Using Convolutional Networks.” 2015 IEEE Conference on Computer Vision and Pattern Recognition (CVPR), 648–56. https://doi.org/10.1109/CVPR.2015.7298664.\n"
   ]
  },
  {
   "cell_type": "code",
   "execution_count": 51,
   "id": "3c7187a43dc55642",
   "metadata": {
    "ExecuteTime": {
     "end_time": "2024-05-08T16:50:42.830944Z",
     "start_time": "2024-05-08T16:50:42.776965Z"
    }
   },
   "outputs": [
    {
     "data": {
      "text/plain": [
       "device(type='cuda')"
      ]
     },
     "execution_count": 51,
     "metadata": {},
     "output_type": "execute_result"
    }
   ],
   "source": [
    "device = torch.device('cuda' if torch.cuda.is_available() else 'cpu')\n",
    "device"
   ]
  },
  {
   "cell_type": "code",
   "execution_count": 52,
   "id": "c91b666e",
   "metadata": {},
   "outputs": [],
   "source": [
    "SEED = 42\n",
    "def set_seed(SEED=SEED):\n",
    "    random.seed(SEED)\n",
    "    np.random.seed(SEED)\n",
    "    torch.manual_seed(SEED)\n",
    "    torch.cuda.manual_seed(SEED)\n",
    "set_seed()"
   ]
  },
  {
   "cell_type": "markdown",
   "id": "7ff5d1f444f3ad99",
   "metadata": {},
   "source": [
    "### Data Preparation"
   ]
  },
  {
   "cell_type": "code",
   "execution_count": 53,
   "id": "c4a940351fe6b0a7",
   "metadata": {
    "ExecuteTime": {
     "end_time": "2024-05-08T16:50:44.460665Z",
     "start_time": "2024-05-08T16:50:42.860971Z"
    }
   },
   "outputs": [],
   "source": [
    "# Data preparation\n",
    "organisms = [\"E.Coli\", \"Drosophila.Melanogaster\", \"Homo.Sapiens\"]\n",
    "organism = organisms[0]\n",
    "pad_int = mlh.codons.index('___')\n",
    "#\"Homo.Sapiens\"  \"Drosophila.Melanogaster\"  \"E.Coli\"\n",
    "min_length = None\n",
    "max_length = 500\n",
    "one_hot = True\n",
    "cut_data = False\n",
    "\n",
    "SPEEDS_ADDED = False\n",
    "BATCH_SIZE = 32"
   ]
  },
  {
   "cell_type": "code",
   "execution_count": 54,
   "id": "dbadd66f",
   "metadata": {},
   "outputs": [
    {
     "name": "stdout",
     "output_type": "stream",
     "text": [
      "Länge train_dataset: 33040\n",
      "Länge test_dataset: 4023\n",
      "Länge valid_dataset: 4073\n"
     ]
    }
   ],
   "source": [
    "train_dataset = mlh.CodonDataset(organism, \"train\", min_length, max_length, cut_data=True, one_hot_aa=one_hot, data_path=data_path, device=device)\n",
    "print(f\"Länge train_dataset: {len(train_dataset)}\")\n",
    "test_dataset = mlh.CodonDataset(organism, \"test\", min_length, max_length, cut_data=True, one_hot_aa=one_hot, data_path=data_path, device=device)\n",
    "print(f\"Länge test_dataset: {len(test_dataset)}\")\n",
    "valid_dataset = mlh.CodonDataset(organism, \"valid\", min_length, max_length, cut_data=True, one_hot_aa=one_hot, data_path=data_path, device=device)\n",
    "print(f\"Länge valid_dataset: {len(valid_dataset)}\")"
   ]
  },
  {
   "cell_type": "code",
   "execution_count": 55,
   "id": "3aff26dd",
   "metadata": {},
   "outputs": [],
   "source": [
    "# train_dataset = mlh.CodonDataset(organism, \"train\", add_speeds=SPEEDS_ADDED, cut_data=cut_data, one_hot_aa=one_hot, data_path=data_path, device=device)\n",
    "# print(f\"Länge train_dataset: {len(train_dataset)}\")\n",
    "# test_dataset = mlh.CodonDataset(organism, \"test\", add_speeds=SPEEDS_ADDED, cut_data=cut_data, one_hot_aa=one_hot, data_path=data_path, device=device)\n",
    "# print(f\"Länge test_dataset: {len(test_dataset)}\")\n",
    "# valid_dataset = mlh.CodonDataset(organism, \"valid\", add_speeds=SPEEDS_ADDED, cut_data=cut_data, one_hot_aa=one_hot, data_path=data_path, device=device)\n",
    "# print(f\"Länge valid_dataset: {len(valid_dataset)}\")"
   ]
  },
  {
   "cell_type": "code",
   "execution_count": 56,
   "id": "2d3be45b",
   "metadata": {},
   "outputs": [],
   "source": [
    "BATCH_SIZE = 32\n",
    "train_loader = DataLoader(train_dataset, batch_size=BATCH_SIZE, shuffle=True)\n",
    "test_loader = DataLoader(test_dataset, batch_size=len(test_dataset), shuffle=False)\n",
    "valid_loader = DataLoader(valid_dataset, batch_size=BATCH_SIZE, shuffle=False)"
   ]
  },
  {
   "cell_type": "markdown",
   "id": "0c095c8d",
   "metadata": {},
   "source": [
    "### Hyperparameters and Model Initialization"
   ]
  },
  {
   "cell_type": "code",
   "execution_count": 57,
   "id": "643cc9cd",
   "metadata": {},
   "outputs": [
    {
     "name": "stdout",
     "output_type": "stream",
     "text": [
      "Best parameters: num_filters: 256, filter_size: 3, dropout_factor: 0.08, num_blocks: 3, parallel_layer: False, learing_rate: 0.001\n"
     ]
    }
   ],
   "source": [
    "best_params = Tcnn.load_best_params('E.Coli')\n",
    "if best_params is not None:\n",
    "    print(f\"Best parameters: num_filters: {best_params[0]}, filter_size: {best_params[1]}, dropout_factor: {best_params[2]}, num_blocks: {best_params[3]}, parallel_layer: {best_params[4]}, learing_rate: {best_params[5]}\")"
   ]
  },
  {
   "cell_type": "code",
   "execution_count": 58,
   "id": "a7b24cfa4796351c",
   "metadata": {
    "ExecuteTime": {
     "end_time": "2024-05-08T16:50:44.882494Z",
     "start_time": "2024-05-08T16:50:44.461359Z"
    }
   },
   "outputs": [
    {
     "name": "stdout",
     "output_type": "stream",
     "text": [
      "TemporalConvNet(\n",
      "  (layers): ModuleList(\n",
      "    (0): Conv1d(22, 256, kernel_size=(1,), stride=(1,))\n",
      "    (1): BatchNorm1d(256, eps=1e-05, momentum=0.1, affine=True, track_running_stats=True)\n",
      "    (2): Conv1d(256, 256, kernel_size=(3,), stride=(1,), padding=(1,))\n",
      "    (3): BatchNorm1d(256, eps=1e-05, momentum=0.1, affine=True, track_running_stats=True)\n",
      "    (4): Dropout(p=0.08, inplace=False)\n",
      "    (5): Conv1d(256, 256, kernel_size=(3,), stride=(1,), padding=(2,), dilation=(2,))\n",
      "    (6): BatchNorm1d(256, eps=1e-05, momentum=0.1, affine=True, track_running_stats=True)\n",
      "    (7): Dropout(p=0.08, inplace=False)\n",
      "    (8): Conv1d(256, 256, kernel_size=(3,), stride=(1,), padding=(4,), dilation=(4,))\n",
      "    (9): BatchNorm1d(256, eps=1e-05, momentum=0.1, affine=True, track_running_stats=True)\n",
      "    (10): ReLU()\n",
      "    (11): Dropout(p=0.08, inplace=False)\n",
      "    (12): Softmax(dim=1)\n",
      "  )\n",
      ")\n"
     ]
    }
   ],
   "source": [
    "# Hyperparameters\n",
    "num_features = len(mlh.amino_acids)\n",
    "num_classes = len(mlh.codons)  # number of codons (output classes)\n",
    "NUM_EPOCHS = None\n",
    "\n",
    "num_filters = 128 #64\n",
    "filter_size = 5#3  # NOTE: filter size must be unequal like: 3,5,9,...\n",
    "dropout_factor = 0.08 #0.08 #0.005\n",
    "num_blocks = 5#2\n",
    "parallel_layer = True\n",
    "learing_rate = 0.001 # 0.001\n",
    "\n",
    "if best_params is not None:\n",
    "    num_filters = best_params[0]\n",
    "    filter_size = best_params[1]\n",
    "    dropout_factor = best_params[2]\n",
    "    num_blocks = best_params[3]\n",
    "    parallel_layer = best_params[4]\n",
    "    learing_rate = best_params[5]\n",
    "\n",
    "\n",
    "# Model\n",
    "tcnModel = Tcnn.TemporalConvNet(num_features, num_classes, num_filters, filter_size, \n",
    "                        dropout_factor, num_blocks, parallel_layer)\n",
    "print(tcnModel)\n",
    "\n",
    "#criterion = nn.CrossEntropyLoss(ignore_index=64)\n",
    "criterion = nn.CrossEntropyLoss(ignore_index=pad_int)\n",
    "optimizer = optim.Adam(tcnModel.parameters(), lr=learing_rate)"
   ]
  },
  {
   "cell_type": "markdown",
   "id": "d1cc8b93",
   "metadata": {},
   "source": [
    "### Start Training"
   ]
  },
  {
   "cell_type": "code",
   "execution_count": 59,
   "id": "b4146a47e4f268e6",
   "metadata": {
    "ExecuteTime": {
     "end_time": "2024-05-08T17:07:44.476803Z",
     "start_time": "2024-05-08T16:50:44.883185Z"
    }
   },
   "outputs": [
    {
     "name": "stdout",
     "output_type": "stream",
     "text": [
      "Epoch [1], Loss: 5.139, accuracy: 0.495, valid acc: 0.525\n",
      "Epoch [2], Loss: 5.068, accuracy: 0.504, valid acc: 0.527\n",
      "Epoch [3], Loss: 5.058, accuracy: 0.506, valid acc: 0.53\n",
      "Epoch [4], Loss: 5.053, accuracy: 0.508, valid acc: 0.53\n",
      "Epoch [5], Loss: 5.05, accuracy: 0.509, valid acc: 0.531\n",
      "Epoch [6], Loss: 5.048, accuracy: 0.509, valid acc: 0.531\n",
      "Epoch [7], Loss: 5.047, accuracy: 0.51, valid acc: 0.532\n",
      "Epoch [8], Loss: 5.046, accuracy: 0.51, valid acc: 0.532\n",
      "Epoch [9], Loss: 5.045, accuracy: 0.511, valid acc: 0.532\n",
      "Epoch [10], Loss: 5.045, accuracy: 0.511, valid acc: 0.533\n",
      "Epoch [11], Loss: 5.044, accuracy: 0.511, valid acc: 0.532\n",
      "Epoch [12], Loss: 5.044, accuracy: 0.512, valid acc: 0.533\n",
      "Epoch [13], Loss: 5.044, accuracy: 0.512, valid acc: 0.533\n",
      "Epoch [14], Loss: 5.043, accuracy: 0.512, valid acc: 0.533\n",
      "Epoch [15], Loss: 5.043, accuracy: 0.512, valid acc: 0.533\n",
      "Epoch [16], Loss: 5.043, accuracy: 0.512, valid acc: 0.534\n",
      "Epoch [17], Loss: 5.042, accuracy: 0.513, valid acc: 0.533\n",
      "Epoch [18], Loss: 5.042, accuracy: 0.513, valid acc: 0.534\n",
      "Epoch [19], Loss: 5.042, accuracy: 0.513, valid acc: 0.534\n",
      "Epoch [20], Loss: 5.042, accuracy: 0.513, valid acc: 0.534\n",
      "Epoch [21], Loss: 5.042, accuracy: 0.513, valid acc: 0.534\n",
      "Epoch [22], Loss: 5.041, accuracy: 0.513, valid acc: 0.534\n",
      "Epoch [23], Loss: 5.041, accuracy: 0.513, valid acc: 0.534\n",
      "Epoch [24], Loss: 5.041, accuracy: 0.513, valid acc: 0.534\n",
      "Epoch [25], Loss: 5.041, accuracy: 0.513, valid acc: 0.534\n",
      "Epoch [26], Loss: 5.041, accuracy: 0.514, valid acc: 0.534\n",
      "Epoch [27], Loss: 5.041, accuracy: 0.514, valid acc: 0.534\n",
      "Epoch [28], Loss: 5.041, accuracy: 0.514, valid acc: 0.534\n",
      "Epoch [29], Loss: 5.04, accuracy: 0.514, valid acc: 0.534\n",
      "Epoch [30], Loss: 5.04, accuracy: 0.514, valid acc: 0.535\n",
      "Epoch [31], Loss: 5.04, accuracy: 0.514, valid acc: 0.535\n",
      "Epoch [32], Loss: 5.04, accuracy: 0.514, valid acc: 0.535\n",
      "Epoch [33], Loss: 5.04, accuracy: 0.514, valid acc: 0.535\n",
      "Epoch [34], Loss: 5.04, accuracy: 0.514, valid acc: 0.535\n",
      "Epoch [35], Loss: 5.04, accuracy: 0.514, valid acc: 0.535\n",
      "Epoch [36], Loss: 5.04, accuracy: 0.515, valid acc: 0.535\n",
      "Epoch [37], Loss: 5.04, accuracy: 0.515, valid acc: 0.535\n",
      "Epoch [38], Loss: 5.04, accuracy: 0.515, valid acc: 0.535\n",
      "Epoch [39], Loss: 5.039, accuracy: 0.515, valid acc: 0.535\n",
      "Epoch [40], Loss: 5.039, accuracy: 0.515, valid acc: 0.535\n",
      "Epoch [41], Loss: 5.039, accuracy: 0.515, valid acc: 0.535\n",
      "Epoch [42], Loss: 5.039, accuracy: 0.515, valid acc: 0.535\n",
      "Epoch [43], Loss: 5.039, accuracy: 0.515, valid acc: 0.535\n",
      "Epoch [44], Loss: 5.039, accuracy: 0.515, valid acc: 0.535\n",
      "Epoch [45], Loss: 5.039, accuracy: 0.515, valid acc: 0.535\n",
      "Epoch [46], Loss: 5.039, accuracy: 0.515, valid acc: 0.535\n",
      "Epoch [47], Loss: 5.039, accuracy: 0.515, valid acc: 0.535\n",
      "Epoch [48], Loss: 5.039, accuracy: 0.515, valid acc: 0.535\n",
      "Epoch [49], Loss: 5.039, accuracy: 0.515, valid acc: 0.535\n",
      "Early stopping due to no progress in last 3 epochs compared to last 7 epochs. Last 3: 0.5351554459509542, Last 7: 0.5351846718995643\n"
     ]
    }
   ],
   "source": [
    "trainings_losses, trainings_accuracies, valid_accs = Tcnn.train(tcnModel, train_loader, valid_loader, NUM_EPOCHS, optimizer, criterion, device=device)"
   ]
  },
  {
   "cell_type": "markdown",
   "id": "6630aa16",
   "metadata": {},
   "source": [
    "### Save the model"
   ]
  },
  {
   "cell_type": "code",
   "execution_count": 60,
   "id": "ef86ffc0",
   "metadata": {},
   "outputs": [
    {
     "name": "stdout",
     "output_type": "stream",
     "text": [
      "Model saved as 20240623161608_tcn_valid_acc_54.pt\n"
     ]
    }
   ],
   "source": [
    "mlh.save_model(tcnModel, f'tcn_valid_acc_{round(round(valid_accs[-1],2) * 100)}', organism)"
   ]
  },
  {
   "cell_type": "markdown",
   "id": "d7822149",
   "metadata": {},
   "source": [
    "### Load the model"
   ]
  },
  {
   "cell_type": "code",
   "execution_count": 66,
   "id": "46855e22",
   "metadata": {},
   "outputs": [
    {
     "name": "stdout",
     "output_type": "stream",
     "text": [
      "Model loaded: tcn_Drosophila.Melanogaster_model_20240512183059.pt\n"
     ]
    }
   ],
   "source": [
    "tcnModel = mlh.load_model(f'tcn', organism, device=device)"
   ]
  },
  {
   "cell_type": "markdown",
   "id": "ec18d20a",
   "metadata": {},
   "source": [
    "### Evaluation of the model"
   ]
  },
  {
   "cell_type": "code",
   "execution_count": 67,
   "id": "8ddfa5af35a9bc1",
   "metadata": {
    "ExecuteTime": {
     "end_time": "2024-05-08T17:07:44.478810Z",
     "start_time": "2024-05-08T17:07:44.477358Z"
    }
   },
   "outputs": [],
   "source": [
    "predicted, labels, accuracies = Tcnn.evaluate_model(tcnModel, device, test_loader, codon_names=False)"
   ]
  },
  {
   "cell_type": "markdown",
   "id": "d5578a9e",
   "metadata": {},
   "source": [
    "#### Get codon names and associated amino acids"
   ]
  },
  {
   "cell_type": "code",
   "execution_count": 68,
   "id": "a932b7ca",
   "metadata": {},
   "outputs": [
    {
     "name": "stdout",
     "output_type": "stream",
     "text": [
      "predicted different classes:  54 out of: 61\n",
      "predicted following classes:  {'GAT', 'GAA', 'AGC', 'AAT', 'ACG', 'GGA', 'ATT', 'GTC', 'AAG', 'TAT', 'CGT', 'TCA', 'GTT', 'ATG', 'CGG', 'ACT', 'GCG', 'CCA', 'GCA', 'GGT', 'GAG', 'TGT', 'TTC', 'GGC', 'CAT', 'CTC', 'GAC', 'GTG', 'TAC', 'CTG', 'CAG', 'GCT', 'AGT', 'CGA', 'TTT', 'ACA', 'CGC', 'AAC', 'TCC', 'ATC', 'TTG', 'ACC', 'GCC', 'CAC', 'CCT', 'TGC', 'CCC', 'AAA', 'ATA', 'AGG', 'TGG', 'CCG', 'CAA', 'TCG'}\n",
      "predicted different amino acids:  20 out of: 20\n"
     ]
    }
   ],
   "source": [
    "predicted = predicted.cpu().numpy()\n",
    "labels = labels.cpu().numpy()\n",
    "\n",
    "predicted, labels = mle.filter_padding(predicted, labels, filter_value=pad_int)\n",
    "\n",
    "predicted_codon_names =  mle.codon_to_name(predicted)\n",
    "labels_codon_names =  mle.codon_to_name(labels)\n",
    "\n",
    "predicted_aa =  mle.translate_codons(predicted_codon_names)\n",
    "labels_aa =  mle.translate_codons(labels_codon_names)\n",
    "\n",
    "mle.get_unique_pred_classes(predicted_codon_names, labels_codon_names)\n",
    "mle.print_unique_elements(predicted_aa, labels_aa)"
   ]
  },
  {
   "cell_type": "markdown",
   "id": "74114592",
   "metadata": {},
   "source": [
    "#### Accuracies"
   ]
  },
  {
   "cell_type": "code",
   "execution_count": null,
   "id": "38aa8092",
   "metadata": {},
   "outputs": [
    {
     "name": "stdout",
     "output_type": "stream",
     "text": [
      "Datensatz geladen für E.Coli\n",
      "E.Coli 0.555230227907487\n"
     ]
    }
   ],
   "source": [
    "test_dataset = mlh.CodonDataset(organism=organism, split=\"test\", padding_pos=None, one_hot_aa=False)\n",
    "test_loader = DataLoader(test_dataset, batch_size=1)\n",
    "print(f\"Datensatz geladen für {organism}\")\n",
    "\n",
    "classifier = Tcnn.Tcn_Classifier(tcnModel)\n",
    "predictions = classifier.predict_codons(test_loader, codon_names=False)\n",
    "\n",
    "labels = []\n",
    "for seq, lab in test_dataset:\n",
    "    lab = [int(c.item()) for c in lab]\n",
    "    labels.append(lab)\n",
    "\n",
    "acc = classifier.calc_accuracy(labels, predictions, pad='')\n",
    "print(organism, acc)"
   ]
  },
  {
   "cell_type": "markdown",
   "id": "e809a726",
   "metadata": {},
   "source": [
    "## Plots"
   ]
  },
  {
   "cell_type": "code",
   "execution_count": null,
   "id": "97ceebea",
   "metadata": {},
   "outputs": [
    {
     "data": {
      "image/png": "[encoded data removed]",
      "text/plain": [
       "<Figure size 1500x500 with 2 Axes>"
      ]
     },
     "metadata": {},
     "output_type": "display_data"
    }
   ],
   "source": [
    "# check if training losses and accuracies is defined\n",
    "if 'trainings_losses' in locals() and 'trainings_accuracies' in locals():\n",
    "    # plot of training loss and accuracy\n",
    "    plt = mle.plot_training(trainings_losses, trainings_accuracies, valid_accs)\n",
    "    plt.show()\n",
    "else:\n",
    "    print(\"No training losses and accuracies available\")"
   ]
  },
  {
   "cell_type": "markdown",
   "id": "5e80ba43",
   "metadata": {},
   "source": [
    "## Hyperparamter Grid Search"
   ]
  },
  {
   "cell_type": "code",
   "execution_count": null,
   "id": "3800c4cf",
   "metadata": {},
   "outputs": [
    {
     "name": "stdout",
     "output_type": "stream",
     "text": [
      "CPU times: total: 0 ns\n",
      "Wall time: 0 ns\n"
     ]
    }
   ],
   "source": [
    "%%time\n",
    "\n",
    "# Hyperparameters\n",
    "params = {\n",
    "    \"num_filters\": [64, 128, 256],\n",
    "    \"filter_size\": [3, 5, 9],\n",
    "    \"dropout_factor\": [0.08],\n",
    "    \"num_blocks\": [3, 5, 7],\n",
    "    \"parallel_layer\": [True, False],\n",
    "    \"learing_rate\": [0.001]\n",
    "}\n",
    "\n",
    "# Hyperparameter search\n",
    "#results, best_model = Tcnn.hyperparam_search(organism, train_loader, valid_loader, params, num_features, num_classes, device, criterion)"
   ]
  },
  {
   "cell_type": "code",
   "execution_count": null,
   "id": "5b129e8f",
   "metadata": {},
   "outputs": [],
   "source": [
    "if 'results' in locals():\n",
    "    for r in results[:10]:\n",
    "        print(r)\n",
    "\n",
    "    # print best parameters\n",
    "    best_params = results[np.argmax([r[-1] for r in results])]\n",
    "    print(f\"Best parameters: num_filters: {best_params[0]}, filter_size: {best_params[1]}, dropout_factor: {best_params[2]}, num_blocks: {best_params[3]}, parallel_layer: {best_params[4]}, learing_rate: {best_params[5]}, acc: {round(best_params[6], 3)}\")\n",
    "    # save results as json\n",
    "    path = f'../ml_models/{organism}/tcnn_grid_search_results.json'\n",
    "    with open(path, 'w') as f:\n",
    "        json.dump(results, f)\n",
    "\n",
    "\n",
    "    # save best model\n",
    "    mlh.save_model(best_model, f'tcnn_best_model_acc_{round(max([r[-1] for r in results]),3)}', organism)"
   ]
  }
 ],
 "metadata": {
  "kernelspec": {
   "display_name": "Python 3",
   "language": "python",
   "name": "python3"
  },
  "language_info": {
   "codemirror_mode": {
    "name": "ipython",
    "version": 3
   },
   "file_extension": ".py",
   "mimetype": "text/x-python",
   "name": "python",
   "nbconvert_exporter": "python",
   "pygments_lexer": "ipython3",
   "version": "3.10.4"
  }
 },
 "nbformat": 4,
 "nbformat_minor": 5
}
