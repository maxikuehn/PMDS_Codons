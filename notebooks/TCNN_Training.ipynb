{
 "cells": [
  {
   "cell_type": "markdown",
   "id": "c769c947119d606e",
   "metadata": {},
   "source": [
    "# TCNN Classifier"
   ]
  },
  {
   "cell_type": "code",
   "execution_count": 3,
   "id": "initial_id",
   "metadata": {
    "ExecuteTime": {
     "end_time": "2024-05-08T16:50:42.776277Z",
     "start_time": "2024-05-08T16:50:41.789193Z"
    },
    "collapsed": true
   },
   "outputs": [],
   "source": [
    "import torch\n",
    "import torch.nn as nn\n",
    "from torch import optim\n",
    "from torch.utils.data import DataLoader\n",
    "import sys\n",
    "import numpy as np\n",
    "import random\n",
    "from sklearn.metrics import accuracy_score\n",
    "\n",
    "sys.path.append('../scripts')\n",
    "import ml_helper\n",
    "import ml_evaluation"
   ]
  },
  {
   "cell_type": "code",
   "execution_count": 128,
   "id": "5e5cc601",
   "metadata": {},
   "outputs": [],
   "source": [
    "data_path = '../data'"
   ]
  },
  {
   "cell_type": "markdown",
   "id": "4d9d9b37",
   "metadata": {},
   "source": [
    "Code inspiered:\n",
    "\n",
    "https://de.mathworks.com/help/deeplearning/ug/sequence-to-sequence-classification-using-1-d-convolutions.html\n",
    "\n",
    "References:\n",
    "\n",
    "- [1] Bai, Shaojie, J. Zico Kolter, and Vladlen Koltun. “An Empirical Evaluation of Generic Convolutional and Recurrent Networks for Sequence Modeling.” Preprint, submitted April 19, 2018. https://arxiv.org/abs/1803.01271.\n",
    "\n",
    "- [2] Oord, Aaron van den, Sander Dieleman, Heiga Zen, Karen Simonyan, Oriol Vinyals, Alex Graves, Nal Kalchbrenner, Andrew Senior, and Koray Kavukcuoglu. “WaveNet: A Generative Model for Raw Audio.” Preprint, submitted September 12, 2016. https://arxiv.org/abs/1609.03499.\n",
    "\n",
    "- [3] Tompson, Jonathan, Ross Goroshin, Arjun Jain, Yann LeCun, and Christoph Bregler. “Efficient Object Localization Using Convolutional Networks.” 2015 IEEE Conference on Computer Vision and Pattern Recognition (CVPR), 648–56. https://doi.org/10.1109/CVPR.2015.7298664.\n"
   ]
  },
  {
   "cell_type": "code",
   "execution_count": 129,
   "id": "3c7187a43dc55642",
   "metadata": {
    "ExecuteTime": {
     "end_time": "2024-05-08T16:50:42.830944Z",
     "start_time": "2024-05-08T16:50:42.776965Z"
    }
   },
   "outputs": [
    {
     "data": {
      "text/plain": [
       "device(type='cuda')"
      ]
     },
     "execution_count": 129,
     "metadata": {},
     "output_type": "execute_result"
    }
   ],
   "source": [
    "device = torch.device('cuda' if torch.cuda.is_available() else 'cpu')\n",
    "device"
   ]
  },
  {
   "cell_type": "code",
   "execution_count": 130,
   "id": "c91b666e",
   "metadata": {},
   "outputs": [],
   "source": [
    "SEED = 42\n",
    "def set_seed(SEED=SEED):\n",
    "    random.seed(SEED)\n",
    "    np.random.seed(SEED)\n",
    "    torch.manual_seed(SEED)\n",
    "    torch.cuda.manual_seed(SEED)\n",
    "set_seed()"
   ]
  },
  {
   "cell_type": "markdown",
   "id": "ff0b66bcd08d7662",
   "metadata": {},
   "source": [
    "### Creating the Network"
   ]
  },
  {
   "cell_type": "code",
   "execution_count": 5,
   "id": "f1f9cc14",
   "metadata": {},
   "outputs": [],
   "source": [
    "class TemporalConvNet(nn.Module):\n",
    "    def __init__(self, num_features: int, num_classes: int, num_filters: int, filter_size: int, \n",
    "                 dropout_factor: float, num_blocks: int, parallel_layer: bool) -> None:\n",
    "        \"\"\"\n",
    "        This function initializes the TemporalConvNet model\n",
    "        ------\n",
    "        num_features: number of features in the input\n",
    "        num_classes: number of classes to predict\n",
    "        num_filters: number of filters in each convolutional layer\n",
    "        filter_size: size of the convolutional filter\n",
    "        dropout_factor: dropout factor\n",
    "        num_blocks: number of blocks of dilated convolutions\n",
    "        parallel_layer: whether to add the parallel layer\n",
    "        \"\"\"\n",
    "        super(TemporalConvNet, self).__init__()\n",
    "        self.num_blocks = num_blocks\n",
    "        self.num_filters = num_filters\n",
    "        self.filter_size = filter_size\n",
    "        self.dropout_factor = dropout_factor\n",
    "        self.parallel_layer = parallel_layer\n",
    "        if self.parallel_layer:\n",
    "            self.optional_layer = nn.Conv1d(num_features, num_filters, kernel_size=1)\n",
    "\n",
    "        self.layers = nn.ModuleList()\n",
    "        # Input layer\n",
    "        self.layers.append(nn.Conv1d(num_features, num_filters, kernel_size=1))\n",
    "        self.layers.append(nn.BatchNorm1d(num_filters))\n",
    "        \n",
    "        # Dilated convolutional blocks\n",
    "        for i in range(num_blocks):\n",
    "            dilation = 2 ** i\n",
    "            # this function defines the padding and therefore teh sequence length\n",
    "            pad = (filter_size - 1) * dilation // 2 \n",
    "            # TODO: fix for even filter size\n",
    "            self.layers.append(nn.Conv1d(num_filters, num_filters, kernel_size=filter_size, dilation=dilation, padding=pad))\n",
    "            self.layers.append(nn.BatchNorm1d(num_filters))\n",
    "            # if last than not dropout\n",
    "            if i != num_blocks - 1:\n",
    "                self.layers.append(nn.Dropout(dropout_factor))\n",
    "\n",
    "        self.layers.append(nn.ReLU())\n",
    "        self.layers.append(nn.Dropout(dropout_factor))\n",
    "\n",
    "        self.layers.append(nn.Softmax(dim=1))\n",
    "\n",
    "    \n",
    "    def forward(self, x: torch.Tensor) -> torch.Tensor:\n",
    "        \"\"\"\n",
    "        This function defines the forward pass of the model\n",
    "        ------\n",
    "        x: input tensor of shape (batch_size, num_features, sequence_length)\n",
    "        ------\n",
    "        returns: output tensor of shape (batch_size, num_classes, sequence_length)\n",
    "        \"\"\"\n",
    "        x_init = x.permute(0, 2, 1)\n",
    "        x = x_init.clone()\n",
    "        for layer in self.layers:\n",
    "            x = layer(x)\n",
    "        # skipped all other connections and add it at the end\n",
    "        if self.parallel_layer:\n",
    "            x_optional = self.optional_layer(x_init)\n",
    "            x = x + x_optional\n",
    "\n",
    "        return x"
   ]
  },
  {
   "cell_type": "code",
   "execution_count": 132,
   "id": "738b9a90",
   "metadata": {},
   "outputs": [],
   "source": [
    "def train(model, training_data: DataLoader, valid_data: DataLoader, epochs: int, optimizer: optim.Optimizer, loss_fn: nn.Module) -> None:\n",
    "    \"\"\"\n",
    "    Trains the model for the specified number of epochs\n",
    "    ------\n",
    "    model: TCN model\n",
    "    training_data: DataLoader with the training data\n",
    "    valid_data: DataLoader with the valid data\n",
    "    epochs: number of epochs to train the model\n",
    "    optimizer: optimizer to use\n",
    "    loss_fn: loss function to use\n",
    "    ------\n",
    "    Returns the training losses and accuracies\n",
    "    \"\"\"\n",
    "    trainings_losses = []\n",
    "    trainings_accuracies = []\n",
    "    valid_avg_accs = []\n",
    "\n",
    "    model.to(device)\n",
    "    model.train()\n",
    "\n",
    "    for epoch in range(epochs):\n",
    "        accuracies = []\n",
    "        losses = []\n",
    "\n",
    "        # Training loop\n",
    "        for inputs, labels in training_data:\n",
    "            inputs = inputs.to(device)\n",
    "            labels = labels.to(device)\n",
    "\n",
    "            optimizer.zero_grad()\n",
    "            outputs = model(inputs)\n",
    "\n",
    "            loss = loss_fn(outputs.squeeze(), labels.squeeze().long())\n",
    "            loss.backward()\n",
    "            optimizer.step()\n",
    "\n",
    "            # get accuracy\n",
    "            _, predicted = torch.max(outputs, 1)\n",
    "            predicted = predicted.view(-1)\n",
    "            labels = labels.view(-1)\n",
    "            acc = accuracy_score(labels.cpu(), predicted.cpu())\n",
    "            accuracies.append(acc)\n",
    "\n",
    "            losses.append(loss.item())\n",
    "        \n",
    "        # Validation loop\n",
    "        model.eval()  # Set the model to evaluation mode\n",
    "        with torch.no_grad():  # Disable gradient computation\n",
    "            valid_accs = []\n",
    "            for valid_in, valid_labels in valid_data:\n",
    "                valid_in = valid_in.to(device)\n",
    "                valid_labels = valid_labels.to(device)\n",
    "\n",
    "                valid_out = model(valid_in)\n",
    "\n",
    "                # get accuracy\n",
    "                _, valid_pred = torch.max(valid_out, 1)\n",
    "                valid_pred = valid_pred.view(-1)\n",
    "                valid_labels = valid_labels.view(-1)\n",
    "                valid_acc = accuracy_score(valid_labels.cpu(), valid_pred.cpu())\n",
    "                valid_accs.append(valid_acc)\n",
    "        \n",
    "        model.train()  # Set the model back to training mode\n",
    "\n",
    "        epoch_loss = np.mean(losses)\n",
    "        epoch_acc = np.mean(accuracies)\n",
    "        epoch_valid_acc = np.mean(valid_accs)\n",
    "\n",
    "        print(f'Epoch [{epoch+1}/{epochs}], Loss: {round(epoch_loss, 3)}, accuracy: {round(epoch_acc, 3)}, valid acc: {round(epoch_valid_acc, 3)}')\n",
    "\n",
    "        trainings_losses.append(epoch_loss)\n",
    "        trainings_accuracies.append(epoch_acc)\n",
    "        valid_avg_accs.append(epoch_valid_acc)\n",
    "\n",
    "\n",
    "    return trainings_losses, trainings_accuracies, valid_avg_accs"
   ]
  },
  {
   "cell_type": "code",
   "execution_count": 133,
   "id": "2c34ee73",
   "metadata": {},
   "outputs": [],
   "source": [
    "def evaluate_model(model, device, test_loader: DataLoader) -> list:\n",
    "    \"\"\"\n",
    "    This function evaluates the model on the test data\n",
    "    ------\n",
    "    model: model to evaluate\n",
    "    test_loader: DataLoader with the test data\n",
    "    ------\n",
    "    returns: list with the predictions and labels\n",
    "    \"\"\"\n",
    "    model.eval()  # Set the model to evaluation mode\n",
    "    accuracies = []\n",
    "\n",
    "    with torch.no_grad():\n",
    "        for input_data, labels in test_loader:\n",
    "\n",
    "            input_data = input_data.to(device)\n",
    "            labels = labels.to(device)\n",
    "\n",
    "            labels = labels.view(-1)\n",
    "\n",
    "            # Forward pass\n",
    "            outputs = model(input_data)\n",
    "            \n",
    "            _, predicted = torch.max(outputs, 1)\n",
    "            predicted = predicted.view(-1)\n",
    "\n",
    "            # Compute custom metrics\n",
    "            accuracy = accuracy_score(predicted.cpu(), labels.cpu())\n",
    "            accuracies.append(accuracy)\n",
    "\n",
    "    # Compute average accuracy\n",
    "    \n",
    "    return predicted, labels, accuracies"
   ]
  },
  {
   "cell_type": "markdown",
   "id": "7ff5d1f444f3ad99",
   "metadata": {},
   "source": [
    "### Data Preparation"
   ]
  },
  {
   "cell_type": "code",
   "execution_count": 1,
   "id": "c4a940351fe6b0a7",
   "metadata": {
    "ExecuteTime": {
     "end_time": "2024-05-08T16:50:44.460665Z",
     "start_time": "2024-05-08T16:50:42.860971Z"
    }
   },
   "outputs": [],
   "source": [
    "# Data preparation\n",
    "organisms = [\"E.Coli\", \"Drosophila.Melanogaster\", \"Homo.Sapiens\"]\n",
    "organism = organisms[2]\n",
    "#\"Homo.Sapiens\"  \"Drosophila.Melanogaster\"  \"E.Coli\"\n",
    "min_length = None\n",
    "max_length = 500\n",
    "one_hot = True\n",
    "\n",
    "SPEEDS_ADDED = False\n",
    "BATCH_SIZE = 32"
   ]
  },
  {
   "cell_type": "code",
   "execution_count": 135,
   "id": "dbadd66f",
   "metadata": {},
   "outputs": [
    {
     "name": "stdout",
     "output_type": "stream",
     "text": [
      "Länge train_dataset: 140711\n",
      "Länge test_dataset: 17489\n",
      "Länge valid_dataset: 17784\n"
     ]
    }
   ],
   "source": [
    "train_dataset = ml_helper.CodonDataset(organism, \"train\", min_length, max_length, add_speeds=SPEEDS_ADDED, cut_data=True, one_hot_aa=one_hot, data_path=data_path, device=device)\n",
    "print(f\"Länge train_dataset: {len(train_dataset)}\")\n",
    "test_dataset = ml_helper.CodonDataset(organism, \"test\", min_length, max_length, add_speeds=SPEEDS_ADDED, cut_data=True, one_hot_aa=one_hot, data_path=data_path, device=device)\n",
    "print(f\"Länge test_dataset: {len(test_dataset)}\")\n",
    "valid_dataset = ml_helper.CodonDataset(organism, \"valid\", min_length, max_length, add_speeds=SPEEDS_ADDED, cut_data=True, one_hot_aa=one_hot, data_path=data_path, device=device)\n",
    "print(f\"Länge valid_dataset: {len(valid_dataset)}\")"
   ]
  },
  {
   "cell_type": "code",
   "execution_count": 136,
   "id": "2d3be45b",
   "metadata": {},
   "outputs": [],
   "source": [
    "BATCH_SIZE = 32\n",
    "train_loader = DataLoader(train_dataset, batch_size=BATCH_SIZE, shuffle=True)\n",
    "test_loader = DataLoader(test_dataset, batch_size=len(test_dataset), shuffle=False)\n",
    "valid_loader = DataLoader(valid_dataset, batch_size=BATCH_SIZE, shuffle=False)"
   ]
  },
  {
   "cell_type": "markdown",
   "id": "0c095c8d",
   "metadata": {},
   "source": [
    "### Hyperparameters and Model Initialization"
   ]
  },
  {
   "cell_type": "code",
   "execution_count": 137,
   "id": "a7b24cfa4796351c",
   "metadata": {
    "ExecuteTime": {
     "end_time": "2024-05-08T16:50:44.882494Z",
     "start_time": "2024-05-08T16:50:44.461359Z"
    }
   },
   "outputs": [
    {
     "name": "stdout",
     "output_type": "stream",
     "text": [
      "TemporalConvNet(\n",
      "  (optional_layer): Conv1d(22, 128, kernel_size=(1,), stride=(1,))\n",
      "  (layers): ModuleList(\n",
      "    (0): Conv1d(22, 128, kernel_size=(1,), stride=(1,))\n",
      "    (1): BatchNorm1d(128, eps=1e-05, momentum=0.1, affine=True, track_running_stats=True)\n",
      "    (2): Conv1d(128, 128, kernel_size=(5,), stride=(1,), padding=(2,))\n",
      "    (3): BatchNorm1d(128, eps=1e-05, momentum=0.1, affine=True, track_running_stats=True)\n",
      "    (4): Dropout(p=0.008, inplace=False)\n",
      "    (5): Conv1d(128, 128, kernel_size=(5,), stride=(1,), padding=(4,), dilation=(2,))\n",
      "    (6): BatchNorm1d(128, eps=1e-05, momentum=0.1, affine=True, track_running_stats=True)\n",
      "    (7): Dropout(p=0.008, inplace=False)\n",
      "    (8): Conv1d(128, 128, kernel_size=(5,), stride=(1,), padding=(8,), dilation=(4,))\n",
      "    (9): BatchNorm1d(128, eps=1e-05, momentum=0.1, affine=True, track_running_stats=True)\n",
      "    (10): Dropout(p=0.008, inplace=False)\n",
      "    (11): Conv1d(128, 128, kernel_size=(5,), stride=(1,), padding=(16,), dilation=(8,))\n",
      "    (12): BatchNorm1d(128, eps=1e-05, momentum=0.1, affine=True, track_running_stats=True)\n",
      "    (13): Dropout(p=0.008, inplace=False)\n",
      "    (14): Conv1d(128, 128, kernel_size=(5,), stride=(1,), padding=(32,), dilation=(16,))\n",
      "    (15): BatchNorm1d(128, eps=1e-05, momentum=0.1, affine=True, track_running_stats=True)\n",
      "    (16): ReLU()\n",
      "    (17): Dropout(p=0.008, inplace=False)\n",
      "    (18): Softmax(dim=1)\n",
      "  )\n",
      ")\n"
     ]
    }
   ],
   "source": [
    "# Hyperparameters\n",
    "num_features = len(ml_helper.amino_acids)\n",
    "num_classes = len(ml_helper.codons)  # number of codons (output classes)\n",
    "\n",
    "num_filters = 128 #64\n",
    "filter_size = 5#3  # NOTE: filter size must be unequal like: 3,5,9,...\n",
    "dropout_factor = 0.008 #0.005\n",
    "num_blocks = 5#2\n",
    "parallel_layer = True\n",
    "\n",
    "# Model\n",
    "tcnModel = TemporalConvNet(num_features, num_classes, num_filters, filter_size, \n",
    "                        dropout_factor, num_blocks, parallel_layer)\n",
    "print(tcnModel)\n",
    "\n",
    "# Train variables\n",
    "NUM_EPOCHS = 100\n",
    "learing_rate = 0.001 # 0.001\n",
    "\n",
    "#criterion = nn.CrossEntropyLoss(ignore_index=64)\n",
    "criterion = nn.CrossEntropyLoss(ignore_index=ml_helper.codons_to_integer['___'])\n",
    "optimizer = optim.Adam(tcnModel.parameters(), lr=learing_rate)"
   ]
  },
  {
   "cell_type": "markdown",
   "id": "d1cc8b93",
   "metadata": {},
   "source": [
    "### Start Training"
   ]
  },
  {
   "cell_type": "code",
   "execution_count": 138,
   "id": "b4146a47e4f268e6",
   "metadata": {
    "ExecuteTime": {
     "end_time": "2024-05-08T17:07:44.476803Z",
     "start_time": "2024-05-08T16:50:44.883185Z"
    }
   },
   "outputs": [
    {
     "name": "stderr",
     "output_type": "stream",
     "text": [
      "/home/mkuehn/.local/lib/python3.10/site-packages/torch/nn/modules/conv.py:306: UserWarning: Plan failed with a cudnnException: CUDNN_BACKEND_EXECUTION_PLAN_DESCRIPTOR: cudnnFinalize Descriptor Failed cudnn_status: CUDNN_STATUS_NOT_SUPPORTED (Triggered internally at ../aten/src/ATen/native/cudnn/Conv_v8.cpp:919.)\n",
      "  return F.conv1d(input, weight, bias, self.stride,\n"
     ]
    },
    {
     "name": "stdout",
     "output_type": "stream",
     "text": [
      "Epoch [1/100], Loss: 1.811, accuracy: 0.376, valid acc: 0.389\n",
      "Epoch [2/100], Loss: 1.075, accuracy: 0.387, valid acc: 0.391\n",
      "Epoch [3/100], Loss: 1.05, accuracy: 0.39, valid acc: 0.394\n",
      "Epoch [4/100], Loss: 1.043, accuracy: 0.393, valid acc: 0.397\n",
      "Epoch [5/100], Loss: 1.04, accuracy: 0.396, valid acc: 0.398\n",
      "Epoch [6/100], Loss: 1.038, accuracy: 0.398, valid acc: 0.4\n",
      "Epoch [7/100], Loss: 1.036, accuracy: 0.399, valid acc: 0.402\n",
      "Epoch [8/100], Loss: 1.034, accuracy: 0.401, valid acc: 0.403\n",
      "Epoch [9/100], Loss: 1.033, accuracy: 0.402, valid acc: 0.404\n",
      "Epoch [10/100], Loss: 1.031, accuracy: 0.403, valid acc: 0.405\n",
      "Epoch [11/100], Loss: 1.03, accuracy: 0.404, valid acc: 0.405\n",
      "Epoch [12/100], Loss: 1.03, accuracy: 0.405, valid acc: 0.407\n",
      "Epoch [13/100], Loss: 1.029, accuracy: 0.406, valid acc: 0.407\n",
      "Epoch [14/100], Loss: 1.028, accuracy: 0.406, valid acc: 0.408\n",
      "Epoch [15/100], Loss: 1.027, accuracy: 0.407, valid acc: 0.409\n",
      "Epoch [16/100], Loss: 1.027, accuracy: 0.407, valid acc: 0.409\n",
      "Epoch [17/100], Loss: 1.026, accuracy: 0.408, valid acc: 0.41\n",
      "Epoch [18/100], Loss: 1.026, accuracy: 0.408, valid acc: 0.41\n",
      "Epoch [19/100], Loss: 1.025, accuracy: 0.409, valid acc: 0.41\n",
      "Epoch [20/100], Loss: 1.025, accuracy: 0.409, valid acc: 0.411\n",
      "Epoch [21/100], Loss: 1.024, accuracy: 0.409, valid acc: 0.411\n",
      "Epoch [22/100], Loss: 1.024, accuracy: 0.41, valid acc: 0.412\n",
      "Epoch [23/100], Loss: 1.024, accuracy: 0.41, valid acc: 0.412\n",
      "Epoch [24/100], Loss: 1.023, accuracy: 0.41, valid acc: 0.412\n",
      "Epoch [25/100], Loss: 1.023, accuracy: 0.41, valid acc: 0.412\n",
      "Epoch [26/100], Loss: 1.023, accuracy: 0.411, valid acc: 0.413\n",
      "Epoch [27/100], Loss: 1.023, accuracy: 0.411, valid acc: 0.413\n",
      "Epoch [28/100], Loss: 1.022, accuracy: 0.411, valid acc: 0.413\n",
      "Epoch [29/100], Loss: 1.022, accuracy: 0.411, valid acc: 0.413\n",
      "Epoch [30/100], Loss: 1.022, accuracy: 0.412, valid acc: 0.413\n",
      "Epoch [31/100], Loss: 1.022, accuracy: 0.412, valid acc: 0.414\n",
      "Epoch [32/100], Loss: 1.022, accuracy: 0.412, valid acc: 0.413\n",
      "Epoch [33/100], Loss: 1.021, accuracy: 0.412, valid acc: 0.413\n",
      "Epoch [34/100], Loss: 1.021, accuracy: 0.412, valid acc: 0.414\n",
      "Epoch [35/100], Loss: 1.021, accuracy: 0.412, valid acc: 0.414\n",
      "Epoch [36/100], Loss: 1.021, accuracy: 0.413, valid acc: 0.413\n",
      "Epoch [37/100], Loss: 1.021, accuracy: 0.413, valid acc: 0.414\n",
      "Epoch [38/100], Loss: 1.021, accuracy: 0.413, valid acc: 0.415\n",
      "Epoch [39/100], Loss: 1.02, accuracy: 0.413, valid acc: 0.415\n",
      "Epoch [40/100], Loss: 1.02, accuracy: 0.413, valid acc: 0.415\n",
      "Epoch [41/100], Loss: 1.02, accuracy: 0.413, valid acc: 0.415\n",
      "Epoch [42/100], Loss: 1.02, accuracy: 0.413, valid acc: 0.414\n",
      "Epoch [43/100], Loss: 1.02, accuracy: 0.413, valid acc: 0.415\n",
      "Epoch [44/100], Loss: 1.02, accuracy: 0.413, valid acc: 0.415\n",
      "Epoch [45/100], Loss: 1.02, accuracy: 0.413, valid acc: 0.415\n",
      "Epoch [46/100], Loss: 1.019, accuracy: 0.414, valid acc: 0.416\n",
      "Epoch [47/100], Loss: 1.019, accuracy: 0.414, valid acc: 0.415\n",
      "Epoch [48/100], Loss: 1.019, accuracy: 0.414, valid acc: 0.415\n",
      "Epoch [49/100], Loss: 1.019, accuracy: 0.414, valid acc: 0.416\n",
      "Epoch [50/100], Loss: 1.019, accuracy: 0.414, valid acc: 0.416\n",
      "Epoch [51/100], Loss: 1.019, accuracy: 0.414, valid acc: 0.415\n",
      "Epoch [52/100], Loss: 1.019, accuracy: 0.414, valid acc: 0.416\n",
      "Epoch [53/100], Loss: 1.019, accuracy: 0.414, valid acc: 0.416\n",
      "Epoch [54/100], Loss: 1.019, accuracy: 0.414, valid acc: 0.416\n",
      "Epoch [55/100], Loss: 1.019, accuracy: 0.414, valid acc: 0.416\n",
      "Epoch [56/100], Loss: 1.019, accuracy: 0.414, valid acc: 0.416\n",
      "Epoch [57/100], Loss: 1.018, accuracy: 0.414, valid acc: 0.416\n",
      "Epoch [58/100], Loss: 1.018, accuracy: 0.415, valid acc: 0.416\n",
      "Epoch [59/100], Loss: 1.018, accuracy: 0.415, valid acc: 0.417\n",
      "Epoch [60/100], Loss: 1.018, accuracy: 0.415, valid acc: 0.416\n",
      "Epoch [61/100], Loss: 1.018, accuracy: 0.415, valid acc: 0.416\n",
      "Epoch [62/100], Loss: 1.018, accuracy: 0.415, valid acc: 0.417\n",
      "Epoch [63/100], Loss: 1.018, accuracy: 0.415, valid acc: 0.417\n",
      "Epoch [64/100], Loss: 1.018, accuracy: 0.415, valid acc: 0.417\n",
      "Epoch [65/100], Loss: 1.018, accuracy: 0.415, valid acc: 0.417\n",
      "Epoch [66/100], Loss: 1.018, accuracy: 0.415, valid acc: 0.417\n",
      "Epoch [67/100], Loss: 1.018, accuracy: 0.415, valid acc: 0.417\n",
      "Epoch [68/100], Loss: 1.018, accuracy: 0.415, valid acc: 0.417\n",
      "Epoch [69/100], Loss: 1.018, accuracy: 0.415, valid acc: 0.417\n",
      "Epoch [70/100], Loss: 1.018, accuracy: 0.415, valid acc: 0.417\n",
      "Epoch [71/100], Loss: 1.018, accuracy: 0.415, valid acc: 0.417\n",
      "Epoch [72/100], Loss: 1.018, accuracy: 0.415, valid acc: 0.417\n",
      "Epoch [73/100], Loss: 1.017, accuracy: 0.415, valid acc: 0.417\n",
      "Epoch [74/100], Loss: 1.017, accuracy: 0.415, valid acc: 0.417\n",
      "Epoch [75/100], Loss: 1.017, accuracy: 0.415, valid acc: 0.417\n",
      "Epoch [76/100], Loss: 1.017, accuracy: 0.415, valid acc: 0.417\n",
      "Epoch [77/100], Loss: 1.017, accuracy: 0.416, valid acc: 0.417\n",
      "Epoch [78/100], Loss: 1.017, accuracy: 0.416, valid acc: 0.417\n",
      "Epoch [79/100], Loss: 1.017, accuracy: 0.416, valid acc: 0.417\n",
      "Epoch [80/100], Loss: 1.017, accuracy: 0.416, valid acc: 0.417\n",
      "Epoch [81/100], Loss: 1.017, accuracy: 0.416, valid acc: 0.418\n",
      "Epoch [82/100], Loss: 1.017, accuracy: 0.416, valid acc: 0.418\n",
      "Epoch [83/100], Loss: 1.017, accuracy: 0.416, valid acc: 0.417\n",
      "Epoch [84/100], Loss: 1.017, accuracy: 0.416, valid acc: 0.418\n",
      "Epoch [85/100], Loss: 1.017, accuracy: 0.416, valid acc: 0.418\n",
      "Epoch [86/100], Loss: 1.017, accuracy: 0.416, valid acc: 0.418\n",
      "Epoch [87/100], Loss: 1.017, accuracy: 0.416, valid acc: 0.418\n",
      "Epoch [88/100], Loss: 1.017, accuracy: 0.416, valid acc: 0.418\n",
      "Epoch [89/100], Loss: 1.017, accuracy: 0.416, valid acc: 0.418\n",
      "Epoch [90/100], Loss: 1.017, accuracy: 0.416, valid acc: 0.418\n",
      "Epoch [91/100], Loss: 1.017, accuracy: 0.416, valid acc: 0.418\n",
      "Epoch [92/100], Loss: 1.017, accuracy: 0.416, valid acc: 0.418\n",
      "Epoch [93/100], Loss: 1.017, accuracy: 0.416, valid acc: 0.418\n",
      "Epoch [94/100], Loss: 1.017, accuracy: 0.416, valid acc: 0.418\n",
      "Epoch [95/100], Loss: 1.016, accuracy: 0.416, valid acc: 0.418\n",
      "Epoch [96/100], Loss: 1.016, accuracy: 0.416, valid acc: 0.418\n",
      "Epoch [97/100], Loss: 1.016, accuracy: 0.416, valid acc: 0.419\n",
      "Epoch [98/100], Loss: 1.016, accuracy: 0.416, valid acc: 0.419\n",
      "Epoch [99/100], Loss: 1.016, accuracy: 0.416, valid acc: 0.419\n",
      "Epoch [100/100], Loss: 1.016, accuracy: 0.416, valid acc: 0.419\n"
     ]
    }
   ],
   "source": [
    "#trainings_losses, trainings_accuracies, valid_accs = train(tcnModel, train_loader, valid_loader, NUM_EPOCHS, optimizer, criterion)"
   ]
  },
  {
   "cell_type": "markdown",
   "id": "6630aa16",
   "metadata": {},
   "source": [
    "### Save the model"
   ]
  },
  {
   "cell_type": "code",
   "execution_count": 139,
   "id": "ef86ffc0",
   "metadata": {},
   "outputs": [
    {
     "name": "stdout",
     "output_type": "stream",
     "text": [
      "Model saved as 20240609020834_tcn_valid_acc_42.pt\n"
     ]
    }
   ],
   "source": [
    "#ml_helper.save_model(tcnModel, f'tcn_valid_acc_{round(round(valid_accs[-1],2) * 100)}', organism)"
   ]
  },
  {
   "cell_type": "markdown",
   "id": "d7822149",
   "metadata": {},
   "source": [
    "### Load the model"
   ]
  },
  {
   "cell_type": "code",
   "execution_count": 7,
   "id": "46855e22",
   "metadata": {},
   "outputs": [],
   "source": [
    "#ml_helper.load_model(f'tcn', organism)"
   ]
  },
  {
   "cell_type": "markdown",
   "id": "ec18d20a",
   "metadata": {},
   "source": [
    "### Evaluation of the model"
   ]
  },
  {
   "cell_type": "code",
   "execution_count": 141,
   "id": "8ddfa5af35a9bc1",
   "metadata": {
    "ExecuteTime": {
     "end_time": "2024-05-08T17:07:44.478810Z",
     "start_time": "2024-05-08T17:07:44.477358Z"
    }
   },
   "outputs": [],
   "source": [
    "predicted, labels, accuracies = evaluate_model(tcnModel, device, test_loader)"
   ]
  },
  {
   "cell_type": "markdown",
   "id": "d5578a9e",
   "metadata": {},
   "source": [
    "#### Get codon names and associated amino acids"
   ]
  },
  {
   "cell_type": "code",
   "execution_count": 142,
   "id": "a932b7ca",
   "metadata": {},
   "outputs": [
    {
     "name": "stdout",
     "output_type": "stream",
     "text": [
      "predicted different classes:  54 out of: 61\n",
      "predicted following classes:  {'AAC', 'TGG', 'GAT', 'GAG', 'TGC', 'AAA', 'AAG', 'ACA', 'GAA', 'TGT', 'AGT', 'GGG', 'TAC', 'CCC', 'TTG', 'ATG', 'CAC', 'AGC', 'GCA', 'GCT', 'CAA', 'CGT', 'CCA', 'CGA', 'CTC', 'GTT', 'GTC', 'TTC', 'ATA', 'AGG', 'GTG', 'GGA', 'TCT', 'CTT', 'ATT', 'TCA', 'ATC', 'ACT', 'AGA', 'AAT', 'CCT', 'CGG', 'GGT', 'CTG', 'CAG', 'TAT', 'CAT', 'CGC', 'TTT', 'TCC', 'GGC', 'GAC', 'GCC', 'ACC'}\n",
      "predicted different amino acids:  20 out of: 20\n"
     ]
    }
   ],
   "source": [
    "predicted = predicted.cpu().numpy()\n",
    "labels = labels.cpu().numpy()\n",
    "\n",
    "predicted, labels = ml_evaluation.filter_padding(predicted, labels, filter_value=64)\n",
    "\n",
    "predicted_codon_names =  ml_evaluation.codon_to_name(predicted)\n",
    "labels_codon_names =  ml_evaluation.codon_to_name(labels)\n",
    "\n",
    "predicted_aa =  ml_evaluation.translate_codons(predicted_codon_names)\n",
    "labels_aa =  ml_evaluation.translate_codons(labels_codon_names)\n",
    "\n",
    "ml_evaluation.get_unique_pred_classes(predicted_codon_names, labels_codon_names)\n",
    "ml_evaluation.print_unique_elements(predicted_aa, labels_aa)"
   ]
  },
  {
   "cell_type": "markdown",
   "id": "74114592",
   "metadata": {},
   "source": [
    "#### Accuracies"
   ]
  },
  {
   "cell_type": "code",
   "execution_count": 143,
   "id": "1e4feaf3",
   "metadata": {},
   "outputs": [
    {
     "name": "stdout",
     "output_type": "stream",
     "text": [
      "----------------------------------------------------------------------------------------------------\n",
      "Average accuracy: 0.4171435759620333\n",
      "Accuracy of amino acids: 1.0\n",
      "----------------------------------------------------------------------------------------------------\n"
     ]
    }
   ],
   "source": [
    "# Calculate Accuracy of amino \n",
    "avg_accuracy = np.mean(accuracies)\n",
    "accuracy_aa = accuracy_score(labels_aa, predicted_aa)\n",
    "\n",
    "print('-' * 100)\n",
    "print(f'Average accuracy: {avg_accuracy}')\n",
    "print(f'Accuracy of amino acids: {accuracy_aa}')\n",
    "print('-' * 100)"
   ]
  },
  {
   "cell_type": "markdown",
   "id": "e809a726",
   "metadata": {},
   "source": [
    "## Plots"
   ]
  },
  {
   "cell_type": "code",
   "execution_count": 144,
   "id": "97ceebea",
   "metadata": {},
   "outputs": [
    {
     "data": {
      "image/png": "[encoded data removed]",
      "text/plain": [
       "<Figure size 1500x500 with 2 Axes>"
      ]
     },
     "metadata": {},
     "output_type": "display_data"
    }
   ],
   "source": [
    "# check if training losses and accuracies is defined\n",
    "if 'trainings_losses' in locals() and 'trainings_accuracies' in locals():\n",
    "    # plot of training loss and accuracy\n",
    "    plt = ml_evaluation.plot_training(trainings_losses, trainings_accuracies, valid_accs)\n",
    "    plt.show()\n",
    "else:\n",
    "    print(\"No training losses and accuracies available\")"
   ]
  }
 ],
 "metadata": {
  "kernelspec": {
   "display_name": "Python 3",
   "language": "python",
   "name": "python3"
  },
  "language_info": {
   "codemirror_mode": {
    "name": "ipython",
    "version": 3
   },
   "file_extension": ".py",
   "mimetype": "text/x-python",
   "name": "python",
   "nbconvert_exporter": "python",
   "pygments_lexer": "ipython3",
   "version": "3.10.4"
  }
 },
 "nbformat": 4,
 "nbformat_minor": 5
}
