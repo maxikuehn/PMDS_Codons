{
 "cells": [
  {
   "cell_type": "markdown",
   "metadata": {},
   "source": [
    "# Using the best classifiers of each ML model"
   ]
  },
  {
   "cell_type": "code",
   "execution_count": 1,
   "metadata": {},
   "outputs": [],
   "source": [
    "%load_ext autoreload\n",
    "%autoreload 2\n",
    "\n",
    "import pandas as pd\n",
    "import sys\n",
    "import torch\n",
    "\n",
    "sys.path.append('../scripts')\n",
    "import ml_helper as mlh\n",
    "import ml_evaluation as mle\n",
    "import Baseline_classifiers as bc\n",
    "import encoder as e\n",
    "import Tcn as tcn\n",
    "from Tcn import TemporalConvNet\n",
    "import rnn"
   ]
  },
  {
   "cell_type": "code",
   "execution_count": 2,
   "metadata": {},
   "outputs": [],
   "source": [
    "device = torch.device(\"cuda:1\" if torch.cuda.is_available() else \"cpu\")"
   ]
  },
  {
   "cell_type": "code",
   "execution_count": 3,
   "metadata": {},
   "outputs": [],
   "source": [
    "organisms = [\"E.Coli\", \"Drosophila.Melanogaster\", \"Homo.Sapiens\"]\n",
    "models = [\"Max CUB\", \"RNN\", \"Encoder\", \"TCN\"]"
   ]
  },
  {
   "cell_type": "code",
   "execution_count": 4,
   "metadata": {},
   "outputs": [],
   "source": [
    "dfs = {}\n",
    "usage_biases = {}\n",
    "\n",
    "def group_codons(sequence):\n",
    "    return [''.join(sequence[i:i+3]) for i in range(0, len(sequence), 3)]\n",
    "\n",
    "for organism in organisms:\n",
    "    dfs[organism] = pd.read_pickle(f\"../data/{organism}/cleanedData_test.pkl\")\n",
    "    dfs[organism]['codons'] = dfs[organism]['sequence'].apply(group_codons)\n",
    "    usage_biases[organism] = pd.read_pickle(f\"../data/{organism}/usageBias.pkl\")"
   ]
  },
  {
   "cell_type": "code",
   "execution_count": 5,
   "metadata": {},
   "outputs": [],
   "source": [
    "# amino_sequences as list of lists\n",
    "def predict_codons(amino_sequences, organism, model):\n",
    "    codon_preds = None\n",
    "\n",
    "    if model == \"Max CUB\":\n",
    "        max_weighted_bc = bc.Max_Bias_Baseline_Classifier(usage_biases[organism])\n",
    "        codon_preds = max_weighted_bc.predict_codons(amino_sequences)\n",
    "        codon_preds = codon_preds.tolist()\n",
    "        codon_preds = [[item for item in sublist if item != ''] for sublist in codon_preds]\n",
    "    elif model == \"RNN\":\n",
    "        e.organism = organism\n",
    "        model = mlh.load_model('rnn', organism, device=device)\n",
    "        rnn_classifier = rnn.RNN_Classifier(model)\n",
    "        codon_preds = rnn_classifier.predict_codons(amino_sequences)\n",
    "        new_codon_preds = []\n",
    "        for list in codon_preds:\n",
    "            new_codon_preds.append([mlh.integer_to_codons[pred] for pred in list])\n",
    "        codon_preds = new_codon_preds\n",
    "    elif model == \"Encoder\":\n",
    "        e.organism = organism\n",
    "        model = mlh.load_model('encoder', organism, device=device)\n",
    "        encoder_classifier = e.Encoder_Classifier(model)\n",
    "        codon_preds = encoder_classifier.predict_codons(amino_sequences)\n",
    "        codon_preds = codon_preds.tolist()\n",
    "        codon_preds = [[item for item in sublist if item != ''] for sublist in codon_preds]\n",
    "    elif model == \"TCN\":\n",
    "        e.organism = organism\n",
    "        model = mlh.load_model('tcn', organism, device=device)\n",
    "        tcn_classifier = tcn.Tcn_Classifier(model)\n",
    "        codon_preds = tcn_classifier.predict_codons(amino_sequences, device=device)\n",
    "    \n",
    "    return codon_preds"
   ]
  },
  {
   "cell_type": "markdown",
   "metadata": {},
   "source": [
    "## Testing on new data\n",
    "- Option 1:\n",
    "    - Run Notebook 01 with the new organism and the new fasta file to receive the needed cleanData file\n",
    "- Option 2:\n",
    "    - Enter the amino sequences manually in this script"
   ]
  },
  {
   "cell_type": "code",
   "execution_count": null,
   "metadata": {},
   "outputs": [],
   "source": [
    "# Option 1: Use new cleanedData.pkl file\n",
    "new_organism = \"new organism\" # Add name here\n",
    "try:\n",
    "    df_new = pd.read_pickle(f\"../data/{new_organism}/cleanedData.pkl\")\n",
    "    amino_sequences = list(df_new['translation'].apply(lambda seq: list(seq)))\n",
    "except:\n",
    "    print(f\"No data found for organism '{new_organism}'.\")\n"
   ]
  },
  {
   "cell_type": "code",
   "execution_count": 7,
   "metadata": {},
   "outputs": [],
   "source": [
    "# Option 2: Define amnio_sequences manually\n",
    "amino_sequences = [\n",
    "    ['M', 'A', 'L'],\n",
    "]"
   ]
  },
  {
   "cell_type": "code",
   "execution_count": 8,
   "metadata": {},
   "outputs": [],
   "source": [
    "trained_organism = \"E.Coli\""
   ]
  },
  {
   "cell_type": "code",
   "execution_count": 9,
   "metadata": {},
   "outputs": [
    {
     "name": "stdout",
     "output_type": "stream",
     "text": [
      "1\n",
      "['ATG', 'GCG', 'CTG']\n"
     ]
    }
   ],
   "source": [
    "max_cub_preds = predict_codons(amino_sequences, trained_organism, \"Max CUB\")\n",
    "print(len(max_cub_preds))\n",
    "print(max_cub_preds[0])"
   ]
  },
  {
   "cell_type": "code",
   "execution_count": 10,
   "metadata": {},
   "outputs": [
    {
     "name": "stdout",
     "output_type": "stream",
     "text": [
      "Model loaded: 20240627091800_encoder_64em_2l_4h_05dr_400ep.pt\n",
      "1\n",
      "['ATG', 'GCG', 'CTG']\n"
     ]
    }
   ],
   "source": [
    "enocder_preds = predict_codons(amino_sequences, trained_organism, \"Encoder\")\n",
    "print(len(enocder_preds))\n",
    "print(enocder_preds[0])"
   ]
  },
  {
   "cell_type": "code",
   "execution_count": 11,
   "metadata": {},
   "outputs": [
    {
     "name": "stdout",
     "output_type": "stream",
     "text": [
      "Model loaded: 20240609010637_tcn_valid_acc_29.pt\n",
      "1\n",
      "['ATG', 'GCG', 'CTG']\n"
     ]
    }
   ],
   "source": [
    "tcn_preds = predict_codons(amino_sequences, trained_organism, \"TCN\")\n",
    "print(len(tcn_preds))\n",
    "print(tcn_preds[0])"
   ]
  },
  {
   "cell_type": "code",
   "execution_count": 12,
   "metadata": {},
   "outputs": [
    {
     "name": "stdout",
     "output_type": "stream",
     "text": [
      "Model loaded: 20240625161053_rnn_hidden128_epochs15_lr0.001_optimSGD.pt\n",
      "1\n",
      "['ATG', 'GCG', 'CTG']\n"
     ]
    }
   ],
   "source": [
    "rnn_preds = predict_codons(amino_sequences, trained_organism, \"RNN\")\n",
    "print(len(rnn_preds))\n",
    "print(rnn_preds[0])"
   ]
  },
  {
   "cell_type": "code",
   "execution_count": null,
   "metadata": {},
   "outputs": [],
   "source": []
  }
 ],
 "metadata": {
  "kernelspec": {
   "display_name": "Python 3",
   "language": "python",
   "name": "python3"
  },
  "language_info": {
   "codemirror_mode": {
    "name": "ipython",
    "version": 3
   },
   "file_extension": ".py",
   "mimetype": "text/x-python",
   "name": "python",
   "nbconvert_exporter": "python",
   "pygments_lexer": "ipython3",
   "version": "3.11.5"
  }
 },
 "nbformat": 4,
 "nbformat_minor": 2
}
