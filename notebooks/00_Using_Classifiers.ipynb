{
 "cells": [
  {
   "cell_type": "markdown",
   "metadata": {},
   "source": [
    "# Using the best classifiers of each ML model"
   ]
  },
  {
   "cell_type": "code",
   "execution_count": 53,
   "metadata": {},
   "outputs": [
    {
     "name": "stdout",
     "output_type": "stream",
     "text": [
      "The autoreload extension is already loaded. To reload it, use:\n",
      "  %reload_ext autoreload\n"
     ]
    }
   ],
   "source": [
    "%load_ext autoreload\n",
    "%autoreload\n",
    "\n",
    "import pandas as pd\n",
    "import sys\n",
    "import torch\n",
    "\n",
    "sys.path.append('../scripts')\n",
    "import ml_helper as mlh\n",
    "import ml_evaluation as mle\n",
    "import Baseline_classifiers as bc\n",
    "import encoder as e\n",
    "import Tcnn as tcnn\n",
    "import rnn"
   ]
  },
  {
   "cell_type": "code",
   "execution_count": 33,
   "metadata": {},
   "outputs": [],
   "source": [
    "device = torch.device(\"cuda:1\" if torch.cuda.is_available() else \"cpu\")"
   ]
  },
  {
   "cell_type": "code",
   "execution_count": 11,
   "metadata": {},
   "outputs": [],
   "source": [
    "organisms = [\"E.Coli\", \"Drosophila.Melanogaster\", \"Homo.Sapiens\"]\n",
    "models = [\"Max CUB\", \"RNN\", \"Encoder\", \"TCNN\"]"
   ]
  },
  {
   "cell_type": "code",
   "execution_count": 12,
   "metadata": {},
   "outputs": [],
   "source": [
    "dfs = {}\n",
    "usage_biases = {}\n",
    "\n",
    "def group_codons(sequence):\n",
    "    return [''.join(sequence[i:i+3]) for i in range(0, len(sequence), 3)]\n",
    "\n",
    "for organism in organisms:\n",
    "    dfs[organism] = pd.read_pickle(f\"../data/{organism}/cleanedData_test.pkl\")\n",
    "    dfs[organism]['codons'] = dfs[organism]['sequence'].apply(group_codons)\n",
    "    usage_biases[organism] = pd.read_pickle(f\"../data/{organism}/usageBias.pkl\")"
   ]
  },
  {
   "cell_type": "code",
   "execution_count": 51,
   "metadata": {},
   "outputs": [],
   "source": [
    "# amino_sequences as list of lists\n",
    "def predict_codons(amino_sequences, organism, model):\n",
    "    codon_preds = None\n",
    "\n",
    "    if model == \"Max CUB\":\n",
    "        max_weighted_bc = bc.Max_Bias_Baseline_Classifier(usage_biases[organism])\n",
    "        codon_preds = max_weighted_bc.predict_codons(amino_sequences)\n",
    "        codon_preds = codon_preds.tolist()\n",
    "        codon_preds = [[item for item in sublist if item != ''] for sublist in codon_preds]\n",
    "    elif model == \"RNN\":\n",
    "        e.organism = organism\n",
    "        model = mlh.load_model('rnn', organism, device=device)\n",
    "        rnn_classifier = rnn.RNN_Classifier(model)\n",
    "        codon_preds = rnn_classifier.predict_codons(amino_sequences)\n",
    "    elif model == \"Encoder\":\n",
    "        e.organism = organism\n",
    "        model = mlh.load_model('encoder', organism, device=device)\n",
    "        encoder_classifier = e.Encoder_Classifier(model)\n",
    "        codon_preds = encoder_classifier.predict_codons(amino_sequences)\n",
    "        codon_preds = codon_preds.tolist()\n",
    "        codon_preds = [[item for item in sublist if item != ''] for sublist in codon_preds]\n",
    "    elif model == \"TCNN\":\n",
    "        e.organism = organism\n",
    "        model = mlh.load_model('tcn', organism, device=device)\n",
    "        tcnn_classifier = tcnn.Tcn_Classifier(model)\n",
    "        codon_preds = tcnn_classifier.predict_codons(amino_sequences)\n",
    "    \n",
    "    return codon_preds"
   ]
  },
  {
   "cell_type": "code",
   "execution_count": 37,
   "metadata": {},
   "outputs": [
    {
     "data": {
      "text/plain": [
       "386"
      ]
     },
     "execution_count": 37,
     "metadata": {},
     "output_type": "execute_result"
    }
   ],
   "source": [
    "organism = \"E.Coli\"\n",
    "amino_sequences = list(dfs[organism]['translation'].apply(lambda seq: list(seq)))\n",
    "len(amino_sequences)"
   ]
  },
  {
   "cell_type": "code",
   "execution_count": 26,
   "metadata": {},
   "outputs": [
    {
     "name": "stdout",
     "output_type": "stream",
     "text": [
      "386\n",
      "['ATG', 'CGC', 'CAT', 'CCG', 'CTG', 'GTG', 'ATG', 'GGC', 'AAC', 'TGG', 'AAA', 'CTG', 'AAC', 'GGC', 'AGC', 'CGC', 'CAT', 'ATG', 'GTG', 'CAT', 'GAA', 'CTG', 'GTG', 'AGC', 'AAC', 'CTG', 'CGC', 'AAA', 'GAA', 'CTG', 'GCG', 'GGC', 'GTG', 'GCG', 'GGC', 'TGC', 'GCG', 'GTG', 'GCG', 'ATT', 'GCG', 'CCG', 'CCG', 'GAA', 'ATG', 'TAT', 'ATT', 'GAT', 'ATG', 'GCG', 'AAA', 'CGC', 'GAA', 'GCG', 'GAA', 'GGC', 'AGC', 'CAT', 'ATT', 'ATG', 'CTG', 'GGC', 'GCG', 'CAG', 'AAC', 'GTG', 'GAT', 'CTG', 'AAC', 'CTG', 'AGC', 'GGC', 'GCG', 'TTT', 'ACC', 'GGC', 'GAA', 'ACC', 'AGC', 'GCG', 'GCG', 'ATG', 'CTG', 'AAA', 'GAT', 'ATT', 'GGC', 'GCG', 'CAG', 'TAT', 'ATT', 'ATT', 'ATT', 'GGC', 'CAT', 'AGC', 'GAA', 'CGC', 'CGC', 'ACC', 'TAT', 'CAT', 'AAA', 'GAA', 'AGC', 'GAT', 'GAA', 'CTG', 'ATT', 'GCG', 'AAA', 'AAA', 'TTT', 'GCG', 'GTG', 'CTG', 'AAA', 'GAA', 'CAG', 'GGC', 'CTG', 'ACC', 'CCG', 'GTG', 'CTG', 'TGC', 'ATT', 'GGC', 'GAA', 'ACC', 'GAA', 'GCG', 'GAA', 'AAC', 'GAA', 'GCG', 'GGC', 'AAA', 'ACC', 'GAA', 'GAA', 'GTG', 'TGC', 'GCG', 'CGC', 'CAG', 'ATT', 'GAT', 'GCG', 'GTG', 'CTG', 'AAA', 'ACC', 'CAG', 'GGC', 'GCG', 'GCG', 'GCG', 'TTT', 'GAA', 'GGC', 'GCG', 'GTG', 'ATT', 'GCG', 'TAT', 'GAA', 'CCG', 'GTG', 'TGG', 'GCG', 'ATT', 'GGC', 'ACC', 'GGC', 'AAA', 'AGC', 'GCG', 'ACC', 'CCG', 'GCG', 'CAG', 'GCG', 'CAG', 'GCG', 'GTG', 'CAT', 'AAA', 'TTT', 'ATT', 'CGC', 'GAT', 'CAT', 'ATT', 'GCG', 'AAA', 'GTG', 'GAT', 'GCG', 'AAC', 'ATT', 'GCG', 'GAA', 'CAG', 'GTG', 'ATT', 'ATT', 'CAG', 'TAT', 'GGC', 'GGC', 'AGC', 'GTG', 'AAC', 'GCG', 'AGC', 'AAC', 'GCG', 'GCG', 'GAA', 'CTG', 'TTT', 'GCG', 'CAG', 'CCG', 'GAT', 'ATT', 'GAT', 'GGC', 'GCG', 'CTG', 'GTG', 'GGC', 'GGC', 'GCG', 'AGC', 'CTG', 'AAA', 'GCG', 'GAT', 'GCG', 'TTT', 'GCG', 'GTG', 'ATT', 'GTG', 'AAA', 'GCG', 'GCG', 'GAA', 'GCG', 'GCG', 'AAA', 'CAG', 'GCG']\n"
     ]
    }
   ],
   "source": [
    "max_cub_preds = predict_codons(amino_sequences, organism, \"Max CUB\")\n",
    "print(len(max_cub_preds))\n",
    "print(max_cub_preds[0])"
   ]
  },
  {
   "cell_type": "code",
   "execution_count": 44,
   "metadata": {},
   "outputs": [
    {
     "name": "stdout",
     "output_type": "stream",
     "text": [
      "Model loaded: 20240627091800_encoder_64em_2l_4h_05dr_400ep.pt\n",
      "386\n",
      "['ATG', 'CGT', 'CAT', 'CCG', 'CTG', 'GTT', 'ATG', 'GGT', 'AAC', 'TGG', 'AAA', 'CTG', 'AAC', 'GGT', 'TCT', 'CGT', 'CAT', 'ATG', 'GTT', 'CAT', 'GAA', 'CTG', 'GTT', 'TCT', 'AAC', 'CTG', 'CGT', 'AAA', 'GAA', 'CTG', 'GCG', 'GGT', 'GTT', 'GCG', 'GGT', 'TGC', 'GCG', 'GTT', 'GCG', 'ATT', 'GCG', 'CCG', 'CCG', 'GAA', 'ATG', 'TAT', 'ATT', 'GAT', 'ATG', 'GCG', 'AAA', 'CGT', 'GAA', 'GCG', 'GAA', 'GGT', 'TCT', 'CAT', 'ATT', 'ATG', 'CTG', 'GGT', 'GCG', 'CAG', 'AAC', 'GTT', 'GAT', 'CTG', 'AAC', 'CTG', 'TCT', 'GGT', 'GCG', 'TTC', 'ACC', 'GGT', 'GAA', 'ACC', 'TCT', 'GCG', 'GCG', 'ATG', 'CTG', 'AAA', 'GAT', 'ATT', 'GGT', 'GCG', 'CAG', 'TAT', 'ATT', 'ATT', 'ATT', 'GGT', 'CAT', 'TCT', 'GAA', 'CGT', 'CGT', 'ACC', 'TAT', 'CAT', 'AAA', 'GAA', 'TCT', 'GAT', 'GAA', 'CTG', 'ATT', 'GCG', 'AAA', 'AAA', 'TTC', 'GCG', 'GTT', 'CTG', 'AAA', 'GAA', 'CAG', 'GGT', 'CTG', 'ACC', 'CCG', 'GTT', 'CTG', 'TGC', 'ATT', 'GGT', 'GAA', 'ACC', 'GAA', 'GCG', 'GAA', 'AAC', 'GAA', 'GCG', 'GGT', 'AAA', 'ACC', 'GAA', 'GAA', 'GTT', 'TGC', 'GCG', 'CGT', 'CAG', 'ATT', 'GAT', 'GCG', 'GTT', 'CTG', 'AAA', 'ACC', 'CAG', 'GGT', 'GCG', 'GCG', 'GCG', 'TTC', 'GAA', 'GGT', 'GCG', 'GTT', 'ATT', 'GCG', 'TAT', 'GAA', 'CCG', 'GTT', 'TGG', 'GCG', 'ATT', 'GGT', 'ACC', 'GGT', 'AAA', 'TCT', 'GCG', 'ACC', 'CCG', 'GCG', 'CAG', 'GCG', 'CAG', 'GCG', 'GTT', 'CAT', 'AAA', 'TTC', 'ATT', 'CGT', 'GAT', 'CAT', 'ATT', 'GCG', 'AAA', 'GTT', 'GAT', 'GCG', 'AAC', 'ATT', 'GCG', 'GAA', 'CAG', 'GTT', 'ATT', 'ATT', 'CAG', 'TAT', 'GGT', 'GGT', 'TCT', 'GTT', 'AAC', 'GCG', 'TCT', 'AAC', 'GCG', 'GCG', 'GAA', 'CTG', 'TTC', 'GCG', 'CAG', 'CCG', 'GAT', 'ATT', 'GAT', 'GGT', 'GCG', 'CTG', 'GTT', 'GGT', 'GGT', 'GCG', 'TCT', 'CTG', 'AAA', 'GCG', 'GAT', 'GCG', 'TTC', 'GCG', 'GTT', 'ATT', 'GTT', 'AAA', 'GCG', 'GCG', 'GAA', 'GCG', 'GCG', 'AAA', 'CAG', 'GCG']\n"
     ]
    }
   ],
   "source": [
    "enocder_preds = predict_codons(amino_sequences, organism, \"Encoder\")\n",
    "print(len(enocder_preds))\n",
    "print(enocder_preds[0])"
   ]
  },
  {
   "cell_type": "code",
   "execution_count": 50,
   "metadata": {},
   "outputs": [
    {
     "name": "stdout",
     "output_type": "stream",
     "text": [
      "Model loaded: 20240623012201_tcnn_best_model_acc_0.555.pt\n"
     ]
    },
    {
     "ename": "AttributeError",
     "evalue": "'str' object has no attribute 'long'",
     "output_type": "error",
     "traceback": [
      "\u001b[0;31m---------------------------------------------------------------------------\u001b[0m",
      "\u001b[0;31mAttributeError\u001b[0m                            Traceback (most recent call last)",
      "Cell \u001b[0;32mIn[50], line 1\u001b[0m\n\u001b[0;32m----> 1\u001b[0m tcnn_preds \u001b[38;5;241m=\u001b[39m \u001b[43mpredict_codons\u001b[49m\u001b[43m(\u001b[49m\u001b[43mamino_sequences\u001b[49m\u001b[43m,\u001b[49m\u001b[43m \u001b[49m\u001b[43morganism\u001b[49m\u001b[43m,\u001b[49m\u001b[43m \u001b[49m\u001b[38;5;124;43m\"\u001b[39;49m\u001b[38;5;124;43mTCNN\u001b[39;49m\u001b[38;5;124;43m\"\u001b[39;49m\u001b[43m)\u001b[49m\n\u001b[1;32m      2\u001b[0m \u001b[38;5;28mprint\u001b[39m(\u001b[38;5;28mlen\u001b[39m(tcnn_preds))\n\u001b[1;32m      3\u001b[0m \u001b[38;5;28mprint\u001b[39m(tcnn_preds[\u001b[38;5;241m0\u001b[39m])\n",
      "Cell \u001b[0;32mIn[49], line 23\u001b[0m, in \u001b[0;36mpredict_codons\u001b[0;34m(amino_sequences, organism, model)\u001b[0m\n\u001b[1;32m     21\u001b[0m     model \u001b[38;5;241m=\u001b[39m mlh\u001b[38;5;241m.\u001b[39mload_model(\u001b[38;5;124m'\u001b[39m\u001b[38;5;124mtcn\u001b[39m\u001b[38;5;124m'\u001b[39m, organism, device\u001b[38;5;241m=\u001b[39mdevice)\n\u001b[1;32m     22\u001b[0m     tcnn_classifier \u001b[38;5;241m=\u001b[39m tcnn\u001b[38;5;241m.\u001b[39mTcn_Classifier(model)\n\u001b[0;32m---> 23\u001b[0m     codon_preds \u001b[38;5;241m=\u001b[39m \u001b[43mtcnn_classifier\u001b[49m\u001b[38;5;241;43m.\u001b[39;49m\u001b[43mpredict_codons\u001b[49m\u001b[43m(\u001b[49m\u001b[43mamino_sequences\u001b[49m\u001b[43m)\u001b[49m\n\u001b[1;32m     25\u001b[0m \u001b[38;5;28;01mreturn\u001b[39;00m codon_preds\n",
      "File \u001b[0;32m~/insa/Codons/notebooks/../scripts/Tcnn.py:425\u001b[0m, in \u001b[0;36mTcn_Classifier.predict_codons\u001b[0;34m(self, aa_sequences, device, codon_names)\u001b[0m\n\u001b[1;32m    424\u001b[0m \u001b[38;5;28;01mdef\u001b[39;00m \u001b[38;5;21mpredict_codons\u001b[39m(\u001b[38;5;28mself\u001b[39m, aa_sequences: \u001b[38;5;28mlist\u001b[39m, device\u001b[38;5;241m=\u001b[39mtorch\u001b[38;5;241m.\u001b[39mdevice(\u001b[38;5;124m\"\u001b[39m\u001b[38;5;124mcuda\u001b[39m\u001b[38;5;124m\"\u001b[39m), codon_names\u001b[38;5;241m=\u001b[39m\u001b[38;5;28;01mTrue\u001b[39;00m):\n\u001b[0;32m--> 425\u001b[0m     predictions_list \u001b[38;5;241m=\u001b[39m \u001b[43mpredict_codons\u001b[49m\u001b[43m(\u001b[49m\u001b[38;5;28;43mself\u001b[39;49m\u001b[38;5;241;43m.\u001b[39;49m\u001b[43mmodel\u001b[49m\u001b[43m,\u001b[49m\u001b[43m \u001b[49m\u001b[43maa_sequences\u001b[49m\u001b[43m,\u001b[49m\u001b[43m \u001b[49m\u001b[43mdevice\u001b[49m\u001b[38;5;241;43m=\u001b[39;49m\u001b[43mdevice\u001b[49m\u001b[43m,\u001b[49m\u001b[43m \u001b[49m\u001b[43mas_codon_names\u001b[49m\u001b[38;5;241;43m=\u001b[39;49m\u001b[43mcodon_names\u001b[49m\u001b[43m)\u001b[49m\n\u001b[1;32m    426\u001b[0m     \u001b[38;5;66;03m#predictions_matrix = self.pad_and_convert_seq(predictions_list)\u001b[39;00m\n\u001b[1;32m    427\u001b[0m     \u001b[38;5;66;03m#return predictions_matrix\u001b[39;00m\n\u001b[1;32m    428\u001b[0m     \u001b[38;5;28;01mreturn\u001b[39;00m predictions_list\n",
      "File \u001b[0;32m~/insa/Codons/notebooks/../scripts/Tcnn.py:381\u001b[0m, in \u001b[0;36mpredict_codons\u001b[0;34m(model, aa_sequence_list, device, as_codon_names)\u001b[0m\n\u001b[1;32m    378\u001b[0m     prepared_amino_seq\u001b[38;5;241m.\u001b[39mappend(seq[\u001b[38;5;241m0\u001b[39m])\n\u001b[1;32m    380\u001b[0m \u001b[38;5;28;01mfor\u001b[39;00m idx, seq \u001b[38;5;129;01min\u001b[39;00m \u001b[38;5;28menumerate\u001b[39m(prepared_amino_seq):\n\u001b[0;32m--> 381\u001b[0m     prepared_amino_seq[idx] \u001b[38;5;241m=\u001b[39m \u001b[43mmlh\u001b[49m\u001b[38;5;241;43m.\u001b[39;49m\u001b[43maa_int_to_onehot_tensor\u001b[49m\u001b[43m(\u001b[49m\u001b[43mseq\u001b[49m\u001b[43m)\u001b[49m\n\u001b[1;32m    383\u001b[0m model\u001b[38;5;241m.\u001b[39meval()\n\u001b[1;32m    384\u001b[0m codon_predictions \u001b[38;5;241m=\u001b[39m []\n",
      "File \u001b[0;32m~/insa/Codons/notebooks/../scripts/ml_helper.py:101\u001b[0m, in \u001b[0;36maa_int_to_onehot_tensor\u001b[0;34m(tensor)\u001b[0m\n\u001b[1;32m    100\u001b[0m \u001b[38;5;28;01mdef\u001b[39;00m \u001b[38;5;21maa_int_to_onehot_tensor\u001b[39m(tensor: Tensor) \u001b[38;5;241m-\u001b[39m\u001b[38;5;241m>\u001b[39m Tensor:\n\u001b[0;32m--> 101\u001b[0m     tensor \u001b[38;5;241m=\u001b[39m \u001b[43mtensor\u001b[49m\u001b[38;5;241;43m.\u001b[39;49m\u001b[43mlong\u001b[49m()\n\u001b[1;32m    102\u001b[0m     one_hot_tensor \u001b[38;5;241m=\u001b[39m F\u001b[38;5;241m.\u001b[39mone_hot(tensor, num_classes\u001b[38;5;241m=\u001b[39m\u001b[38;5;28mlen\u001b[39m(amino_acids))\n\u001b[1;32m    103\u001b[0m     \u001b[38;5;28;01mreturn\u001b[39;00m one_hot_tensor\u001b[38;5;241m.\u001b[39mfloat()\n",
      "\u001b[0;31mAttributeError\u001b[0m: 'str' object has no attribute 'long'"
     ]
    }
   ],
   "source": [
    "tcnn_preds = predict_codons(amino_sequences, organism, \"TCNN\")\n",
    "print(len(tcnn_preds))\n",
    "print(tcnn_preds[0])"
   ]
  },
  {
   "cell_type": "code",
   "execution_count": 54,
   "metadata": {},
   "outputs": [
    {
     "name": "stdout",
     "output_type": "stream",
     "text": [
      "Model loaded: 20240521135840_rnn_hidden128_epochs10_lr0.001_optimSGD.pt\n"
     ]
    },
    {
     "ename": "ValueError",
     "evalue": "too many values to unpack (expected 2)",
     "output_type": "error",
     "traceback": [
      "\u001b[0;31m---------------------------------------------------------------------------\u001b[0m",
      "\u001b[0;31mValueError\u001b[0m                                Traceback (most recent call last)",
      "Cell \u001b[0;32mIn[54], line 1\u001b[0m\n\u001b[0;32m----> 1\u001b[0m rnn_preds \u001b[38;5;241m=\u001b[39m \u001b[43mpredict_codons\u001b[49m\u001b[43m(\u001b[49m\u001b[43mamino_sequences\u001b[49m\u001b[43m,\u001b[49m\u001b[43m \u001b[49m\u001b[43morganism\u001b[49m\u001b[43m,\u001b[49m\u001b[43m \u001b[49m\u001b[38;5;124;43m\"\u001b[39;49m\u001b[38;5;124;43mRNN\u001b[39;49m\u001b[38;5;124;43m\"\u001b[39;49m\u001b[43m)\u001b[49m\n\u001b[1;32m      2\u001b[0m \u001b[38;5;28mprint\u001b[39m(\u001b[38;5;28mlen\u001b[39m(rnn_preds))\n\u001b[1;32m      3\u001b[0m \u001b[38;5;28mprint\u001b[39m(rnn_preds[\u001b[38;5;241m0\u001b[39m])\n",
      "Cell \u001b[0;32mIn[51], line 14\u001b[0m, in \u001b[0;36mpredict_codons\u001b[0;34m(amino_sequences, organism, model)\u001b[0m\n\u001b[1;32m     12\u001b[0m     model \u001b[38;5;241m=\u001b[39m mlh\u001b[38;5;241m.\u001b[39mload_model(\u001b[38;5;124m'\u001b[39m\u001b[38;5;124mrnn\u001b[39m\u001b[38;5;124m'\u001b[39m, organism, device\u001b[38;5;241m=\u001b[39mdevice)\n\u001b[1;32m     13\u001b[0m     rnn_classifier \u001b[38;5;241m=\u001b[39m rnn\u001b[38;5;241m.\u001b[39mRNN_Classifier(model)\n\u001b[0;32m---> 14\u001b[0m     codon_preds \u001b[38;5;241m=\u001b[39m \u001b[43mrnn_classifier\u001b[49m\u001b[38;5;241;43m.\u001b[39;49m\u001b[43mpredict_codons\u001b[49m\u001b[43m(\u001b[49m\u001b[43mamino_sequences\u001b[49m\u001b[43m)\u001b[49m\n\u001b[1;32m     15\u001b[0m \u001b[38;5;28;01melif\u001b[39;00m model \u001b[38;5;241m==\u001b[39m \u001b[38;5;124m\"\u001b[39m\u001b[38;5;124mEncoder\u001b[39m\u001b[38;5;124m\"\u001b[39m:\n\u001b[1;32m     16\u001b[0m     e\u001b[38;5;241m.\u001b[39morganism \u001b[38;5;241m=\u001b[39m organism\n",
      "File \u001b[0;32m~/insa/Codons/notebooks/../scripts/rnn.py:170\u001b[0m, in \u001b[0;36mRNN_Classifier.predict_codons\u001b[0;34m(self, data, device, replace)\u001b[0m\n\u001b[1;32m    168\u001b[0m predictions \u001b[38;5;241m=\u001b[39m []\n\u001b[1;32m    169\u001b[0m labels \u001b[38;5;241m=\u001b[39m []\n\u001b[0;32m--> 170\u001b[0m \u001b[38;5;28;01mfor\u001b[39;00m \u001b[38;5;28minput\u001b[39m, label \u001b[38;5;129;01min\u001b[39;00m data:\n\u001b[1;32m    171\u001b[0m     l \u001b[38;5;241m=\u001b[39m label\u001b[38;5;241m.\u001b[39mview(\u001b[38;5;241m-\u001b[39m\u001b[38;5;241m1\u001b[39m)\u001b[38;5;241m.\u001b[39mint()\n\u001b[1;32m    172\u001b[0m     p \u001b[38;5;241m=\u001b[39m predict(\u001b[38;5;28mself\u001b[39m\u001b[38;5;241m.\u001b[39mmodel, \u001b[38;5;28minput\u001b[39m, device\u001b[38;5;241m=\u001b[39mdevice)\n",
      "\u001b[0;31mValueError\u001b[0m: too many values to unpack (expected 2)"
     ]
    }
   ],
   "source": [
    "rnn_preds = predict_codons(amino_sequences, organism, \"RNN\")\n",
    "print(len(rnn_preds))\n",
    "print(rnn_preds[0])"
   ]
  },
  {
   "cell_type": "code",
   "execution_count": null,
   "metadata": {},
   "outputs": [],
   "source": []
  }
 ],
 "metadata": {
  "kernelspec": {
   "display_name": "Python 3",
   "language": "python",
   "name": "python3"
  },
  "language_info": {
   "codemirror_mode": {
    "name": "ipython",
    "version": 3
   },
   "file_extension": ".py",
   "mimetype": "text/x-python",
   "name": "python",
   "nbconvert_exporter": "python",
   "pygments_lexer": "ipython3",
   "version": "3.10.12"
  }
 },
 "nbformat": 4,
 "nbformat_minor": 2
}
