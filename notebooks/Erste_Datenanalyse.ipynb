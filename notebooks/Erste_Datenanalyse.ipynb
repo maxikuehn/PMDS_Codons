{
 "cells": [
  {
   "cell_type": "markdown",
   "id": "a97d3961-20f8-4630-b95c-7768d4466873",
   "metadata": {},
   "source": [
    "# Erste Datenanalyse Codon-Daten"
   ]
  },
  {
   "cell_type": "code",
   "execution_count": 12,
   "id": "2ac7cc92",
   "metadata": {},
   "outputs": [],
   "source": [
    "from Bio import SeqIO\n",
    "from Bio.Seq import Seq\n",
    "import pandas as pd\n",
    "import matplotlib.pyplot as plt\n",
    "import pickle as pkl"
   ]
  },
  {
   "cell_type": "markdown",
   "id": "c82ba9f5",
   "metadata": {},
   "source": [
    "## Bereinigte Daten einlesen"
   ]
  },
  {
   "cell_type": "code",
   "execution_count": 3,
   "id": "cf165eac",
   "metadata": {},
   "outputs": [],
   "source": [
    "organisms = [\"E.Coli\", \"Drosophila.Melanogaster\", \"Homo.Sapiens\"]"
   ]
  },
  {
   "cell_type": "code",
   "execution_count": 4,
   "id": "896c9469",
   "metadata": {},
   "outputs": [],
   "source": [
    "dfs = {}\n",
    "for organism in organisms:\n",
    "    dfs[organism] = pd.read_pickle(f\"../data/{organism}/cleanedData.pkl\")"
   ]
  },
  {
   "cell_type": "code",
   "execution_count": 5,
   "id": "95509bd2",
   "metadata": {},
   "outputs": [
    {
     "data": {
      "text/html": [
       "<div>\n",
       "<style scoped>\n",
       "    .dataframe tbody tr th:only-of-type {\n",
       "        vertical-align: middle;\n",
       "    }\n",
       "\n",
       "    .dataframe tbody tr th {\n",
       "        vertical-align: top;\n",
       "    }\n",
       "\n",
       "    .dataframe thead th {\n",
       "        text-align: right;\n",
       "    }\n",
       "</style>\n",
       "<table border=\"1\" class=\"dataframe\">\n",
       "  <thead>\n",
       "    <tr style=\"text-align: right;\">\n",
       "      <th></th>\n",
       "      <th>id</th>\n",
       "      <th>description</th>\n",
       "      <th>sequence</th>\n",
       "      <th>translation</th>\n",
       "      <th>seguid</th>\n",
       "    </tr>\n",
       "  </thead>\n",
       "  <tbody>\n",
       "    <tr>\n",
       "      <th>0</th>\n",
       "      <td>lcl|U00096.3_cds_AAC73112.1_1</td>\n",
       "      <td>lcl|U00096.3_cds_AAC73112.1_1 [gene=thrL] [loc...</td>\n",
       "      <td>(A, T, G, A, A, A, C, G, C, A, T, T, A, G, C, ...</td>\n",
       "      <td>(M, K, R, I, S, T, T, I, T, T, T, I, T, I, T, ...</td>\n",
       "      <td>QuAqLUJXXhVXIJRPc+T7iMi0UqE</td>\n",
       "    </tr>\n",
       "    <tr>\n",
       "      <th>1</th>\n",
       "      <td>lcl|U00096.3_cds_AAC73113.1_2</td>\n",
       "      <td>lcl|U00096.3_cds_AAC73113.1_2 [gene=thrA] [loc...</td>\n",
       "      <td>(A, T, G, C, G, A, G, T, G, T, T, G, A, A, G, ...</td>\n",
       "      <td>(M, R, V, L, K, F, G, G, T, S, V, A, N, A, E, ...</td>\n",
       "      <td>/p+3Jdgat4Fq0w2rqqay4xg8Bs4</td>\n",
       "    </tr>\n",
       "    <tr>\n",
       "      <th>2</th>\n",
       "      <td>lcl|U00096.3_cds_AAC73114.1_3</td>\n",
       "      <td>lcl|U00096.3_cds_AAC73114.1_3 [gene=thrB] [loc...</td>\n",
       "      <td>(A, T, G, G, T, T, A, A, A, G, T, T, T, A, T, ...</td>\n",
       "      <td>(M, V, K, V, Y, A, P, A, S, S, A, N, M, S, V, ...</td>\n",
       "      <td>scFdp6oP+pW5HnvUww8MSi93ntM</td>\n",
       "    </tr>\n",
       "    <tr>\n",
       "      <th>3</th>\n",
       "      <td>lcl|U00096.3_cds_AAC73115.1_4</td>\n",
       "      <td>lcl|U00096.3_cds_AAC73115.1_4 [gene=thrC] [loc...</td>\n",
       "      <td>(A, T, G, A, A, A, C, T, C, T, A, C, A, A, T, ...</td>\n",
       "      <td>(M, K, L, Y, N, L, K, D, H, N, E, Q, V, S, F, ...</td>\n",
       "      <td>EkFurFHdk7l6qKQ+5xRiBUhWM9U</td>\n",
       "    </tr>\n",
       "    <tr>\n",
       "      <th>5</th>\n",
       "      <td>lcl|U00096.3_cds_AAC73117.1_6</td>\n",
       "      <td>lcl|U00096.3_cds_AAC73117.1_6 [gene=yaaA] [loc...</td>\n",
       "      <td>(A, T, G, C, T, G, A, T, T, C, T, T, A, T, T, ...</td>\n",
       "      <td>(M, L, I, L, I, S, P, A, K, T, L, D, Y, Q, S, ...</td>\n",
       "      <td>vJJ0yR31YORqwI12U79SgItYU3U</td>\n",
       "    </tr>\n",
       "  </tbody>\n",
       "</table>\n",
       "</div>"
      ],
      "text/plain": [
       "                              id  \\\n",
       "0  lcl|U00096.3_cds_AAC73112.1_1   \n",
       "1  lcl|U00096.3_cds_AAC73113.1_2   \n",
       "2  lcl|U00096.3_cds_AAC73114.1_3   \n",
       "3  lcl|U00096.3_cds_AAC73115.1_4   \n",
       "5  lcl|U00096.3_cds_AAC73117.1_6   \n",
       "\n",
       "                                         description  \\\n",
       "0  lcl|U00096.3_cds_AAC73112.1_1 [gene=thrL] [loc...   \n",
       "1  lcl|U00096.3_cds_AAC73113.1_2 [gene=thrA] [loc...   \n",
       "2  lcl|U00096.3_cds_AAC73114.1_3 [gene=thrB] [loc...   \n",
       "3  lcl|U00096.3_cds_AAC73115.1_4 [gene=thrC] [loc...   \n",
       "5  lcl|U00096.3_cds_AAC73117.1_6 [gene=yaaA] [loc...   \n",
       "\n",
       "                                            sequence  \\\n",
       "0  (A, T, G, A, A, A, C, G, C, A, T, T, A, G, C, ...   \n",
       "1  (A, T, G, C, G, A, G, T, G, T, T, G, A, A, G, ...   \n",
       "2  (A, T, G, G, T, T, A, A, A, G, T, T, T, A, T, ...   \n",
       "3  (A, T, G, A, A, A, C, T, C, T, A, C, A, A, T, ...   \n",
       "5  (A, T, G, C, T, G, A, T, T, C, T, T, A, T, T, ...   \n",
       "\n",
       "                                         translation  \\\n",
       "0  (M, K, R, I, S, T, T, I, T, T, T, I, T, I, T, ...   \n",
       "1  (M, R, V, L, K, F, G, G, T, S, V, A, N, A, E, ...   \n",
       "2  (M, V, K, V, Y, A, P, A, S, S, A, N, M, S, V, ...   \n",
       "3  (M, K, L, Y, N, L, K, D, H, N, E, Q, V, S, F, ...   \n",
       "5  (M, L, I, L, I, S, P, A, K, T, L, D, Y, Q, S, ...   \n",
       "\n",
       "                        seguid  \n",
       "0  QuAqLUJXXhVXIJRPc+T7iMi0UqE  \n",
       "1  /p+3Jdgat4Fq0w2rqqay4xg8Bs4  \n",
       "2  scFdp6oP+pW5HnvUww8MSi93ntM  \n",
       "3  EkFurFHdk7l6qKQ+5xRiBUhWM9U  \n",
       "5  vJJ0yR31YORqwI12U79SgItYU3U  "
      ]
     },
     "execution_count": 5,
     "metadata": {},
     "output_type": "execute_result"
    }
   ],
   "source": [
    "dfs[organisms[0]].head()"
   ]
  },
  {
   "cell_type": "markdown",
   "id": "1afa067f",
   "metadata": {},
   "source": [
    "## Datenanalyse"
   ]
  },
  {
   "cell_type": "markdown",
   "id": "c49ec283",
   "metadata": {},
   "source": [
    "### Länge der Aminosäuresequenzen"
   ]
  },
  {
   "cell_type": "code",
   "execution_count": 6,
   "id": "e099a834",
   "metadata": {},
   "outputs": [],
   "source": [
    "def print_df_info(df):\n",
    "    # Kürzeste Sequenz\n",
    "    print(\"Kürzeste Sequenz: \", df['translation'].apply(len).min())\n",
    "\n",
    "    # Längste Sequenz\n",
    "    print(\"Längste Sequenz: \", df['translation'].apply(len).max())\n",
    "\n",
    "    # Durchschnittliche Länge\n",
    "    print(\"Durchschnittliche Länge: \", df['translation'].apply(len).mean())\n",
    "\n",
    "    # Median\n",
    "    print(\"Median: \", df['translation'].apply(len).median())"
   ]
  },
  {
   "cell_type": "code",
   "execution_count": 7,
   "id": "8673fb3d",
   "metadata": {},
   "outputs": [
    {
     "name": "stdout",
     "output_type": "stream",
     "text": [
      "---- E.Coli ----\n",
      "Kürzeste Sequenz:  9\n",
      "Längste Sequenz:  2359\n",
      "Durchschnittliche Länge:  310.336877593361\n",
      "Median:  274.0\n",
      "---- Drosophila.Melanogaster ----\n",
      "Kürzeste Sequenz:  10\n",
      "Längste Sequenz:  22950\n",
      "Durchschnittliche Länge:  690.8939743471441\n",
      "Median:  470.0\n",
      "---- Homo.Sapiens ----\n",
      "Kürzeste Sequenz:  13\n",
      "Längste Sequenz:  35992\n",
      "Durchschnittliche Länge:  716.8746690009848\n",
      "Median:  519.0\n"
     ]
    }
   ],
   "source": [
    "for organism, df in dfs.items():\n",
    "    print(\"---- \"+organism+\" ----\")\n",
    "    print_df_info(df)"
   ]
  },
  {
   "cell_type": "code",
   "execution_count": 8,
   "id": "397c6651",
   "metadata": {},
   "outputs": [],
   "source": [
    "def show_sequence_length_hist(df, organism):\n",
    "    sequence_lengths = df['translation'].apply(len)\n",
    "\n",
    "    plt.hist(sequence_lengths, bins=50, color='skyblue', edgecolor='black')\n",
    "\n",
    "    plt.xlabel('Anzahl der Aminosäuren einer Sequenz')\n",
    "    plt.ylabel('Häufigkeit')\n",
    "    plt.title(f'Häufigkeitsverteilung der Aminosäuresequenzlängen beim Organismus {organism}')\n",
    "\n",
    "    plt.show()"
   ]
  },
  {
   "cell_type": "code",
   "execution_count": 9,
   "id": "41b3a6cb",
   "metadata": {},
   "outputs": [
    {
     "data": {
      "image/png": "[encoded data removed]",
      "text/plain": [
       "<Figure size 640x480 with 1 Axes>"
      ]
     },
     "metadata": {},
     "output_type": "display_data"
    },
    {
     "data": {
      "image/png": "[encoded data removed]",
      "text/plain": [
       "<Figure size 640x480 with 1 Axes>"
      ]
     },
     "metadata": {},
     "output_type": "display_data"
    },
    {
     "data": {
      "image/png": "[encoded data removed]",
      "text/plain": [
       "<Figure size 640x480 with 1 Axes>"
      ]
     },
     "metadata": {},
     "output_type": "display_data"
    }
   ],
   "source": [
    "for organism, df in dfs.items():\n",
    "    show_sequence_length_hist(df, organism)"
   ]
  },
  {
   "cell_type": "markdown",
   "id": "cd9584da",
   "metadata": {},
   "source": [
    "### Häufigkeit der Codons -> Codon Usage Frequency"
   ]
  },
  {
   "cell_type": "code",
   "execution_count": 10,
   "id": "4e0995c6",
   "metadata": {},
   "outputs": [],
   "source": [
    "def get_codon_frequency_for_row(row):\n",
    "    codon_frequency = {}\n",
    "\n",
    "    sequence = row['sequence']\n",
    "    if len(sequence) % 3 != 0:\n",
    "        print(f\"Sequence length is not a multiple of 3\")\n",
    "        return {}\n",
    "    codons = [sequence[i:i+3] for i in range(0, len(sequence), 3)]\n",
    "\n",
    "    for codon in codons:\n",
    "        if codon in codon_frequency:\n",
    "            codon_frequency[codon] += 1\n",
    "        else:\n",
    "            codon_frequency[codon] = 1\n",
    "\n",
    "    return codon_frequency"
   ]
  },
  {
   "cell_type": "code",
   "execution_count": 11,
   "id": "727e2fdc",
   "metadata": {},
   "outputs": [
    {
     "name": "stdout",
     "output_type": "stream",
     "text": [
      "CPU times: total: 3min 34s\n",
      "Wall time: 3min 35s\n"
     ]
    }
   ],
   "source": [
    "%%time\n",
    "for organism, df in dfs.items():\n",
    "    df['codon_frequency'] = df.apply(lambda row: get_codon_frequency_for_row(row), axis=1)"
   ]
  },
  {
   "cell_type": "code",
   "execution_count": 14,
   "id": "2ddb8e09",
   "metadata": {},
   "outputs": [],
   "source": [
    "with open(\"../data/dfs_with_codon_frequency.pkl\", 'wb') as f:\n",
    "    pkl.dump(dfs, f)"
   ]
  },
  {
   "cell_type": "code",
   "execution_count": 15,
   "id": "24f44c0f",
   "metadata": {},
   "outputs": [
    {
     "data": {
      "text/plain": [
       "91390"
      ]
     },
     "execution_count": 15,
     "metadata": {},
     "output_type": "execute_result"
    }
   ],
   "source": [
    "len(dfs[organisms[2]])"
   ]
  },
  {
   "cell_type": "code",
   "execution_count": 34,
   "id": "adb2dbb2",
   "metadata": {},
   "outputs": [
    {
     "data": {
      "text/html": [
       "<div>\n",
       "<style scoped>\n",
       "    .dataframe tbody tr th:only-of-type {\n",
       "        vertical-align: middle;\n",
       "    }\n",
       "\n",
       "    .dataframe tbody tr th {\n",
       "        vertical-align: top;\n",
       "    }\n",
       "\n",
       "    .dataframe thead th {\n",
       "        text-align: right;\n",
       "    }\n",
       "</style>\n",
       "<table border=\"1\" class=\"dataframe\">\n",
       "  <thead>\n",
       "    <tr style=\"text-align: right;\">\n",
       "      <th></th>\n",
       "      <th>id</th>\n",
       "      <th>description</th>\n",
       "      <th>sequence</th>\n",
       "      <th>translation</th>\n",
       "      <th>seguid</th>\n",
       "      <th>codon_frequency</th>\n",
       "    </tr>\n",
       "  </thead>\n",
       "  <tbody>\n",
       "    <tr>\n",
       "      <th>0</th>\n",
       "      <td>lcl|U00096.3_cds_AAC73112.1_1</td>\n",
       "      <td>lcl|U00096.3_cds_AAC73112.1_1 [gene=thrL] [loc...</td>\n",
       "      <td>(A, T, G, A, A, A, C, G, C, A, T, T, A, G, C, ...</td>\n",
       "      <td>(M, K, R, I, S, T, T, I, T, T, T, I, T, I, T, ...</td>\n",
       "      <td>QuAqLUJXXhVXIJRPc+T7iMi0UqE</td>\n",
       "      <td>{('A', 'T', 'G'): 1, ('A', 'A', 'A'): 1, ('C',...</td>\n",
       "    </tr>\n",
       "    <tr>\n",
       "      <th>1</th>\n",
       "      <td>lcl|U00096.3_cds_AAC73113.1_2</td>\n",
       "      <td>lcl|U00096.3_cds_AAC73113.1_2 [gene=thrA] [loc...</td>\n",
       "      <td>(A, T, G, C, G, A, G, T, G, T, T, G, A, A, G, ...</td>\n",
       "      <td>(M, R, V, L, K, F, G, G, T, S, V, A, N, A, E, ...</td>\n",
       "      <td>/p+3Jdgat4Fq0w2rqqay4xg8Bs4</td>\n",
       "      <td>{('A', 'T', 'G'): 23, ('C', 'G', 'A'): 3, ('G'...</td>\n",
       "    </tr>\n",
       "    <tr>\n",
       "      <th>2</th>\n",
       "      <td>lcl|U00096.3_cds_AAC73114.1_3</td>\n",
       "      <td>lcl|U00096.3_cds_AAC73114.1_3 [gene=thrB] [loc...</td>\n",
       "      <td>(A, T, G, G, T, T, A, A, A, G, T, T, T, A, T, ...</td>\n",
       "      <td>(M, V, K, V, Y, A, P, A, S, S, A, N, M, S, V, ...</td>\n",
       "      <td>scFdp6oP+pW5HnvUww8MSi93ntM</td>\n",
       "      <td>{('A', 'T', 'G'): 10, ('G', 'T', 'T'): 8, ('A'...</td>\n",
       "    </tr>\n",
       "    <tr>\n",
       "      <th>3</th>\n",
       "      <td>lcl|U00096.3_cds_AAC73115.1_4</td>\n",
       "      <td>lcl|U00096.3_cds_AAC73115.1_4 [gene=thrC] [loc...</td>\n",
       "      <td>(A, T, G, A, A, A, C, T, C, T, A, C, A, A, T, ...</td>\n",
       "      <td>(M, K, L, Y, N, L, K, D, H, N, E, Q, V, S, F, ...</td>\n",
       "      <td>EkFurFHdk7l6qKQ+5xRiBUhWM9U</td>\n",
       "      <td>{('A', 'T', 'G'): 8, ('A', 'A', 'A'): 17, ('C'...</td>\n",
       "    </tr>\n",
       "    <tr>\n",
       "      <th>5</th>\n",
       "      <td>lcl|U00096.3_cds_AAC73117.1_6</td>\n",
       "      <td>lcl|U00096.3_cds_AAC73117.1_6 [gene=yaaA] [loc...</td>\n",
       "      <td>(A, T, G, C, T, G, A, T, T, C, T, T, A, T, T, ...</td>\n",
       "      <td>(M, L, I, L, I, S, P, A, K, T, L, D, Y, Q, S, ...</td>\n",
       "      <td>vJJ0yR31YORqwI12U79SgItYU3U</td>\n",
       "      <td>{('A', 'T', 'G'): 6, ('C', 'T', 'G'): 15, ('A'...</td>\n",
       "    </tr>\n",
       "  </tbody>\n",
       "</table>\n",
       "</div>"
      ],
      "text/plain": [
       "                              id  \\\n",
       "0  lcl|U00096.3_cds_AAC73112.1_1   \n",
       "1  lcl|U00096.3_cds_AAC73113.1_2   \n",
       "2  lcl|U00096.3_cds_AAC73114.1_3   \n",
       "3  lcl|U00096.3_cds_AAC73115.1_4   \n",
       "5  lcl|U00096.3_cds_AAC73117.1_6   \n",
       "\n",
       "                                         description  \\\n",
       "0  lcl|U00096.3_cds_AAC73112.1_1 [gene=thrL] [loc...   \n",
       "1  lcl|U00096.3_cds_AAC73113.1_2 [gene=thrA] [loc...   \n",
       "2  lcl|U00096.3_cds_AAC73114.1_3 [gene=thrB] [loc...   \n",
       "3  lcl|U00096.3_cds_AAC73115.1_4 [gene=thrC] [loc...   \n",
       "5  lcl|U00096.3_cds_AAC73117.1_6 [gene=yaaA] [loc...   \n",
       "\n",
       "                                            sequence  \\\n",
       "0  (A, T, G, A, A, A, C, G, C, A, T, T, A, G, C, ...   \n",
       "1  (A, T, G, C, G, A, G, T, G, T, T, G, A, A, G, ...   \n",
       "2  (A, T, G, G, T, T, A, A, A, G, T, T, T, A, T, ...   \n",
       "3  (A, T, G, A, A, A, C, T, C, T, A, C, A, A, T, ...   \n",
       "5  (A, T, G, C, T, G, A, T, T, C, T, T, A, T, T, ...   \n",
       "\n",
       "                                         translation  \\\n",
       "0  (M, K, R, I, S, T, T, I, T, T, T, I, T, I, T, ...   \n",
       "1  (M, R, V, L, K, F, G, G, T, S, V, A, N, A, E, ...   \n",
       "2  (M, V, K, V, Y, A, P, A, S, S, A, N, M, S, V, ...   \n",
       "3  (M, K, L, Y, N, L, K, D, H, N, E, Q, V, S, F, ...   \n",
       "5  (M, L, I, L, I, S, P, A, K, T, L, D, Y, Q, S, ...   \n",
       "\n",
       "                        seguid  \\\n",
       "0  QuAqLUJXXhVXIJRPc+T7iMi0UqE   \n",
       "1  /p+3Jdgat4Fq0w2rqqay4xg8Bs4   \n",
       "2  scFdp6oP+pW5HnvUww8MSi93ntM   \n",
       "3  EkFurFHdk7l6qKQ+5xRiBUhWM9U   \n",
       "5  vJJ0yR31YORqwI12U79SgItYU3U   \n",
       "\n",
       "                                     codon_frequency  \n",
       "0  {('A', 'T', 'G'): 1, ('A', 'A', 'A'): 1, ('C',...  \n",
       "1  {('A', 'T', 'G'): 23, ('C', 'G', 'A'): 3, ('G'...  \n",
       "2  {('A', 'T', 'G'): 10, ('G', 'T', 'T'): 8, ('A'...  \n",
       "3  {('A', 'T', 'G'): 8, ('A', 'A', 'A'): 17, ('C'...  \n",
       "5  {('A', 'T', 'G'): 6, ('C', 'T', 'G'): 15, ('A'...  "
      ]
     },
     "execution_count": 34,
     "metadata": {},
     "output_type": "execute_result"
    }
   ],
   "source": [
    "dfs[organisms[0]].head()"
   ]
  },
  {
   "cell_type": "code",
   "execution_count": 43,
   "id": "3a6e2e59",
   "metadata": {},
   "outputs": [],
   "source": [
    "def get_total_codon_frequency(df):\n",
    "    total_codon_frequency = {}\n",
    "    for _, row in df.iterrows():\n",
    "        codon_frequency = row['codon_frequency']\n",
    "        for codon, frequency in codon_frequency.items():\n",
    "            if codon in total_codon_frequency:\n",
    "                total_codon_frequency[str(codon)] += frequency\n",
    "            else:\n",
    "                total_codon_frequency[str(codon)] = frequency\n",
    "    return total_codon_frequency"
   ]
  },
  {
   "cell_type": "code",
   "execution_count": 44,
   "id": "692c394c",
   "metadata": {},
   "outputs": [
    {
     "name": "stdout",
     "output_type": "stream",
     "text": [
      "64\n",
      "64\n"
     ]
    }
   ],
   "source": [
    "codon_frequencys = {}\n",
    "for organism, df in dfs.items():\n",
    "    codon_frequencys[organism] = get_total_codon_frequency(df)\n",
    "    print(len(codon_frequencys[organism].keys()))\n",
    "    assert len(codon_frequencys[organism].keys()) == 64"
   ]
  },
  {
   "cell_type": "code",
   "execution_count": 45,
   "id": "7acc0973",
   "metadata": {},
   "outputs": [
    {
     "data": {
      "text/plain": [
       "{'M': ['ATG'],\n",
       " 'K': ['AAA', 'AAG'],\n",
       " 'R': ['CGC', 'CGA', 'CGT', 'AGG', 'CGG', 'AGA'],\n",
       " 'I': ['ATT', 'ATC', 'ATA'],\n",
       " 'S': ['AGC', 'TCA', 'TCT', 'AGT', 'TCG', 'TCC'],\n",
       " 'T': ['ACC', 'ACA', 'ACG', 'ACT'],\n",
       " 'G': ['GGT', 'GGC', 'GGG', 'GGA'],\n",
       " 'N': ['AAC', 'AAT'],\n",
       " 'A': ['GCG', 'GCA', 'GCC', 'GCT'],\n",
       " '*': ['TGA', 'TAA', 'TAG'],\n",
       " 'V': ['GTG', 'GTT', 'GTC', 'GTA'],\n",
       " 'L': ['TTG', 'CTG', 'CTC', 'TTA', 'CTT', 'CTA'],\n",
       " 'F': ['TTC', 'TTT'],\n",
       " 'E': ['GAA', 'GAG'],\n",
       " 'D': ['GAT', 'GAC'],\n",
       " 'Q': ['CAG', 'CAA'],\n",
       " 'P': ['CCC', 'CCG', 'CCT', 'CCA'],\n",
       " 'H': ['CAC', 'CAT'],\n",
       " 'C': ['TGC', 'TGT'],\n",
       " 'Y': ['TAC', 'TAT'],\n",
       " 'W': ['TGG']}"
      ]
     },
     "execution_count": 45,
     "metadata": {},
     "output_type": "execute_result"
    }
   ],
   "source": [
    "translation_dict = {}\n",
    "for codon in codon_frequencys[organisms[0]]:\n",
    "    translation = str(Seq(codon).translate())\n",
    "    if translation in translation_dict:\n",
    "        translation_dict[translation].append(codon)\n",
    "    else:\n",
    "        translation_dict[translation] = [codon]\n",
    "translation_dict"
   ]
  },
  {
   "cell_type": "code",
   "execution_count": 39,
   "id": "4a64539b",
   "metadata": {},
   "outputs": [],
   "source": [
    "def calculate_codon_usage_frequency(codon_frequency):\n",
    "    codon_usage_frequency = {amino_acid: {codon:-1 for codon in translation_dict[amino_acid]} for amino_acid in translation_dict.keys()}\n",
    "    for amino_acid, codon_dict in codon_usage_frequency.items():\n",
    "        amino_acid_frequency = 0\n",
    "        for codon in codon_dict:\n",
    "            if codon in codon_frequency:\n",
    "                amino_acid_frequency += codon_frequency[codon]\n",
    "            else:\n",
    "                codon_frequency[codon] = 0\n",
    "        for codon in codon_dict:\n",
    "            codon_usage_frequency[amino_acid][codon] = round(codon_frequency[codon] / amino_acid_frequency, 2)\n",
    "    return codon_usage_frequency\n"
   ]
  },
  {
   "cell_type": "code",
   "execution_count": 46,
   "id": "dce78ab8",
   "metadata": {},
   "outputs": [],
   "source": [
    "codon_usage_frequencys = {}\n",
    "for organism, df in dfs.items():\n",
    "   codon_usage_frequencys[organism] = calculate_codon_usage_frequency(codon_frequencys[organism])"
   ]
  },
  {
   "cell_type": "code",
   "execution_count": 47,
   "id": "bf85c16c",
   "metadata": {},
   "outputs": [
    {
     "data": {
      "text/plain": [
       "{'M': {'ATG': 1.0},\n",
       " 'K': {'AAA': 0.77, 'AAG': 0.23},\n",
       " 'R': {'CGC': 0.4,\n",
       "  'CGA': 0.06,\n",
       "  'CGT': 0.39,\n",
       "  'AGG': 0.02,\n",
       "  'CGG': 0.09,\n",
       "  'AGA': 0.04},\n",
       " 'I': {'ATT': 0.51, 'ATC': 0.42, 'ATA': 0.07},\n",
       " 'S': {'AGC': 0.28,\n",
       "  'TCA': 0.12,\n",
       "  'TCT': 0.15,\n",
       "  'AGT': 0.15,\n",
       "  'TCG': 0.15,\n",
       "  'TCC': 0.15},\n",
       " 'T': {'ACC': 0.44, 'ACA': 0.13, 'ACG': 0.27, 'ACT': 0.17},\n",
       " 'G': {'GGT': 0.34, 'GGC': 0.41, 'GGG': 0.15, 'GGA': 0.11},\n",
       " 'N': {'AAC': 0.55, 'AAT': 0.45},\n",
       " 'A': {'GCG': 0.36, 'GCA': 0.21, 'GCC': 0.27, 'GCT': 0.16},\n",
       " '*': {'TGA': 0.28, 'TAA': 0.65, 'TAG': 0.07},\n",
       " 'V': {'GTG': 0.37, 'GTT': 0.26, 'GTC': 0.22, 'GTA': 0.16},\n",
       " 'L': {'TTG': 0.13,\n",
       "  'CTG': 0.5,\n",
       "  'CTC': 0.1,\n",
       "  'TTA': 0.13,\n",
       "  'CTT': 0.1,\n",
       "  'CTA': 0.04},\n",
       " 'F': {'TTC': 0.43, 'TTT': 0.57},\n",
       " 'E': {'GAA': 0.69, 'GAG': 0.31},\n",
       " 'D': {'GAT': 0.63, 'GAC': 0.37},\n",
       " 'Q': {'CAG': 0.65, 'CAA': 0.35},\n",
       " 'P': {'CCC': 0.12, 'CCG': 0.53, 'CCT': 0.16, 'CCA': 0.19},\n",
       " 'H': {'CAC': 0.43, 'CAT': 0.57},\n",
       " 'C': {'TGC': 0.56, 'TGT': 0.44},\n",
       " 'Y': {'TAC': 0.43, 'TAT': 0.57},\n",
       " 'W': {'TGG': 1.0}}"
      ]
     },
     "execution_count": 47,
     "metadata": {},
     "output_type": "execute_result"
    }
   ],
   "source": [
    "codon_usage_frequencys[organisms[0]]"
   ]
  },
  {
   "cell_type": "code",
   "execution_count": 52,
   "id": "804a38e6",
   "metadata": {},
   "outputs": [
    {
     "name": "stdout",
     "output_type": "stream",
     "text": [
      "Condon Usage Frequencies for Leucine (L)\n",
      "\n",
      "---- E.Coli ----\n",
      "{'TTG': 0.13, 'CTG': 0.5, 'CTC': 0.1, 'TTA': 0.13, 'CTT': 0.1, 'CTA': 0.04}\n",
      "---- Drosophila.Melanogaster ----\n",
      "{'TTG': 0.18, 'CTG': 0.42, 'CTC': 0.15, 'TTA': 0.05, 'CTT': 0.1, 'CTA': 0.09}\n"
     ]
    }
   ],
   "source": [
    "print(\"Condon Usage Frequencies for Leucine (L)\\n\")\n",
    "for organism in codon_usage_frequencys:\n",
    "    print(\"---- \"+organism+\" ----\")\n",
    "    print(codon_usage_frequencys[organism]['L'])"
   ]
  },
  {
   "cell_type": "markdown",
   "id": "1bf52888",
   "metadata": {},
   "source": [
    "Vergleichswerte von https://www.genscript.com/tools/codon-frequency-table:\n",
    "\n",
    "*E.Coli:*\n",
    "\n",
    "{'TTG': 0.13, 'CTG': 0.47, 'CTC': 0.1, 'TTA': 0.14, 'CTT': 0.12, 'CTA': 0.04}\n",
    "\n",
    "*Drosophila.Melanogaster*\n",
    "\n",
    "{'TTG': 0.18, 'CTG': 0.43, 'CTC': 0.15, 'TTA': 0.05, 'CTT': 0.1, 'CTA': 0.09}"
   ]
  }
 ],
 "metadata": {
  "kernelspec": {
   "display_name": "Python 3 (ipykernel)",
   "language": "python",
   "name": "python3"
  },
  "language_info": {
   "codemirror_mode": {
    "name": "ipython",
    "version": 3
   },
   "file_extension": ".py",
   "mimetype": "text/x-python",
   "name": "python",
   "nbconvert_exporter": "python",
   "pygments_lexer": "ipython3",
   "version": "3.11.5"
  }
 },
 "nbformat": 4,
 "nbformat_minor": 5
}
