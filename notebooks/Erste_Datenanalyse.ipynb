{
 "cells": [
  {
   "cell_type": "markdown",
   "id": "a97d3961-20f8-4630-b95c-7768d4466873",
   "metadata": {},
   "source": [
    "# Erste Datenanalyse Codon-Daten"
   ]
  },
  {
   "cell_type": "code",
   "execution_count": 42,
   "id": "2ac7cc92",
   "metadata": {},
   "outputs": [],
   "source": [
    "from Bio import SeqIO\n",
    "from Bio.Seq import Seq\n",
    "import pandas as pd\n",
    "import matplotlib.pyplot as plt"
   ]
  },
  {
   "cell_type": "markdown",
   "id": "84e21469",
   "metadata": {},
   "source": [
    "## Fasta-Datei einlesen"
   ]
  },
  {
   "cell_type": "code",
   "execution_count": 29,
   "id": "22382575",
   "metadata": {},
   "outputs": [],
   "source": [
    "df = pd.DataFrame(columns=['id', 'description', 'species', 'organism', 'codon_sequence', 'translation'])\n",
    "def add_record_to_df(record, species, organism):\n",
    "    global df\n",
    "    df.loc[len(df.index)] = [record.id, record.description, species, organism, str(record.seq), str(record.seq.translate())]"
   ]
  },
  {
   "cell_type": "code",
   "execution_count": 30,
   "id": "3e2784fd",
   "metadata": {},
   "outputs": [],
   "source": [
    "def read_fasta(fasta_file_path, species=\"K-12 substr. MG1655\", organism=\"Escherichia coli\"):\n",
    "    with open(fasta_file_path) as handle:\n",
    "        for record in SeqIO.parse(handle, \"fasta\"):\n",
    "            add_record_to_df(record, species, organism)"
   ]
  },
  {
   "cell_type": "code",
   "execution_count": 46,
   "id": "c70a8e75",
   "metadata": {},
   "outputs": [
    {
     "name": "stdout",
     "output_type": "stream",
     "text": [
      "CPU times: total: 4.69 s\n",
      "Wall time: 4.7 s\n"
     ]
    }
   ],
   "source": [
    "%%time\n",
    "df = pd.DataFrame(columns=['id', 'description', 'species', 'organism', 'codon_sequence', 'translation'])\n",
    "read_fasta(\"../data/E.Coli/GCA_000005845.2/cds_from_genomic.fna\")"
   ]
  },
  {
   "cell_type": "code",
   "execution_count": 32,
   "id": "5244a834",
   "metadata": {},
   "outputs": [
    {
     "data": {
      "text/html": [
       "<div>\n",
       "<style scoped>\n",
       "    .dataframe tbody tr th:only-of-type {\n",
       "        vertical-align: middle;\n",
       "    }\n",
       "\n",
       "    .dataframe tbody tr th {\n",
       "        vertical-align: top;\n",
       "    }\n",
       "\n",
       "    .dataframe thead th {\n",
       "        text-align: right;\n",
       "    }\n",
       "</style>\n",
       "<table border=\"1\" class=\"dataframe\">\n",
       "  <thead>\n",
       "    <tr style=\"text-align: right;\">\n",
       "      <th></th>\n",
       "      <th>id</th>\n",
       "      <th>description</th>\n",
       "      <th>species</th>\n",
       "      <th>organism</th>\n",
       "      <th>codon_sequence</th>\n",
       "      <th>translation</th>\n",
       "    </tr>\n",
       "  </thead>\n",
       "  <tbody>\n",
       "    <tr>\n",
       "      <th>0</th>\n",
       "      <td>lcl|U00096.3_cds_AAC73112.1_1</td>\n",
       "      <td>lcl|U00096.3_cds_AAC73112.1_1 [gene=thrL] [loc...</td>\n",
       "      <td>K-12 substr. MG1655</td>\n",
       "      <td>Escherichia coli</td>\n",
       "      <td>ATGAAACGCATTAGCACCACCATTACCACCACCATCACCATTACCA...</td>\n",
       "      <td>MKRISTTITTTITITTGNGAG*</td>\n",
       "    </tr>\n",
       "    <tr>\n",
       "      <th>1</th>\n",
       "      <td>lcl|U00096.3_cds_AAC73113.1_2</td>\n",
       "      <td>lcl|U00096.3_cds_AAC73113.1_2 [gene=thrA] [loc...</td>\n",
       "      <td>K-12 substr. MG1655</td>\n",
       "      <td>Escherichia coli</td>\n",
       "      <td>ATGCGAGTGTTGAAGTTCGGCGGTACATCAGTGGCAAATGCAGAAC...</td>\n",
       "      <td>MRVLKFGGTSVANAERFLRVADILESNARQGQVATVLSAPAKITNH...</td>\n",
       "    </tr>\n",
       "    <tr>\n",
       "      <th>2</th>\n",
       "      <td>lcl|U00096.3_cds_AAC73114.1_3</td>\n",
       "      <td>lcl|U00096.3_cds_AAC73114.1_3 [gene=thrB] [loc...</td>\n",
       "      <td>K-12 substr. MG1655</td>\n",
       "      <td>Escherichia coli</td>\n",
       "      <td>ATGGTTAAAGTTTATGCCCCGGCTTCCAGTGCCAATATGAGCGTCG...</td>\n",
       "      <td>MVKVYAPASSANMSVGFDVLGAAVTPVDGALLGDVVTVEAAETFSL...</td>\n",
       "    </tr>\n",
       "    <tr>\n",
       "      <th>3</th>\n",
       "      <td>lcl|U00096.3_cds_AAC73115.1_4</td>\n",
       "      <td>lcl|U00096.3_cds_AAC73115.1_4 [gene=thrC] [loc...</td>\n",
       "      <td>K-12 substr. MG1655</td>\n",
       "      <td>Escherichia coli</td>\n",
       "      <td>ATGAAACTCTACAATCTGAAAGATCACAACGAGCAGGTCAGCTTTG...</td>\n",
       "      <td>MKLYNLKDHNEQVSFAQAVTQGLGKNQGLFFPHDLPEFSLTEIDEM...</td>\n",
       "    </tr>\n",
       "    <tr>\n",
       "      <th>4</th>\n",
       "      <td>lcl|U00096.3_cds_AAC73116.1_5</td>\n",
       "      <td>lcl|U00096.3_cds_AAC73116.1_5 [gene=yaaX] [loc...</td>\n",
       "      <td>K-12 substr. MG1655</td>\n",
       "      <td>Escherichia coli</td>\n",
       "      <td>GTGAAAAAGATGCAATCTATCGTACTCGCACTTTCCCTGGTTCTGG...</td>\n",
       "      <td>VKKMQSIVLALSLVLVAPMAAQAAEITLVPSVKLQIGDRDNRGYYW...</td>\n",
       "    </tr>\n",
       "    <tr>\n",
       "      <th>...</th>\n",
       "      <td>...</td>\n",
       "      <td>...</td>\n",
       "      <td>...</td>\n",
       "      <td>...</td>\n",
       "      <td>...</td>\n",
       "      <td>...</td>\n",
       "    </tr>\n",
       "    <tr>\n",
       "      <th>4310</th>\n",
       "      <td>lcl|U00096.3_cds_AAC77353.1_4311</td>\n",
       "      <td>lcl|U00096.3_cds_AAC77353.1_4311 [gene=creD] [...</td>\n",
       "      <td>K-12 substr. MG1655</td>\n",
       "      <td>Escherichia coli</td>\n",
       "      <td>ATGTTGAAATCCCCCCTGTTCTGGAAAATGACTAGCCTGTTTGGTG...</td>\n",
       "      <td>MLKSPLFWKMTSLFGAVLLLLIPIMLIRQVIVERADYRSDVEDAIR...</td>\n",
       "    </tr>\n",
       "    <tr>\n",
       "      <th>4311</th>\n",
       "      <td>lcl|U00096.3_cds_AAC77354.1_4312</td>\n",
       "      <td>lcl|U00096.3_cds_AAC77354.1_4312 [gene=arcA] [...</td>\n",
       "      <td>K-12 substr. MG1655</td>\n",
       "      <td>Escherichia coli</td>\n",
       "      <td>ATGCAGACCCCGCACATTCTTATCGTTGAAGACGAGTTGGTAACAC...</td>\n",
       "      <td>MQTPHILIVEDELVTRNTLKSIFEAEGYDVFEATDGAEMHQILSEY...</td>\n",
       "    </tr>\n",
       "    <tr>\n",
       "      <th>4312</th>\n",
       "      <td>lcl|U00096.3_cds_AAC77355.1_4313</td>\n",
       "      <td>lcl|U00096.3_cds_AAC77355.1_4313 [gene=yjjY] [...</td>\n",
       "      <td>K-12 substr. MG1655</td>\n",
       "      <td>Escherichia coli</td>\n",
       "      <td>ATGACTAAAGTACGTAATTGCGTTCTTGATGCACTTTCCATCAACG...</td>\n",
       "      <td>MTKVRNCVLDALSINVNNIISLVVGTFPQDPTVSKTAVILTILTAT*</td>\n",
       "    </tr>\n",
       "    <tr>\n",
       "      <th>4313</th>\n",
       "      <td>lcl|U00096.3_cds_UMR55121.1_4314</td>\n",
       "      <td>lcl|U00096.3_cds_UMR55121.1_4314 [gene=ytjE] [...</td>\n",
       "      <td>K-12 substr. MG1655</td>\n",
       "      <td>Escherichia coli</td>\n",
       "      <td>TTGTCGAGATTTATTTTTTATAAAATTATCCTAAGTAAACAGAAGG...</td>\n",
       "      <td>LSRFIFYKIILSKQKDM*</td>\n",
       "    </tr>\n",
       "    <tr>\n",
       "      <th>4314</th>\n",
       "      <td>lcl|U00096.3_cds_AAC77356.1_4315</td>\n",
       "      <td>lcl|U00096.3_cds_AAC77356.1_4315 [gene=yjtD] [...</td>\n",
       "      <td>K-12 substr. MG1655</td>\n",
       "      <td>Escherichia coli</td>\n",
       "      <td>ATGCGTATAACGATTATTCTGGTCGCACCCGCCAGAGCAGAAAATA...</td>\n",
       "      <td>MRITIILVAPARAENIGAAARAMKTMGFSDLRIVDSQAHLEPATRW...</td>\n",
       "    </tr>\n",
       "  </tbody>\n",
       "</table>\n",
       "<p>4315 rows × 6 columns</p>\n",
       "</div>"
      ],
      "text/plain": [
       "                                    id  \\\n",
       "0        lcl|U00096.3_cds_AAC73112.1_1   \n",
       "1        lcl|U00096.3_cds_AAC73113.1_2   \n",
       "2        lcl|U00096.3_cds_AAC73114.1_3   \n",
       "3        lcl|U00096.3_cds_AAC73115.1_4   \n",
       "4        lcl|U00096.3_cds_AAC73116.1_5   \n",
       "...                                ...   \n",
       "4310  lcl|U00096.3_cds_AAC77353.1_4311   \n",
       "4311  lcl|U00096.3_cds_AAC77354.1_4312   \n",
       "4312  lcl|U00096.3_cds_AAC77355.1_4313   \n",
       "4313  lcl|U00096.3_cds_UMR55121.1_4314   \n",
       "4314  lcl|U00096.3_cds_AAC77356.1_4315   \n",
       "\n",
       "                                            description              species  \\\n",
       "0     lcl|U00096.3_cds_AAC73112.1_1 [gene=thrL] [loc...  K-12 substr. MG1655   \n",
       "1     lcl|U00096.3_cds_AAC73113.1_2 [gene=thrA] [loc...  K-12 substr. MG1655   \n",
       "2     lcl|U00096.3_cds_AAC73114.1_3 [gene=thrB] [loc...  K-12 substr. MG1655   \n",
       "3     lcl|U00096.3_cds_AAC73115.1_4 [gene=thrC] [loc...  K-12 substr. MG1655   \n",
       "4     lcl|U00096.3_cds_AAC73116.1_5 [gene=yaaX] [loc...  K-12 substr. MG1655   \n",
       "...                                                 ...                  ...   \n",
       "4310  lcl|U00096.3_cds_AAC77353.1_4311 [gene=creD] [...  K-12 substr. MG1655   \n",
       "4311  lcl|U00096.3_cds_AAC77354.1_4312 [gene=arcA] [...  K-12 substr. MG1655   \n",
       "4312  lcl|U00096.3_cds_AAC77355.1_4313 [gene=yjjY] [...  K-12 substr. MG1655   \n",
       "4313  lcl|U00096.3_cds_UMR55121.1_4314 [gene=ytjE] [...  K-12 substr. MG1655   \n",
       "4314  lcl|U00096.3_cds_AAC77356.1_4315 [gene=yjtD] [...  K-12 substr. MG1655   \n",
       "\n",
       "              organism                                     codon_sequence  \\\n",
       "0     Escherichia coli  ATGAAACGCATTAGCACCACCATTACCACCACCATCACCATTACCA...   \n",
       "1     Escherichia coli  ATGCGAGTGTTGAAGTTCGGCGGTACATCAGTGGCAAATGCAGAAC...   \n",
       "2     Escherichia coli  ATGGTTAAAGTTTATGCCCCGGCTTCCAGTGCCAATATGAGCGTCG...   \n",
       "3     Escherichia coli  ATGAAACTCTACAATCTGAAAGATCACAACGAGCAGGTCAGCTTTG...   \n",
       "4     Escherichia coli  GTGAAAAAGATGCAATCTATCGTACTCGCACTTTCCCTGGTTCTGG...   \n",
       "...                ...                                                ...   \n",
       "4310  Escherichia coli  ATGTTGAAATCCCCCCTGTTCTGGAAAATGACTAGCCTGTTTGGTG...   \n",
       "4311  Escherichia coli  ATGCAGACCCCGCACATTCTTATCGTTGAAGACGAGTTGGTAACAC...   \n",
       "4312  Escherichia coli  ATGACTAAAGTACGTAATTGCGTTCTTGATGCACTTTCCATCAACG...   \n",
       "4313  Escherichia coli  TTGTCGAGATTTATTTTTTATAAAATTATCCTAAGTAAACAGAAGG...   \n",
       "4314  Escherichia coli  ATGCGTATAACGATTATTCTGGTCGCACCCGCCAGAGCAGAAAATA...   \n",
       "\n",
       "                                            translation  \n",
       "0                                MKRISTTITTTITITTGNGAG*  \n",
       "1     MRVLKFGGTSVANAERFLRVADILESNARQGQVATVLSAPAKITNH...  \n",
       "2     MVKVYAPASSANMSVGFDVLGAAVTPVDGALLGDVVTVEAAETFSL...  \n",
       "3     MKLYNLKDHNEQVSFAQAVTQGLGKNQGLFFPHDLPEFSLTEIDEM...  \n",
       "4     VKKMQSIVLALSLVLVAPMAAQAAEITLVPSVKLQIGDRDNRGYYW...  \n",
       "...                                                 ...  \n",
       "4310  MLKSPLFWKMTSLFGAVLLLLIPIMLIRQVIVERADYRSDVEDAIR...  \n",
       "4311  MQTPHILIVEDELVTRNTLKSIFEAEGYDVFEATDGAEMHQILSEY...  \n",
       "4312    MTKVRNCVLDALSINVNNIISLVVGTFPQDPTVSKTAVILTILTAT*  \n",
       "4313                                 LSRFIFYKIILSKQKDM*  \n",
       "4314  MRITIILVAPARAENIGAAARAMKTMGFSDLRIVDSQAHLEPATRW...  \n",
       "\n",
       "[4315 rows x 6 columns]"
      ]
     },
     "execution_count": 32,
     "metadata": {},
     "output_type": "execute_result"
    }
   ],
   "source": [
    "df"
   ]
  },
  {
   "cell_type": "markdown",
   "id": "1afa067f",
   "metadata": {},
   "source": [
    "## Datenanalyse"
   ]
  },
  {
   "cell_type": "markdown",
   "id": "c49ec283",
   "metadata": {},
   "source": [
    "### Länge der Aminosäuresequenzen"
   ]
  },
  {
   "cell_type": "code",
   "execution_count": 41,
   "id": "e099a834",
   "metadata": {},
   "outputs": [
    {
     "name": "stdout",
     "output_type": "stream",
     "text": [
      "Kürzeste Sequenz:  9\n",
      "Längste Sequenz:  2359\n",
      "Durchschnittliche Länge:  310.9983777520278\n",
      "Median:  275.0\n"
     ]
    }
   ],
   "source": [
    "# Kürzeste Sequenz\n",
    "print(\"Kürzeste Sequenz: \", df['translation'].apply(len).min())\n",
    "\n",
    "# Längste Sequenz\n",
    "print(\"Längste Sequenz: \", df['translation'].apply(len).max())\n",
    "\n",
    "# Durchschnittliche Länge\n",
    "print(\"Durchschnittliche Länge: \", df['translation'].apply(len).mean())\n",
    "\n",
    "# Median\n",
    "print(\"Median: \", df['translation'].apply(len).median())"
   ]
  },
  {
   "cell_type": "code",
   "execution_count": 39,
   "id": "397c6651",
   "metadata": {},
   "outputs": [
    {
     "data": {
      "image/png": "[encoded data removed]",
      "text/plain": [
       "<Figure size 640x480 with 1 Axes>"
      ]
     },
     "metadata": {},
     "output_type": "display_data"
    }
   ],
   "source": [
    "sequence_lengths = df['translation'].apply(len)\n",
    "\n",
    "plt.hist(sequence_lengths, bins=50, color='skyblue', edgecolor='black')\n",
    "\n",
    "plt.xlabel('Anzahl der Aminosäuren einer Sequenz')\n",
    "plt.ylabel('Häufigkeit')\n",
    "plt.title('Häufigkeitsverteilung der Aminosäuresequenzlängen beim Organismus E.Coli K-12 substr. MG1655')\n",
    "\n",
    "plt.show()"
   ]
  },
  {
   "cell_type": "markdown",
   "id": "cd9584da",
   "metadata": {},
   "source": [
    "### Häufigkeit der Codons -> Codon Usage Frequency"
   ]
  },
  {
   "cell_type": "code",
   "execution_count": 47,
   "id": "4e0995c6",
   "metadata": {},
   "outputs": [],
   "source": [
    "def get_codon_frequency_for_row(row):\n",
    "    codon_frequency = {}\n",
    "\n",
    "    sequence = row['codon_sequence']\n",
    "    if len(sequence) % 3 != 0:\n",
    "        print(f\"Sequence length is not a multiple of 3\")\n",
    "        return {}\n",
    "    codons = [sequence[i:i+3] for i in range(0, len(sequence), 3)]\n",
    "\n",
    "    for codon in codons:\n",
    "        if codon in codon_frequency:\n",
    "            codon_frequency[codon] += 1\n",
    "        else:\n",
    "            codon_frequency[codon] = 1\n",
    "\n",
    "    return codon_frequency"
   ]
  },
  {
   "cell_type": "code",
   "execution_count": 48,
   "id": "727e2fdc",
   "metadata": {},
   "outputs": [],
   "source": [
    "df['codon_frequency'] = df.apply(lambda row: get_codon_frequency_for_row(row), axis=1)"
   ]
  },
  {
   "cell_type": "code",
   "execution_count": 50,
   "id": "adb2dbb2",
   "metadata": {},
   "outputs": [
    {
     "data": {
      "text/html": [
       "<div>\n",
       "<style scoped>\n",
       "    .dataframe tbody tr th:only-of-type {\n",
       "        vertical-align: middle;\n",
       "    }\n",
       "\n",
       "    .dataframe tbody tr th {\n",
       "        vertical-align: top;\n",
       "    }\n",
       "\n",
       "    .dataframe thead th {\n",
       "        text-align: right;\n",
       "    }\n",
       "</style>\n",
       "<table border=\"1\" class=\"dataframe\">\n",
       "  <thead>\n",
       "    <tr style=\"text-align: right;\">\n",
       "      <th></th>\n",
       "      <th>id</th>\n",
       "      <th>description</th>\n",
       "      <th>species</th>\n",
       "      <th>organism</th>\n",
       "      <th>codon_sequence</th>\n",
       "      <th>translation</th>\n",
       "      <th>codon_frequency</th>\n",
       "    </tr>\n",
       "  </thead>\n",
       "  <tbody>\n",
       "    <tr>\n",
       "      <th>0</th>\n",
       "      <td>lcl|U00096.3_cds_AAC73112.1_1</td>\n",
       "      <td>lcl|U00096.3_cds_AAC73112.1_1 [gene=thrL] [loc...</td>\n",
       "      <td>K-12 substr. MG1655</td>\n",
       "      <td>Escherichia coli</td>\n",
       "      <td>ATGAAACGCATTAGCACCACCATTACCACCACCATCACCATTACCA...</td>\n",
       "      <td>MKRISTTITTTITITTGNGAG*</td>\n",
       "      <td>{'ATG': 1, 'AAA': 1, 'CGC': 1, 'ATT': 3, 'AGC'...</td>\n",
       "    </tr>\n",
       "    <tr>\n",
       "      <th>1</th>\n",
       "      <td>lcl|U00096.3_cds_AAC73113.1_2</td>\n",
       "      <td>lcl|U00096.3_cds_AAC73113.1_2 [gene=thrA] [loc...</td>\n",
       "      <td>K-12 substr. MG1655</td>\n",
       "      <td>Escherichia coli</td>\n",
       "      <td>ATGCGAGTGTTGAAGTTCGGCGGTACATCAGTGGCAAATGCAGAAC...</td>\n",
       "      <td>MRVLKFGGTSVANAERFLRVADILESNARQGQVATVLSAPAKITNH...</td>\n",
       "      <td>{'ATG': 23, 'CGA': 3, 'GTG': 27, 'TTG': 13, 'A...</td>\n",
       "    </tr>\n",
       "    <tr>\n",
       "      <th>2</th>\n",
       "      <td>lcl|U00096.3_cds_AAC73114.1_3</td>\n",
       "      <td>lcl|U00096.3_cds_AAC73114.1_3 [gene=thrB] [loc...</td>\n",
       "      <td>K-12 substr. MG1655</td>\n",
       "      <td>Escherichia coli</td>\n",
       "      <td>ATGGTTAAAGTTTATGCCCCGGCTTCCAGTGCCAATATGAGCGTCG...</td>\n",
       "      <td>MVKVYAPASSANMSVGFDVLGAAVTPVDGALLGDVVTVEAAETFSL...</td>\n",
       "      <td>{'ATG': 10, 'GTT': 8, 'AAA': 3, 'TAT': 5, 'GCC...</td>\n",
       "    </tr>\n",
       "    <tr>\n",
       "      <th>3</th>\n",
       "      <td>lcl|U00096.3_cds_AAC73115.1_4</td>\n",
       "      <td>lcl|U00096.3_cds_AAC73115.1_4 [gene=thrC] [loc...</td>\n",
       "      <td>K-12 substr. MG1655</td>\n",
       "      <td>Escherichia coli</td>\n",
       "      <td>ATGAAACTCTACAATCTGAAAGATCACAACGAGCAGGTCAGCTTTG...</td>\n",
       "      <td>MKLYNLKDHNEQVSFAQAVTQGLGKNQGLFFPHDLPEFSLTEIDEM...</td>\n",
       "      <td>{'ATG': 8, 'AAA': 17, 'CTC': 6, 'TAC': 5, 'AAT...</td>\n",
       "    </tr>\n",
       "    <tr>\n",
       "      <th>4</th>\n",
       "      <td>lcl|U00096.3_cds_AAC73116.1_5</td>\n",
       "      <td>lcl|U00096.3_cds_AAC73116.1_5 [gene=yaaX] [loc...</td>\n",
       "      <td>K-12 substr. MG1655</td>\n",
       "      <td>Escherichia coli</td>\n",
       "      <td>GTGAAAAAGATGCAATCTATCGTACTCGCACTTTCCCTGGTTCTGG...</td>\n",
       "      <td>VKKMQSIVLALSLVLVAPMAAQAAEITLVPSVKLQIGDRDNRGYYW...</td>\n",
       "      <td>{'GTG': 1, 'AAA': 5, 'AAG': 2, 'ATG': 2, 'CAA'...</td>\n",
       "    </tr>\n",
       "  </tbody>\n",
       "</table>\n",
       "</div>"
      ],
      "text/plain": [
       "                              id  \\\n",
       "0  lcl|U00096.3_cds_AAC73112.1_1   \n",
       "1  lcl|U00096.3_cds_AAC73113.1_2   \n",
       "2  lcl|U00096.3_cds_AAC73114.1_3   \n",
       "3  lcl|U00096.3_cds_AAC73115.1_4   \n",
       "4  lcl|U00096.3_cds_AAC73116.1_5   \n",
       "\n",
       "                                         description              species  \\\n",
       "0  lcl|U00096.3_cds_AAC73112.1_1 [gene=thrL] [loc...  K-12 substr. MG1655   \n",
       "1  lcl|U00096.3_cds_AAC73113.1_2 [gene=thrA] [loc...  K-12 substr. MG1655   \n",
       "2  lcl|U00096.3_cds_AAC73114.1_3 [gene=thrB] [loc...  K-12 substr. MG1655   \n",
       "3  lcl|U00096.3_cds_AAC73115.1_4 [gene=thrC] [loc...  K-12 substr. MG1655   \n",
       "4  lcl|U00096.3_cds_AAC73116.1_5 [gene=yaaX] [loc...  K-12 substr. MG1655   \n",
       "\n",
       "           organism                                     codon_sequence  \\\n",
       "0  Escherichia coli  ATGAAACGCATTAGCACCACCATTACCACCACCATCACCATTACCA...   \n",
       "1  Escherichia coli  ATGCGAGTGTTGAAGTTCGGCGGTACATCAGTGGCAAATGCAGAAC...   \n",
       "2  Escherichia coli  ATGGTTAAAGTTTATGCCCCGGCTTCCAGTGCCAATATGAGCGTCG...   \n",
       "3  Escherichia coli  ATGAAACTCTACAATCTGAAAGATCACAACGAGCAGGTCAGCTTTG...   \n",
       "4  Escherichia coli  GTGAAAAAGATGCAATCTATCGTACTCGCACTTTCCCTGGTTCTGG...   \n",
       "\n",
       "                                         translation  \\\n",
       "0                             MKRISTTITTTITITTGNGAG*   \n",
       "1  MRVLKFGGTSVANAERFLRVADILESNARQGQVATVLSAPAKITNH...   \n",
       "2  MVKVYAPASSANMSVGFDVLGAAVTPVDGALLGDVVTVEAAETFSL...   \n",
       "3  MKLYNLKDHNEQVSFAQAVTQGLGKNQGLFFPHDLPEFSLTEIDEM...   \n",
       "4  VKKMQSIVLALSLVLVAPMAAQAAEITLVPSVKLQIGDRDNRGYYW...   \n",
       "\n",
       "                                     codon_frequency  \n",
       "0  {'ATG': 1, 'AAA': 1, 'CGC': 1, 'ATT': 3, 'AGC'...  \n",
       "1  {'ATG': 23, 'CGA': 3, 'GTG': 27, 'TTG': 13, 'A...  \n",
       "2  {'ATG': 10, 'GTT': 8, 'AAA': 3, 'TAT': 5, 'GCC...  \n",
       "3  {'ATG': 8, 'AAA': 17, 'CTC': 6, 'TAC': 5, 'AAT...  \n",
       "4  {'GTG': 1, 'AAA': 5, 'AAG': 2, 'ATG': 2, 'CAA'...  "
      ]
     },
     "execution_count": 50,
     "metadata": {},
     "output_type": "execute_result"
    }
   ],
   "source": [
    "df.head()"
   ]
  },
  {
   "cell_type": "code",
   "execution_count": 51,
   "id": "3a6e2e59",
   "metadata": {},
   "outputs": [],
   "source": [
    "def get_total_codon_frequency(df):\n",
    "    total_codon_frequency = {}\n",
    "    for index, row in df.iterrows():\n",
    "        codon_frequency = row['codon_frequency']\n",
    "        for codon, frequency in codon_frequency.items():\n",
    "            if codon in total_codon_frequency:\n",
    "                total_codon_frequency[codon] += frequency\n",
    "            else:\n",
    "                total_codon_frequency[codon] = frequency\n",
    "    return total_codon_frequency"
   ]
  },
  {
   "cell_type": "code",
   "execution_count": 54,
   "id": "692c394c",
   "metadata": {},
   "outputs": [
    {
     "data": {
      "text/plain": [
       "{'ATG': 37390,\n",
       " 'AAA': 45199,\n",
       " 'CGC': 29647,\n",
       " 'ATT': 40911,\n",
       " 'AGC': 21578,\n",
       " 'ACC': 31532,\n",
       " 'ATC': 33903,\n",
       " 'ACA': 9276,\n",
       " 'GGT': 33326,\n",
       " 'AAC': 29045,\n",
       " 'GCG': 45507,\n",
       " 'GGC': 40011,\n",
       " 'TGA': 1251,\n",
       " 'CGA': 4682,\n",
       " 'GTG': 35330,\n",
       " 'TTG': 18301,\n",
       " 'AAG': 13726,\n",
       " 'TTC': 22229,\n",
       " 'TCA': 9456,\n",
       " 'GCA': 27067,\n",
       " 'AAT': 23488,\n",
       " 'GAA': 53328,\n",
       " 'CGT': 28337,\n",
       " 'TTT': 29841,\n",
       " 'CTG': 71305,\n",
       " 'GTT': 24604,\n",
       " 'GCC': 34416,\n",
       " 'GAT': 43044,\n",
       " 'AGG': 1458,\n",
       " 'CAG': 38834,\n",
       " 'GGG': 14722,\n",
       " 'GTC': 20535,\n",
       " 'CTC': 14952,\n",
       " 'TCT': 11304,\n",
       " 'CCC': 7292,\n",
       " 'CAC': 13029,\n",
       " 'GCT': 20487,\n",
       " 'TTA': 18505,\n",
       " 'CTT': 14728,\n",
       " 'ACG': 19321,\n",
       " 'GGA': 10492,\n",
       " 'CCG': 31344,\n",
       " 'CAA': 20628,\n",
       " 'ACT': 11930,\n",
       " 'ATA': 5592,\n",
       " 'CAT': 17227,\n",
       " 'AGT': 11643,\n",
       " 'TGC': 8651,\n",
       " 'GAG': 23896,\n",
       " 'TCG': 11948,\n",
       " 'GTA': 14643,\n",
       " 'TAC': 16386,\n",
       " 'TCC': 11560,\n",
       " 'GAC': 25721,\n",
       " 'TGT': 6865,\n",
       " 'TGG': 20395,\n",
       " 'TAT': 21526,\n",
       " 'CCT': 9308,\n",
       " 'CCA': 11274,\n",
       " 'CGG': 7131,\n",
       " 'CTA': 5203,\n",
       " 'TAA': 2763,\n",
       " 'AGA': 2629,\n",
       " 'TAG': 306}"
      ]
     },
     "execution_count": 54,
     "metadata": {},
     "output_type": "execute_result"
    }
   ],
   "source": [
    "codon_frequency = get_total_codon_frequency(df)\n",
    "codon_frequency"
   ]
  },
  {
   "cell_type": "code",
   "execution_count": 65,
   "id": "0c8ad612",
   "metadata": {},
   "outputs": [
    {
     "data": {
      "text/plain": [
       "64"
      ]
     },
     "execution_count": 65,
     "metadata": {},
     "output_type": "execute_result"
    }
   ],
   "source": [
    "len(codon_frequency.keys())"
   ]
  },
  {
   "cell_type": "code",
   "execution_count": 66,
   "id": "7acc0973",
   "metadata": {},
   "outputs": [
    {
     "data": {
      "text/plain": [
       "{'M': ['ATG'],\n",
       " 'K': ['AAA', 'AAG'],\n",
       " 'R': ['CGC', 'CGA', 'CGT', 'AGG', 'CGG', 'AGA'],\n",
       " 'I': ['ATT', 'ATC', 'ATA'],\n",
       " 'S': ['AGC', 'TCA', 'TCT', 'AGT', 'TCG', 'TCC'],\n",
       " 'T': ['ACC', 'ACA', 'ACG', 'ACT'],\n",
       " 'G': ['GGT', 'GGC', 'GGG', 'GGA'],\n",
       " 'N': ['AAC', 'AAT'],\n",
       " 'A': ['GCG', 'GCA', 'GCC', 'GCT'],\n",
       " '*': ['TGA', 'TAA', 'TAG'],\n",
       " 'V': ['GTG', 'GTT', 'GTC', 'GTA'],\n",
       " 'L': ['TTG', 'CTG', 'CTC', 'TTA', 'CTT', 'CTA'],\n",
       " 'F': ['TTC', 'TTT'],\n",
       " 'E': ['GAA', 'GAG'],\n",
       " 'D': ['GAT', 'GAC'],\n",
       " 'Q': ['CAG', 'CAA'],\n",
       " 'P': ['CCC', 'CCG', 'CCT', 'CCA'],\n",
       " 'H': ['CAC', 'CAT'],\n",
       " 'C': ['TGC', 'TGT'],\n",
       " 'Y': ['TAC', 'TAT'],\n",
       " 'W': ['TGG']}"
      ]
     },
     "execution_count": 66,
     "metadata": {},
     "output_type": "execute_result"
    }
   ],
   "source": [
    "translation_dict = {}\n",
    "for codon in codon_frequency:\n",
    "    translation = str(Seq(codon).translate())\n",
    "    if translation in translation_dict:\n",
    "        translation_dict[translation].append(codon)\n",
    "    else:\n",
    "        translation_dict[translation] = [codon]\n",
    "translation_dict"
   ]
  },
  {
   "cell_type": "code",
   "execution_count": 75,
   "id": "4a64539b",
   "metadata": {},
   "outputs": [],
   "source": [
    "def calculate_codon_usage_frequency(codon_frequency):\n",
    "    codon_usage_frequency = {amino_acid: {codon:-1 for codon in translation_dict[amino_acid]} for amino_acid in translation_dict.keys()}\n",
    "    for amino_acid, codon_dict in codon_usage_frequency.items():\n",
    "        amino_acid_frequency = 0\n",
    "        for codon in codon_dict:\n",
    "            if codon in codon_frequency:\n",
    "                amino_acid_frequency += codon_frequency[codon]\n",
    "            else:\n",
    "                codon_frequency[codon] = 0\n",
    "        for codon in codon_dict:\n",
    "            codon_usage_frequency[amino_acid][codon] = round(codon_frequency[codon] / amino_acid_frequency, 2)\n",
    "    return codon_usage_frequency\n"
   ]
  },
  {
   "cell_type": "code",
   "execution_count": 76,
   "id": "dce78ab8",
   "metadata": {},
   "outputs": [],
   "source": [
    "codon_usage_frequency = calculate_codon_usage_frequency(codon_frequency)"
   ]
  },
  {
   "cell_type": "code",
   "execution_count": 77,
   "id": "bf85c16c",
   "metadata": {},
   "outputs": [
    {
     "data": {
      "text/plain": [
       "{'M': {'ATG': 1.0},\n",
       " 'K': {'AAA': 0.77, 'AAG': 0.23},\n",
       " 'R': {'CGC': 0.4,\n",
       "  'CGA': 0.06,\n",
       "  'CGT': 0.38,\n",
       "  'AGG': 0.02,\n",
       "  'CGG': 0.1,\n",
       "  'AGA': 0.04},\n",
       " 'I': {'ATT': 0.51, 'ATC': 0.42, 'ATA': 0.07},\n",
       " 'S': {'AGC': 0.28,\n",
       "  'TCA': 0.12,\n",
       "  'TCT': 0.15,\n",
       "  'AGT': 0.15,\n",
       "  'TCG': 0.15,\n",
       "  'TCC': 0.15},\n",
       " 'T': {'ACC': 0.44, 'ACA': 0.13, 'ACG': 0.27, 'ACT': 0.17},\n",
       " 'G': {'GGT': 0.34, 'GGC': 0.41, 'GGG': 0.15, 'GGA': 0.11},\n",
       " 'N': {'AAC': 0.55, 'AAT': 0.45},\n",
       " 'A': {'GCG': 0.36, 'GCA': 0.21, 'GCC': 0.27, 'GCT': 0.16},\n",
       " '*': {'TGA': 0.29, 'TAA': 0.64, 'TAG': 0.07},\n",
       " 'V': {'GTG': 0.37, 'GTT': 0.26, 'GTC': 0.22, 'GTA': 0.15},\n",
       " 'L': {'TTG': 0.13,\n",
       "  'CTG': 0.5,\n",
       "  'CTC': 0.1,\n",
       "  'TTA': 0.13,\n",
       "  'CTT': 0.1,\n",
       "  'CTA': 0.04},\n",
       " 'F': {'TTC': 0.43, 'TTT': 0.57},\n",
       " 'E': {'GAA': 0.69, 'GAG': 0.31},\n",
       " 'D': {'GAT': 0.63, 'GAC': 0.37},\n",
       " 'Q': {'CAG': 0.65, 'CAA': 0.35},\n",
       " 'P': {'CCC': 0.12, 'CCG': 0.53, 'CCT': 0.16, 'CCA': 0.19},\n",
       " 'H': {'CAC': 0.43, 'CAT': 0.57},\n",
       " 'C': {'TGC': 0.56, 'TGT': 0.44},\n",
       " 'Y': {'TAC': 0.43, 'TAT': 0.57},\n",
       " 'W': {'TGG': 1.0}}"
      ]
     },
     "execution_count": 77,
     "metadata": {},
     "output_type": "execute_result"
    }
   ],
   "source": [
    "codon_usage_frequency"
   ]
  },
  {
   "cell_type": "code",
   "execution_count": 78,
   "id": "804a38e6",
   "metadata": {},
   "outputs": [
    {
     "data": {
      "text/plain": [
       "{'TTG': 0.13, 'CTG': 0.5, 'CTC': 0.1, 'TTA': 0.13, 'CTT': 0.1, 'CTA': 0.04}"
      ]
     },
     "execution_count": 78,
     "metadata": {},
     "output_type": "execute_result"
    }
   ],
   "source": [
    "codon_usage_frequency['L']"
   ]
  },
  {
   "attachments": {
    "image.png": {
     "image/png": "[encoded data removed]"
    }
   },
   "cell_type": "markdown",
   "id": "1bf52888",
   "metadata": {},
   "source": [
    "Vergleichswerte von https://www.genscript.com/tools/codon-frequency-table:\n",
    "\n",
    "![image.png](attachment:image.png)"
   ]
  },
  {
   "cell_type": "code",
   "execution_count": null,
   "id": "a63b38d0",
   "metadata": {},
   "outputs": [],
   "source": []
  }
 ],
 "metadata": {
  "kernelspec": {
   "display_name": "Python 3 (ipykernel)",
   "language": "python",
   "name": "python3"
  },
  "language_info": {
   "codemirror_mode": {
    "name": "ipython",
    "version": 3
   },
   "file_extension": ".py",
   "mimetype": "text/x-python",
   "name": "python",
   "nbconvert_exporter": "python",
   "pygments_lexer": "ipython3",
   "version": "3.11.5"
  }
 },
 "nbformat": 4,
 "nbformat_minor": 5
}
