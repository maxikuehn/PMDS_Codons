{
 "cells": [
  {
   "cell_type": "code",
   "execution_count": 2,
   "id": "initial_id",
   "metadata": {
    "ExecuteTime": {
     "end_time": "2024-04-12T14:55:23.067985Z",
     "start_time": "2024-04-12T14:55:23.063811Z"
    },
    "collapsed": true
   },
   "outputs": [],
   "source": [
    "from Bio import SeqIO\n",
    "from Bio.Seq import Seq\n",
    "\n",
    "import pandas as pd\n",
    "import numpy as np\n",
    "\n",
    "import plotly.graph_objects as go\n",
    "import plotly.express as px\n",
    "\n",
    "import matplotlib.pyplot as plt\n",
    "import matplotlib as mpl"
   ]
  },
  {
   "cell_type": "code",
   "execution_count": 3,
   "id": "b8950e4a496bb7b",
   "metadata": {
    "ExecuteTime": {
     "end_time": "2024-04-12T14:55:23.074382Z",
     "start_time": "2024-04-12T14:55:23.068636Z"
    },
    "collapsed": false
   },
   "outputs": [],
   "source": [
    "fasta_file = \"../data/E.Coli/GCA_000005845.2/cds_from_genomic.fna\""
   ]
  },
  {
   "cell_type": "code",
   "execution_count": 4,
   "id": "93331e9d8497c299",
   "metadata": {
    "ExecuteTime": {
     "end_time": "2024-04-12T14:55:23.105977Z",
     "start_time": "2024-04-12T14:55:23.072395Z"
    },
    "collapsed": false
   },
   "outputs": [],
   "source": [
    "records = []\n",
    "for record in SeqIO.parse(fasta_file, format=\"fasta\"):\n",
    "    records.append(str(record.seq))\n"
   ]
  },
  {
   "cell_type": "code",
   "execution_count": 5,
   "id": "ab77edd14195d60e",
   "metadata": {
    "ExecuteTime": {
     "end_time": "2024-04-12T14:55:23.113990Z",
     "start_time": "2024-04-12T14:55:23.108402Z"
    },
    "collapsed": false
   },
   "outputs": [
    {
     "name": "stdout",
     "output_type": "stream",
     "text": [
      "codon_list ['TTT', 'TTC', 'TTA', 'TTG', 'TCT', 'TCC', 'TCA', 'TCG', 'TAT', 'TAC', 'TAA', 'TAG', 'TGT', 'TGC', 'TGA', 'TGG', 'CTT', 'CTC', 'CTA', 'CTG', 'CCT', 'CCC', 'CCA', 'CCG', 'CAT', 'CAC', 'CAA', 'CAG', 'CGT', 'CGC', 'CGA', 'CGG', 'ATT', 'ATC', 'ATA', 'ATG', 'ACT', 'ACC', 'ACA', 'ACG', 'AAT', 'AAC', 'AAA', 'AAG', 'AGT', 'AGC', 'AGA', 'AGG', 'GTT', 'GTC', 'GTA', 'GTG', 'GCT', 'GCC', 'GCA', 'GCG', 'GAT', 'GAC', 'GAA', 'GAG', 'GGT', 'GGC', 'GGA', 'GGG']\n",
      "\n",
      "translation_table {'F': ['TTT', 'TTC'], 'L': ['TTA', 'TTG', 'CTT', 'CTC', 'CTA', 'CTG'], 'S': ['TCT', 'TCC', 'TCA', 'TCG', 'AGT', 'AGC'], 'Y': ['TAT', 'TAC'], '*': ['TAA', 'TAG', 'TGA'], 'C': ['TGT', 'TGC'], 'W': ['TGG'], 'P': ['CCT', 'CCC', 'CCA', 'CCG'], 'H': ['CAT', 'CAC'], 'Q': ['CAA', 'CAG'], 'R': ['CGT', 'CGC', 'CGA', 'CGG', 'AGA', 'AGG'], 'I': ['ATT', 'ATC', 'ATA'], 'M': ['ATG'], 'T': ['ACT', 'ACC', 'ACA', 'ACG'], 'N': ['AAT', 'AAC'], 'K': ['AAA', 'AAG'], 'V': ['GTT', 'GTC', 'GTA', 'GTG'], 'A': ['GCT', 'GCC', 'GCA', 'GCG'], 'D': ['GAT', 'GAC'], 'E': ['GAA', 'GAG'], 'G': ['GGT', 'GGC', 'GGA', 'GGG']}\n"
     ]
    }
   ],
   "source": [
    "from itertools import product\n",
    "from collections import defaultdict as ddict\n",
    "\n",
    "codon_list = [\"\".join(i) for i in list(product(\"TCAG\", repeat=3))]\n",
    "\n",
    "translation_table = ddict(list)\n",
    "for codon in codon_list:\n",
    "    tr = str(Seq(codon).translate())\n",
    "    translation_table[tr].append(str(codon))\n",
    "\n",
    "print(\"codon_list\", codon_list)\n",
    "print(\"\\ntranslation_table\", dict(translation_table))"
   ]
  },
  {
   "cell_type": "code",
   "execution_count": 6,
   "id": "4f9817ef6f3d3bcf",
   "metadata": {
    "ExecuteTime": {
     "end_time": "2024-04-12T14:55:23.123808Z",
     "start_time": "2024-04-12T14:55:23.114510Z"
    },
    "collapsed": false
   },
   "outputs": [
    {
     "data": {
      "text/plain": [
       "['TCT', 'TCC', 'TCA', 'TCG', 'AGT', 'AGC']"
      ]
     },
     "execution_count": 6,
     "metadata": {},
     "output_type": "execute_result"
    }
   ],
   "source": [
    "translation_table[\"S\"]"
   ]
  },
  {
   "cell_type": "code",
   "execution_count": 7,
   "id": "9f2065a0ed359552",
   "metadata": {
    "ExecuteTime": {
     "end_time": "2024-04-12T14:58:22.191168Z",
     "start_time": "2024-04-12T14:58:22.167380Z"
    },
    "collapsed": false
   },
   "outputs": [
    {
     "ename": "ValueError",
     "evalue": "Mime type rendering requires nbformat>=4.2.0 but it is not installed",
     "output_type": "error",
     "traceback": [
      "\u001b[1;31m---------------------------------------------------------------------------\u001b[0m",
      "\u001b[1;31mValueError\u001b[0m                                Traceback (most recent call last)",
      "Cell \u001b[1;32mIn[7], line 23\u001b[0m\n\u001b[0;32m     16\u001b[0m     fig \u001b[38;5;241m=\u001b[39m go\u001b[38;5;241m.\u001b[39mFigure(go\u001b[38;5;241m.\u001b[39mHeatmap(\n\u001b[0;32m     17\u001b[0m         z\u001b[38;5;241m=\u001b[39m[df[\u001b[38;5;124m\"\u001b[39m\u001b[38;5;124mcodon_id\u001b[39m\u001b[38;5;124m\"\u001b[39m]],\n\u001b[0;32m     18\u001b[0m         colorscale\u001b[38;5;241m=\u001b[39m\u001b[38;5;124m\"\u001b[39m\u001b[38;5;124mrainbow\u001b[39m\u001b[38;5;124m\"\u001b[39m),\n\u001b[0;32m     19\u001b[0m     )\n\u001b[0;32m     20\u001b[0m     fig\u001b[38;5;241m.\u001b[39mshow()\n\u001b[1;32m---> 23\u001b[0m \u001b[43mvisualize_plotly\u001b[49m\u001b[43m(\u001b[49m\u001b[43mrecords\u001b[49m\u001b[43m[\u001b[49m\u001b[38;5;241;43m2\u001b[39;49m\u001b[43m]\u001b[49m\u001b[43m,\u001b[49m\u001b[43m \u001b[49m\u001b[43mselected_aa\u001b[49m\u001b[38;5;241;43m=\u001b[39;49m\u001b[38;5;124;43m\"\u001b[39;49m\u001b[38;5;124;43mA\u001b[39;49m\u001b[38;5;124;43m\"\u001b[39;49m\u001b[43m)\u001b[49m\n",
      "Cell \u001b[1;32mIn[7], line 14\u001b[0m, in \u001b[0;36mvisualize_plotly\u001b[1;34m(record, selected_aa)\u001b[0m\n\u001b[0;32m     11\u001b[0m df \u001b[38;5;241m=\u001b[39m pd\u001b[38;5;241m.\u001b[39mDataFrame(data)\n\u001b[0;32m     13\u001b[0m fig \u001b[38;5;241m=\u001b[39m px\u001b[38;5;241m.\u001b[39mimshow([df[\u001b[38;5;124m\"\u001b[39m\u001b[38;5;124mcodon_id\u001b[39m\u001b[38;5;124m\"\u001b[39m]], aspect\u001b[38;5;241m=\u001b[39m\u001b[38;5;124m\"\u001b[39m\u001b[38;5;124mauto\u001b[39m\u001b[38;5;124m\"\u001b[39m, height\u001b[38;5;241m=\u001b[39m\u001b[38;5;241m300\u001b[39m)\n\u001b[1;32m---> 14\u001b[0m \u001b[43mfig\u001b[49m\u001b[38;5;241;43m.\u001b[39;49m\u001b[43mshow\u001b[49m\u001b[43m(\u001b[49m\u001b[43m)\u001b[49m\n\u001b[0;32m     16\u001b[0m fig \u001b[38;5;241m=\u001b[39m go\u001b[38;5;241m.\u001b[39mFigure(go\u001b[38;5;241m.\u001b[39mHeatmap(\n\u001b[0;32m     17\u001b[0m     z\u001b[38;5;241m=\u001b[39m[df[\u001b[38;5;124m\"\u001b[39m\u001b[38;5;124mcodon_id\u001b[39m\u001b[38;5;124m\"\u001b[39m]],\n\u001b[0;32m     18\u001b[0m     colorscale\u001b[38;5;241m=\u001b[39m\u001b[38;5;124m\"\u001b[39m\u001b[38;5;124mrainbow\u001b[39m\u001b[38;5;124m\"\u001b[39m),\n\u001b[0;32m     19\u001b[0m )\n\u001b[0;32m     20\u001b[0m fig\u001b[38;5;241m.\u001b[39mshow()\n",
      "File \u001b[1;32mc:\\Users\\Nils\\AppData\\Local\\Programs\\Python\\Python311\\Lib\\site-packages\\plotly\\basedatatypes.py:3410\u001b[0m, in \u001b[0;36mBaseFigure.show\u001b[1;34m(self, *args, **kwargs)\u001b[0m\n\u001b[0;32m   3377\u001b[0m \u001b[38;5;250m\u001b[39m\u001b[38;5;124;03m\"\"\"\u001b[39;00m\n\u001b[0;32m   3378\u001b[0m \u001b[38;5;124;03mShow a figure using either the default renderer(s) or the renderer(s)\u001b[39;00m\n\u001b[0;32m   3379\u001b[0m \u001b[38;5;124;03mspecified by the renderer argument\u001b[39;00m\n\u001b[1;32m   (...)\u001b[0m\n\u001b[0;32m   3406\u001b[0m \u001b[38;5;124;03mNone\u001b[39;00m\n\u001b[0;32m   3407\u001b[0m \u001b[38;5;124;03m\"\"\"\u001b[39;00m\n\u001b[0;32m   3408\u001b[0m \u001b[38;5;28;01mimport\u001b[39;00m \u001b[38;5;21;01mplotly\u001b[39;00m\u001b[38;5;21;01m.\u001b[39;00m\u001b[38;5;21;01mio\u001b[39;00m \u001b[38;5;28;01mas\u001b[39;00m \u001b[38;5;21;01mpio\u001b[39;00m\n\u001b[1;32m-> 3410\u001b[0m \u001b[38;5;28;01mreturn\u001b[39;00m \u001b[43mpio\u001b[49m\u001b[38;5;241;43m.\u001b[39;49m\u001b[43mshow\u001b[49m\u001b[43m(\u001b[49m\u001b[38;5;28;43mself\u001b[39;49m\u001b[43m,\u001b[49m\u001b[43m \u001b[49m\u001b[38;5;241;43m*\u001b[39;49m\u001b[43margs\u001b[49m\u001b[43m,\u001b[49m\u001b[43m \u001b[49m\u001b[38;5;241;43m*\u001b[39;49m\u001b[38;5;241;43m*\u001b[39;49m\u001b[43mkwargs\u001b[49m\u001b[43m)\u001b[49m\n",
      "File \u001b[1;32mc:\\Users\\Nils\\AppData\\Local\\Programs\\Python\\Python311\\Lib\\site-packages\\plotly\\io\\_renderers.py:394\u001b[0m, in \u001b[0;36mshow\u001b[1;34m(fig, renderer, validate, **kwargs)\u001b[0m\n\u001b[0;32m    389\u001b[0m         \u001b[38;5;28;01mraise\u001b[39;00m \u001b[38;5;167;01mValueError\u001b[39;00m(\n\u001b[0;32m    390\u001b[0m             \u001b[38;5;124m\"\u001b[39m\u001b[38;5;124mMime type rendering requires ipython but it is not installed\u001b[39m\u001b[38;5;124m\"\u001b[39m\n\u001b[0;32m    391\u001b[0m         )\n\u001b[0;32m    393\u001b[0m     \u001b[38;5;28;01mif\u001b[39;00m \u001b[38;5;129;01mnot\u001b[39;00m nbformat \u001b[38;5;129;01mor\u001b[39;00m Version(nbformat\u001b[38;5;241m.\u001b[39m__version__) \u001b[38;5;241m<\u001b[39m Version(\u001b[38;5;124m\"\u001b[39m\u001b[38;5;124m4.2.0\u001b[39m\u001b[38;5;124m\"\u001b[39m):\n\u001b[1;32m--> 394\u001b[0m         \u001b[38;5;28;01mraise\u001b[39;00m \u001b[38;5;167;01mValueError\u001b[39;00m(\n\u001b[0;32m    395\u001b[0m             \u001b[38;5;124m\"\u001b[39m\u001b[38;5;124mMime type rendering requires nbformat>=4.2.0 but it is not installed\u001b[39m\u001b[38;5;124m\"\u001b[39m\n\u001b[0;32m    396\u001b[0m         )\n\u001b[0;32m    398\u001b[0m     ipython_display\u001b[38;5;241m.\u001b[39mdisplay(bundle, raw\u001b[38;5;241m=\u001b[39m\u001b[38;5;28;01mTrue\u001b[39;00m)\n\u001b[0;32m    400\u001b[0m \u001b[38;5;66;03m# external renderers\u001b[39;00m\n",
      "\u001b[1;31mValueError\u001b[0m: Mime type rendering requires nbformat>=4.2.0 but it is not installed"
     ]
    }
   ],
   "source": [
    "def visualize_plotly(record, selected_aa):\n",
    "    selected_codons = translation_table[selected_aa]\n",
    "    codons = [record[i:i + 3] for i in range(0, len(record), 3)]\n",
    "\n",
    "    data = {\"codon\": codons,\n",
    "            \"translation\": [str(Seq(c).translate()) for c in codons],\n",
    "            \"codon_id\": [selected_codons.index(c) if c in selected_codons else -1 for c in codons],\n",
    "            \"all_codon_id\": [codon_list.index(c) for c in codons]\n",
    "            }\n",
    "\n",
    "    df = pd.DataFrame(data)\n",
    "    \n",
    "    fig = px.imshow([df[\"codon_id\"]], aspect=\"auto\", height=300)\n",
    "    fig.show()\n",
    "\n",
    "    fig = go.Figure(go.Heatmap(\n",
    "        z=[df[\"codon_id\"]],\n",
    "        colorscale=\"rainbow\"),\n",
    "    )\n",
    "    fig.show()\n",
    "\n",
    "\n",
    "visualize_plotly(records[2], selected_aa=\"A\")"
   ]
  },
  {
   "cell_type": "code",
   "execution_count": 13,
   "id": "b8066b852b9c9e25",
   "metadata": {
    "ExecuteTime": {
     "end_time": "2024-04-12T14:57:47.599401Z",
     "start_time": "2024-04-12T14:57:47.546618Z"
    },
    "collapsed": false
   },
   "outputs": [
    {
     "data": {
      "image/png": "[encoded data removed]",
      "text/plain": [
       "<Figure size 2500x100 with 1 Axes>"
      ]
     },
     "metadata": {},
     "output_type": "display_data"
    }
   ],
   "source": [
    "def visualize_mpl(record, selected_aa, mpl_colormap):\n",
    "    selected_codons = translation_table[selected_aa]\n",
    "    codons = [record[i:i + 3] for i in range(0, len(record), 3)]\n",
    "    codon_ids = [selected_codons.index(c) if c in selected_codons else -1 for c in codons]\n",
    "\n",
    "    colors = mpl.colormaps[mpl_colormap].colors\n",
    "\n",
    "    z = [[colors[c] for c in codon_ids]]\n",
    "    \n",
    "    fig, ax = plt.subplots()\n",
    "\n",
    "    fig.set_figwidth(25)\n",
    "    fig.set_figheight(1)\n",
    "    ax.set_title(\"Verteilung der Codons einer Sequenz für die Aminosäure: Alanine\")\n",
    "    ax.set_xlabel(\"Anzahl Codons\")\n",
    "    ax.set_yticks([])\n",
    "    ax.pcolormesh(z)\n",
    "\n",
    "\n",
    "visualize_mpl(records[2], selected_aa=\"A\", mpl_colormap=\"Set1\")"
   ]
  }
 ],
 "metadata": {
  "kernelspec": {
   "display_name": "Python 3",
   "language": "python",
   "name": "python3"
  },
  "language_info": {
   "codemirror_mode": {
    "name": "ipython",
    "version": 3
   },
   "file_extension": ".py",
   "mimetype": "text/x-python",
   "name": "python",
   "nbconvert_exporter": "python",
   "pygments_lexer": "ipython3",
   "version": "3.11.3"
  }
 },
 "nbformat": 4,
 "nbformat_minor": 5
}
