{
 "cells": [
  {
   "cell_type": "markdown",
   "metadata": {},
   "source": [
    "# Encoder-only Transformer Architektur"
   ]
  },
  {
   "cell_type": "code",
   "execution_count": 7,
   "metadata": {},
   "outputs": [],
   "source": [
    "import sys\n",
    "import random\n",
    "import numpy as np\n",
    "import pandas as pd\n",
    "import ast\n",
    "import torch\n",
    "import torch.nn as nn\n",
    "import torch.optim as optim\n",
    "\n",
    "sys.path.append('../scripts')\n",
    "import ml_helper"
   ]
  },
  {
   "cell_type": "markdown",
   "metadata": {},
   "source": [
    "## Prepare Test and Training Data Loader"
   ]
  },
  {
   "cell_type": "code",
   "execution_count": 2,
   "metadata": {},
   "outputs": [
    {
     "name": "stderr",
     "output_type": "stream",
     "text": [
      "c:\\Users\\insab\\OneDrive\\_Dokumente\\Studium\\Master\\Vorlesungen\\SS24\\PMDS\\Codons Repo\\notebooks\\../scripts\\ml_helper.py:48: SettingWithCopyWarning: \n",
      "A value is trying to be set on a copy of a slice from a DataFrame\n",
      "\n",
      "See the caveats in the documentation: https://pandas.pydata.org/pandas-docs/stable/user_guide/indexing.html#returning-a-view-versus-a-copy\n",
      "  filtered_df.drop(columns=['sequence_length'], inplace=True)\n"
     ]
    }
   ],
   "source": [
    "organism = \"E.Coli\"\n",
    "min_length = 200\n",
    "max_length = 500\n",
    "dataset = ml_helper.CodonDataset(organism, min_length, max_length)"
   ]
  },
  {
   "cell_type": "code",
   "execution_count": 11,
   "metadata": {},
   "outputs": [
    {
     "data": {
      "text/plain": [
       "2059"
      ]
     },
     "execution_count": 11,
     "metadata": {},
     "output_type": "execute_result"
    }
   ],
   "source": [
    "len(dataset)"
   ]
  },
  {
   "cell_type": "code",
   "execution_count": 5,
   "metadata": {},
   "outputs": [
    {
     "name": "stdout",
     "output_type": "stream",
     "text": [
      "(tensor([[0., 0., 0.,  ..., 0., 0., 0.],\n",
      "        [0., 0., 0.,  ..., 1., 0., 0.],\n",
      "        [0., 0., 0.,  ..., 0., 0., 0.],\n",
      "        ...,\n",
      "        [0., 0., 0.,  ..., 0., 0., 1.],\n",
      "        [0., 0., 0.,  ..., 0., 0., 1.],\n",
      "        [0., 0., 0.,  ..., 0., 0., 1.]]), tensor([35., 48., 42., 48.,  8., 53., 23., 52.,  5., 44., 53., 40., 35., 45.,\n",
      "        49., 63.,  0., 56., 51., 17., 63., 55., 55., 51., 38., 20., 48., 56.,\n",
      "        60., 54.,  3., 17., 62., 56., 50., 49., 39., 48., 59., 55., 54., 59.,\n",
      "        38.,  1., 44., 17., 41., 41., 17., 62., 29.,  0., 53., 56., 43., 19.,\n",
      "        23.,  6., 58., 22., 31., 58., 40., 33., 48.,  8., 27., 13., 15., 59.,\n",
      "        28.,  0., 13., 27., 58., 19., 60., 43., 26., 32., 22., 51., 55., 35.,\n",
      "        37., 19., 58., 43., 40., 35., 23., 33., 60.,  7., 61.,  2., 61.,  5.,\n",
      "        44., 53., 12.,  7., 51., 49., 55., 55., 19., 35., 55., 35., 40., 58.,\n",
      "        25., 13., 61., 43., 23., 16., 40., 57., 36., 28.,  3., 19., 52.,  3.,\n",
      "        35., 61., 59., 19., 58., 61., 28., 33.,  5., 61., 45., 32., 24.,  9.,\n",
      "        57., 41., 51., 54., 23., 12.,  0., 17., 60., 60., 35., 27.,  3., 35.,\n",
      "        33., 58., 58., 41., 57., 33., 33., 45., 27., 26., 51., 22., 63.,  0.,\n",
      "        56., 59., 15., 19., 15., 51., 19., 55.,  8., 23., 63., 32., 42., 49.,\n",
      "         7., 39., 54., 58., 53., 47., 52., 32.,  2., 23., 55., 27.,  8., 29.,\n",
      "        29., 27., 56., 13., 32., 55., 25., 63., 30., 24., 19., 54., 61.,  1.,\n",
      "        32., 25., 53., 13.,  8.,  5., 28., 27., 20., 59., 16., 53., 55., 43.,\n",
      "        19., 35., 42., 56., 48., 33., 52., 58., 21.,  9., 28., 58., 31.,  2.,\n",
      "        19., 22., 61.,  1., 31., 27., 55., 31., 27., 55., 49., 55., 58., 33.,\n",
      "        61., 55., 50., 55., 45., 60., 33.,  5., 61.,  5., 61., 23., 37.,  3.,\n",
      "         1., 52., 19., 12., 57., 43., 23., 58., 37., 53., 27., 29., 48., 53.,\n",
      "        57., 15.,  3., 60., 43., 41.,  9., 19., 26., 40., 27., 58., 60.,  0.,\n",
      "        48., 24., 32., 13., 31., 19., 56., 39., 55., 61., 54., 30., 50., 19.,\n",
      "        58., 41., 10., 64., 64., 64., 64., 64., 64., 64., 64., 64., 64., 64.,\n",
      "        64., 64., 64., 64., 64., 64., 64., 64., 64., 64., 64., 64., 64., 64.,\n",
      "        64., 64., 64., 64., 64., 64., 64., 64., 64., 64., 64., 64., 64., 64.,\n",
      "        64., 64., 64., 64., 64., 64., 64., 64., 64., 64., 64., 64., 64., 64.,\n",
      "        64., 64., 64., 64., 64., 64., 64., 64., 64., 64., 64., 64., 64., 64.,\n",
      "        64., 64., 64., 64., 64., 64., 64., 64., 64., 64., 64., 64., 64., 64.,\n",
      "        64., 64., 64., 64., 64., 64., 64., 64., 64., 64., 64., 64., 64., 64.,\n",
      "        64., 64., 64., 64., 64., 64., 64., 64., 64., 64., 64., 64., 64., 64.,\n",
      "        64., 64., 64., 64., 64., 64., 64., 64., 64., 64., 64., 64., 64., 64.,\n",
      "        64., 64., 64., 64., 64., 64., 64., 64., 64., 64., 64., 64., 64., 64.,\n",
      "        64., 64., 64., 64., 64., 64., 64., 64., 64., 64., 64., 64., 64., 64.,\n",
      "        64., 64., 64., 64., 64., 64., 64., 64., 64., 64., 64., 64., 64., 64.,\n",
      "        64., 64., 64., 64., 64., 64., 64., 64., 64., 64., 64., 64., 64., 64.,\n",
      "        64., 64., 64., 64., 64., 64., 64., 64., 64., 64.]))\n",
      "torch.Size([500, 22])\n",
      "torch.Size([500])\n"
     ]
    }
   ],
   "source": [
    "print(dataset[0])\n",
    "print(dataset[0][0].size())\n",
    "print(dataset[0][1].size())"
   ]
  },
  {
   "cell_type": "code",
   "execution_count": 8,
   "metadata": {},
   "outputs": [],
   "source": [
    "SEED = 42\n",
    "random.seed(SEED)\n",
    "np.random.seed(SEED)\n",
    "torch.manual_seed(SEED)\n",
    "torch.cuda.manual_seed(SEED)"
   ]
  },
  {
   "cell_type": "code",
   "execution_count": 9,
   "metadata": {},
   "outputs": [],
   "source": [
    "from torch.utils.data import Dataset, random_split, DataLoader\n",
    "\n",
    "test_length = int(dataset.__len__() * 0.2)\n",
    "train_length = dataset.__len__() - test_length\n",
    "\n",
    "train_data, test_data = random_split(dataset, [train_length, test_length])"
   ]
  },
  {
   "cell_type": "code",
   "execution_count": 10,
   "metadata": {},
   "outputs": [
    {
     "name": "stdout",
     "output_type": "stream",
     "text": [
      "trainset size: 1648\n",
      "testset size: 411\n"
     ]
    }
   ],
   "source": [
    "print('trainset size:', train_data.__len__())\n",
    "print('testset size:', test_data.__len__())"
   ]
  },
  {
   "cell_type": "code",
   "execution_count": 12,
   "metadata": {},
   "outputs": [],
   "source": [
    "BATCH_SIZE = 32\n",
    "train_loader = DataLoader(train_data, batch_size=BATCH_SIZE, shuffle=True)\n",
    "test_loader = DataLoader(test_data, batch_size=BATCH_SIZE, shuffle=False)"
   ]
  },
  {
   "cell_type": "code",
   "execution_count": null,
   "metadata": {},
   "outputs": [],
   "source": []
  }
 ],
 "metadata": {
  "kernelspec": {
   "display_name": "base",
   "language": "python",
   "name": "python3"
  },
  "language_info": {
   "codemirror_mode": {
    "name": "ipython",
    "version": 3
   },
   "file_extension": ".py",
   "mimetype": "text/x-python",
   "name": "python",
   "nbconvert_exporter": "python",
   "pygments_lexer": "ipython3",
   "version": "3.11.5"
  }
 },
 "nbformat": 4,
 "nbformat_minor": 2
}
