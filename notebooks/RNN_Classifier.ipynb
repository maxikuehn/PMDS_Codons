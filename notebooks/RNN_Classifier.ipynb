{
 "cells": [
  {
   "cell_type": "markdown",
   "id": "c769c947119d606e",
   "metadata": {},
   "source": [
    "# RNN Classifier"
   ]
  },
  {
   "cell_type": "code",
   "execution_count": 204,
   "id": "dd2db30860a62993",
   "metadata": {
    "ExecuteTime": {
     "end_time": "2024-05-15T10:10:23.964054Z",
     "start_time": "2024-05-15T10:10:23.940938Z"
    }
   },
   "outputs": [
    {
     "name": "stdout",
     "output_type": "stream",
     "text": [
      "The autoreload extension is already loaded. To reload it, use:\n",
      "  %reload_ext autoreload\n"
     ]
    }
   ],
   "source": [
    "%load_ext autoreload\n",
    "%autoreload 2"
   ]
  },
  {
   "cell_type": "code",
   "execution_count": 210,
   "id": "initial_id",
   "metadata": {
    "ExecuteTime": {
     "end_time": "2024-05-15T10:11:55.265776Z",
     "start_time": "2024-05-15T10:11:55.243526Z"
    },
    "collapsed": true
   },
   "outputs": [],
   "source": [
    "import sys\n",
    "import torch\n",
    "import torch.nn as nn\n",
    "from torch import optim\n",
    "from torch.utils.data import DataLoader\n",
    "\n",
    "sys.path.append('../scripts')\n",
    "import ml_helper as mlh\n",
    "import rnn"
   ]
  },
  {
   "cell_type": "code",
   "execution_count": 206,
   "id": "3c7187a43dc55642",
   "metadata": {
    "ExecuteTime": {
     "end_time": "2024-05-15T10:10:24.887633Z",
     "start_time": "2024-05-15T10:10:24.871770Z"
    }
   },
   "outputs": [
    {
     "name": "stdout",
     "output_type": "stream",
     "text": [
      "Using cpu device\n"
     ]
    }
   ],
   "source": [
    "device = torch.device(\n",
    "    \"cuda\"\n",
    "    if torch.cuda.is_available()\n",
    "    # else \"mps\"\n",
    "    # if torch.backends.mps.is_available()\n",
    "    else \"cpu\"\n",
    ")\n",
    "print(f\"Using {device} device\")"
   ]
  },
  {
   "cell_type": "markdown",
   "id": "ff0b66bcd08d7662",
   "metadata": {},
   "source": [
    "### Data Preperation"
   ]
  },
  {
   "cell_type": "code",
   "execution_count": 207,
   "id": "c4a940351fe6b0a7",
   "metadata": {
    "ExecuteTime": {
     "end_time": "2024-05-08T16:50:44.460665Z",
     "start_time": "2024-05-08T16:50:42.860971Z"
    }
   },
   "outputs": [
    {
     "name": "stdout",
     "output_type": "stream",
     "text": [
      "Länge train_dataset: 2839\n"
     ]
    }
   ],
   "source": [
    "organism = \"E.Coli\"\n",
    "batch_size = 1\n",
    "min_length = None\n",
    "max_length = 600\n",
    "padding_pos = \"right\" if batch_size > 1 else None\n",
    "\n",
    "train_dataset = mlh.CodonDataset(organism=organism, split=\"train\", min_length=min_length, max_length=max_length, padding_pos=padding_pos)\n",
    "print(\"Länge train_dataset:\", len(train_dataset))\n",
    "train_loader = DataLoader(train_dataset, shuffle=True, batch_size=batch_size)"
   ]
  },
  {
   "cell_type": "markdown",
   "id": "db28e500",
   "metadata": {},
   "source": [
    "### Hyperparameters and Model Initialization"
   ]
  },
  {
   "cell_type": "code",
   "execution_count": 208,
   "id": "a7b24cfa4796351c",
   "metadata": {
    "ExecuteTime": {
     "end_time": "2024-05-08T16:50:44.882494Z",
     "start_time": "2024-05-08T16:50:44.461359Z"
    }
   },
   "outputs": [
    {
     "name": "stdout",
     "output_type": "stream",
     "text": [
      "RNN(\n",
      "  (i2h): Linear(in_features=22, out_features=128, bias=False)\n",
      "  (h2h): Linear(in_features=128, out_features=128, bias=True)\n",
      "  (h2o): Linear(in_features=128, out_features=65, bias=True)\n",
      ")\n"
     ]
    }
   ],
   "source": [
    "# Model\n",
    "input_dim = len(mlh.amino_acids)\n",
    "output_dim = len(mlh.codons)\n",
    "n_hidden = 128\n",
    "\n",
    "rnnModel = rnn.RNN(input_size=input_dim, hidden_size=n_hidden, output_size=output_dim, batch_size=batch_size)\n",
    "print(rnnModel)"
   ]
  },
  {
   "cell_type": "markdown",
   "id": "d228d52a",
   "metadata": {},
   "source": [
    "### Training"
   ]
  },
  {
   "cell_type": "code",
   "execution_count": 209,
   "id": "b4146a47e4f268e6",
   "metadata": {
    "ExecuteTime": {
     "end_time": "2024-05-08T17:07:44.476803Z",
     "start_time": "2024-05-08T16:50:44.883185Z"
    }
   },
   "outputs": [
    {
     "name": "stdout",
     "output_type": "stream",
     "text": [
      "=> Starting training on device: cpu\n",
      "loss: 1115.160645  [    1/ 2839]  (0.09s)\n",
      "loss: 1020.330322  [  201/ 2839]  (4.85s)\n",
      "loss: 522.081543  [  401/ 2839]  (9.54s)\n"
     ]
    },
    {
     "ename": "KeyboardInterrupt",
     "evalue": "",
     "output_type": "error",
     "traceback": [
      "\u001b[0;31m---------------------------------------------------------------------------\u001b[0m",
      "\u001b[0;31mKeyboardInterrupt\u001b[0m                         Traceback (most recent call last)",
      "Cell \u001b[0;32mIn[209], line 7\u001b[0m\n\u001b[1;32m      4\u001b[0m loss \u001b[38;5;241m=\u001b[39m nn\u001b[38;5;241m.\u001b[39mCrossEntropyLoss()\n\u001b[1;32m      5\u001b[0m optimizer \u001b[38;5;241m=\u001b[39m optim\u001b[38;5;241m.\u001b[39mRMSprop(rnnModel\u001b[38;5;241m.\u001b[39mparameters(), lr\u001b[38;5;241m=\u001b[39mlearning_rate)\n\u001b[0;32m----> 7\u001b[0m rnn\u001b[38;5;241m.\u001b[39mtrain(rnnModel, data\u001b[38;5;241m=\u001b[39mtrain_loader, epochs\u001b[38;5;241m=\u001b[39mepochs, optimizer\u001b[38;5;241m=\u001b[39moptimizer, loss_fn\u001b[38;5;241m=\u001b[39mloss, device\u001b[38;5;241m=\u001b[39mdevice)\n",
      "File \u001b[0;32m~/Developer/Codons/notebooks/../scripts/rnn.py:93\u001b[0m, in \u001b[0;36mtrain\u001b[0;34m(model, data, epochs, optimizer, loss_fn, device)\u001b[0m\n\u001b[1;32m     90\u001b[0m     x \u001b[38;5;241m=\u001b[39m \u001b[38;5;28minput\u001b[39m[:, i]\u001b[38;5;241m.\u001b[39mreshape(\u001b[38;5;28minput\u001b[39m\u001b[38;5;241m.\u001b[39mshape[\u001b[38;5;241m0\u001b[39m], \u001b[38;5;28minput\u001b[39m\u001b[38;5;241m.\u001b[39mshape[\u001b[38;5;241m2\u001b[39m])\n\u001b[1;32m     91\u001b[0m     out, hidden \u001b[38;5;241m=\u001b[39m model(x, hidden)\n\u001b[0;32m---> 93\u001b[0m     l \u001b[38;5;241m=\u001b[39m loss_fn(out, label[:, i]\u001b[38;5;241m.\u001b[39mlong())\n\u001b[1;32m     94\u001b[0m     loss \u001b[38;5;241m+\u001b[39m\u001b[38;5;241m=\u001b[39m l\n\u001b[1;32m     95\u001b[0m \u001b[38;5;66;03m# Complete gradients\u001b[39;00m\n",
      "\u001b[0;31mKeyboardInterrupt\u001b[0m: "
     ]
    }
   ],
   "source": [
    "# Train variables\n",
    "epochs = 5\n",
    "learning_rate = 0.01\n",
    "loss = nn.CrossEntropyLoss()\n",
    "optimizer = optim.RMSprop(rnnModel.parameters(), lr=learning_rate)\n",
    "\n",
    "rnn.train(rnnModel, data=train_loader, epochs=epochs, optimizer=optimizer, loss_fn=loss, device=device)"
   ]
  },
  {
   "cell_type": "code",
   "execution_count": null,
   "id": "727f1383",
   "metadata": {},
   "outputs": [
    {
     "name": "stdout",
     "output_type": "stream",
     "text": [
      "Model saved as 20240519160924_rnn.pt\n"
     ]
    }
   ],
   "source": [
    "mlh.save_model(rnnModel, \"rnn\", organism)"
   ]
  }
 ],
 "metadata": {
  "kernelspec": {
   "display_name": "Python 3",
   "language": "python",
   "name": "python3"
  },
  "language_info": {
   "codemirror_mode": {
    "name": "ipython",
    "version": 3
   },
   "file_extension": ".py",
   "mimetype": "text/x-python",
   "name": "python",
   "nbconvert_exporter": "python",
   "pygments_lexer": "ipython3",
   "version": "3.11.8"
  }
 },
 "nbformat": 4,
 "nbformat_minor": 5
}
