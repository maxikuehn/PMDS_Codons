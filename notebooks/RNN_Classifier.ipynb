{
 "cells": [
  {
   "cell_type": "markdown",
   "id": "c769c947119d606e",
   "metadata": {},
   "source": [
    "# RNN Classifier"
   ]
  },
  {
   "cell_type": "code",
   "execution_count": 101,
   "id": "dd2db30860a62993",
   "metadata": {
    "ExecuteTime": {
     "end_time": "2024-05-15T10:10:23.964054Z",
     "start_time": "2024-05-15T10:10:23.940938Z"
    }
   },
   "outputs": [
    {
     "name": "stdout",
     "output_type": "stream",
     "text": [
      "The autoreload extension is already loaded. To reload it, use:\n",
      "  %reload_ext autoreload\n"
     ]
    }
   ],
   "source": [
    "%load_ext autoreload\n",
    "%autoreload 2"
   ]
  },
  {
   "cell_type": "code",
   "execution_count": 102,
   "id": "initial_id",
   "metadata": {
    "ExecuteTime": {
     "end_time": "2024-05-15T10:11:55.265776Z",
     "start_time": "2024-05-15T10:11:55.243526Z"
    },
    "collapsed": true
   },
   "outputs": [],
   "source": [
    "import sys\n",
    "import torch\n",
    "import torch.nn as nn\n",
    "from torch import optim\n",
    "from torch.utils.data import DataLoader\n",
    "\n",
    "sys.path.append('../scripts')\n",
    "import ml_helper as mlh\n",
    "import rnn"
   ]
  },
  {
   "cell_type": "code",
   "execution_count": 103,
   "id": "3c7187a43dc55642",
   "metadata": {
    "ExecuteTime": {
     "end_time": "2024-05-15T10:10:24.887633Z",
     "start_time": "2024-05-15T10:10:24.871770Z"
    }
   },
   "outputs": [
    {
     "name": "stdout",
     "output_type": "stream",
     "text": [
      "Using cpu device\n"
     ]
    }
   ],
   "source": [
    "device = torch.device(\n",
    "    \"cuda\"\n",
    "    if torch.cuda.is_available()\n",
    "    else \"mps\"\n",
    "    if torch.backends.mps.is_available()\n",
    "    else \"cpu\"\n",
    ")\n",
    "device = torch.device(\"cpu\") # RNN training way faster on CPU\n",
    "print(f\"Using {device} device\")"
   ]
  },
  {
   "cell_type": "markdown",
   "id": "ff0b66bcd08d7662",
   "metadata": {},
   "source": [
    "### Data Preperation"
   ]
  },
  {
   "cell_type": "code",
   "execution_count": 104,
   "id": "c4a940351fe6b0a7",
   "metadata": {
    "ExecuteTime": {
     "end_time": "2024-05-08T16:50:44.460665Z",
     "start_time": "2024-05-08T16:50:42.860971Z"
    }
   },
   "outputs": [
    {
     "name": "stdout",
     "output_type": "stream",
     "text": [
      "Länge train_dataset: 17339\n"
     ]
    }
   ],
   "source": [
    "organisms = [\"E.Coli\", \"Drosophila.Melanogaster\", \"Homo.Sapiens\"]\n",
    "organism = organisms[1]\n",
    "batch_size = 1\n",
    "min_length = None\n",
    "max_length = None\n",
    "padding_pos = \"right\" if batch_size > 1 else None\n",
    "\n",
    "train_dataset = mlh.CodonDataset(organism=organism, split=\"train\", min_length=min_length, max_length=max_length, padding_pos=padding_pos)\n",
    "print(\"Länge train_dataset:\", len(train_dataset))\n",
    "train_loader = DataLoader(train_dataset, shuffle=True, batch_size=batch_size)"
   ]
  },
  {
   "cell_type": "markdown",
   "id": "db28e500",
   "metadata": {},
   "source": [
    "### Hyperparameters and Model Initialization"
   ]
  },
  {
   "cell_type": "code",
   "execution_count": 105,
   "id": "a7b24cfa4796351c",
   "metadata": {
    "ExecuteTime": {
     "end_time": "2024-05-08T16:50:44.882494Z",
     "start_time": "2024-05-08T16:50:44.461359Z"
    }
   },
   "outputs": [
    {
     "name": "stdout",
     "output_type": "stream",
     "text": [
      "RNN(\n",
      "  (i2h): Linear(in_features=22, out_features=128, bias=False)\n",
      "  (h2h): Linear(in_features=128, out_features=128, bias=True)\n",
      "  (h2o): Linear(in_features=128, out_features=65, bias=True)\n",
      ")\n"
     ]
    }
   ],
   "source": [
    "# Model\n",
    "input_dim = len(mlh.amino_acids)\n",
    "output_dim = len(mlh.codons)\n",
    "n_hidden = 128\n",
    "\n",
    "rnnModel = rnn.RNN(input_size=input_dim, hidden_size=n_hidden, output_size=output_dim, batch_size=batch_size)\n",
    "print(rnnModel)"
   ]
  },
  {
   "cell_type": "markdown",
   "id": "d228d52a",
   "metadata": {},
   "source": [
    "### Training"
   ]
  },
  {
   "cell_type": "code",
   "execution_count": 106,
   "id": "05773b9e",
   "metadata": {},
   "outputs": [],
   "source": [
    "# Train variables\n",
    "epochs = 1\n",
    "learning_rate = 0.001\n",
    "loss = nn.CrossEntropyLoss()\n",
    "optimizer = optim.Adagrad(rnnModel.parameters(), lr=learning_rate)\n",
    "optimizer = optim.Adam(rnnModel.parameters(), lr=learning_rate)\n",
    "optimizer = optim.RMSprop(rnnModel.parameters(), lr=learning_rate)\n",
    "optimizer = optim.SGD(rnnModel.parameters(), lr=learning_rate, momentum=0.9)"
   ]
  },
  {
   "cell_type": "code",
   "execution_count": 107,
   "id": "b4146a47e4f268e6",
   "metadata": {
    "ExecuteTime": {
     "end_time": "2024-05-08T17:07:44.476803Z",
     "start_time": "2024-05-08T16:50:44.883185Z"
    }
   },
   "outputs": [
    {
     "name": "stdout",
     "output_type": "stream",
     "text": [
      "=> Starting training on device: cpu\n",
      "loss:  3.7295  [  200/17339]\n",
      "loss:  3.3024  [  400/17339]\n",
      "loss:  2.8757  [  600/17339]\n",
      "loss:  2.5178  [  800/17339]\n",
      "loss:  2.2621  [ 1000/17339]\n",
      "loss:  2.0783  [ 1200/17339]\n",
      "loss:  1.9434  [ 1400/17339]\n",
      "loss:  1.8404  [ 1600/17339]\n",
      "loss:  1.7586  [ 1800/17339]\n",
      "loss:  1.6922  [ 2000/17339]\n",
      "loss:  1.6383  [ 2200/17339]\n",
      "loss:  1.5924  [ 2400/17339]\n",
      "loss:  1.5536  [ 2600/17339]\n",
      "loss:  1.5200  [ 2800/17339]\n",
      "loss:  1.4912  [ 3000/17339]\n",
      "loss:  1.4658  [ 3200/17339]\n",
      "loss:  1.4430  [ 3400/17339]\n",
      "loss:  1.4231  [ 3600/17339]\n",
      "loss:  1.4048  [ 3800/17339]\n",
      "loss:  1.3881  [ 4000/17339]\n",
      "loss:  1.3730  [ 4200/17339]\n",
      "loss:  1.3592  [ 4400/17339]\n",
      "loss:  1.3462  [ 4600/17339]\n",
      "loss:  1.3349  [ 4800/17339]\n",
      "loss:  1.3245  [ 5000/17339]\n",
      "loss:  1.3153  [ 5200/17339]\n",
      "loss:  1.3058  [ 5400/17339]\n",
      "loss:  1.2977  [ 5600/17339]\n",
      "loss:  1.2901  [ 5800/17339]\n",
      "loss:  1.2827  [ 6000/17339]\n",
      "loss:  1.2761  [ 6200/17339]\n",
      "loss:  1.2699  [ 6400/17339]\n",
      "loss:  1.2639  [ 6600/17339]\n",
      "loss:  1.2579  [ 6800/17339]\n",
      "loss:  1.2527  [ 7000/17339]\n",
      "loss:  1.2476  [ 7200/17339]\n",
      "loss:  1.2432  [ 7400/17339]\n",
      "loss:  1.2389  [ 7600/17339]\n",
      "loss:  1.2345  [ 7800/17339]\n",
      "loss:  1.2303  [ 8000/17339]\n",
      "loss:  1.2263  [ 8200/17339]\n",
      "loss:  1.2227  [ 8400/17339]\n",
      "loss:  1.2188  [ 8600/17339]\n",
      "loss:  1.2151  [ 8800/17339]\n",
      "loss:  1.2119  [ 9000/17339]\n",
      "loss:  1.2084  [ 9200/17339]\n",
      "loss:  1.2054  [ 9400/17339]\n",
      "loss:  1.2027  [ 9600/17339]\n",
      "loss:  1.1997  [ 9800/17339]\n",
      "loss:  1.1971  [10000/17339]\n",
      "loss:  1.1946  [10200/17339]\n",
      "loss:  1.1921  [10400/17339]\n",
      "loss:  1.1896  [10600/17339]\n",
      "loss:  1.1875  [10800/17339]\n",
      "loss:  1.1854  [11000/17339]\n",
      "loss:  1.1831  [11200/17339]\n",
      "loss:  1.1810  [11400/17339]\n",
      "loss:  1.1789  [11600/17339]\n",
      "loss:  1.1769  [11800/17339]\n",
      "loss:  1.1749  [12000/17339]\n",
      "loss:  1.1732  [12200/17339]\n",
      "loss:  1.1714  [12400/17339]\n",
      "loss:  1.1696  [12600/17339]\n",
      "loss:  1.1681  [12800/17339]\n",
      "loss:  1.1664  [13000/17339]\n",
      "loss:  1.1648  [13200/17339]\n",
      "loss:  1.1633  [13400/17339]\n",
      "loss:  1.1620  [13600/17339]\n",
      "loss:  1.1607  [13800/17339]\n",
      "loss:  1.1592  [14000/17339]\n",
      "loss:  1.1578  [14200/17339]\n",
      "loss:  1.1565  [14400/17339]\n",
      "loss:  1.1552  [14600/17339]\n",
      "loss:  1.1540  [14800/17339]\n",
      "loss:  1.1529  [15000/17339]\n",
      "loss:  1.1518  [15200/17339]\n",
      "loss:  1.1506  [15400/17339]\n",
      "loss:  1.1496  [15600/17339]\n",
      "loss:  1.1485  [15800/17339]\n",
      "loss:  1.1474  [16000/17339]\n",
      "loss:  1.1463  [16200/17339]\n",
      "loss:  1.1452  [16400/17339]\n",
      "loss:  1.1440  [16600/17339]\n",
      "loss:  1.1430  [16800/17339]\n",
      "loss:  1.1421  [17000/17339]\n",
      "loss:  1.1412  [17200/17339]\n",
      "=> epoch: 1/1, loss: 1.1406, epoch time: 2060.78s\n",
      "=> Finished training in 2060.78s\n"
     ]
    }
   ],
   "source": [
    "rnn.train(rnnModel, data=train_loader, epochs=epochs, optimizer=optimizer, loss_fn=loss, device=device)"
   ]
  },
  {
   "cell_type": "markdown",
   "id": "27b7653f",
   "metadata": {},
   "source": [
    "Epoch times for different optimizers (hidden_size=128):\n",
    "- Adagrad: 92s\n",
    "- Adam: 90s\n",
    "- SGD: 89s\n",
    "- RMSprop: 91s\n"
   ]
  },
  {
   "cell_type": "code",
   "execution_count": 108,
   "id": "727f1383",
   "metadata": {},
   "outputs": [
    {
     "name": "stdout",
     "output_type": "stream",
     "text": [
      "Model saved as 20240521150637_rnn_hidden128_epochs1_lr0.001_optimSGD.pt\n"
     ]
    }
   ],
   "source": [
    "mlh.save_model(rnnModel, \"rnn\", organism, appendix=f\"hidden{n_hidden}_epochs{epochs}_lr{learning_rate}_optim{optimizer.__class__.__name__}\")"
   ]
  }
 ],
 "metadata": {
  "kernelspec": {
   "display_name": "Python 3",
   "language": "python",
   "name": "python3"
  },
  "language_info": {
   "codemirror_mode": {
    "name": "ipython",
    "version": 3
   },
   "file_extension": ".py",
   "mimetype": "text/x-python",
   "name": "python",
   "nbconvert_exporter": "python",
   "pygments_lexer": "ipython3",
   "version": "3.11.8"
  }
 },
 "nbformat": 4,
 "nbformat_minor": 5
}
