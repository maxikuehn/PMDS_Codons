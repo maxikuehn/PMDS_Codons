{
 "cells": [
  {
   "cell_type": "code",
   "execution_count": 3,
   "metadata": {},
   "outputs": [],
   "source": [
    "import pandas as pd\n",
    "import sys\n",
    "sys.path.append('../scripts')\n",
    "import Baseline_classificator as b_c\n"
   ]
  },
  {
   "cell_type": "code",
   "execution_count": 4,
   "metadata": {},
   "outputs": [
    {
     "name": "stdout",
     "output_type": "stream",
     "text": [
      "E.Coli\n"
     ]
    },
    {
     "ename": "KeyError",
     "evalue": "'error_rate'",
     "output_type": "error",
     "traceback": [
      "\u001b[1;31m---------------------------------------------------------------------------\u001b[0m",
      "\u001b[1;31mKeyError\u001b[0m                                  Traceback (most recent call last)",
      "Cell \u001b[1;32mIn[4], line 18\u001b[0m\n\u001b[0;32m     16\u001b[0m \u001b[38;5;28mprint\u001b[39m(organism)\n\u001b[0;32m     17\u001b[0m \u001b[38;5;66;03m#print(unweighted_result['error_rate'])\u001b[39;00m\n\u001b[1;32m---> 18\u001b[0m \u001b[38;5;28mprint\u001b[39m(\u001b[43mhighest_result\u001b[49m\u001b[43m[\u001b[49m\u001b[38;5;124;43m'\u001b[39;49m\u001b[38;5;124;43merror_rate\u001b[39;49m\u001b[38;5;124;43m'\u001b[39;49m\u001b[43m]\u001b[49m)\n\u001b[0;32m     19\u001b[0m \u001b[38;5;66;03m#print(weighted_result['error_rate'])\u001b[39;00m\n",
      "\u001b[1;31mKeyError\u001b[0m: 'error_rate'"
     ]
    }
   ],
   "source": [
    "organisms = [\"E.Coli\", \"Drosophila.Melanogaster\", \"Homo.Sapiens\"]\n",
    "\n",
    "dfs = {}\n",
    "bias ={}\n",
    "highest = {}\n",
    "unweighted_classificator = b_c.Baseline_classificator()\n",
    "for organism in organisms:\n",
    "    dfs[organism] = pd.read_pickle(f\"../data/{organism}/cleanedData.pkl\")\n",
    "    bias[organism] = pd.read_pickle(f\"../data/{organism}/usageBias.pkl\")\n",
    "    highest[organism] = b_c.get_highest(bias[organism])\n",
    "    organism_classificator = b_c.Baseline_classificator(bias[organism])\n",
    "    highest_classificator = b_c.Baseline_classificator(highest[organism])\n",
    "    unweighted_result = unweighted_classificator.check_classificator_new(dfs[organism])\n",
    "    highest_result = highest_classificator.check_classificator_new(dfs[organism])\n",
    "    weighted_result = organism_classificator.check_classificator_new(dfs[organism])\n",
    "    print(f\"Organismus: {organism}\")\n",
    "    print(f\"Ungewichtete Error Rate: {unweighted_result['error_rate']}\")\n",
    "    print(f\"Nimm immer mit Höchste Wahrscheinlichkeit Error Rate: {highest_result['error_rate']}\")\n",
    "    print(f\"Gewichtete Error Rate: {weighted_result['error_rate']}\")\n",
    "                     \n"
   ]
  }
 ],
 "metadata": {
  "kernelspec": {
   "display_name": "Python 3",
   "language": "python",
   "name": "python3"
  },
  "language_info": {
   "codemirror_mode": {
    "name": "ipython",
    "version": 3
   },
   "file_extension": ".py",
   "mimetype": "text/x-python",
   "name": "python",
   "nbconvert_exporter": "python",
   "pygments_lexer": "ipython3",
   "version": "3.11.8"
  }
 },
 "nbformat": 4,
 "nbformat_minor": 2
}
