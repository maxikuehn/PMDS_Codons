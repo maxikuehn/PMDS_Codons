{
 "cells": [
  {
   "cell_type": "code",
   "execution_count": 2,
   "metadata": {},
   "outputs": [],
   "source": [
    "import pandas as pd\n",
    "import sys\n",
    "sys.path.append('../scripts')\n",
    "import Baseline_classificator as b_c\n"
   ]
  },
  {
   "cell_type": "markdown",
   "metadata": {},
   "source": [
    "Berechne den Fehler Rate $E$  $$E: 1-{T \\over G} $$\n",
    "$T$: Anzahl richtig klassifizierter Aminosäuren\n",
    "über alle Sequenzen eines betrachteten Organismus \\\n",
    "$G$: Gesamtanzahl der zu klassifizierenden Aminosäuren \n",
    "über alle Sequenzen eines betrachteten Organismus\n",
    "\n"
   ]
  },
  {
   "cell_type": "code",
   "execution_count": 3,
   "metadata": {},
   "outputs": [
    {
     "name": "stdout",
     "output_type": "stream",
     "text": [
      "Organismus: E.Coli\n",
      "Ungewichtete Error Rate: {'amount': 59028.0, 'true_codons': 21034, 'error_rate:': 0.6436606356305482}\n",
      "Nimm immer mit Höchste Wahrscheinlichkeit Error Rate: {'amount': 59028.0, 'true_codons': 30286, 'error_rate:': 0.48692146100155853}\n",
      "Gewichtete Error Rate: {'amount': 59028.0, 'true_codons': 24516, 'error_rate:': 0.5846716812360235}\n",
      "Organismus: Drosophila.Melanogaster\n",
      "Ungewichtete Error Rate: {'amount': 738096.0, 'true_codons': 260661, 'error_rate:': 0.6468467516420628}\n",
      "Nimm immer mit Höchste Wahrscheinlichkeit Error Rate: {'amount': 738096.0, 'true_codons': 362124, 'error_rate:': 0.5093808935423034}\n",
      "Gewichtete Error Rate: {'amount': 738096.0, 'true_codons': 291111, 'error_rate:': 0.6055919555179814}\n"
     ]
    },
    {
     "ename": "KeyboardInterrupt",
     "evalue": "",
     "output_type": "error",
     "traceback": [
      "\u001b[1;31m---------------------------------------------------------------------------\u001b[0m",
      "\u001b[1;31mKeyboardInterrupt\u001b[0m                         Traceback (most recent call last)",
      "Cell \u001b[1;32mIn[3], line 16\u001b[0m\n\u001b[0;32m     14\u001b[0m unweighted_result \u001b[38;5;241m=\u001b[39m unweighted_classificator\u001b[38;5;241m.\u001b[39mcheck_classificator_new(dfs[organism])\n\u001b[0;32m     15\u001b[0m highest_result \u001b[38;5;241m=\u001b[39m highest_classificator\u001b[38;5;241m.\u001b[39mcheck_classificator_new(dfs[organism])\n\u001b[1;32m---> 16\u001b[0m weighted_result \u001b[38;5;241m=\u001b[39m \u001b[43morganism_classificator\u001b[49m\u001b[38;5;241;43m.\u001b[39;49m\u001b[43mcheck_classificator_new\u001b[49m\u001b[43m(\u001b[49m\u001b[43mdfs\u001b[49m\u001b[43m[\u001b[49m\u001b[43morganism\u001b[49m\u001b[43m]\u001b[49m\u001b[43m)\u001b[49m\n\u001b[0;32m     17\u001b[0m \u001b[38;5;28mprint\u001b[39m(\u001b[38;5;124mf\u001b[39m\u001b[38;5;124m\"\u001b[39m\u001b[38;5;124mOrganismus: \u001b[39m\u001b[38;5;132;01m{\u001b[39;00morganism\u001b[38;5;132;01m}\u001b[39;00m\u001b[38;5;124m\"\u001b[39m)\n\u001b[0;32m     18\u001b[0m \u001b[38;5;28mprint\u001b[39m(\u001b[38;5;124mf\u001b[39m\u001b[38;5;124m\"\u001b[39m\u001b[38;5;124mUngewichtete Error Rate: \u001b[39m\u001b[38;5;132;01m{\u001b[39;00munweighted_result\u001b[38;5;132;01m}\u001b[39;00m\u001b[38;5;124m\"\u001b[39m)\n",
      "File \u001b[1;32mc:\\Users\\flori\\Documents\\Studium\\Master\\MasterSemester2\\PMDS\\Codons\\notebooks\\../scripts\\Baseline_classificator.py:62\u001b[0m, in \u001b[0;36mBaseline_classificator.check_classificator_new\u001b[1;34m(self, df, seed_number)\u001b[0m\n\u001b[0;32m     60\u001b[0m amount \u001b[38;5;241m=\u001b[39m \u001b[38;5;241m0\u001b[39m\n\u001b[0;32m     61\u001b[0m \u001b[38;5;28;01mfor\u001b[39;00m i \u001b[38;5;129;01min\u001b[39;00m df\u001b[38;5;241m.\u001b[39mindex:\n\u001b[1;32m---> 62\u001b[0m     tmp\u001b[38;5;241m=\u001b[39m \u001b[38;5;28mself\u001b[39m\u001b[38;5;241m.\u001b[39mcheck_codons(df[\u001b[38;5;124m'\u001b[39m\u001b[38;5;124msequence\u001b[39m\u001b[38;5;124m'\u001b[39m][i],\u001b[38;5;28;43mself\u001b[39;49m\u001b[38;5;241;43m.\u001b[39;49m\u001b[43mget_codons\u001b[49m\u001b[43m(\u001b[49m\u001b[43mdf\u001b[49m\u001b[43m[\u001b[49m\u001b[38;5;124;43m'\u001b[39;49m\u001b[38;5;124;43mtranslation\u001b[39;49m\u001b[38;5;124;43m'\u001b[39;49m\u001b[43m]\u001b[49m\u001b[43m[\u001b[49m\u001b[43mi\u001b[49m\u001b[43m]\u001b[49m\u001b[38;5;241;43m.\u001b[39;49m\u001b[43mseq\u001b[49m\u001b[43m)\u001b[49m)\n\u001b[0;32m     63\u001b[0m     true_codons \u001b[38;5;241m+\u001b[39m\u001b[38;5;241m=\u001b[39m tmp[\u001b[38;5;241m0\u001b[39m]\n\u001b[0;32m     64\u001b[0m     amount \u001b[38;5;241m+\u001b[39m\u001b[38;5;241m=\u001b[39m tmp[\u001b[38;5;241m1\u001b[39m]\n",
      "File \u001b[1;32mc:\\Users\\flori\\Documents\\Studium\\Master\\MasterSemester2\\PMDS\\Codons\\notebooks\\../scripts\\Baseline_classificator.py:41\u001b[0m, in \u001b[0;36mBaseline_classificator.get_codons\u001b[1;34m(self, seq)\u001b[0m\n\u001b[0;32m     40\u001b[0m \u001b[38;5;28;01mdef\u001b[39;00m \u001b[38;5;21mget_codons\u001b[39m(\u001b[38;5;28mself\u001b[39m, seq: \u001b[38;5;28mstr\u001b[39m) \u001b[38;5;241m-\u001b[39m\u001b[38;5;241m>\u001b[39m \u001b[38;5;28mstr\u001b[39m:\n\u001b[1;32m---> 41\u001b[0m     \u001b[38;5;28;01mreturn\u001b[39;00m \u001b[38;5;124m'\u001b[39m\u001b[38;5;124m'\u001b[39m\u001b[38;5;241m.\u001b[39mjoin(\u001b[43m[\u001b[49m\u001b[38;5;28;43mself\u001b[39;49m\u001b[38;5;241;43m.\u001b[39;49m\u001b[43mget_codon\u001b[49m\u001b[43m(\u001b[49m\u001b[43mc\u001b[49m\u001b[43m)\u001b[49m\u001b[43m \u001b[49m\u001b[38;5;28;43;01mfor\u001b[39;49;00m\u001b[43m \u001b[49m\u001b[43mc\u001b[49m\u001b[43m \u001b[49m\u001b[38;5;129;43;01min\u001b[39;49;00m\u001b[43m \u001b[49m\u001b[43mseq\u001b[49m\u001b[43m]\u001b[49m)\n",
      "File \u001b[1;32mc:\\Users\\flori\\Documents\\Studium\\Master\\MasterSemester2\\PMDS\\Codons\\notebooks\\../scripts\\Baseline_classificator.py:41\u001b[0m, in \u001b[0;36m<listcomp>\u001b[1;34m(.0)\u001b[0m\n\u001b[0;32m     40\u001b[0m \u001b[38;5;28;01mdef\u001b[39;00m \u001b[38;5;21mget_codons\u001b[39m(\u001b[38;5;28mself\u001b[39m, seq: \u001b[38;5;28mstr\u001b[39m) \u001b[38;5;241m-\u001b[39m\u001b[38;5;241m>\u001b[39m \u001b[38;5;28mstr\u001b[39m:\n\u001b[1;32m---> 41\u001b[0m     \u001b[38;5;28;01mreturn\u001b[39;00m \u001b[38;5;124m'\u001b[39m\u001b[38;5;124m'\u001b[39m\u001b[38;5;241m.\u001b[39mjoin([\u001b[38;5;28;43mself\u001b[39;49m\u001b[38;5;241;43m.\u001b[39;49m\u001b[43mget_codon\u001b[49m\u001b[43m(\u001b[49m\u001b[43mc\u001b[49m\u001b[43m)\u001b[49m \u001b[38;5;28;01mfor\u001b[39;00m c \u001b[38;5;129;01min\u001b[39;00m seq])\n",
      "File \u001b[1;32mc:\\Users\\flori\\Documents\\Studium\\Master\\MasterSemester2\\PMDS\\Codons\\notebooks\\../scripts\\Baseline_classificator.py:35\u001b[0m, in \u001b[0;36mBaseline_classificator.get_codon\u001b[1;34m(self, c)\u001b[0m\n\u001b[0;32m     34\u001b[0m \u001b[38;5;28;01mdef\u001b[39;00m \u001b[38;5;21mget_codon\u001b[39m(\u001b[38;5;28mself\u001b[39m, c):\n\u001b[1;32m---> 35\u001b[0m     codon \u001b[38;5;241m=\u001b[39m choice(\u001b[38;5;28mlist\u001b[39m(\u001b[38;5;28mself\u001b[39m\u001b[38;5;241m.\u001b[39mamino_dict[c]\u001b[38;5;241m.\u001b[39mkeys()), \u001b[38;5;241m1\u001b[39m,\n\u001b[0;32m     36\u001b[0m                p\u001b[38;5;241m=\u001b[39m\u001b[38;5;28mlist\u001b[39m(\u001b[38;5;28mself\u001b[39m\u001b[38;5;241m.\u001b[39mamino_dict[c]\u001b[38;5;241m.\u001b[39mvalues()))\n\u001b[0;32m     37\u001b[0m     \u001b[38;5;28;01mreturn\u001b[39;00m codon[\u001b[38;5;241m0\u001b[39m]\n",
      "\u001b[1;31mKeyboardInterrupt\u001b[0m: "
     ]
    }
   ],
   "source": [
    "organisms = [\"E.Coli\", \"Drosophila.Melanogaster\", \"Homo.Sapiens\"]\n",
    "\n",
    "dfs = {}\n",
    "bias ={}\n",
    "highest = {}\n",
    "unweighted_classificator = b_c.Baseline_classificator()\n",
    "for organism in organisms:\n",
    "    dfs[organism] = pd.read_pickle(f\"../data/{organism}/cleanedData.pkl\")\n",
    "    dfs[organism] = dfs[organism].sample(frac=0.05)\n",
    "    bias[organism] = pd.read_pickle(f\"../data/{organism}/usageBias.pkl\")\n",
    "    highest[organism] = b_c.get_highest(bias[organism])\n",
    "    organism_classificator = b_c.Baseline_classificator(bias[organism])\n",
    "    highest_classificator = b_c.Baseline_classificator(highest[organism])\n",
    "    unweighted_result = unweighted_classificator.check_classificator_new(dfs[organism])\n",
    "    highest_result = highest_classificator.check_classificator_new(dfs[organism])\n",
    "    weighted_result = organism_classificator.check_classificator_new(dfs[organism])\n",
    "    print(f\"Organismus: {organism}\")\n",
    "    print(f\"Ungewichtete Error Rate: {unweighted_result}\")\n",
    "    print(f\"Nimm immer mit Höchste Wahrscheinlichkeit Error Rate: {highest_result}\")\n",
    "    print(f\"Gewichtete Error Rate: {weighted_result}\")\n",
    "                     \n"
   ]
  }
 ],
 "metadata": {
  "kernelspec": {
   "display_name": "Python 3",
   "language": "python",
   "name": "python3"
  },
  "language_info": {
   "codemirror_mode": {
    "name": "ipython",
    "version": 3
   },
   "file_extension": ".py",
   "mimetype": "text/x-python",
   "name": "python",
   "nbconvert_exporter": "python",
   "pygments_lexer": "ipython3",
   "version": "3.11.8"
  }
 },
 "nbformat": 4,
 "nbformat_minor": 2
}
