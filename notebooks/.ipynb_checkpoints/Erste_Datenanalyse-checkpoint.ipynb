{
 "cells": [
  {
   "cell_type": "markdown",
   "id": "a97d3961-20f8-4630-b95c-7768d4466873",
   "metadata": {},
   "source": [
    "# Erste Datenanalyse Codon-Daten"
   ]
  },
  {
   "cell_type": "code",
   "execution_count": null,
   "id": "4043acc1-3f2d-4719-a4f7-18287ed37f67",
   "metadata": {},
   "outputs": [],
   "source": []
  }
 ],
 "metadata": {
  "kernelspec": {
   "display_name": "Python 3 (ipykernel)",
   "language": "python",
   "name": "python3"
  },
  "language_info": {
   "codemirror_mode": {
    "name": "ipython",
    "version": 3
   },
   "file_extension": ".py",
   "mimetype": "text/x-python",
   "name": "python",
   "nbconvert_exporter": "python",
   "pygments_lexer": "ipython3",
   "version": "3.11.5"
  }
 },
 "nbformat": 4,
 "nbformat_minor": 5
}
