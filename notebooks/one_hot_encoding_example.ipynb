{
 "cells": [
  {
   "metadata": {
    "ExecuteTime": {
     "end_time": "2024-05-06T11:30:33.722461Z",
     "start_time": "2024-05-06T11:30:33.102640Z"
    }
   },
   "cell_type": "code",
   "source": [
    "import pandas as pd\n",
    "%load_ext autoreload\n",
    "%autoreload 2"
   ],
   "id": "b23f107f813af442",
   "outputs": [],
   "execution_count": 1
  },
  {
   "metadata": {
    "ExecuteTime": {
     "end_time": "2024-05-06T11:30:34.751714Z",
     "start_time": "2024-05-06T11:30:33.725016Z"
    }
   },
   "cell_type": "code",
   "source": [
    "import torch\n",
    "from scripts.ml_helper import CodonDataset\n",
    "\n",
    "codondataset = CodonDataset(\"E.Coli\")"
   ],
   "id": "a10c139eafa46e7b",
   "outputs": [],
   "execution_count": 2
  },
  {
   "metadata": {
    "ExecuteTime": {
     "end_time": "2024-05-06T11:30:34.815997Z",
     "start_time": "2024-05-06T11:30:34.752765Z"
    }
   },
   "cell_type": "code",
   "source": [
    "aa, codon = codondataset[0]\n",
    "print(aa)\n",
    "print(codon)"
   ],
   "id": "f78b9f88282be7f4",
   "outputs": [
    {
     "name": "stdout",
     "output_type": "stream",
     "text": [
      "tensor([[0., 0., 0., 0., 0., 0., 0., 0., 0., 0., 0., 0., 1., 0., 0., 0., 0., 0.,\n",
      "         0., 0., 0.],\n",
      "        [0., 0., 0., 0., 0., 0., 0., 0., 0., 0., 0., 1., 0., 0., 0., 0., 0., 0.,\n",
      "         0., 0., 0.],\n",
      "        [0., 1., 0., 0., 0., 0., 0., 0., 0., 0., 0., 0., 0., 0., 0., 0., 0., 0.,\n",
      "         0., 0., 0.],\n",
      "        [0., 0., 0., 0., 0., 0., 0., 0., 0., 1., 0., 0., 0., 0., 0., 0., 0., 0.,\n",
      "         0., 0., 0.],\n",
      "        [0., 0., 0., 0., 0., 0., 0., 0., 0., 0., 0., 0., 0., 0., 0., 1., 0., 0.,\n",
      "         0., 0., 0.],\n",
      "        [0., 0., 0., 0., 0., 0., 0., 0., 0., 0., 0., 0., 0., 0., 0., 0., 1., 0.,\n",
      "         0., 0., 0.],\n",
      "        [0., 0., 0., 0., 0., 0., 0., 0., 0., 0., 0., 0., 0., 0., 0., 0., 1., 0.,\n",
      "         0., 0., 0.],\n",
      "        [0., 0., 0., 0., 0., 0., 0., 0., 0., 1., 0., 0., 0., 0., 0., 0., 0., 0.,\n",
      "         0., 0., 0.],\n",
      "        [0., 0., 0., 0., 0., 0., 0., 0., 0., 0., 0., 0., 0., 0., 0., 0., 1., 0.,\n",
      "         0., 0., 0.],\n",
      "        [0., 0., 0., 0., 0., 0., 0., 0., 0., 0., 0., 0., 0., 0., 0., 0., 1., 0.,\n",
      "         0., 0., 0.],\n",
      "        [0., 0., 0., 0., 0., 0., 0., 0., 0., 0., 0., 0., 0., 0., 0., 0., 1., 0.,\n",
      "         0., 0., 0.],\n",
      "        [0., 0., 0., 0., 0., 0., 0., 0., 0., 1., 0., 0., 0., 0., 0., 0., 0., 0.,\n",
      "         0., 0., 0.],\n",
      "        [0., 0., 0., 0., 0., 0., 0., 0., 0., 0., 0., 0., 0., 0., 0., 0., 1., 0.,\n",
      "         0., 0., 0.],\n",
      "        [0., 0., 0., 0., 0., 0., 0., 0., 0., 1., 0., 0., 0., 0., 0., 0., 0., 0.,\n",
      "         0., 0., 0.],\n",
      "        [0., 0., 0., 0., 0., 0., 0., 0., 0., 0., 0., 0., 0., 0., 0., 0., 1., 0.,\n",
      "         0., 0., 0.],\n",
      "        [0., 0., 0., 0., 0., 0., 0., 0., 0., 0., 0., 0., 0., 0., 0., 0., 1., 0.,\n",
      "         0., 0., 0.],\n",
      "        [0., 0., 0., 0., 0., 0., 0., 1., 0., 0., 0., 0., 0., 0., 0., 0., 0., 0.,\n",
      "         0., 0., 0.],\n",
      "        [0., 0., 1., 0., 0., 0., 0., 0., 0., 0., 0., 0., 0., 0., 0., 0., 0., 0.,\n",
      "         0., 0., 0.],\n",
      "        [0., 0., 0., 0., 0., 0., 0., 1., 0., 0., 0., 0., 0., 0., 0., 0., 0., 0.,\n",
      "         0., 0., 0.],\n",
      "        [1., 0., 0., 0., 0., 0., 0., 0., 0., 0., 0., 0., 0., 0., 0., 0., 0., 0.,\n",
      "         0., 0., 0.],\n",
      "        [0., 0., 0., 0., 0., 0., 0., 1., 0., 0., 0., 0., 0., 0., 0., 0., 0., 0.,\n",
      "         0., 0., 0.],\n",
      "        [0., 0., 0., 0., 0., 0., 0., 0., 0., 0., 0., 0., 0., 0., 0., 0., 0., 0.,\n",
      "         0., 0., 1.]])\n",
      "tensor([35., 42., 29., 32., 45., 37., 37., 32., 37., 37., 37., 33., 37., 32.,\n",
      "        37., 38., 60., 41., 60., 55., 61., 14.])\n"
     ]
    }
   ],
   "execution_count": 3
  },
  {
   "metadata": {
    "ExecuteTime": {
     "end_time": "2024-05-06T11:30:34.840229Z",
     "start_time": "2024-05-06T11:30:34.819229Z"
    }
   },
   "cell_type": "code",
   "source": [
    "generator = torch.Generator().manual_seed(42)\n",
    "train_set, val_set = torch.utils.data.random_split(codondataset, [0.8, 0.2], generator=generator)"
   ],
   "id": "5cdc6a5f59dfa386",
   "outputs": [],
   "execution_count": 4
  },
  {
   "metadata": {
    "ExecuteTime": {
     "end_time": "2024-05-06T11:30:34.859417Z",
     "start_time": "2024-05-06T11:30:34.841250Z"
    }
   },
   "cell_type": "code",
   "source": [
    "print(len(train_set))\n",
    "print(len(val_set))"
   ],
   "id": "9019ebc76ef2c591",
   "outputs": [
    {
     "name": "stdout",
     "output_type": "stream",
     "text": [
      "3085\n",
      "771\n"
     ]
    }
   ],
   "execution_count": 5
  },
  {
   "metadata": {
    "ExecuteTime": {
     "end_time": "2024-05-06T11:30:34.884977Z",
     "start_time": "2024-05-06T11:30:34.860714Z"
    }
   },
   "cell_type": "code",
   "source": "train_set[0]",
   "id": "7fd280a9c38036d6",
   "outputs": [
    {
     "data": {
      "text/plain": [
       "(tensor([[0., 0., 0.,  ..., 0., 0., 0.],\n",
       "         [0., 0., 0.,  ..., 0., 0., 0.],\n",
       "         [0., 0., 0.,  ..., 0., 0., 0.],\n",
       "         ...,\n",
       "         [0., 0., 0.,  ..., 0., 0., 0.],\n",
       "         [0., 0., 0.,  ..., 0., 0., 0.],\n",
       "         [0., 0., 0.,  ..., 0., 0., 1.]]),\n",
       " tensor([35., 19., 32., 40., 32., 60., 28.,  3.,  2., 35., 17., 13., 48., 15.,\n",
       "         62.,  0.,  2., 33., 17., 41., 19., 51., 24., 21.,  1., 22., 29., 23.,\n",
       "         19., 40., 33.,  1., 48., 41., 51., 55., 19., 32.,  0., 37., 51., 19.,\n",
       "         35., 24., 60., 35., 27., 19., 55., 18.,  3., 42.,  5., 36.,  2., 23.,\n",
       "         42., 56., 61., 23., 27., 35., 37., 37., 53., 58., 43., 50., 31., 32.,\n",
       "          1., 16.,  1., 61., 51.,  0., 58., 19., 19., 53., 15., 27., 43., 42.,\n",
       "          0., 42., 48., 42., 42., 10.]))"
      ]
     },
     "execution_count": 6,
     "metadata": {},
     "output_type": "execute_result"
    }
   ],
   "execution_count": 6
  },
  {
   "metadata": {
    "ExecuteTime": {
     "end_time": "2024-05-06T11:30:34.903762Z",
     "start_time": "2024-05-06T11:30:34.886095Z"
    }
   },
   "cell_type": "code",
   "source": [
    "from Bio.SeqRecord import SeqRecord\n",
    "\n",
    "\n",
    "def convert_record_to_string(rec: SeqRecord) -> str:\n",
    "    return str(rec.seq)\n"
   ],
   "id": "f059135399ac1c48",
   "outputs": [],
   "execution_count": 7
  },
  {
   "metadata": {
    "ExecuteTime": {
     "end_time": "2024-05-06T11:30:34.926635Z",
     "start_time": "2024-05-06T11:30:34.904839Z"
    }
   },
   "cell_type": "code",
   "source": [
    "from numpy.core.defchararray import zfill\n",
    "\n",
    "df = codondataset.df[\"translation\"].apply(convert_record_to_string)\n",
    "df.head()"
   ],
   "id": "4a09ea442621469d",
   "outputs": [
    {
     "data": {
      "text/plain": [
       "0                               MKRISTTITTTITITTGNGAG*\n",
       "1    MRVLKFGGTSVANAERFLRVADILESNARQGQVATVLSAPAKITNH...\n",
       "2    MVKVYAPASSANMSVGFDVLGAAVTPVDGALLGDVVTVEAAETFSL...\n",
       "3    MKLYNLKDHNEQVSFAQAVTQGLGKNQGLFFPHDLPEFSLTEIDEM...\n",
       "5    MLILISPAKTLDYQSPLTTTRYTLPELLDNSQQLIHEARKLTPPQI...\n",
       "Name: translation, dtype: object"
      ]
     },
     "execution_count": 8,
     "metadata": {},
     "output_type": "execute_result"
    }
   ],
   "execution_count": 8
  },
  {
   "metadata": {
    "ExecuteTime": {
     "end_time": "2024-05-06T11:30:35.034732Z",
     "start_time": "2024-05-06T11:30:34.927494Z"
    }
   },
   "cell_type": "code",
   "source": [
    "cds = CodonDataset(\"E.Coli\", padding=\"left\")\n",
    "cds.df.head()"
   ],
   "id": "4ff4b8d02f58df9d",
   "outputs": [
    {
     "data": {
      "text/plain": [
       "                              id  \\\n",
       "0  lcl|U00096.3_cds_AAC73112.1_1   \n",
       "1  lcl|U00096.3_cds_AAC73113.1_2   \n",
       "2  lcl|U00096.3_cds_AAC73114.1_3   \n",
       "3  lcl|U00096.3_cds_AAC73115.1_4   \n",
       "5  lcl|U00096.3_cds_AAC73117.1_6   \n",
       "\n",
       "                                         description  \\\n",
       "0  lcl|U00096.3_cds_AAC73112.1_1 [gene=thrL] [loc...   \n",
       "1  lcl|U00096.3_cds_AAC73113.1_2 [gene=thrA] [loc...   \n",
       "2  lcl|U00096.3_cds_AAC73114.1_3 [gene=thrB] [loc...   \n",
       "3  lcl|U00096.3_cds_AAC73115.1_4 [gene=thrC] [loc...   \n",
       "5  lcl|U00096.3_cds_AAC73117.1_6 [gene=yaaA] [loc...   \n",
       "\n",
       "                                            sequence  \\\n",
       "0  (A, T, G, A, A, A, C, G, C, A, T, T, A, G, C, ...   \n",
       "1  (A, T, G, C, G, A, G, T, G, T, T, G, A, A, G, ...   \n",
       "2  (A, T, G, G, T, T, A, A, A, G, T, T, T, A, T, ...   \n",
       "3  (A, T, G, A, A, A, C, T, C, T, A, C, A, A, T, ...   \n",
       "5  (A, T, G, C, T, G, A, T, T, C, T, T, A, T, T, ...   \n",
       "\n",
       "                                         translation  \\\n",
       "0                             MKRISTTITTTITITTGNGAG*   \n",
       "1  MRVLKFGGTSVANAERFLRVADILESNARQGQVATVLSAPAKITNH...   \n",
       "2  MVKVYAPASSANMSVGFDVLGAAVTPVDGALLGDVVTVEAAETFSL...   \n",
       "3  MKLYNLKDHNEQVSFAQAVTQGLGKNQGLFFPHDLPEFSLTEIDEM...   \n",
       "5  MLILISPAKTLDYQSPLTTTRYTLPELLDNSQQLIHEARKLTPPQI...   \n",
       "\n",
       "                        seguid  \n",
       "0  QuAqLUJXXhVXIJRPc+T7iMi0UqE  \n",
       "1  /p+3Jdgat4Fq0w2rqqay4xg8Bs4  \n",
       "2  scFdp6oP+pW5HnvUww8MSi93ntM  \n",
       "3  EkFurFHdk7l6qKQ+5xRiBUhWM9U  \n",
       "5  vJJ0yR31YORqwI12U79SgItYU3U  "
      ],
      "text/html": [
       "<div>\n",
       "<style scoped>\n",
       "    .dataframe tbody tr th:only-of-type {\n",
       "        vertical-align: middle;\n",
       "    }\n",
       "\n",
       "    .dataframe tbody tr th {\n",
       "        vertical-align: top;\n",
       "    }\n",
       "\n",
       "    .dataframe thead th {\n",
       "        text-align: right;\n",
       "    }\n",
       "</style>\n",
       "<table border=\"1\" class=\"dataframe\">\n",
       "  <thead>\n",
       "    <tr style=\"text-align: right;\">\n",
       "      <th></th>\n",
       "      <th>id</th>\n",
       "      <th>description</th>\n",
       "      <th>sequence</th>\n",
       "      <th>translation</th>\n",
       "      <th>seguid</th>\n",
       "    </tr>\n",
       "  </thead>\n",
       "  <tbody>\n",
       "    <tr>\n",
       "      <th>0</th>\n",
       "      <td>lcl|U00096.3_cds_AAC73112.1_1</td>\n",
       "      <td>lcl|U00096.3_cds_AAC73112.1_1 [gene=thrL] [loc...</td>\n",
       "      <td>(A, T, G, A, A, A, C, G, C, A, T, T, A, G, C, ...</td>\n",
       "      <td>MKRISTTITTTITITTGNGAG*</td>\n",
       "      <td>QuAqLUJXXhVXIJRPc+T7iMi0UqE</td>\n",
       "    </tr>\n",
       "    <tr>\n",
       "      <th>1</th>\n",
       "      <td>lcl|U00096.3_cds_AAC73113.1_2</td>\n",
       "      <td>lcl|U00096.3_cds_AAC73113.1_2 [gene=thrA] [loc...</td>\n",
       "      <td>(A, T, G, C, G, A, G, T, G, T, T, G, A, A, G, ...</td>\n",
       "      <td>MRVLKFGGTSVANAERFLRVADILESNARQGQVATVLSAPAKITNH...</td>\n",
       "      <td>/p+3Jdgat4Fq0w2rqqay4xg8Bs4</td>\n",
       "    </tr>\n",
       "    <tr>\n",
       "      <th>2</th>\n",
       "      <td>lcl|U00096.3_cds_AAC73114.1_3</td>\n",
       "      <td>lcl|U00096.3_cds_AAC73114.1_3 [gene=thrB] [loc...</td>\n",
       "      <td>(A, T, G, G, T, T, A, A, A, G, T, T, T, A, T, ...</td>\n",
       "      <td>MVKVYAPASSANMSVGFDVLGAAVTPVDGALLGDVVTVEAAETFSL...</td>\n",
       "      <td>scFdp6oP+pW5HnvUww8MSi93ntM</td>\n",
       "    </tr>\n",
       "    <tr>\n",
       "      <th>3</th>\n",
       "      <td>lcl|U00096.3_cds_AAC73115.1_4</td>\n",
       "      <td>lcl|U00096.3_cds_AAC73115.1_4 [gene=thrC] [loc...</td>\n",
       "      <td>(A, T, G, A, A, A, C, T, C, T, A, C, A, A, T, ...</td>\n",
       "      <td>MKLYNLKDHNEQVSFAQAVTQGLGKNQGLFFPHDLPEFSLTEIDEM...</td>\n",
       "      <td>EkFurFHdk7l6qKQ+5xRiBUhWM9U</td>\n",
       "    </tr>\n",
       "    <tr>\n",
       "      <th>5</th>\n",
       "      <td>lcl|U00096.3_cds_AAC73117.1_6</td>\n",
       "      <td>lcl|U00096.3_cds_AAC73117.1_6 [gene=yaaA] [loc...</td>\n",
       "      <td>(A, T, G, C, T, G, A, T, T, C, T, T, A, T, T, ...</td>\n",
       "      <td>MLILISPAKTLDYQSPLTTTRYTLPELLDNSQQLIHEARKLTPPQI...</td>\n",
       "      <td>vJJ0yR31YORqwI12U79SgItYU3U</td>\n",
       "    </tr>\n",
       "  </tbody>\n",
       "</table>\n",
       "</div>"
      ]
     },
     "execution_count": 9,
     "metadata": {},
     "output_type": "execute_result"
    }
   ],
   "execution_count": 9
  }
 ],
 "metadata": {
  "kernelspec": {
   "display_name": "Python 3",
   "language": "python",
   "name": "python3"
  },
  "language_info": {
   "codemirror_mode": {
    "name": "ipython",
    "version": 2
   },
   "file_extension": ".py",
   "mimetype": "text/x-python",
   "name": "python",
   "nbconvert_exporter": "python",
   "pygments_lexer": "ipython2",
   "version": "2.7.6"
  }
 },
 "nbformat": 4,
 "nbformat_minor": 5
}
