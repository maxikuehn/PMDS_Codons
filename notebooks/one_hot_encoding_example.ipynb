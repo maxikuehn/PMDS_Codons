{
 "cells": [
  {
   "cell_type": "code",
   "outputs": [],
   "source": [
    "import pandas as pd"
   ],
   "metadata": {
    "collapsed": false,
    "ExecuteTime": {
     "end_time": "2024-05-02T16:48:05.589107Z",
     "start_time": "2024-05-02T16:48:05.276445Z"
    }
   },
   "id": "4cd7ab45e0ddfe1b",
   "execution_count": 1
  },
  {
   "cell_type": "code",
   "execution_count": 2,
   "id": "initial_id",
   "metadata": {
    "collapsed": true,
    "ExecuteTime": {
     "end_time": "2024-05-02T16:48:05.647400Z",
     "start_time": "2024-05-02T16:48:05.589864Z"
    }
   },
   "outputs": [
    {
     "data": {
      "text/plain": "Seq('ATGAAACGCATTAGCACCACCATTACCACCACCATCACCATTACCACAGGTAAC...TGA')"
     },
     "execution_count": 2,
     "metadata": {},
     "output_type": "execute_result"
    }
   ],
   "source": [
    "organisms = [\"E.Coli\", \"Drosophila.Melanogaster\", \"Homo.Sapiens\"]\n",
    "organism = organisms[0]\n",
    "df = pd.read_pickle(f\"../data/{organism}/cleanedData.pkl\")\n",
    "sequence = df[\"sequence\"][0]\n",
    "sequence"
   ]
  },
  {
   "cell_type": "code",
   "outputs": [
    {
     "data": {
      "text/plain": "tensor([[1, 0, 0,  ..., 0, 0, 0],\n        [0, 0, 0,  ..., 0, 0, 0],\n        [0, 0, 0,  ..., 0, 0, 0],\n        ...,\n        [0, 0, 0,  ..., 0, 0, 0],\n        [0, 0, 0,  ..., 0, 0, 0],\n        [1, 0, 0,  ..., 0, 0, 0]])"
     },
     "execution_count": 3,
     "metadata": {},
     "output_type": "execute_result"
    }
   ],
   "source": [
    "from scripts.ml_helper import seq_to_onehot_encoding\n",
    "\n",
    "encoded = seq_to_onehot_encoding(sequence)\n",
    "encoded"
   ],
   "metadata": {
    "collapsed": false,
    "ExecuteTime": {
     "end_time": "2024-05-02T16:48:06.314953Z",
     "start_time": "2024-05-02T16:48:05.646844Z"
    }
   },
   "id": "4ab8e5914c029201",
   "execution_count": 3
  }
 ],
 "metadata": {
  "kernelspec": {
   "display_name": "Python 3",
   "language": "python",
   "name": "python3"
  },
  "language_info": {
   "codemirror_mode": {
    "name": "ipython",
    "version": 2
   },
   "file_extension": ".py",
   "mimetype": "text/x-python",
   "name": "python",
   "nbconvert_exporter": "python",
   "pygments_lexer": "ipython2",
   "version": "2.7.6"
  }
 },
 "nbformat": 4,
 "nbformat_minor": 5
}
