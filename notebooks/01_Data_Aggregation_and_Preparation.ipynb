{
 "cells": [
  {
   "cell_type": "markdown",
   "metadata": {},
   "source": [
    "# Daten Aggregation und Datenbereinigung\n",
    "Dieses Notebook wird anhand von Escherichia coli die Datenbeschaffung und Bereinung aufzeigen.\n",
    "## Download \n",
    "Als erstes müssen die Genome Sequenzen auf der Seite des [ncbi](https://www.ncbi.nlm.nih.gov/datasets/taxonomy/562/ ) heruntergeladen werden.\n",
    "![image.png](images\\DownloadFasta.png)\n",
    "\n",
    "## FASTA Files\n",
    "Man erhält eine Fasta Datei mit allen Genomen von E.Coli . Dort beginnt jeder Eintrag mit einem > gefolgt von der ID und einer Beschreibung anschließend sind die Codons aufgeführt.\n",
    "\n",
    "## Clean and Pickle Data\n",
    "Um fehlerhafte Daten auszusortieren und die so gewonnen Daten zu speichern, wurde im [clean_and_pickle Skript](../scripts/clean_and_pickle.py) die Bibliothek Biopython und Pandas genutzt.\n",
    "Dort wird überprüft ob eine Sequenz:\n",
    "- mit dem Startcodon beginnt\n",
    "- die Anzahl der Buchstaben ohne Rest durch drei teilbar ist\n",
    "- ob es Stopcodons innerhalb der Sequenz gibt\n",
    "- es nur Valide Übersetzung gibt\n",
    "- keine doppelten Daten existieren\n",
    "- \n",
    "Anschließend wird ein Report wie viele Sequenzen aus welchen Gründen nicht gespeichert wurden, sowie die eigentlichen Sequenzen mit deren Übersetzung gespeichert. \n",
    "Für neue Organismen müssen die Speicherorte der Fasta Datei und der gepickelten Daten angepasst werden.  "
   ]
  },
  {
   "cell_type": "code",
   "execution_count": 5,
   "metadata": {},
   "outputs": [],
   "source": [
    "import sys\n",
    "sys.path.append('../scripts')\n",
    "\n",
    "import clean_and_pickle as cap\n",
    "cap.clean_and_pickle(organism=\"E.Coli\")\n"
   ]
  },
  {
   "cell_type": "code",
   "execution_count": 3,
   "metadata": {},
   "outputs": [
    {
     "name": "stdout",
     "output_type": "stream",
     "text": [
      "E.Coli                    total:   3856 | train:   3085 | test:    386 | valid:    385\n"
     ]
    }
   ],
   "source": [
    "import sys\n",
    "sys.path.append('../scripts')\n",
    "import data_splitter as ds\n",
    "ds.split_n_pickle(organism=\"E.Coli\")"
   ]
  },
  {
   "cell_type": "markdown",
   "metadata": {},
   "source": [
    "## Struktus als weiteres Feature\n",
    "Nachdem wir die primär Struktur, also die reine Aneinanderreihung der Aminosäuren beschafft haben, war eine weiteres Ziel die Struktur der Proteine zu verwenden, um die richtigen Codons vorherzusagen.\n",
    "Dabei gab es zwei unterschiedliche Ansätze. \n",
    "### Sekundär Struktur\n",
    "Bei dem ersten Ansatz ging es um die sekundär Struktur des Proteins, also ob sich eine Aminosäure aktuell in einer Helix oder Faltblatt befindet.\n",
    "### Quartäre Struktur\n",
    "\n",
    "\n"
   ]
  }
 ],
 "metadata": {
  "kernelspec": {
   "display_name": "Python 3",
   "language": "python",
   "name": "python3"
  },
  "language_info": {
   "codemirror_mode": {
    "name": "ipython",
    "version": 3
   },
   "file_extension": ".py",
   "mimetype": "text/x-python",
   "name": "python",
   "nbconvert_exporter": "python",
   "pygments_lexer": "ipython3",
   "version": "3.11.8"
  }
 },
 "nbformat": 4,
 "nbformat_minor": 2
}
