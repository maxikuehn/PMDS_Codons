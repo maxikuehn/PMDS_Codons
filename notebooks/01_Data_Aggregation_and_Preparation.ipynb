{
 "cells": [
  {
   "cell_type": "markdown",
   "metadata": {},
   "source": [
    "# Daten Aggregation und Datenbereinigung\n",
    "Dieses Notebook wird anhand von Escherichia coli die Datenbeschaffung und Bereinigung aufzeigen.\n",
    "## Download \n",
    "Als erstes müssen die Genome Sequenzen auf der Seite des [ncbi](https://www.ncbi.nlm.nih.gov/datasets/taxonomy/562/ ) heruntergeladen werden.\n",
    "![image.png](images\\DownloadFasta.png)\n",
    "\n",
    "## FASTA Files\n",
    "Man erhält eine Fasta Datei mit allen Genomen von E.Coli . Dort beginnt jeder Eintrag mit einem > gefolgt von der ID und einer Beschreibung anschließend befinden sich die Daten. In unserem Fall sind die jeweiligen Codons aufgeführt.\n",
    "\n",
    "## Clean and Pickle Data\n",
    "Um fehlerhafte Daten auszusortieren und die so gewonnen Daten zu speichern, wurde im [clean_and_pickle Skript](../scripts/clean_and_pickle.py) die Bibliothek Biopython und Pandas genutzt.\n",
    "Dort wird überprüft ob eine Sequenz:\n",
    "- mit dem Startcodon beginnt\n",
    "- die Anzahl der Buchstaben ohne Rest durch drei teilbar ist\n",
    "- ob es Stopcodons innerhalb der Sequenz gibt\n",
    "- es nur Valide Übersetzung gibt\n",
    "- keine doppelten Daten existieren\n",
    "  \n",
    "Anschließend wird ein Report wie viele Sequenzen aus welchen Gründen nicht gespeichert wurden, sowie die eigentlichen Sequenzen mit deren Übersetzung gespeichert. \n",
    "Für neue Organismen müssen die Speicherorte der Fasta Datei und der gepickelten Daten angepasst werden.  "
   ]
  },
  {
   "cell_type": "code",
   "execution_count": 6,
   "metadata": {},
   "outputs": [
    {
     "data": {
      "application/vnd.jupyter.widget-view+json": {
       "model_id": "e0cfd9cfed0d4f61b231354bef7bd575",
       "version_major": 2,
       "version_minor": 0
      },
      "text/plain": [
       "Dropdown(options=('E.Coli', 'Drosophila.Melanogaster', 'Homo.Sapiens', 'saccharomyces.cerevisiae'), value='E.C…"
      ]
     },
     "metadata": {},
     "output_type": "display_data"
    }
   ],
   "source": [
    "import ipywidgets as widgets\n",
    "choosenOrganism = widgets.Dropdown(options=['E.Coli','Drosophila.Melanogaster','Homo.Sapiens','saccharomyces.cerevisiae'],value='E.Coli',Description='Organism',disable=False)\n",
    "display(choosenOrganism)"
   ]
  },
  {
   "cell_type": "code",
   "execution_count": 8,
   "metadata": {},
   "outputs": [
    {
     "name": "stdout",
     "output_type": "stream",
     "text": [
      "{'modThree': 0, 'stopCodon': 6, 'doubleData': 33, 'noStartCodon': 0}\n"
     ]
    }
   ],
   "source": [
    "import sys\n",
    "sys.path.append('../scripts')\n",
    "\n",
    "import clean_and_pickle as cap\n",
    "cap.clean_and_pickle(organism=choosenOrganism.value)\n"
   ]
  },
  {
   "cell_type": "markdown",
   "metadata": {},
   "source": [
    "Die Daten werden anschließend mit dem [data_splitter Skript](../scripts/data_splittere.py)  in Trainings(80%), Test(10%) und Validierungsdaten (10%) aufgeteilt. Die entsprechenden Datensätze werden ebenfalls als pickel im Data Ordner gespeichert."
   ]
  },
  {
   "cell_type": "code",
   "execution_count": 3,
   "metadata": {},
   "outputs": [
    {
     "name": "stdout",
     "output_type": "stream",
     "text": [
      "E.Coli                    total:   3856 | train:   3085 | test:    386 | valid:    385\n"
     ]
    }
   ],
   "source": [
    "import sys\n",
    "sys.path.append('../scripts')\n",
    "import data_splitter as ds\n",
    "ds.split_n_pickle(organism=choosenOrganism.value)"
   ]
  },
  {
   "cell_type": "markdown",
   "metadata": {},
   "source": [
    "## Codon Häufigkeit\n",
    "\n",
    "Nun wird, die relative Häufigkeit wie oft eine Aminosäure von einem Codon übersetzt wird berechnet und gespeichert. Dazu wird das Skript [Usage bias and pickle](../scripts/usage_bias_and_pickle.py)"
   ]
  },
  {
   "cell_type": "code",
   "execution_count": 4,
   "metadata": {},
   "outputs": [
    {
     "name": "stdout",
     "output_type": "stream",
     "text": [
      "Calculating usage bias for: E.Coli\n",
      "usage bias will be saved in: ../data\\E.Coli\n"
     ]
    }
   ],
   "source": [
    "import sys\n",
    "sys.path.append('../scripts')\n",
    "\n",
    "import usage_bias_and_pickle as ubap\n",
    "ubap.main('../data', organism=choosenOrganism.value)"
   ]
  },
  {
   "cell_type": "markdown",
   "metadata": {},
   "source": [
    "## Struktus als weiteres Feature\n",
    "Nachdem wir die primär Struktur, also die reine Aneinanderreihung der Aminosäuren beschafft haben, war eine weiteres Ziel die Struktur der Proteine zu verwenden, um die richtigen Codons vorherzusagen.\n",
    "Dabei gab es zwei unterschiedliche Ansätze. \n",
    "### Sekundär Struktur\n",
    "Bei dem ersten Ansatz ging es um die sekundär Struktur des Proteins, also ob in welcher Struktur befindet sich eine Aminosäure, innerhalb des Proteins. Ein auslesen wäre mit dem [DSSP Modul](https://biopython.org/docs/1.76/api/Bio.PDB.DSSP.html) von Biopython denkbar gewesen. Jedoch können die Daten nicht mit den IDs, welche wir aus den FASTA Dateien gewinnen konnten, gesucht werden. Um einen Einblick in vorhandene DSSP Daten zu gewinnen, lohnt sich ein Blick in diese [DSSP Datenbank](https://mrs.cmbi.umcn.nl/search?db=dssp&q=562&count=3).\n",
    "### Quartäre Struktur\n",
    "Mit der selben ID lassen sich die Position im Raum der einzelnen Atome der Aminosäuren, in zusammenspiel mit anderen Proteinen ausgeben. Das Package [PDBParser](https://biopython.org/docs/1.76/api/Bio.PDB.PDBParser.html) wurde im Skript [Secondary Structure](../scripts/secondary_structur.py) dafür verwendet. Die [RCSB Protein Data Bank](https://www.rcsb.org/) wurde zum finden der IDs für E.Coli genutzt.\n",
    "\n",
    "Da die zeitaufwendigen Versuchen Codons und ihre Aminosäure einer Struktur zuzuordnen nicht klappten bzw. nur eine geringe Anzahl an Matches aufwies, wurden beide Ansätze zugunsten anderer Aufgaben innerhalb des Projektes nicht weiterverfolgt."
   ]
  },
  {
   "cell_type": "markdown",
   "metadata": {},
   "source": []
  }
 ],
 "metadata": {
  "kernelspec": {
   "display_name": "Python 3",
   "language": "python",
   "name": "python3"
  },
  "language_info": {
   "codemirror_mode": {
    "name": "ipython",
    "version": 3
   },
   "file_extension": ".py",
   "mimetype": "text/x-python",
   "name": "python",
   "nbconvert_exporter": "python",
   "pygments_lexer": "ipython3",
   "version": "3.12.3"
  }
 },
 "nbformat": 4,
 "nbformat_minor": 2
}
