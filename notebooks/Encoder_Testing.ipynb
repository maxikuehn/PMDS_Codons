{
 "cells": [
  {
   "cell_type": "markdown",
   "metadata": {},
   "source": [
    "# Predicting Codons using the trained Encoder model"
   ]
  },
  {
   "cell_type": "code",
   "execution_count": 1,
   "metadata": {},
   "outputs": [],
   "source": [
    "import sys\n",
    "import random\n",
    "import numpy as np\n",
    "import pandas as pd\n",
    "import ast\n",
    "import torch\n",
    "import torch.nn as nn\n",
    "import torch.optim as optim\n",
    "from torch.utils.data import DataLoader\n",
    "from torch.utils.data import TensorDataset\n",
    "import time\n",
    "\n",
    "sys.path.append('../scripts')\n",
    "import ml_helper\n",
    "import Classifier as Classifier\n",
    "import Baseline_classifiers as bc"
   ]
  },
  {
   "cell_type": "code",
   "execution_count": 2,
   "metadata": {},
   "outputs": [
    {
     "name": "stdout",
     "output_type": "stream",
     "text": [
      "cpu\n"
     ]
    }
   ],
   "source": [
    "device = torch.device(\"cuda:0\" if torch.cuda.is_available() else \"cpu\")\n",
    "print(device)"
   ]
  },
  {
   "cell_type": "markdown",
   "metadata": {},
   "source": [
    "### Data Preparation"
   ]
  },
  {
   "cell_type": "code",
   "execution_count": 3,
   "metadata": {},
   "outputs": [],
   "source": [
    "amino_acids = ['A', 'R', 'N', 'D', 'C', 'Q', 'E', 'G', 'H', 'I', 'L', 'K', 'M', 'F', 'P', 'S', 'T', 'W', 'Y', 'V', '*',\n",
    "               '_']\n",
    "\n",
    "aminoacids_to_integer = dict((a, i) for i, a in enumerate(amino_acids))\n",
    "integer_to_aminoacids = dict((i, a) for i, a in enumerate(amino_acids))\n",
    "\n",
    "codons = ['TTT', 'TTC', 'TTA', 'TTG', 'TCT', 'TCC', 'TCA', 'TCG', 'TAT', 'TAC', 'TAA', 'TAG', 'TGT', 'TGC', 'TGA',\n",
    "          'TGG', 'CTT', 'CTC', 'CTA', 'CTG', 'CCT', 'CCC', 'CCA', 'CCG', 'CAT', 'CAC', 'CAA', 'CAG', 'CGT', 'CGC',\n",
    "          'CGA', 'CGG', 'ATT', 'ATC', 'ATA', 'ATG', 'ACT', 'ACC', 'ACA', 'ACG', 'AAT', 'AAC', 'AAA', 'AAG', 'AGT',\n",
    "          'AGC', 'AGA', 'AGG', 'GTT', 'GTC', 'GTA', 'GTG', 'GCT', 'GCC', 'GCA', 'GCG', 'GAT', 'GAC', 'GAA', 'GAG',\n",
    "          'GGT', 'GGC', 'GGA', 'GGG', '___']\n",
    "\n",
    "codons_to_integer = dict((c, i) for i, c in enumerate(codons))\n",
    "integer_to_codons = dict((i, c) for i, c in enumerate(codons))"
   ]
  },
  {
   "cell_type": "code",
   "execution_count": 4,
   "metadata": {},
   "outputs": [
    {
     "data": {
      "text/html": [
       "<div>\n",
       "<style scoped>\n",
       "    .dataframe tbody tr th:only-of-type {\n",
       "        vertical-align: middle;\n",
       "    }\n",
       "\n",
       "    .dataframe tbody tr th {\n",
       "        vertical-align: top;\n",
       "    }\n",
       "\n",
       "    .dataframe thead th {\n",
       "        text-align: right;\n",
       "    }\n",
       "</style>\n",
       "<table border=\"1\" class=\"dataframe\">\n",
       "  <thead>\n",
       "    <tr style=\"text-align: right;\">\n",
       "      <th></th>\n",
       "      <th>id</th>\n",
       "      <th>description</th>\n",
       "      <th>sequence</th>\n",
       "      <th>translation</th>\n",
       "      <th>seguid</th>\n",
       "      <th>codons</th>\n",
       "    </tr>\n",
       "  </thead>\n",
       "  <tbody>\n",
       "    <tr>\n",
       "      <th>1</th>\n",
       "      <td>lcl|U00096.3_cds_AAC73113.1_2</td>\n",
       "      <td>lcl|U00096.3_cds_AAC73113.1_2 [gene=thrA] [loc...</td>\n",
       "      <td>(A, T, G, C, G, A, G, T, G, T, T, G, A, A, G, ...</td>\n",
       "      <td>(M, R, V, L, K, F, G, G, T, S, V, A, N, A, E, ...</td>\n",
       "      <td>/p+3Jdgat4Fq0w2rqqay4xg8Bs4</td>\n",
       "      <td>[ATG, CGA, GTG, TTG, AAG, TTC, GGC, GGT, ACA, ...</td>\n",
       "    </tr>\n",
       "    <tr>\n",
       "      <th>5</th>\n",
       "      <td>lcl|U00096.3_cds_AAC73117.1_6</td>\n",
       "      <td>lcl|U00096.3_cds_AAC73117.1_6 [gene=yaaA] [loc...</td>\n",
       "      <td>(A, T, G, C, T, G, A, T, T, C, T, T, A, T, T, ...</td>\n",
       "      <td>(M, L, I, L, I, S, P, A, K, T, L, D, Y, Q, S, ...</td>\n",
       "      <td>vJJ0yR31YORqwI12U79SgItYU3U</td>\n",
       "      <td>[ATG, CTG, ATT, CTT, ATT, TCA, CCT, GCG, AAA, ...</td>\n",
       "    </tr>\n",
       "    <tr>\n",
       "      <th>12</th>\n",
       "      <td>lcl|U00096.3_cds_AAC73124.1_13</td>\n",
       "      <td>lcl|U00096.3_cds_AAC73124.1_13 [gene=yaaI] [lo...</td>\n",
       "      <td>(A, T, G, A, A, A, T, C, C, G, T, T, T, T, T, ...</td>\n",
       "      <td>(M, K, S, V, F, T, I, S, A, S, L, A, I, S, L, ...</td>\n",
       "      <td>GT2zzYZoFncaOMVxs4CEcLaePdc</td>\n",
       "      <td>[ATG, AAA, TCC, GTT, TTT, ACG, ATT, TCC, GCC, ...</td>\n",
       "    </tr>\n",
       "    <tr>\n",
       "      <th>17</th>\n",
       "      <td>lcl|U00096.3_cds_AAT48122.1_18</td>\n",
       "      <td>lcl|U00096.3_cds_AAT48122.1_18 [gene=hokC] [lo...</td>\n",
       "      <td>(A, T, G, A, A, G, C, A, G, C, A, T, A, A, G, ...</td>\n",
       "      <td>(M, K, Q, H, K, A, M, I, V, A, L, I, V, I, C, ...</td>\n",
       "      <td>yfUY1Sxn8BgBfdGY1FQnaroApNY</td>\n",
       "      <td>[ATG, AAG, CAG, CAT, AAG, GCG, ATG, ATT, GTC, ...</td>\n",
       "    </tr>\n",
       "    <tr>\n",
       "      <th>23</th>\n",
       "      <td>lcl|U00096.3_cds_AAC73135.1_24</td>\n",
       "      <td>lcl|U00096.3_cds_AAC73135.1_24 [gene=yaaY] [lo...</td>\n",
       "      <td>(A, T, G, T, G, C, C, G, G, C, A, C, T, C, G, ...</td>\n",
       "      <td>(M, C, R, H, S, L, R, S, D, G, A, G, F, Y, Q, ...</td>\n",
       "      <td>m/3aWNuEiWlqAe7cvTcnrZ58efA</td>\n",
       "      <td>[ATG, TGC, CGG, CAC, TCG, TTA, CGT, AGT, GAT, ...</td>\n",
       "    </tr>\n",
       "  </tbody>\n",
       "</table>\n",
       "</div>"
      ],
      "text/plain": [
       "                                id  \\\n",
       "1    lcl|U00096.3_cds_AAC73113.1_2   \n",
       "5    lcl|U00096.3_cds_AAC73117.1_6   \n",
       "12  lcl|U00096.3_cds_AAC73124.1_13   \n",
       "17  lcl|U00096.3_cds_AAT48122.1_18   \n",
       "23  lcl|U00096.3_cds_AAC73135.1_24   \n",
       "\n",
       "                                          description  \\\n",
       "1   lcl|U00096.3_cds_AAC73113.1_2 [gene=thrA] [loc...   \n",
       "5   lcl|U00096.3_cds_AAC73117.1_6 [gene=yaaA] [loc...   \n",
       "12  lcl|U00096.3_cds_AAC73124.1_13 [gene=yaaI] [lo...   \n",
       "17  lcl|U00096.3_cds_AAT48122.1_18 [gene=hokC] [lo...   \n",
       "23  lcl|U00096.3_cds_AAC73135.1_24 [gene=yaaY] [lo...   \n",
       "\n",
       "                                             sequence  \\\n",
       "1   (A, T, G, C, G, A, G, T, G, T, T, G, A, A, G, ...   \n",
       "5   (A, T, G, C, T, G, A, T, T, C, T, T, A, T, T, ...   \n",
       "12  (A, T, G, A, A, A, T, C, C, G, T, T, T, T, T, ...   \n",
       "17  (A, T, G, A, A, G, C, A, G, C, A, T, A, A, G, ...   \n",
       "23  (A, T, G, T, G, C, C, G, G, C, A, C, T, C, G, ...   \n",
       "\n",
       "                                          translation  \\\n",
       "1   (M, R, V, L, K, F, G, G, T, S, V, A, N, A, E, ...   \n",
       "5   (M, L, I, L, I, S, P, A, K, T, L, D, Y, Q, S, ...   \n",
       "12  (M, K, S, V, F, T, I, S, A, S, L, A, I, S, L, ...   \n",
       "17  (M, K, Q, H, K, A, M, I, V, A, L, I, V, I, C, ...   \n",
       "23  (M, C, R, H, S, L, R, S, D, G, A, G, F, Y, Q, ...   \n",
       "\n",
       "                         seguid  \\\n",
       "1   /p+3Jdgat4Fq0w2rqqay4xg8Bs4   \n",
       "5   vJJ0yR31YORqwI12U79SgItYU3U   \n",
       "12  GT2zzYZoFncaOMVxs4CEcLaePdc   \n",
       "17  yfUY1Sxn8BgBfdGY1FQnaroApNY   \n",
       "23  m/3aWNuEiWlqAe7cvTcnrZ58efA   \n",
       "\n",
       "                                               codons  \n",
       "1   [ATG, CGA, GTG, TTG, AAG, TTC, GGC, GGT, ACA, ...  \n",
       "5   [ATG, CTG, ATT, CTT, ATT, TCA, CCT, GCG, AAA, ...  \n",
       "12  [ATG, AAA, TCC, GTT, TTT, ACG, ATT, TCC, GCC, ...  \n",
       "17  [ATG, AAG, CAG, CAT, AAG, GCG, ATG, ATT, GTC, ...  \n",
       "23  [ATG, TGC, CGG, CAC, TCG, TTA, CGT, AGT, GAT, ...  "
      ]
     },
     "metadata": {},
     "output_type": "display_data"
    }
   ],
   "source": [
    "organism = \"E.Coli\"\n",
    "\n",
    "def group_codons(sequence):\n",
    "    return [''.join(sequence[i:i+3]) for i in range(0, len(sequence), 3)]\n",
    "\n",
    "df = pd.read_pickle(f\"../data/{organism}/cleanedData_test.pkl\")\n",
    "usage_biases = pd.read_pickle(f\"../data/{organism}/usageBias.pkl\")\n",
    "df['codons'] = df['sequence'].apply(group_codons)\n",
    "\n",
    "display(df.head())"
   ]
  },
  {
   "cell_type": "code",
   "execution_count": 5,
   "metadata": {},
   "outputs": [],
   "source": [
    "min_length = 100\n",
    "max_length = 500\n",
    "\n",
    "df = ml_helper.filter_sequence_length(df, min_length, max_length)"
   ]
  },
  {
   "cell_type": "code",
   "execution_count": 6,
   "metadata": {},
   "outputs": [
    {
     "data": {
      "text/plain": [
       "592"
      ]
     },
     "execution_count": 6,
     "metadata": {},
     "output_type": "execute_result"
    }
   ],
   "source": [
    "len(df)"
   ]
  },
  {
   "cell_type": "markdown",
   "metadata": {},
   "source": [
    "## Load trained model"
   ]
  },
  {
   "cell_type": "code",
   "execution_count": 7,
   "metadata": {},
   "outputs": [],
   "source": [
    "class EncoderClassifier(nn.Module):\n",
    "    def __init__(self, embed_dim, num_layers, num_heads):\n",
    "        super(EncoderClassifier, self).__init__()\n",
    "\n",
    "        self.emb = nn.Embedding(len(amino_acids), embed_dim, padding_idx=len(amino_acids)-1)\n",
    "        self.encoder_layer = nn.TransformerEncoderLayer(\n",
    "            d_model=embed_dim,\n",
    "            nhead=num_heads,\n",
    "            batch_first=True\n",
    "        )\n",
    "        self.encoder = nn.TransformerEncoder(\n",
    "            encoder_layer=self.encoder_layer,\n",
    "            num_layers=num_layers,\n",
    "        )\n",
    "        self.linear = nn.Linear(embed_dim, len(codons))\n",
    "        self.dropout = nn.Dropout(0.2)\n",
    "\n",
    "    def forward(self, x):\n",
    "        x = x.long()\n",
    "        x = self.emb(x)\n",
    "        x = self.encoder(x)\n",
    "        x = self.dropout(x)\n",
    "        out = self.linear(x)\n",
    "        return out"
   ]
  },
  {
   "cell_type": "code",
   "execution_count": 9,
   "metadata": {},
   "outputs": [
    {
     "data": {
      "text/plain": [
       "<All keys matched successfully>"
      ]
     },
     "execution_count": 9,
     "metadata": {},
     "output_type": "execute_result"
    }
   ],
   "source": [
    "EMBED_DIM = 256\n",
    "NUM_ENCODER_LAYERS = 4\n",
    "NUM_HEADS = 4\n",
    "\n",
    "model = EncoderClassifier(\n",
    "    embed_dim=EMBED_DIM,\n",
    "    num_layers=NUM_ENCODER_LAYERS,\n",
    "    num_heads=NUM_HEADS\n",
    ").to(device)\n",
    "model.load_state_dict(torch.load(f\"../ml_models/{organism}/encoder_256_4_4_10e.pkl\", map_location=device))"
   ]
  },
  {
   "cell_type": "markdown",
   "metadata": {},
   "source": [
    "## Testing the codon prediction"
   ]
  },
  {
   "cell_type": "code",
   "execution_count": 10,
   "metadata": {},
   "outputs": [],
   "source": [
    "padding_pos = 'right'\n",
    "padding_char = '_'\n",
    "def prepare_aa_sequence(aa_sequence):\n",
    "    aa_sequence = ml_helper.pad_sequence(aa_sequence, max_length, padding_pos, padding_char)\n",
    "    aa_sequence = ml_helper.aa_to_int_tensor(aa_sequence, device)\n",
    "    return aa_sequence"
   ]
  },
  {
   "cell_type": "code",
   "execution_count": 11,
   "metadata": {},
   "outputs": [],
   "source": [
    "def predict_codons(model, aa_sequence_list):\n",
    "    # Prepare data (pad, convert to tensor)\n",
    "    prepared_amino_seq = []\n",
    "    for seq in aa_sequence_list:\n",
    "        prepared_amino_seq.append(prepare_aa_sequence(seq))\n",
    "\n",
    "    # create data_loader for batched throughput\n",
    "    batch_size = 32\n",
    "    data_loader = DataLoader(prepared_amino_seq, batch_size=batch_size)\n",
    "\n",
    "    model.eval()\n",
    "    codon_predictions = []\n",
    "    with torch.no_grad():\n",
    "        for batch in data_loader:\n",
    "            output = model(batch)  # (batch_size, seq_len, num_classes)\n",
    "            for batch_i in range(output.shape[0]):\n",
    "                predicted_codons = []\n",
    "                for seq_i in range(output.shape[1]):\n",
    "                    aa_num = batch[batch_i][seq_i].item()\n",
    "                    if aa_num == aminoacids_to_integer['_']:\n",
    "                        break\n",
    "                    codon_idx = torch.argmax(output[batch_i][seq_i]).item()\n",
    "                    codon = integer_to_codons[codon_idx]\n",
    "                    predicted_codons.append(codon)\n",
    "                codon_predictions.append(predicted_codons)\n",
    "    return codon_predictions"
   ]
  },
  {
   "cell_type": "code",
   "execution_count": 12,
   "metadata": {},
   "outputs": [],
   "source": [
    "amino_seq = df['translation'].head()\n",
    "batched_predictions = predict_codons(model, amino_seq)"
   ]
  },
  {
   "cell_type": "code",
   "execution_count": 13,
   "metadata": {},
   "outputs": [
    {
     "data": {
      "text/plain": [
       "259"
      ]
     },
     "execution_count": 13,
     "metadata": {},
     "output_type": "execute_result"
    }
   ],
   "source": [
    "len(batched_predictions[0])"
   ]
  },
  {
   "cell_type": "markdown",
   "metadata": {},
   "source": [
    "## Building the classifier"
   ]
  },
  {
   "cell_type": "code",
   "execution_count": 14,
   "metadata": {},
   "outputs": [],
   "source": [
    "amino_acids_to_codons = {\n",
    "    'A': ['GCT', 'GCC', 'GCA', 'GCG'],\n",
    "    'R': ['CGT', 'CGC', 'CGA', 'CGG', 'AGA', 'AGG'],\n",
    "    'N': ['AAT', 'AAC'],\n",
    "    'D': ['GAT', 'GAC'],\n",
    "    'C': ['TGT', 'TGC'],\n",
    "    'Q': ['CAA', 'CAG'],\n",
    "    'E': ['GAA', 'GAG'],\n",
    "    'G': ['GGT', 'GGC', 'GGA', 'GGG'],\n",
    "    'H': ['CAT', 'CAC'],\n",
    "    'I': ['ATT', 'ATC', 'ATA'],\n",
    "    'L': ['TTA', 'TTG', 'CTT', 'CTC', 'CTA', 'CTG'],\n",
    "    'K': ['AAA', 'AAG'],\n",
    "    'M': ['ATG'],\n",
    "    'F': ['TTT', 'TTC'],\n",
    "    'P': ['CCT', 'CCC', 'CCA', 'CCG'],\n",
    "    'S': ['TCT', 'TCC', 'TCA', 'TCG', 'AGT', 'AGC'],\n",
    "    'T': ['ACT', 'ACC', 'ACA', 'ACG'],\n",
    "    'W': ['TGG'],\n",
    "    'Y': ['TAT', 'TAC'],\n",
    "    'V': ['GTT', 'GTC', 'GTA', 'GTG'],\n",
    "    '*': ['TAA', 'TAG', 'TGA']\n",
    "}"
   ]
  },
  {
   "cell_type": "code",
   "execution_count": 15,
   "metadata": {},
   "outputs": [],
   "source": [
    "max_weighted_bc = bc.Max_Bias_Baseline_Classifier(usage_biases)\n",
    "def check_and_replace_codons(aa_sequences, codon_predictions_list):\n",
    "    total_codons = 0\n",
    "    not_possible_codons = 0\n",
    "    used_max_bias = 0\n",
    "    for i, aa_seq in enumerate(aa_sequences):\n",
    "        codon_predictions = codon_predictions_list[i]\n",
    "        for j, aa in enumerate(aa_seq):\n",
    "            total_codons += 1\n",
    "            codon_pred = codon_predictions[j]\n",
    "            max_bias_pred = max_weighted_bc._predict_codon(aa)\n",
    "            if codon_pred not in amino_acids_to_codons[aa]:\n",
    "                not_possible_codons += 1\n",
    "                \n",
    "                codon_predictions_list[i][j] = max_bias_pred\n",
    "            else:\n",
    "                if codon_pred == max_bias_pred:\n",
    "                    used_max_bias += 1\n",
    "    max_bias_ratio = used_max_bias / total_codons\n",
    "    print(f\"Model used max bias codon for {max_bias_ratio*100:.2f}% of possible codon predictions\")\n",
    "    not_possible_ratio = not_possible_codons / total_codons\n",
    "    print(f\"Replaced {not_possible_ratio*100:.2f}% of codons\")\n",
    "    return codon_predictions_list"
   ]
  },
  {
   "cell_type": "code",
   "execution_count": 16,
   "metadata": {},
   "outputs": [],
   "source": [
    "class Encoder_Classifier(Classifier.Classifier):\n",
    "    def __init__(self, trained_model, seed=42):\n",
    "        self.model = trained_model\n",
    "        super().__init__(seed)\n",
    "\n",
    "\n",
    "    def predict_codons(self, aa_sequences, replace=False):\n",
    "        predictions_list = predict_codons(self.model, aa_sequences)\n",
    "        if replace:\n",
    "            predictions_list = check_and_replace_codons(aa_sequences, predictions_list)\n",
    "        predictions_matrix = self.pad_and_convert_seq(predictions_list)\n",
    "        return predictions_matrix"
   ]
  },
  {
   "cell_type": "code",
   "execution_count": 17,
   "metadata": {},
   "outputs": [
    {
     "name": "stdout",
     "output_type": "stream",
     "text": [
      "Model used max bias codon for 87.43% of possible codon predictions\n",
      "Replaced 0.00% of codons\n",
      "CPU times: total: 2min 20s\n",
      "Wall time: 37.2 s\n"
     ]
    }
   ],
   "source": [
    "%%time \n",
    "encoder_classifier = Encoder_Classifier(model)\n",
    "pred_codons = {}\n",
    "amino_seq = df['translation']\n",
    "true_codons = df['codons']\n",
    "#pred_codons = encoder_classifier.predict_codons(amino_seq)\n",
    "pred_codons_replaced = encoder_classifier.predict_codons(amino_seq, replace=True)"
   ]
  },
  {
   "cell_type": "code",
   "execution_count": 18,
   "metadata": {},
   "outputs": [
    {
     "name": "stdout",
     "output_type": "stream",
     "text": [
      "Organismus E.Coli - Accuracy: 0.5129705551241068\n"
     ]
    }
   ],
   "source": [
    "accuracy = encoder_classifier.calc_accuracy(true_codons, pred_codons_replaced)\n",
    "print(f\"Organismus {organism} - Accuracy: {accuracy}\")"
   ]
  },
  {
   "cell_type": "markdown",
   "metadata": {},
   "source": [
    "### Compare with baseline classifier"
   ]
  },
  {
   "cell_type": "code",
   "execution_count": 19,
   "metadata": {},
   "outputs": [
    {
     "name": "stdout",
     "output_type": "stream",
     "text": [
      "Organismus E.Coli - Accuracy: 0.5133919702360527\n"
     ]
    }
   ],
   "source": [
    "max_weighted_bc = bc.Max_Bias_Baseline_Classifier(usage_biases)\n",
    "amino_seq = df['translation'].apply(lambda seq: list(seq))\n",
    "true_codons = df['codons']\n",
    "pred_codons = max_weighted_bc.predict_codons(amino_seq)\n",
    "accuracy = max_weighted_bc.calc_accuracy(true_codons, pred_codons)\n",
    "print(f\"Organismus {organism} - Accuracy: {accuracy}\")"
   ]
  },
  {
   "cell_type": "code",
   "execution_count": null,
   "metadata": {},
   "outputs": [],
   "source": []
  }
 ],
 "metadata": {
  "kernelspec": {
   "display_name": "base",
   "language": "python",
   "name": "python3"
  },
  "language_info": {
   "codemirror_mode": {
    "name": "ipython",
    "version": 3
   },
   "file_extension": ".py",
   "mimetype": "text/x-python",
   "name": "python",
   "nbconvert_exporter": "python",
   "pygments_lexer": "ipython3",
   "version": "3.11.5"
  }
 },
 "nbformat": 4,
 "nbformat_minor": 2
}
