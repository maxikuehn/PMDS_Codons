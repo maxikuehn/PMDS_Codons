{
 "cells": [
  {
   "cell_type": "code",
   "execution_count": 1,
   "metadata": {},
   "outputs": [],
   "source": [
    "import pandas as pd\n",
    "import sys\n",
    "import numpy as np\n",
    "import pickle as pkl\n",
    "import time\n",
    "import matplotlib.pyplot as plt\n",
    "\n",
    "sys.path.append('../scripts')\n",
    "import Baseline_classifiers as bc\n",
    "from Classifier import Classifier"
   ]
  },
  {
   "cell_type": "code",
   "execution_count": 2,
   "metadata": {},
   "outputs": [],
   "source": [
    "def to_pickle(obj, path):\n",
    "    with open(path, 'wb') as file:\n",
    "        pkl.dump(obj, file)"
   ]
  },
  {
   "cell_type": "code",
   "execution_count": 3,
   "metadata": {},
   "outputs": [],
   "source": [
    "def from_pickle(path): \n",
    "    with open(path, 'rb') as file:\n",
    "        return pkl.load(file)"
   ]
  },
  {
   "cell_type": "markdown",
   "metadata": {},
   "source": [
    "# Baseline Klassifikatoren"
   ]
  },
  {
   "cell_type": "markdown",
   "metadata": {},
   "source": [
    "TODOs:\n",
    "Für jeden Organismus durchlaufen lassen\n",
    "- Diagramme:\n",
    "    - Aminosäureverteilung pro Organismus?\n",
    "    - Error Rates je Organismus\n",
    "    (- Error Rates je Aminosäure (je Organismus?))"
   ]
  },
  {
   "cell_type": "markdown",
   "metadata": {},
   "source": [
    "#### Error Rate\n",
    "\n",
    "Die gewählte Metrik zum Vergleich der Klassifikatoren ist die sogenannte **Fehlerrate (Error Rate)**\n",
    "\n",
    "$$\n",
    "E = \\frac{F}{G}\n",
    "$$\n",
    "\n",
    "- $F$: Absolute Anzahl falsch klassifizierter Aminosäuren <br>\n",
    "über alle Sequenzen eines betrachteten Organismus\n",
    "\n",
    "- $G$: Gesamtanzahl der zu klassifizierenden Aminosäuren <br>\n",
    "über alle Sequenzen eines betrachteten Organismus\n",
    "\n",
    "(nimmt Werte zwischen 0 (keine Fehler) <br>\n",
    "und 1 (ausschließlich Fehler) an)\n"
   ]
  },
  {
   "cell_type": "markdown",
   "metadata": {},
   "source": [
    "#### Accuracy\n",
    "\n",
    "Die Accuracy steht der Fehlerrate gegenüber und gibt den Anteil an richtigen Klassifizierungen an.\n",
    "\n",
    "(nimmt Werte zwischen 0 (alles falsch) <br>\n",
    "und 1 (alles richtig) an)\n",
    "\n",
    "$$\n",
    "Accuracy = \\frac{T}{G} = 1 - E = 1 - \\frac{F}{G}\n",
    "$$\n",
    "\n",
    "- $T$: Absolute Anzahl richtig klassifizierter Aminosäuren <br>\n",
    "über alle Sequenzen eines betrachteten Organismus\n",
    "\n",
    "- $G$: Gesamtanzahl der zu klassifizierenden Aminosäuren <br>\n",
    "über alle Sequenzen eines betrachteten Organismus"
   ]
  },
  {
   "cell_type": "markdown",
   "metadata": {},
   "source": [
    "\n",
    "#### Berechnung der Error Rate\n",
    "\n",
    "Berechnung der Fehlerrate in Bezug auf alle Sequenzen eines bestimmten Organismus:\n",
    "\n",
    "(Bei vorgegebener Wahrscheinlichkeitsverteilung)\n",
    "\n",
    "$$\n",
    "E = 1 - Accuracy = 1 - \\frac{T}{G} = 1 - \\frac{1}{G} \\times \\sum_{a \\in A} \\sum_{c\\{a\\} \\in C\\{a\\}} (G_{c\\{a\\}} \\times p_{c\\{a\\}})\n",
    "$$\n",
    "\n",
    "- $A$: Menge aller Aminosäuren\n",
    "- $C\\{a\\}$: Menge aller Codons, welche die Aminosäure a kodieren\n",
    "- $G$: Gesamtanzahl an Codons / zu klassifizierenden Aminosäuren\n",
    "- $G_{c\\{a\\}}$: Gesamtanzahl des Vorkommens von Codon c{a}\n",
    "- $p_{c\\{a\\}}$: Von Klassifikator angenommene Wahrscheinlichkeit,<br>dass Aminosäure a durch Codon $c\\{a\\}$ kodiert wird\n",
    "\n"
   ]
  },
  {
   "cell_type": "markdown",
   "metadata": {},
   "source": [
    "## Datenvorbereitung"
   ]
  },
  {
   "cell_type": "code",
   "execution_count": 10,
   "metadata": {},
   "outputs": [
    {
     "data": {
      "text/html": [
       "<div>\n",
       "<style scoped>\n",
       "    .dataframe tbody tr th:only-of-type {\n",
       "        vertical-align: middle;\n",
       "    }\n",
       "\n",
       "    .dataframe tbody tr th {\n",
       "        vertical-align: top;\n",
       "    }\n",
       "\n",
       "    .dataframe thead th {\n",
       "        text-align: right;\n",
       "    }\n",
       "</style>\n",
       "<table border=\"1\" class=\"dataframe\">\n",
       "  <thead>\n",
       "    <tr style=\"text-align: right;\">\n",
       "      <th></th>\n",
       "      <th>id</th>\n",
       "      <th>description</th>\n",
       "      <th>sequence</th>\n",
       "      <th>translation</th>\n",
       "      <th>seguid</th>\n",
       "      <th>codons</th>\n",
       "    </tr>\n",
       "  </thead>\n",
       "  <tbody>\n",
       "    <tr>\n",
       "      <th>0</th>\n",
       "      <td>lcl|U00096.3_cds_AAC73112.1_1</td>\n",
       "      <td>lcl|U00096.3_cds_AAC73112.1_1 [gene=thrL] [loc...</td>\n",
       "      <td>(A, T, G, A, A, A, C, G, C, A, T, T, A, G, C, ...</td>\n",
       "      <td>(M, K, R, I, S, T, T, I, T, T, T, I, T, I, T, ...</td>\n",
       "      <td>QuAqLUJXXhVXIJRPc+T7iMi0UqE</td>\n",
       "      <td>[ATG, AAA, CGC, ATT, AGC, ACC, ACC, ATT, ACC, ...</td>\n",
       "    </tr>\n",
       "    <tr>\n",
       "      <th>1</th>\n",
       "      <td>lcl|U00096.3_cds_AAC73113.1_2</td>\n",
       "      <td>lcl|U00096.3_cds_AAC73113.1_2 [gene=thrA] [loc...</td>\n",
       "      <td>(A, T, G, C, G, A, G, T, G, T, T, G, A, A, G, ...</td>\n",
       "      <td>(M, R, V, L, K, F, G, G, T, S, V, A, N, A, E, ...</td>\n",
       "      <td>/p+3Jdgat4Fq0w2rqqay4xg8Bs4</td>\n",
       "      <td>[ATG, CGA, GTG, TTG, AAG, TTC, GGC, GGT, ACA, ...</td>\n",
       "    </tr>\n",
       "    <tr>\n",
       "      <th>2</th>\n",
       "      <td>lcl|U00096.3_cds_AAC73114.1_3</td>\n",
       "      <td>lcl|U00096.3_cds_AAC73114.1_3 [gene=thrB] [loc...</td>\n",
       "      <td>(A, T, G, G, T, T, A, A, A, G, T, T, T, A, T, ...</td>\n",
       "      <td>(M, V, K, V, Y, A, P, A, S, S, A, N, M, S, V, ...</td>\n",
       "      <td>scFdp6oP+pW5HnvUww8MSi93ntM</td>\n",
       "      <td>[ATG, GTT, AAA, GTT, TAT, GCC, CCG, GCT, TCC, ...</td>\n",
       "    </tr>\n",
       "    <tr>\n",
       "      <th>3</th>\n",
       "      <td>lcl|U00096.3_cds_AAC73115.1_4</td>\n",
       "      <td>lcl|U00096.3_cds_AAC73115.1_4 [gene=thrC] [loc...</td>\n",
       "      <td>(A, T, G, A, A, A, C, T, C, T, A, C, A, A, T, ...</td>\n",
       "      <td>(M, K, L, Y, N, L, K, D, H, N, E, Q, V, S, F, ...</td>\n",
       "      <td>EkFurFHdk7l6qKQ+5xRiBUhWM9U</td>\n",
       "      <td>[ATG, AAA, CTC, TAC, AAT, CTG, AAA, GAT, CAC, ...</td>\n",
       "    </tr>\n",
       "    <tr>\n",
       "      <th>5</th>\n",
       "      <td>lcl|U00096.3_cds_AAC73117.1_6</td>\n",
       "      <td>lcl|U00096.3_cds_AAC73117.1_6 [gene=yaaA] [loc...</td>\n",
       "      <td>(A, T, G, C, T, G, A, T, T, C, T, T, A, T, T, ...</td>\n",
       "      <td>(M, L, I, L, I, S, P, A, K, T, L, D, Y, Q, S, ...</td>\n",
       "      <td>vJJ0yR31YORqwI12U79SgItYU3U</td>\n",
       "      <td>[ATG, CTG, ATT, CTT, ATT, TCA, CCT, GCG, AAA, ...</td>\n",
       "    </tr>\n",
       "  </tbody>\n",
       "</table>\n",
       "</div>"
      ],
      "text/plain": [
       "                              id  \\\n",
       "0  lcl|U00096.3_cds_AAC73112.1_1   \n",
       "1  lcl|U00096.3_cds_AAC73113.1_2   \n",
       "2  lcl|U00096.3_cds_AAC73114.1_3   \n",
       "3  lcl|U00096.3_cds_AAC73115.1_4   \n",
       "5  lcl|U00096.3_cds_AAC73117.1_6   \n",
       "\n",
       "                                         description  \\\n",
       "0  lcl|U00096.3_cds_AAC73112.1_1 [gene=thrL] [loc...   \n",
       "1  lcl|U00096.3_cds_AAC73113.1_2 [gene=thrA] [loc...   \n",
       "2  lcl|U00096.3_cds_AAC73114.1_3 [gene=thrB] [loc...   \n",
       "3  lcl|U00096.3_cds_AAC73115.1_4 [gene=thrC] [loc...   \n",
       "5  lcl|U00096.3_cds_AAC73117.1_6 [gene=yaaA] [loc...   \n",
       "\n",
       "                                            sequence  \\\n",
       "0  (A, T, G, A, A, A, C, G, C, A, T, T, A, G, C, ...   \n",
       "1  (A, T, G, C, G, A, G, T, G, T, T, G, A, A, G, ...   \n",
       "2  (A, T, G, G, T, T, A, A, A, G, T, T, T, A, T, ...   \n",
       "3  (A, T, G, A, A, A, C, T, C, T, A, C, A, A, T, ...   \n",
       "5  (A, T, G, C, T, G, A, T, T, C, T, T, A, T, T, ...   \n",
       "\n",
       "                                         translation  \\\n",
       "0  (M, K, R, I, S, T, T, I, T, T, T, I, T, I, T, ...   \n",
       "1  (M, R, V, L, K, F, G, G, T, S, V, A, N, A, E, ...   \n",
       "2  (M, V, K, V, Y, A, P, A, S, S, A, N, M, S, V, ...   \n",
       "3  (M, K, L, Y, N, L, K, D, H, N, E, Q, V, S, F, ...   \n",
       "5  (M, L, I, L, I, S, P, A, K, T, L, D, Y, Q, S, ...   \n",
       "\n",
       "                        seguid  \\\n",
       "0  QuAqLUJXXhVXIJRPc+T7iMi0UqE   \n",
       "1  /p+3Jdgat4Fq0w2rqqay4xg8Bs4   \n",
       "2  scFdp6oP+pW5HnvUww8MSi93ntM   \n",
       "3  EkFurFHdk7l6qKQ+5xRiBUhWM9U   \n",
       "5  vJJ0yR31YORqwI12U79SgItYU3U   \n",
       "\n",
       "                                              codons  \n",
       "0  [ATG, AAA, CGC, ATT, AGC, ACC, ACC, ATT, ACC, ...  \n",
       "1  [ATG, CGA, GTG, TTG, AAG, TTC, GGC, GGT, ACA, ...  \n",
       "2  [ATG, GTT, AAA, GTT, TAT, GCC, CCG, GCT, TCC, ...  \n",
       "3  [ATG, AAA, CTC, TAC, AAT, CTG, AAA, GAT, CAC, ...  \n",
       "5  [ATG, CTG, ATT, CTT, ATT, TCA, CCT, GCG, AAA, ...  "
      ]
     },
     "metadata": {},
     "output_type": "display_data"
    },
    {
     "data": {
      "text/plain": [
       "{'M': {'ATG': 1.0},\n",
       " 'K': {'AAA': 0.7697623206014124, 'AAG': 0.23023767939858758},\n",
       " 'R': {'CGC': 0.4038268652110177,\n",
       "  'CGA': 0.06237173057634442,\n",
       "  'CGT': 0.3853406372965049,\n",
       "  'AGG': 0.019365789676722475,\n",
       "  'CGG': 0.09391250675102229,\n",
       "  'AGA': 0.03518247048838824},\n",
       " 'I': {'ATT': 0.5083169031684763,\n",
       "  'ATC': 0.4226625197856211,\n",
       "  'ATA': 0.06902057704590264},\n",
       " 'S': {'AGC': 0.27845605080764435,\n",
       "  'TCA': 0.12152364933445466,\n",
       "  'TCT': 0.1468839718121973,\n",
       "  'AGT': 0.14924745526781313,\n",
       "  'TCG': 0.15393092248354262,\n",
       "  'TCC': 0.14995795029434794},\n",
       " 'T': {'ACC': 0.439674039580908,\n",
       "  'ACA': 0.1286767559177338,\n",
       "  'ACG': 0.26575087310826545,\n",
       "  'ACT': 0.16589833139309274},\n",
       " 'G': {'GGT': 0.33815828251456553,\n",
       "  'GGC': 0.40754006937045184,\n",
       "  'GGG': 0.1490104509079368,\n",
       "  'GGA': 0.10529119720704586},\n",
       " 'N': {'AAC': 0.5532204543520803, 'AAT': 0.44677954564791966},\n",
       " 'A': {'GCG': 0.35725717099593746,\n",
       "  'GCA': 0.2125446263695679,\n",
       "  'GCC': 0.27000932097571273,\n",
       "  'GCT': 0.16018888165878195},\n",
       " '*': {'TGA': 0.2848249027237354,\n",
       "  'TAA': 0.6469520103761349,\n",
       "  'TAG': 0.0682230869001297},\n",
       " 'V': {'GTG': 0.3695251812150261,\n",
       "  'GTT': 0.2600642221330248,\n",
       "  'GTC': 0.21522678440724388,\n",
       "  'GTA': 0.1551838122447052},\n",
       " 'L': {'TTG': 0.12685891531454932,\n",
       "  'CTG': 0.4997992489549137,\n",
       "  'CTC': 0.10455586783495903,\n",
       "  'TTA': 0.12996858836588648,\n",
       "  'CTT': 0.10245388630405518,\n",
       "  'CTA': 0.036363493225636305},\n",
       " 'F': {'TTC': 0.4268887083671812, 'TTT': 0.5731112916328188},\n",
       " 'E': {'GAA': 0.6920831760230012, 'GAG': 0.3079168239769988},\n",
       " 'D': {'GAT': 0.6253901170351105, 'GAC': 0.37460988296488945},\n",
       " 'Q': {'CAG': 0.6537658492141827, 'CAA': 0.3462341507858173},\n",
       " 'P': {'CCC': 0.12224201986503905,\n",
       "  'CCG': 0.5302335279399499,\n",
       "  'CCT': 0.1574038971870498,\n",
       "  'CCA': 0.19012055500796118},\n",
       " 'H': {'CAC': 0.4308565914489311, 'CAT': 0.5691434085510689},\n",
       " 'C': {'TGC': 0.5588512582493291, 'TGT': 0.4411487417506708},\n",
       " 'Y': {'TAC': 0.43058740518609984, 'TAT': 0.5694125948139002},\n",
       " 'W': {'TGG': 1.0}}"
      ]
     },
     "metadata": {},
     "output_type": "display_data"
    }
   ],
   "source": [
    "organisms = [\"E.Coli\", \"Drosophila.Melanogaster\", \"Homo.Sapiens\"]\n",
    "\n",
    "dfs = {}\n",
    "usage_biases = {}\n",
    "\n",
    "def group_codons(sequence):\n",
    "    return [''.join(sequence[i:i+3]) for i in range(0, len(sequence), 3)]\n",
    "\n",
    "for organism in organisms:\n",
    "    dfs[organism] = pd.read_pickle(f\"../data/{organism}/cleanedData.pkl\")\n",
    "    dfs[organism]['codons'] = dfs[organism]['sequence'].apply(group_codons)\n",
    "    usage_biases[organism] = pd.read_pickle(f\"../data/{organism}/usageBias.pkl\")\n",
    "\n",
    "display(dfs[organisms[0]].head())\n",
    "display(usage_biases[organisms[0]])"
   ]
  },
  {
   "cell_type": "code",
   "execution_count": 5,
   "metadata": {},
   "outputs": [],
   "source": [
    "def remove_longest_10_percent(df):\n",
    "    # Bestimme die Länge jeder Aminosäuresequenz und sortiere sie absteigend\n",
    "    sequence_lengths = df['translation'].str.len()\n",
    "    sorted_lengths = sequence_lengths.sort_values(ascending=False)\n",
    "\n",
    "    # Bestimme den Schwellenwert für die Länge (10% der längsten Sequenzen)\n",
    "    threshold_length = sorted_lengths.quantile(0.9)\n",
    "\n",
    "    # Filtere die DataFrame-Reihen basierend auf der Länge der Aminosäuresequenzen\n",
    "    filtered_df = df[sequence_lengths <= threshold_length]\n",
    "    return filtered_df"
   ]
  },
  {
   "cell_type": "code",
   "execution_count": 8,
   "metadata": {},
   "outputs": [],
   "source": [
    "def remove_rows_with_X(df):\n",
    "    rows_to_remove = []\n",
    "\n",
    "    # Iteriere über die Zeilen des DataFrames\n",
    "    for index, row in df.iterrows():\n",
    "        # Überprüfe, ob 'X' in der Translation der aktuellen Zeile vorkommt\n",
    "        if 'X' in row['translation']:\n",
    "            rows_to_remove.append(index)  # Füge den Zeilenindex zur Liste hinzu\n",
    "\n",
    "    # Entferne die Zeilen aus dem DataFrame\n",
    "    filtered_df = df.drop(rows_to_remove)\n",
    "    return filtered_df"
   ]
  },
  {
   "cell_type": "code",
   "execution_count": 11,
   "metadata": {},
   "outputs": [
    {
     "name": "stdout",
     "output_type": "stream",
     "text": [
      "548340\n",
      "493620\n",
      "493614\n",
      "1402\n"
     ]
    }
   ],
   "source": [
    "print(dfs[organisms[2]].size)\n",
    "dfs[organisms[2]] = remove_longest_10_percent(dfs[organisms[2]])\n",
    "print(dfs[organisms[2]].size)\n",
    "dfs[organisms[2]] = remove_rows_with_X(dfs[organisms[2]])\n",
    "print(dfs[organisms[2]].size)\n",
    "print(dfs[organisms[2]]['translation'].str.len().max())"
   ]
  },
  {
   "cell_type": "code",
   "execution_count": 12,
   "metadata": {},
   "outputs": [],
   "source": [
    "amino_acids_to_codons = {\n",
    "    'A': ['GCT', 'GCC', 'GCA', 'GCG'],\n",
    "    'R': ['CGT', 'CGC', 'CGA', 'CGG', 'AGA', 'AGG'],\n",
    "    'N': ['AAT', 'AAC'],\n",
    "    'D': ['GAT', 'GAC'],\n",
    "    'C': ['TGT', 'TGC'],\n",
    "    'Q': ['CAA', 'CAG'],\n",
    "    'E': ['GAA', 'GAG'],\n",
    "    'G': ['GGT', 'GGC', 'GGA', 'GGG'],\n",
    "    'H': ['CAT', 'CAC'],\n",
    "    'I': ['ATT', 'ATC', 'ATA'],\n",
    "    'L': ['TTA', 'TTG', 'CTT', 'CTC', 'CTA', 'CTG'],\n",
    "    'K': ['AAA', 'AAG'],\n",
    "    'M': ['ATG'],\n",
    "    'F': ['TTT', 'TTC'],\n",
    "    'P': ['CCT', 'CCC', 'CCA', 'CCG'],\n",
    "    'S': ['TCT', 'TCC', 'TCA', 'TCG', 'AGT', 'AGC'],\n",
    "    'T': ['ACT', 'ACC', 'ACA', 'ACG'],\n",
    "    'W': ['TGG'],\n",
    "    'Y': ['TAT', 'TAC'],\n",
    "    'V': ['GTT', 'GTC', 'GTA', 'GTG'],\n",
    "    '*': ['TAA', 'TAG', 'TGA']\n",
    "}"
   ]
  },
  {
   "cell_type": "code",
   "execution_count": 4,
   "metadata": {},
   "outputs": [],
   "source": [
    "# def get_codon_amino_acid_frequencies(organism):\n",
    "#     codon_amino_acid_frequencies = {}\n",
    "#     total = 0\n",
    "#     amino_seq = dfs[organism]['codons'].apply(lambda seq: list(seq))\n",
    "#     seq = Classifier.pad_and_convert_seq(amino_seq)\n",
    "#     for amino_acid in amino_acids_to_codons.keys():\n",
    "#         codon_amino_acid_frequencies[amino_acid] = {}\n",
    "#         amino_acid_total = 0\n",
    "#         for codon in amino_acids_to_codons[amino_acid]:\n",
    "#             codon_frequency = np.sum(seq == codon)\n",
    "#             codon_amino_acid_frequencies[amino_acid][codon] = codon_frequency\n",
    "#             amino_acid_total += codon_frequency\n",
    "#         codon_amino_acid_frequencies[amino_acid]['total'] = amino_acid_total\n",
    "#         total += amino_acid_total\n",
    "#     codon_amino_acid_frequencies['total'] = total\n",
    "#     return codon_amino_acid_frequencies\n",
    "    "
   ]
  },
  {
   "cell_type": "code",
   "execution_count": 6,
   "metadata": {},
   "outputs": [],
   "source": [
    "def get_codon_amino_acid_frequencies(organism):\n",
    "    codon_amino_acid_frequencies = {}\n",
    "    total = 0\n",
    "    for _, row in dfs[organism].iterrows():\n",
    "        for j, codon in enumerate(row['codons']):\n",
    "            amino_acid = row['translation'][j]\n",
    "            if amino_acid not in codon_amino_acid_frequencies:\n",
    "                codon_amino_acid_frequencies[amino_acid] = {\"total\": 0}\n",
    "            if codon not in codon_amino_acid_frequencies[amino_acid]:\n",
    "                codon_amino_acid_frequencies[amino_acid][codon] = 0\n",
    "            codon_amino_acid_frequencies[amino_acid][\"total\"] += 1\n",
    "            codon_amino_acid_frequencies[amino_acid][codon] += 1\n",
    "            total += 1\n",
    "    codon_amino_acid_frequencies[\"total\"] = total\n",
    "    return codon_amino_acid_frequencies"
   ]
  },
  {
   "cell_type": "code",
   "execution_count": 5,
   "metadata": {},
   "outputs": [
    {
     "name": "stdout",
     "output_type": "stream",
     "text": [
      "Finished E.Coli in 5.237184047698975 seconds.\n",
      "Finished Drosophila.Melanogaster in 62.695178270339966 seconds.\n",
      "Finished Homo.Sapiens in 264.22393918037415 seconds.\n"
     ]
    }
   ],
   "source": [
    "# for organism in organisms:\n",
    "#     start_time = time.time()\n",
    "#     codon_amino_acid_frequencies = get_codon_amino_acid_frequencies(organism)\n",
    "#     with open(f'../data/{organism}/codon_amino_acid_frequencies.pkl', 'wb') as file:\n",
    "#         pkl.dump(codon_amino_acid_frequencies, file)\n",
    "#     print(f\"Finished {organism} in {time.time() - start_time} seconds.\")"
   ]
  },
  {
   "cell_type": "code",
   "execution_count": 19,
   "metadata": {},
   "outputs": [],
   "source": [
    "codon_amino_acid_frequencies = {}\n",
    "for organism in organisms:\n",
    "    with open(f'../data/{organism}/codon_amino_acid_frequencies.pkl', 'rb') as file:\n",
    "        codon_amino_acid_frequencies[organism] = pkl.load(file)"
   ]
  },
  {
   "cell_type": "markdown",
   "metadata": {},
   "source": [
    "### Histogramm Aminosäureverteilung"
   ]
  },
  {
   "cell_type": "code",
   "execution_count": 64,
   "metadata": {},
   "outputs": [],
   "source": [
    "def plot_relative_frequency(codon_amino_acid_frequencies, organism_names):\n",
    "    # Colors for each organism\n",
    "    colors = ['darkblue', '#4169e1', 'skyblue']\n",
    "\n",
    "    # Dictionary to store relative frequencies for each organism\n",
    "    relative_frequencies = {}\n",
    "\n",
    "    # Calculate relative frequencies for each organism\n",
    "    for organism_name in organism_names:\n",
    "        total_codons = codon_amino_acid_frequencies[organism_name]['total']\n",
    "        amino_acids = {amino_acid: (codon_amino_acid_frequencies[organism_name][amino_acid]['total'] / total_codons) for amino_acid in codon_amino_acid_frequencies[organism_name] if amino_acid != 'total'}\n",
    "        relative_frequencies[organism_name] = amino_acids\n",
    "\n",
    "    # Sort amino acids based on their frequencies in E.Coli\n",
    "    sorted_amino_acids = sorted(relative_frequencies[organism_names[0]].items(), key=lambda item: item[1], reverse=True)\n",
    "\n",
    "    # Plotting\n",
    "    plt.figure(figsize=(12, 6))\n",
    "    bar_width = 0.25  # Width of each bar\n",
    "\n",
    "    for i, (amino_acid, _) in enumerate(sorted_amino_acids):\n",
    "        x = [i + j * bar_width for j in range(len(organism_names))]  # X coordinates for each organism's bars\n",
    "\n",
    "        for j, organism_name in enumerate(organism_names):\n",
    "            frequency = relative_frequencies[organism_name].get(amino_acid, 0)  # Get relative frequency, default to 0 if not present\n",
    "            plt.bar(x[j], frequency, color=colors[j], width=bar_width, label=organism_name if i == 0 else None)\n",
    "\n",
    "    # Set x-axis labels and title\n",
    "    plt.xlabel('Aminosäure')\n",
    "    plt.ylabel('Relative Häufigkeit')\n",
    "    plt.title('Relative Häufigkeit der Aminosäuren über alle Sequenzen der gezeigten Organismen E.Coli, Fruchtfliege und Mensch')\n",
    "    \n",
    "    # Set x-axis tick labels to amino acids\n",
    "    plt.xticks([i + (len(organism_names) - 1) * bar_width / 2 for i in range(len(sorted_amino_acids))],\n",
    "               [amino_acid for amino_acid, _ in sorted_amino_acids])\n",
    "    \n",
    "    # Add legend\n",
    "    plt.legend()\n",
    "\n",
    "    plt.tight_layout()\n",
    "    plt.show()\n"
   ]
  },
  {
   "cell_type": "code",
   "execution_count": 65,
   "metadata": {},
   "outputs": [
    {
     "data": {
      "image/png": "[encoded data removed]",
      "text/plain": [
       "<Figure size 1200x600 with 1 Axes>"
      ]
     },
     "metadata": {},
     "output_type": "display_data"
    }
   ],
   "source": [
    "plot_relative_frequency(codon_amino_acid_frequencies, organisms)"
   ]
  },
  {
   "cell_type": "markdown",
   "metadata": {},
   "source": [
    "## Baseline Klassifikator mit ungewichtetem Zufall"
   ]
  },
  {
   "cell_type": "markdown",
   "metadata": {},
   "source": [
    "### Berechnung der Error Rates\n",
    "\n",
    "$\n",
    "E = 1 - Accuracy = 1 - \\sum_{a \\in A} \\sum_{c \\in C\\{a\\}} \\frac{G_{c\\{a\\}}}{G_a} \\times p_{c\\{a\\}}\n",
    "$\n",
    "\n",
    "$\n",
    "p_{c\\{a\\}} = \\frac{1}{len(C\\{a\\})}\n",
    "$\n",
    "\n",
    "- $A$: Menge aller Aminosäuren\n",
    "- $C\\{a\\}$: Menge aller Codons, welche die Aminosäure a kodieren\n",
    "- $G$: Gesamtanzahl an Codons / zu klassifizierenden Aminosäuren\n",
    "- $G_{c\\{a\\}}$: Gesamtanzahl des Vorkommens von Codon c{a}\n",
    "- $p_{c\\{a\\}}$: Von Klassifikator angenommene Wahrscheinlichkeit,<br>dass Aminosäure a durch Codon $c\\{a\\}$ kodiert wird"
   ]
  },
  {
   "cell_type": "code",
   "execution_count": 20,
   "metadata": {},
   "outputs": [
    {
     "name": "stdout",
     "output_type": "stream",
     "text": [
      "Organismus E.Coli - Error Rate: 0.6459047648494685\n",
      "Organismus Drosophila.Melanogaster - Error Rate: 0.6460488339371624\n",
      "Organismus Homo.Sapiens - Error Rate: 0.6484010513838808\n"
     ]
    }
   ],
   "source": [
    "for organism in organisms:\n",
    "    accuracy = 0\n",
    "    for amino_acid in amino_acids_to_codons.keys():\n",
    "        for codon in amino_acids_to_codons[amino_acid]:\n",
    "            codon_portion = codon_amino_acid_frequencies[organism][amino_acid][codon]\n",
    "            codon_probability = 1 / len(amino_acids_to_codons[amino_acid])\n",
    "            accuracy += codon_portion * codon_probability\n",
    "    accuracy /= codon_amino_acid_frequencies[organism]['total']\n",
    "    error_rate = 1 - accuracy\n",
    "    print(f\"Organismus {organism} - Error Rate: {error_rate}\")"
   ]
  },
  {
   "cell_type": "markdown",
   "metadata": {},
   "source": [
    "### Error Rates experimentell bestimmen"
   ]
  },
  {
   "cell_type": "code",
   "execution_count": 15,
   "metadata": {},
   "outputs": [],
   "source": [
    "pred_codons = {}\n",
    "def test_classifier(classifier, organism):\n",
    "    global pred_codons\n",
    "    amino_seq = dfs[organism]['translation'].apply(lambda seq: list(seq))\n",
    "    pred_codons = classifier.predict_codons(amino_seq)\n",
    "    true_codons = dfs[organism]['codons']\n",
    "    error_rate = classifier.calc_error_rate(true_codons, pred_codons)\n",
    "    #error_rate_per_amino_acid = classifier.calc_amino_acid_error_rate(amino_seq, true_codons, pred_codons)\n",
    "    print(f\"Organismus {organism} - Error Rate: {error_rate}\")\n",
    "    #print(\"Error Rates pro Aminosäure:\")\n",
    "    #print(error_rate_per_amino_acid)\n",
    "    return error_rate#, error_rate_per_amino_acid"
   ]
  },
  {
   "cell_type": "code",
   "execution_count": 78,
   "metadata": {},
   "outputs": [],
   "source": [
    "exp_error_rates = {\n",
    "    \"Unweighted\": {},\n",
    "    \"Weighted\": {},\n",
    "    \"Max\": {}\n",
    "}"
   ]
  },
  {
   "cell_type": "code",
   "execution_count": 16,
   "metadata": {},
   "outputs": [
    {
     "name": "stdout",
     "output_type": "stream",
     "text": [
      "Ungewichteter Baseline Klassifikator\n",
      "Organismus Homo.Sapiens - Error Rate: 0.6480132960836085\n",
      "154.54\n",
      "CPU times: total: 2min 32s\n",
      "Wall time: 2min 34s\n"
     ]
    }
   ],
   "source": [
    "%%time\n",
    "print(\"Ungewichteter Baseline Klassifikator\")\n",
    "for organism in organisms[2:]:\n",
    "    start_time = time.time()\n",
    "    seed = 42\n",
    "    unweighted_bc = bc.Unweighted_Baseline_Classifier(seed)\n",
    "    error_rate = test_classifier(unweighted_bc, organism)\n",
    "    print(round(time.time() - start_time, 2))\n",
    "    exp_error_rates[\"Unweighted\"][organism] = error_rate "
   ]
  },
  {
   "cell_type": "code",
   "execution_count": 31,
   "metadata": {},
   "outputs": [],
   "source": [
    "#to_pickle(exp_error_rates, \"../data/baseline_classifier_error_rates.pkl\")"
   ]
  },
  {
   "cell_type": "code",
   "execution_count": 32,
   "metadata": {},
   "outputs": [
    {
     "data": {
      "text/plain": [
       "{'Unweighted': {'E.Coli': 0.6457996806107671,\n",
       "  'Drosophila.Melanogaster': 0.6463610382387691,\n",
       "  'Homo.Sapiens': 0.6480132960836085},\n",
       " 'Weighted': {'E.Coli': 0.5833700327328002,\n",
       "  'Drosophila.Melanogaster': 0.6052259330501663,\n",
       "  'Homo.Sapiens': 0.6217771667057421},\n",
       " 'Max': {'E.Coli': 0.4815799655540969,\n",
       "  'Drosophila.Melanogaster': 0.5084628229069863,\n",
       "  'Homo.Sapiens': 0.5558527019957237}}"
      ]
     },
     "execution_count": 32,
     "metadata": {},
     "output_type": "execute_result"
    }
   ],
   "source": [
    "exp_error_rates = from_pickle(\"../data/baseline_classifier_error_rates.pkl\")\n",
    "exp_error_rates"
   ]
  },
  {
   "cell_type": "markdown",
   "metadata": {},
   "source": [
    "## Baseline Klassifikator mit Usage Bias gewichtetem Zufall"
   ]
  },
  {
   "cell_type": "markdown",
   "metadata": {},
   "source": [
    "### Berechnung der Error Rates\n",
    "\n",
    "$\n",
    "E = 1 - Accuracy = 1 - \\sum_{a \\in A} \\sum_{c \\in C\\{a\\}} \\frac{G_{c\\{a\\}}}{G_a} \\times p_{c\\{a\\}}\n",
    "$\n",
    "\n",
    "$\n",
    "p_{c\\{a\\}} = CUB_{c\\{a\\}}\n",
    "$\n",
    "\n",
    "$CUB_{c\\{a\\}}$: Codon Usage Bias für Codon c\\{a\\} für den betrachteten Organismus\n",
    "\n",
    "- $A$: Menge aller Aminosäuren\n",
    "- $C\\{a\\}$: Menge aller Codons, welche die Aminosäure a kodieren\n",
    "- $G$: Gesamtanzahl an Codons / zu klassifizierenden Aminosäuren\n",
    "- $G_{c\\{a\\}}$: Gesamtanzahl des Vorkommens von Codon c{a}\n",
    "- $p_{c\\{a\\}}$: Von Klassifikator angenommene Wahrscheinlichkeit,<br>dass Aminosäure a durch Codon $c\\{a\\}$ kodiert wird"
   ]
  },
  {
   "cell_type": "code",
   "execution_count": 23,
   "metadata": {},
   "outputs": [
    {
     "name": "stdout",
     "output_type": "stream",
     "text": [
      "Organismus E.Coli - Error Rate: 0.5826873340938544\n",
      "Organismus Drosophila.Melanogaster - Error Rate: 0.6053528291892591\n",
      "Organismus Homo.Sapiens - Error Rate: 0.6231533957311384\n"
     ]
    }
   ],
   "source": [
    "for organism in organisms:\n",
    "    accuracy = 0\n",
    "    for amino_acid in amino_acids_to_codons.keys():\n",
    "        for codon in amino_acids_to_codons[amino_acid]:\n",
    "            codon_portion = codon_amino_acid_frequencies[organism][amino_acid][codon] / codon_amino_acid_frequencies[organism]['total']\n",
    "            codon_probability = usage_biases[organism][amino_acid][codon]\n",
    "            accuracy += codon_portion * codon_probability\n",
    "    error_rate = 1 - accuracy\n",
    "    print(f\"Organismus {organism} - Error Rate: {error_rate}\")"
   ]
  },
  {
   "cell_type": "markdown",
   "metadata": {},
   "source": [
    "### Error Rates experimentell bestimmen"
   ]
  },
  {
   "cell_type": "code",
   "execution_count": 24,
   "metadata": {},
   "outputs": [
    {
     "name": "stdout",
     "output_type": "stream",
     "text": [
      "Usage Bias Gewichteter Baseline Klassifikator\n",
      "Organismus Homo.Sapiens - Error Rate: 0.6217771667057421\n",
      "136.67\n",
      "CPU times: total: 2min 16s\n",
      "Wall time: 2min 16s\n"
     ]
    }
   ],
   "source": [
    "%%time\n",
    "print(\"Usage Bias Gewichteter Baseline Klassifikator\")\n",
    "for organism in organisms[2:]:\n",
    "    start_time = time.time()\n",
    "    seed = 42\n",
    "    weighted_bc = bc.Bias_Weighted_Classifier(usage_biases[organism], seed)\n",
    "    error_rate = test_classifier(weighted_bc, organism)\n",
    "    print(round(time.time() - start_time, 2))\n",
    "    exp_error_rates[\"Weighted\"][organism] = error_rate"
   ]
  },
  {
   "cell_type": "code",
   "execution_count": 33,
   "metadata": {},
   "outputs": [],
   "source": [
    "#to_pickle(exp_error_rates, \"../data/baseline_classifier_error_rates.pkl\")"
   ]
  },
  {
   "cell_type": "markdown",
   "metadata": {},
   "source": [
    "## Baseline Klassifikator der immer das nach Usage Bias wahrscheinlichste Codon wählt"
   ]
  },
  {
   "cell_type": "markdown",
   "metadata": {},
   "source": [
    "### Berechnung der Error Rates\n",
    "\n",
    "$\n",
    "E = 1 - Accuracy = 1 - \\sum_{a \\in A} \\sum_{c \\in C\\{a\\}} \\frac{G_{c\\{a\\}}}{G_a} \\times p_{c\\{a\\}}\n",
    "$\n",
    "\n",
    "$\n",
    "p_{c\\{a\\}} = \n",
    "\\begin{cases}\n",
    "1 & CUB_{c\\{a\\}} = max(CUB_{C\\{a\\}}) \\\\\n",
    "0 & \\text{sonst}\n",
    "\\end{cases}\n",
    "$\n",
    "\n",
    "$CUB_{C\\{a\\}}$: Menge an Codon Usage Bias für alle Codons der Menge $C\\{a\\}$ für den betrachteten Organismus <br>\n",
    "\n",
    "$CUB_{c\\{a\\}}$: Codon Usage Bias für Codon c\\{a\\} für den betrachteten Organismus\n",
    "\n",
    "- $A$: Menge aller Aminosäuren\n",
    "- $C\\{a\\}$: Menge aller Codons, welche die Aminosäure a kodieren\n",
    "- $G$: Gesamtanzahl an Codons / zu klassifizierenden Aminosäuren\n",
    "- $G_{c\\{a\\}}$: Gesamtanzahl des Vorkommens von Codon c{a}\n",
    "- $p_{c\\{a\\}}$: Von Klassifikator angenommene Wahrscheinlichkeit,<br>dass Aminosäure a durch Codon $c\\{a\\}$ kodiert wird"
   ]
  },
  {
   "cell_type": "code",
   "execution_count": 30,
   "metadata": {},
   "outputs": [
    {
     "name": "stdout",
     "output_type": "stream",
     "text": [
      "Organismus E.Coli - Error Rate: 0.4815799655540969\n",
      "Organismus Drosophila.Melanogaster - Error Rate: 0.5084628229069861\n",
      "Organismus Homo.Sapiens - Error Rate: 0.5646545466045912\n"
     ]
    }
   ],
   "source": [
    "for organism in organisms:\n",
    "    accuracy = 0\n",
    "    for amino_acid in amino_acids_to_codons.keys():\n",
    "        codon_probs = usage_biases[organism][amino_acid]\n",
    "        highest_prob_codon = max(codon_probs, key=codon_probs.get)\n",
    "        for codon in amino_acids_to_codons[amino_acid]:\n",
    "            codon_portion = codon_amino_acid_frequencies[organism][amino_acid][codon] / codon_amino_acid_frequencies[organism]['total']\n",
    "            accuracy += codon_probs[highest_prob_codon] * codon_portion\n",
    "    error_rate = 1 - accuracy\n",
    "    print(f\"Organismus {organism} - Error Rate: {error_rate}\")"
   ]
  },
  {
   "cell_type": "markdown",
   "metadata": {},
   "source": [
    "### Error Rates experimentell bestimmen"
   ]
  },
  {
   "cell_type": "code",
   "execution_count": 28,
   "metadata": {},
   "outputs": [
    {
     "name": "stdout",
     "output_type": "stream",
     "text": [
      "Usage Bias Maximum Baseline Klassifikator\n",
      "Organismus Homo.Sapiens - Error Rate: 0.5558527019957237\n",
      "97.02\n",
      "CPU times: total: 1min 34s\n",
      "Wall time: 1min 37s\n"
     ]
    }
   ],
   "source": [
    "%%time\n",
    "print(\"Usage Bias Maximum Baseline Klassifikator\")\n",
    "for organism in organisms[2:]:\n",
    "    start_time = time.time()\n",
    "    seed = 42\n",
    "    max_weighted_bc = bc.Max_Bias_Baseline_Classifier(usage_biases[organism], seed)\n",
    "    error_rate = test_classifier(max_weighted_bc, organism)\n",
    "    print(round(time.time() - start_time, 2))\n",
    "    exp_error_rates[\"Max\"][organism] = error_rate"
   ]
  },
  {
   "cell_type": "code",
   "execution_count": 29,
   "metadata": {},
   "outputs": [
    {
     "data": {
      "text/plain": [
       "{'Unweighted': {'E.Coli': 0.6457996806107671,\n",
       "  'Drosophila.Melanogaster': 0.6463610382387691,\n",
       "  'Homo.Sapiens': 0.6480132960836085},\n",
       " 'Weighted': {'E.Coli': 0.5833700327328002,\n",
       "  'Drosophila.Melanogaster': 0.6052259330501663,\n",
       "  'Homo.Sapiens': 0.6217771667057421},\n",
       " 'Max': {'E.Coli': 0.4815799655540969,\n",
       "  'Drosophila.Melanogaster': 0.5084628229069863,\n",
       "  'Homo.Sapiens': 0.5558527019957237}}"
      ]
     },
     "execution_count": 29,
     "metadata": {},
     "output_type": "execute_result"
    }
   ],
   "source": [
    "exp_error_rates"
   ]
  },
  {
   "cell_type": "code",
   "execution_count": null,
   "metadata": {},
   "outputs": [],
   "source": []
  }
 ],
 "metadata": {
  "kernelspec": {
   "display_name": "Python 3",
   "language": "python",
   "name": "python3"
  },
  "language_info": {
   "codemirror_mode": {
    "name": "ipython",
    "version": 3
   },
   "file_extension": ".py",
   "mimetype": "text/x-python",
   "name": "python",
   "nbconvert_exporter": "python",
   "pygments_lexer": "ipython3",
   "version": "3.11.5"
  }
 },
 "nbformat": 4,
 "nbformat_minor": 2
}
