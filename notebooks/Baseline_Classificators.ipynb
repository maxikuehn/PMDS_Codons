{
 "cells": [
  {
   "cell_type": "code",
   "execution_count": 1,
   "metadata": {},
   "outputs": [],
   "source": [
    "import pandas as pd\n",
    "import sys\n",
    "import numpy as np\n",
    "sys.path.append('../scripts')\n",
    "import Baseline_classifiers as bc"
   ]
  },
  {
   "cell_type": "code",
   "execution_count": 2,
   "metadata": {},
   "outputs": [
    {
     "data": {
      "text/html": [
       "<div>\n",
       "<style scoped>\n",
       "    .dataframe tbody tr th:only-of-type {\n",
       "        vertical-align: middle;\n",
       "    }\n",
       "\n",
       "    .dataframe tbody tr th {\n",
       "        vertical-align: top;\n",
       "    }\n",
       "\n",
       "    .dataframe thead th {\n",
       "        text-align: right;\n",
       "    }\n",
       "</style>\n",
       "<table border=\"1\" class=\"dataframe\">\n",
       "  <thead>\n",
       "    <tr style=\"text-align: right;\">\n",
       "      <th></th>\n",
       "      <th>id</th>\n",
       "      <th>description</th>\n",
       "      <th>sequence</th>\n",
       "      <th>translation</th>\n",
       "      <th>seguid</th>\n",
       "      <th>codons</th>\n",
       "    </tr>\n",
       "  </thead>\n",
       "  <tbody>\n",
       "    <tr>\n",
       "      <th>0</th>\n",
       "      <td>lcl|U00096.3_cds_AAC73112.1_1</td>\n",
       "      <td>lcl|U00096.3_cds_AAC73112.1_1 [gene=thrL] [loc...</td>\n",
       "      <td>(A, T, G, A, A, A, C, G, C, A, T, T, A, G, C, ...</td>\n",
       "      <td>(M, K, R, I, S, T, T, I, T, T, T, I, T, I, T, ...</td>\n",
       "      <td>QuAqLUJXXhVXIJRPc+T7iMi0UqE</td>\n",
       "      <td>[ATG, AAA, CGC, ATT, AGC, ACC, ACC, ATT, ACC, ...</td>\n",
       "    </tr>\n",
       "    <tr>\n",
       "      <th>1</th>\n",
       "      <td>lcl|U00096.3_cds_AAC73113.1_2</td>\n",
       "      <td>lcl|U00096.3_cds_AAC73113.1_2 [gene=thrA] [loc...</td>\n",
       "      <td>(A, T, G, C, G, A, G, T, G, T, T, G, A, A, G, ...</td>\n",
       "      <td>(M, R, V, L, K, F, G, G, T, S, V, A, N, A, E, ...</td>\n",
       "      <td>/p+3Jdgat4Fq0w2rqqay4xg8Bs4</td>\n",
       "      <td>[ATG, CGA, GTG, TTG, AAG, TTC, GGC, GGT, ACA, ...</td>\n",
       "    </tr>\n",
       "    <tr>\n",
       "      <th>2</th>\n",
       "      <td>lcl|U00096.3_cds_AAC73114.1_3</td>\n",
       "      <td>lcl|U00096.3_cds_AAC73114.1_3 [gene=thrB] [loc...</td>\n",
       "      <td>(A, T, G, G, T, T, A, A, A, G, T, T, T, A, T, ...</td>\n",
       "      <td>(M, V, K, V, Y, A, P, A, S, S, A, N, M, S, V, ...</td>\n",
       "      <td>scFdp6oP+pW5HnvUww8MSi93ntM</td>\n",
       "      <td>[ATG, GTT, AAA, GTT, TAT, GCC, CCG, GCT, TCC, ...</td>\n",
       "    </tr>\n",
       "    <tr>\n",
       "      <th>3</th>\n",
       "      <td>lcl|U00096.3_cds_AAC73115.1_4</td>\n",
       "      <td>lcl|U00096.3_cds_AAC73115.1_4 [gene=thrC] [loc...</td>\n",
       "      <td>(A, T, G, A, A, A, C, T, C, T, A, C, A, A, T, ...</td>\n",
       "      <td>(M, K, L, Y, N, L, K, D, H, N, E, Q, V, S, F, ...</td>\n",
       "      <td>EkFurFHdk7l6qKQ+5xRiBUhWM9U</td>\n",
       "      <td>[ATG, AAA, CTC, TAC, AAT, CTG, AAA, GAT, CAC, ...</td>\n",
       "    </tr>\n",
       "    <tr>\n",
       "      <th>5</th>\n",
       "      <td>lcl|U00096.3_cds_AAC73117.1_6</td>\n",
       "      <td>lcl|U00096.3_cds_AAC73117.1_6 [gene=yaaA] [loc...</td>\n",
       "      <td>(A, T, G, C, T, G, A, T, T, C, T, T, A, T, T, ...</td>\n",
       "      <td>(M, L, I, L, I, S, P, A, K, T, L, D, Y, Q, S, ...</td>\n",
       "      <td>vJJ0yR31YORqwI12U79SgItYU3U</td>\n",
       "      <td>[ATG, CTG, ATT, CTT, ATT, TCA, CCT, GCG, AAA, ...</td>\n",
       "    </tr>\n",
       "  </tbody>\n",
       "</table>\n",
       "</div>"
      ],
      "text/plain": [
       "                              id  \\\n",
       "0  lcl|U00096.3_cds_AAC73112.1_1   \n",
       "1  lcl|U00096.3_cds_AAC73113.1_2   \n",
       "2  lcl|U00096.3_cds_AAC73114.1_3   \n",
       "3  lcl|U00096.3_cds_AAC73115.1_4   \n",
       "5  lcl|U00096.3_cds_AAC73117.1_6   \n",
       "\n",
       "                                         description  \\\n",
       "0  lcl|U00096.3_cds_AAC73112.1_1 [gene=thrL] [loc...   \n",
       "1  lcl|U00096.3_cds_AAC73113.1_2 [gene=thrA] [loc...   \n",
       "2  lcl|U00096.3_cds_AAC73114.1_3 [gene=thrB] [loc...   \n",
       "3  lcl|U00096.3_cds_AAC73115.1_4 [gene=thrC] [loc...   \n",
       "5  lcl|U00096.3_cds_AAC73117.1_6 [gene=yaaA] [loc...   \n",
       "\n",
       "                                            sequence  \\\n",
       "0  (A, T, G, A, A, A, C, G, C, A, T, T, A, G, C, ...   \n",
       "1  (A, T, G, C, G, A, G, T, G, T, T, G, A, A, G, ...   \n",
       "2  (A, T, G, G, T, T, A, A, A, G, T, T, T, A, T, ...   \n",
       "3  (A, T, G, A, A, A, C, T, C, T, A, C, A, A, T, ...   \n",
       "5  (A, T, G, C, T, G, A, T, T, C, T, T, A, T, T, ...   \n",
       "\n",
       "                                         translation  \\\n",
       "0  (M, K, R, I, S, T, T, I, T, T, T, I, T, I, T, ...   \n",
       "1  (M, R, V, L, K, F, G, G, T, S, V, A, N, A, E, ...   \n",
       "2  (M, V, K, V, Y, A, P, A, S, S, A, N, M, S, V, ...   \n",
       "3  (M, K, L, Y, N, L, K, D, H, N, E, Q, V, S, F, ...   \n",
       "5  (M, L, I, L, I, S, P, A, K, T, L, D, Y, Q, S, ...   \n",
       "\n",
       "                        seguid  \\\n",
       "0  QuAqLUJXXhVXIJRPc+T7iMi0UqE   \n",
       "1  /p+3Jdgat4Fq0w2rqqay4xg8Bs4   \n",
       "2  scFdp6oP+pW5HnvUww8MSi93ntM   \n",
       "3  EkFurFHdk7l6qKQ+5xRiBUhWM9U   \n",
       "5  vJJ0yR31YORqwI12U79SgItYU3U   \n",
       "\n",
       "                                              codons  \n",
       "0  [ATG, AAA, CGC, ATT, AGC, ACC, ACC, ATT, ACC, ...  \n",
       "1  [ATG, CGA, GTG, TTG, AAG, TTC, GGC, GGT, ACA, ...  \n",
       "2  [ATG, GTT, AAA, GTT, TAT, GCC, CCG, GCT, TCC, ...  \n",
       "3  [ATG, AAA, CTC, TAC, AAT, CTG, AAA, GAT, CAC, ...  \n",
       "5  [ATG, CTG, ATT, CTT, ATT, TCA, CCT, GCG, AAA, ...  "
      ]
     },
     "metadata": {},
     "output_type": "display_data"
    },
    {
     "data": {
      "text/plain": [
       "{'M': {'ATG': 1.0},\n",
       " 'K': {'AAA': 0.7697623206014124, 'AAG': 0.23023767939858758},\n",
       " 'R': {'CGC': 0.4038268652110177,\n",
       "  'CGA': 0.06237173057634442,\n",
       "  'CGT': 0.3853406372965049,\n",
       "  'AGG': 0.019365789676722475,\n",
       "  'CGG': 0.09391250675102229,\n",
       "  'AGA': 0.03518247048838824},\n",
       " 'I': {'ATT': 0.5083169031684763,\n",
       "  'ATC': 0.4226625197856211,\n",
       "  'ATA': 0.06902057704590264},\n",
       " 'S': {'AGC': 0.27845605080764435,\n",
       "  'TCA': 0.12152364933445466,\n",
       "  'TCT': 0.1468839718121973,\n",
       "  'AGT': 0.14924745526781313,\n",
       "  'TCG': 0.15393092248354262,\n",
       "  'TCC': 0.14995795029434794},\n",
       " 'T': {'ACC': 0.439674039580908,\n",
       "  'ACA': 0.1286767559177338,\n",
       "  'ACG': 0.26575087310826545,\n",
       "  'ACT': 0.16589833139309274},\n",
       " 'G': {'GGT': 0.33815828251456553,\n",
       "  'GGC': 0.40754006937045184,\n",
       "  'GGG': 0.1490104509079368,\n",
       "  'GGA': 0.10529119720704586},\n",
       " 'N': {'AAC': 0.5532204543520803, 'AAT': 0.44677954564791966},\n",
       " 'A': {'GCG': 0.35725717099593746,\n",
       "  'GCA': 0.2125446263695679,\n",
       "  'GCC': 0.27000932097571273,\n",
       "  'GCT': 0.16018888165878195},\n",
       " '*': {'TGA': 0.2848249027237354,\n",
       "  'TAA': 0.6469520103761349,\n",
       "  'TAG': 0.0682230869001297},\n",
       " 'V': {'GTG': 0.3695251812150261,\n",
       "  'GTT': 0.2600642221330248,\n",
       "  'GTC': 0.21522678440724388,\n",
       "  'GTA': 0.1551838122447052},\n",
       " 'L': {'TTG': 0.12685891531454932,\n",
       "  'CTG': 0.4997992489549137,\n",
       "  'CTC': 0.10455586783495903,\n",
       "  'TTA': 0.12996858836588648,\n",
       "  'CTT': 0.10245388630405518,\n",
       "  'CTA': 0.036363493225636305},\n",
       " 'F': {'TTC': 0.4268887083671812, 'TTT': 0.5731112916328188},\n",
       " 'E': {'GAA': 0.6920831760230012, 'GAG': 0.3079168239769988},\n",
       " 'D': {'GAT': 0.6253901170351105, 'GAC': 0.37460988296488945},\n",
       " 'Q': {'CAG': 0.6537658492141827, 'CAA': 0.3462341507858173},\n",
       " 'P': {'CCC': 0.12224201986503905,\n",
       "  'CCG': 0.5302335279399499,\n",
       "  'CCT': 0.1574038971870498,\n",
       "  'CCA': 0.19012055500796118},\n",
       " 'H': {'CAC': 0.4308565914489311, 'CAT': 0.5691434085510689},\n",
       " 'C': {'TGC': 0.5588512582493291, 'TGT': 0.4411487417506708},\n",
       " 'Y': {'TAC': 0.43058740518609984, 'TAT': 0.5694125948139002},\n",
       " 'W': {'TGG': 1.0}}"
      ]
     },
     "metadata": {},
     "output_type": "display_data"
    }
   ],
   "source": [
    "organisms = [\"E.Coli\"]#\"Drosophila.Melanogaster\", \"Homo.Sapiens\"\n",
    "\n",
    "dfs = {}\n",
    "usage_biases = {}\n",
    "\n",
    "def group_codons(sequence):\n",
    "    return [''.join(sequence[i:i+3]) for i in range(0, len(sequence), 3)]\n",
    "\n",
    "for organism in organisms:\n",
    "    dfs[organism] = pd.read_pickle(f\"../data/{organism}/cleanedData.pkl\")\n",
    "    dfs[organism]['codons'] = dfs[organism]['sequence'].apply(group_codons)\n",
    "    usage_biases[organism] = pd.read_pickle(f\"../data/{organism}/usageBias.pkl\")\n",
    "\n",
    "display(dfs[organisms[0]].head())\n",
    "display(usage_biases[organisms[0]])"
   ]
  },
  {
   "cell_type": "markdown",
   "metadata": {},
   "source": [
    "# Baseline Klassifikatoren"
   ]
  },
  {
   "cell_type": "markdown",
   "metadata": {},
   "source": [
    "Berechne den Fehler Rate $E$  $$E= {F \\over G} $$\n",
    "$F$: Anzahl falsch klassifizierter Aminosäuren\n",
    "über alle Sequenzen eines betrachteten Organismus \\\n",
    "$G$: Gesamtanzahl der zu klassifizierenden Aminosäuren \n",
    "über alle Sequenzen eines betrachteten Organismus\n",
    "\n"
   ]
  },
  {
   "cell_type": "code",
   "execution_count": 3,
   "metadata": {},
   "outputs": [],
   "source": [
    "def test_classifier(classifier, organism):\n",
    "    amino_seq = dfs[organism]['translation'].apply(lambda seq: list(seq))\n",
    "    pred_codons = classifier.predict_codons(amino_seq)\n",
    "    true_codons = dfs[organism]['codons']\n",
    "    error_rate = classifier.calc_error_rate(true_codons, pred_codons)\n",
    "    error_rate_per_amino_acid = classifier.calc_amino_acid_error_rate(amino_seq, true_codons, pred_codons)\n",
    "    print(f\"Organismus {organism} - Error Rate: {error_rate}\")\n",
    "    print(\"Error Rates pro Aminosäure:\")\n",
    "    print(error_rate_per_amino_acid)"
   ]
  },
  {
   "cell_type": "markdown",
   "metadata": {},
   "source": [
    "## Baseline Klassifikator mit ungewichtetem Zufall"
   ]
  },
  {
   "cell_type": "code",
   "execution_count": 4,
   "metadata": {},
   "outputs": [
    {
     "name": "stdout",
     "output_type": "stream",
     "text": [
      "Ungewichteter Baseline Klassifikator\n",
      "Organismus E.Coli - Error Rate: 0.6457996806107671\n",
      "Error Rates pro Aminosäure:\n",
      "{'A': 0.7492129930884086, 'R': 0.8353367795694777, 'N': 0.5009572024164043, 'D': 0.5013979193758128, 'C': 0.49358184059757776, 'Q': 0.5004745273707387, 'E': 0.5013794906049429, 'G': 0.7484981070481286, 'H': 0.498812351543943, 'I': 0.6685318374940991, 'L': 0.8340064397786228, 'K': 0.49996203204495404, 'M': 0.0, 'F': 0.4977981102227543, 'P': 0.7488437334142088, 'S': 0.8330771684598208, 'T': 0.7483430345362825, 'W': 0.0, 'Y': 0.49902981125418944, 'V': 0.7487072934620924, '*': 0.6793774319066148}\n"
     ]
    }
   ],
   "source": [
    "print(\"Ungewichteter Baseline Klassifikator\")\n",
    "for organism in organisms:\n",
    "    seed = 42\n",
    "    unweighted_bc = bc.Unweighted_Baseline_Classifier(seed)\n",
    "    test_classifier(unweighted_bc, organism)"
   ]
  },
  {
   "cell_type": "markdown",
   "metadata": {},
   "source": [
    "## Baseline Klassifikator mit Usage Bias gewichtetem Zufall"
   ]
  },
  {
   "cell_type": "code",
   "execution_count": 5,
   "metadata": {},
   "outputs": [
    {
     "name": "stdout",
     "output_type": "stream",
     "text": [
      "Usage Bias Gewichteter Baseline Klassifikator\n",
      "Organismus E.Coli - Error Rate: 0.5833700327328002\n",
      "Error Rates pro Aminosäure:\n",
      "{'A': 0.7292256555459805, 'R': 0.6729881953552966, 'N': 0.4942567855015741, 'D': 0.4707087126137841, 'C': 0.500471390238596, 'Q': 0.4532116012451598, 'E': 0.42729358464263933, 'G': 0.6849311963002426, 'H': 0.49190914489311166, 'I': 0.5586487462164339, 'L': 0.6956535430591311, 'K': 0.3536525172754195, 'M': 0.0, 'F': 0.4900166745051092, 'P': 0.6453104860110699, 'S': 0.8162282864019952, 'T': 0.6955064027939465, 'W': 0.0, 'Y': 0.49032751220085846, 'V': 0.7273746842018275, '*': 0.490272373540856}\n"
     ]
    }
   ],
   "source": [
    "print(\"Usage Bias Gewichteter Baseline Klassifikator\")\n",
    "for organism in organisms:\n",
    "    seed = 42\n",
    "    weighted_bc = bc.Bias_Weighted_Classifier(usage_biases[organism], seed)\n",
    "    test_classifier(weighted_bc, organism)"
   ]
  },
  {
   "cell_type": "markdown",
   "metadata": {},
   "source": [
    "## Baseline Klassifikator der immer das nach Usage Bias wahrscheinlichste Codon wählt"
   ]
  },
  {
   "cell_type": "code",
   "execution_count": 6,
   "metadata": {},
   "outputs": [
    {
     "name": "stdout",
     "output_type": "stream",
     "text": [
      "Usage Bias Maximum Baseline Klassifikator\n",
      "Organismus E.Coli - Error Rate: 0.4815799655540969\n",
      "Error Rates pro Aminosäure:\n",
      "{'A': 0.6427428290040625, 'R': 0.5961731347889824, 'N': 0.44677954564791966, 'D': 0.37460988296488945, 'C': 0.4411487417506708, 'Q': 0.3462341507858173, 'E': 0.3079168239769988, 'G': 0.5924599306295482, 'H': 0.4308565914489311, 'I': 0.4916830968315237, 'L': 0.5002007510450863, 'K': 0.23023767939858758, 'M': 0.0, 'F': 0.4268887083671812, 'P': 0.46976647206005007, 'S': 0.7215439491923556, 'T': 0.560325960419092, 'W': 0.0, 'Y': 0.43058740518609984, 'V': 0.6304748187849739, '*': 0.35304798962386513}\n"
     ]
    }
   ],
   "source": [
    "print(\"Usage Bias Maximum Baseline Klassifikator\")\n",
    "for organism in organisms:\n",
    "    seed = 42\n",
    "    max_weighted_bc = bc.Max_Bias_Baseline_Classifier(usage_biases[organism], seed)\n",
    "    test_classifier(max_weighted_bc, organism)"
   ]
  }
 ],
 "metadata": {
  "kernelspec": {
   "display_name": "Python 3",
   "language": "python",
   "name": "python3"
  },
  "language_info": {
   "codemirror_mode": {
    "name": "ipython",
    "version": 3
   },
   "file_extension": ".py",
   "mimetype": "text/x-python",
   "name": "python",
   "nbconvert_exporter": "python",
   "pygments_lexer": "ipython3",
   "version": "3.11.5"
  }
 },
 "nbformat": 4,
 "nbformat_minor": 2
}
